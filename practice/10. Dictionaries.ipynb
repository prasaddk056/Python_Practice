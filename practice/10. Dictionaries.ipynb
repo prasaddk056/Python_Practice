{
 "cells": [
  {
   "cell_type": "code",
   "execution_count": 1,
   "id": "1ee8fcfe",
   "metadata": {},
   "outputs": [
    {
     "name": "stdout",
     "output_type": "stream",
     "text": [
      "Name of employee =  Chandra\n",
      "Id number =  200\n",
      "Salary =  9080.5\n"
     ]
    }
   ],
   "source": [
    "# creating dictionary with key - value pairs\n",
    "\"\"\"\n",
    "Create a dictionary with employee details.\n",
    "Here 'Name' is key and 'Chandra' is its value.\n",
    "'Id' is key and 200 is its value\n",
    "'Salary' is key and 9080.50 is its value.\n",
    "\"\"\"\n",
    "dict1 ={'Name':'Chandra','Id':200,'Salary':9080.50} \n",
    "\n",
    "# access value by giving key\n",
    "print('Name of employee = ',dict1['Name'])\n",
    "print('Id number = ',dict1['Id'])\n",
    "print('Salary = ',dict1['Salary'])"
   ]
  },
  {
   "cell_type": "code",
   "execution_count": 2,
   "id": "998e0ffe",
   "metadata": {},
   "outputs": [
    {
     "name": "stdout",
     "output_type": "stream",
     "text": [
      "No. of key-value pairs =  3\n"
     ]
    }
   ],
   "source": [
    "n = len(dict1)\n",
    "print('No. of key-value pairs = ',n)"
   ]
  },
  {
   "cell_type": "code",
   "execution_count": 6,
   "id": "56f99cc2",
   "metadata": {},
   "outputs": [
    {
     "name": "stdout",
     "output_type": "stream",
     "text": [
      "{'Name': 'Chandra', 'Id': 200, 'Salary': 10500.0}\n",
      "{'Name': 'Chandra', 'Id': 200, 'Salary': 10500.0, 'Dept': 'Finance'}\n"
     ]
    }
   ],
   "source": [
    "dict1['Salary'] = 10500.00\n",
    "print(dict1)\n",
    "dict1['Dept'] = 'Finance'\n",
    "print(dict1)"
   ]
  },
  {
   "cell_type": "code",
   "execution_count": 7,
   "id": "39f1fa28",
   "metadata": {},
   "outputs": [
    {
     "name": "stdout",
     "output_type": "stream",
     "text": [
      "{'Name': 'Chandra', 'Salary': 10500.0, 'Dept': 'Finance'}\n",
      "True\n",
      "False\n",
      "True\n"
     ]
    }
   ],
   "source": [
    "del dict1['Id']\n",
    "print(dict1)\n",
    "print('Dept' in dict1)\n",
    "print('Gender' in dict1)\n",
    "print('Gender'  not in dict1)"
   ]
  },
  {
   "cell_type": "code",
   "execution_count": 8,
   "id": "e04a8d5c",
   "metadata": {},
   "outputs": [
    {
     "name": "stdout",
     "output_type": "stream",
     "text": [
      "{'Nag': 30, 'Vishnu': 20, 'nag': 40}\n"
     ]
    }
   ],
   "source": [
    "# key should be unique and immutable\n",
    "emp = {'Nag': 10 ,'Vishnu':20,'Nag':30,'nag':40}\n",
    "print(emp)"
   ]
  },
  {
   "cell_type": "code",
   "execution_count": 9,
   "id": "a5dc2da1",
   "metadata": {},
   "outputs": [
    {
     "name": "stdout",
     "output_type": "stream",
     "text": [
      "{'Name': 'Chandra', 'Id': 200, 'Salary': 9080.5}\n",
      "Keys in dict1 =  dict_keys(['Name', 'Id', 'Salary'])\n",
      "Values in dict1 =  dict_values(['Chandra', 200, 9080.5])\n",
      "Items in dict1 =  dict_items([('Name', 'Chandra'), ('Id', 200), ('Salary', 9080.5)])\n"
     ]
    }
   ],
   "source": [
    "# dictionary methods\n",
    "# create a dictionary with employee details\n",
    "dict1 = {'Name':\"Chandra\",'Id':200,'Salary':9080.50}\n",
    "\n",
    "# print entire dictionary\n",
    "print(dict1)\n",
    "\n",
    "# display only keys\n",
    "print('Keys in dict1 = ',dict1.keys())\n",
    "\n",
    "# display only values\n",
    "print('Values in dict1 = ',dict1.values())\n",
    "\n",
    "# display both key and value pairs as tuples\n",
    "print('Items in dict1 = ',dict1.items())"
   ]
  },
  {
   "cell_type": "code",
   "execution_count": 10,
   "id": "2eb9fa94",
   "metadata": {},
   "outputs": [
    {
     "name": "stdout",
     "output_type": "stream",
     "text": [
      "Enter elements in { } : {'A':10,'B':20,'C':35,'Anil':50}\n",
      "Sum of values in the dictionary :  115\n"
     ]
    }
   ],
   "source": [
    "# program to find sum of values in a dictionary\n",
    "# enter the dictionary entries from keyboard\n",
    "dict1 = eval(input('Enter elements in { } : '))\n",
    "\n",
    "# find the sum of values\n",
    "s = sum(dict1.values())\n",
    "print('Sum of values in the dictionary : ',s)  # display sum"
   ]
  },
  {
   "cell_type": "code",
   "execution_count": 11,
   "id": "a58018a4",
   "metadata": {},
   "outputs": [
    {
     "name": "stdout",
     "output_type": "stream",
     "text": [
      "How many elements? 3\n",
      "Enter key : Raju\n",
      "Enter its value : 10\n",
      "Enter key : Laxmi\n",
      "Enter its value : 22\n",
      "Enter key : Salman\n",
      "Enter its value : 33\n",
      "The dictionary is :  {'Raju': 10, 'Laxmi': 22, 'Salman': 33}\n"
     ]
    }
   ],
   "source": [
    "# creating a dictionary from the keyboard\n",
    "x = {}  # take an empty dictionary\n",
    "\n",
    "print('How many elements? ',end='')\n",
    "n = int(input())  # n indicates no. of key.value pairs\n",
    "\n",
    "for i in range(n):   # repeat for n times\n",
    "    print('Enter key : ',end='')\n",
    "    k = input()  # key is string\n",
    "    print('Enter its value : ',end='')\n",
    "    v = int(input())  # value is integer\n",
    "    x.update({k:v})   # store the key-value  pair in dictionary x\n",
    "    \n",
    "# display the dictionary\n",
    "print('The dictionary is : ',x)"
   ]
  },
  {
   "cell_type": "code",
   "execution_count": 12,
   "id": "88d5ea43",
   "metadata": {},
   "outputs": [
    {
     "name": "stdout",
     "output_type": "stream",
     "text": [
      "How many players ? 3\n",
      "Enter player name : Sachin\n",
      "Enter runs : 77\n",
      "Enter player name : Kohli\n",
      "Enter runs : 40\n",
      "Enter player name : Sehwag\n",
      "Enter runs : 89\n",
      "\n",
      "Players in this math : \n",
      "Sachin\n",
      "Kohli\n",
      "Sehwag\n",
      "Enter player name : Kohli\n",
      "Kohli made runs 40.\n"
     ]
    }
   ],
   "source": [
    "# creating a dictionary with cricket players names and scores\n",
    "x = {}  # take an empty dictionary\n",
    "\n",
    "print('How many players ? ',end='')\n",
    "n = int(input())  # n indicates no. of key-value pairs\n",
    "\n",
    "for i in range(n):  # repeat for n times\n",
    "    print('Enter player name : ',end='')\n",
    "    k = input()  # key is string\n",
    "    print('Enter runs : ',end='')\n",
    "    v = int(input())  # value is integer\n",
    "    x.update({k:v})  # store the key-value pair in dictionary x\n",
    "\n",
    "# display only players name\n",
    "print('\\nPlayers in this math : ')\n",
    "for pname in x.keys():  # keys() will give only keys\n",
    "    print(pname)\n",
    "    \n",
    "# accept a player name from keyboard\n",
    "print('Enter player name : ',end='')\n",
    "name = input()\n",
    "\n",
    "# find the runs done by the player\n",
    "runs = x.get(name ,-1)\n",
    "\n",
    "if runs == -1:\n",
    "    print('Player not found')\n",
    "else:\n",
    "    print('{} made runs {}.'.format(name,runs))"
   ]
  },
  {
   "cell_type": "code",
   "execution_count": 13,
   "id": "29a31c7f",
   "metadata": {},
   "outputs": [
    {
     "name": "stdout",
     "output_type": "stream",
     "text": [
      "r\n",
      "g\n",
      "b\n",
      "w\n",
      "\n",
      "Red\n",
      "Green\n",
      "Blue\n",
      "White\n",
      "\n",
      "Key = r , Value = Red\n",
      "Key = g , Value = Green\n",
      "Key = b , Value = Blue\n",
      "Key = w , Value = White\n"
     ]
    }
   ],
   "source": [
    "# Using for loop with dictionaries\n",
    "# take a dictionary\n",
    "colors = {'r':\"Red\",'g':\"Green\",'b':\"Blue\",'w':\"White\"}\n",
    "\n",
    "# display only keys\n",
    "for k in colors:\n",
    "    print(k)\n",
    "print()    \n",
    "# pass keys to dictionary and display the values\n",
    "for k in colors:\n",
    "    print(colors[k])\n",
    "print()    \n",
    "# items() method returns key and vlaue pair into k,v\n",
    "for k , v in colors.items():\n",
    "    print('Key = {} , Value = {}'.format(k,v))"
   ]
  },
  {
   "cell_type": "code",
   "execution_count": 14,
   "id": "e8efe236",
   "metadata": {},
   "outputs": [
    {
     "name": "stdout",
     "output_type": "stream",
     "text": [
      "Key = B\t Its occurences = 1\n",
      "Key = o\t Its occurences = 2\n",
      "Key = k\t Its occurences = 1\n"
     ]
    }
   ],
   "source": [
    "# Finding how many times each letter is repeated in a string\n",
    "# take a string with some letters\n",
    "str = \"Book\"\n",
    "\n",
    "# take an empty dictionary\n",
    "dict1 = {}\n",
    "\n",
    "# store into dict each letter as key and its number of occurence as value\n",
    "for x in str:\n",
    "    dict1[x] = dict1.get(x,0)+1\n",
    "    \n",
    "# display key and value pairs of dict\n",
    "for k , v in dict1.items():\n",
    "    print('Key = {}\\t Its occurences = {}'.format(k,v))"
   ]
  },
  {
   "cell_type": "code",
   "execution_count": 15,
   "id": "8da84842",
   "metadata": {},
   "outputs": [
    {
     "name": "stdout",
     "output_type": "stream",
     "text": [
      "[(10, 'Red'), (15, 'Blue'), (20, 'Green'), (25, 'White')]\n",
      "[(15, 'Blue'), (20, 'Green'), (10, 'Red'), (25, 'White')]\n"
     ]
    }
   ],
   "source": [
    "# Sorting a dictionary by key or value\n",
    "# take a dictionary\n",
    "colors = {10:'Red',20:'Green',15:'Blue',25:'White'}\n",
    "\n",
    "# sort the dictionary by keys , i.e. 0th element\n",
    "c1 = sorted(colors.items(),key = lambda t :t[0])\n",
    "print(c1)\n",
    "\n",
    "# sort the dictionary by values , i.e. 1st element\n",
    "c2 = sorted(colors.items(),key = lambda t : t[1])\n",
    "print(c2)"
   ]
  },
  {
   "cell_type": "code",
   "execution_count": 16,
   "id": "f7ef2ffe",
   "metadata": {
    "scrolled": true
   },
   "outputs": [
    {
     "name": "stdout",
     "output_type": "stream",
     "text": [
      "[(25, 'White'), (20, 'Green'), (15, 'Blue'), (10, 'Red')]\n"
     ]
    }
   ],
   "source": [
    "print(sorted(colors.items(),reverse = True))  # reverse"
   ]
  },
  {
   "cell_type": "code",
   "execution_count": 18,
   "id": "3501e10e",
   "metadata": {
    "scrolled": true
   },
   "outputs": [
    {
     "name": "stdout",
     "output_type": "stream",
     "text": [
      "COUNTRY         -- CAPITAL        \n",
      "USA             -- Washington     \n",
      "India           -- New Delhi      \n",
      "Germany         -- Berlin         \n",
      "France          -- Paris          \n"
     ]
    }
   ],
   "source": [
    "# converting lists into a dictionary\n",
    "# take two seperate lists with the elements\n",
    "countries = [\"USA\",\"India\",\"Germany\",\"France\"]\n",
    "cities = ['Washington','New Delhi','Berlin','Paris']\n",
    "\n",
    "# make a dictionary \n",
    "z = zip(countries , cities)\n",
    "\n",
    "d = dict(z)\n",
    "\n",
    "# display key - value pairs from dictionary d\n",
    "print('{:15s} -- {:15s}'.format('COUNTRY','CAPITAL'))\n",
    "for k in d:\n",
    "    print('{:15s} -- {:15s}'.format(k ,d[k]))"
   ]
  },
  {
   "cell_type": "code",
   "execution_count": 19,
   "id": "c4f849d3",
   "metadata": {},
   "outputs": [
    {
     "name": "stdout",
     "output_type": "stream",
     "text": [
      "{'Vijay ': ' 23 ', ' Ganesh ': ' 20 ', ' Lakshmi ': ' 19 ', ' Nikhil ': ' 22 '}\n",
      "{'Vijay ': 23, ' Ganesh ': 20, ' Lakshmi ': 19, ' Nikhil ': 22}\n"
     ]
    }
   ],
   "source": [
    "# converting a string into a dictionary\n",
    "# take a string\n",
    "str = ' Vijay = 23 , Ganesh = 20 , Lakshmi = 19 , Nikhil = 22 '\n",
    "\n",
    "# brake the string at ' , ' and then at '='\n",
    "# store the pieces into a list lst\n",
    "lst = []\n",
    "for x in str.split(','):\n",
    "    y = x.split('=')\n",
    "    lst.append(y)\n",
    "\n",
    "# convert the list into dictionary 'd'\n",
    "# but this 'd' will have both name and age as strings\n",
    "d = dict(lst)\n",
    "print(d)\n",
    "# create a new dictionary 'd1' with name as string and age as integer\n",
    "d1 = {}\n",
    "for k , v in d.items():\n",
    "    d1[k] = int(v)\n",
    "\n",
    "# display the final dictionary\n",
    "print(d1)"
   ]
  },
  {
   "cell_type": "code",
   "execution_count": 20,
   "id": "c4a785e7",
   "metadata": {},
   "outputs": [
    {
     "name": "stdout",
     "output_type": "stream",
     "text": [
      "a -- Apple\n",
      "b -- Book\n",
      "c -- Cook\n"
     ]
    }
   ],
   "source": [
    "# A function that takes a dictionary as parameter\n",
    "def fun(dictionary):\n",
    "    for i , j in dictionary.items():\n",
    "        print(i, '--', j)\n",
    "\n",
    "# take a dictionary\n",
    "d = {'a':'Apple','b':'Book','c':'Cook'}\n",
    "\n",
    "# call the function and pass the dictionary\n",
    "fun(d)"
   ]
  },
  {
   "cell_type": "code",
   "execution_count": 22,
   "id": "15e60abc",
   "metadata": {},
   "outputs": [
    {
     "name": "stdout",
     "output_type": "stream",
     "text": [
      "10 A\n",
      "11 B\n",
      "12 C\n",
      "13 D\n"
     ]
    }
   ],
   "source": [
    "# elements of dictionary are not ordered\n",
    "# create an ordered list\n",
    "from collections import OrderedDict\n",
    "d = OrderedDict()  # d is ordered dictionary\n",
    "d[10] = 'A'\n",
    "d[11] = 'B'\n",
    "d[12] = 'C'\n",
    "d[13] = 'D'\n",
    "\n",
    "# display the ordered dictionary\n",
    "for i ,j in d.items():\n",
    "    print(i , j)"
   ]
  },
  {
   "cell_type": "code",
   "execution_count": null,
   "id": "4c61003f",
   "metadata": {},
   "outputs": [],
   "source": []
  }
 ],
 "metadata": {
  "kernelspec": {
   "display_name": "Python 3 (ipykernel)",
   "language": "python",
   "name": "python3"
  },
  "language_info": {
   "codemirror_mode": {
    "name": "ipython",
    "version": 3
   },
   "file_extension": ".py",
   "mimetype": "text/x-python",
   "name": "python",
   "nbconvert_exporter": "python",
   "pygments_lexer": "ipython3",
   "version": "3.9.7"
  }
 },
 "nbformat": 4,
 "nbformat_minor": 5
}
