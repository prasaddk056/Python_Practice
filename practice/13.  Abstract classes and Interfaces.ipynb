{
 "cells": [
  {
   "cell_type": "code",
   "execution_count": 20,
   "id": "bf1add59",
   "metadata": {},
   "outputs": [
    {
     "name": "stdout",
     "output_type": "stream",
     "text": [
      "Square value =  4\n",
      "Square value =  9\n",
      "Square value =  16\n"
     ]
    }
   ],
   "source": [
    "# a class with a method\n",
    "class Myclass:\n",
    "    def calculate(self,x):\n",
    "        print('Square value = ',x*x)\n",
    "        \n",
    "# all objects share same calculate() method\n",
    "obj1 = Myclass()\n",
    "obj1.calculate(2)\n",
    "\n",
    "obj2 = Myclass()\n",
    "obj2.calculate(3)\n",
    "\n",
    "obj3 = Myclass()\n",
    "obj3.calculate(4)\n"
   ]
  },
  {
   "cell_type": "code",
   "execution_count": 21,
   "id": "6b095d62",
   "metadata": {},
   "outputs": [
    {
     "name": "stdout",
     "output_type": "stream",
     "text": [
      "Square value = 256\n",
      "Square root =  4.0\n",
      "Cube value =  4096\n"
     ]
    }
   ],
   "source": [
    "# abstract class example \n",
    "from abc import ABC,abstractmethod\n",
    "class Myclass(ABC):\n",
    "    @abstractmethod\n",
    "    def calculate(self,x):\n",
    "        pass # empty body , no code\n",
    "# this is sub class of Myclass\n",
    "class Sub1(Myclass):\n",
    "    def calculate(self,x):\n",
    "        print('Square value =',x*x)\n",
    "\n",
    "# this is another subclass of Myclass\n",
    "import math\n",
    "class Sub2(Myclass):\n",
    "    def calculate(self,x):\n",
    "        print('Square root = ',math.sqrt(x))\n",
    "        \n",
    "\n",
    "# this is another subclass of Myclass\n",
    "class Sub3(Myclass):\n",
    "    def calculate(self,x):\n",
    "        print('Cube value = ',x**3)\n",
    "        \n",
    "#create Sub1 class object and call calculate() method\n",
    "obj1 = Sub1()\n",
    "obj1.calculate(16)\n",
    "\n",
    "# create Sub2 class object and call calculate() method\n",
    "obj2 = Sub2()\n",
    "obj2.calculate(16)\n",
    "\n",
    "# create Sub3 class object and call calculate() method\n",
    "obj3 = Sub3()\n",
    "obj3.calculate(16)\n"
   ]
  },
  {
   "cell_type": "code",
   "execution_count": 22,
   "id": "bcf67445",
   "metadata": {},
   "outputs": [],
   "source": [
    "# This is an abstract class.\n",
    "from abc import *\n",
    "class Car(ABC):\n",
    "    def __init__(self,regno):\n",
    "        self.regno = regno\n",
    "    \n",
    "    def opentank(self):\n",
    "        print('Fill the fuel into the tank')\n",
    "        print('for the car with regno',self.regno)\n",
    "        \n",
    "    @abstractmethod\n",
    "    def steering(self):\n",
    "        pass\n",
    "    \n",
    "    @abstractmethod\n",
    "    def braking(self):\n",
    "        pass"
   ]
  },
  {
   "cell_type": "code",
   "execution_count": 23,
   "id": "364338ad",
   "metadata": {},
   "outputs": [
    {
     "name": "stdout",
     "output_type": "stream",
     "text": [
      "Fill the fuel into the tank\n",
      "for the car with regno 1001\n",
      "Maruti uses manual steering\n",
      "Drive the car\n",
      "Maruti uses hydraulic brakes\n",
      "Apply brakes and stop it\n"
     ]
    }
   ],
   "source": [
    "class Maruti(Car):\n",
    "    def steering(self):\n",
    "        print('Maruti uses manual steering')\n",
    "        print('Drive the car')\n",
    "    def braking(self):\n",
    "        print('Maruti uses hydraulic brakes')\n",
    "        print('Apply brakes and stop it')\n",
    "        \n",
    "# create object to Maruti and use its features\n",
    "m = Maruti(1001)\n",
    "m.opentank()\n",
    "m.steering()\n",
    "m.braking()"
   ]
  },
  {
   "cell_type": "code",
   "execution_count": 24,
   "id": "3511acba",
   "metadata": {},
   "outputs": [
    {
     "name": "stdout",
     "output_type": "stream",
     "text": [
      "Fill the fuel into the tank\n",
      "for the car with regno 7878\n",
      "Santro uses power steering\n",
      "Drive the car\n",
      "Santro uses gas brakes\n",
      "Apply brakes and stop it\n"
     ]
    }
   ],
   "source": [
    "# this is a sub class for abstract Car class\n",
    "class Santro(Car):\n",
    "    def steering(self):\n",
    "        print('Santro uses power steering')\n",
    "        print('Drive the car')\n",
    "        \n",
    "    def braking(self):\n",
    "        print('Santro uses gas brakes')\n",
    "        print('Apply brakes and stop it')\n",
    "        \n",
    "# create object to Santro and use its features\n",
    "s = Santro(7878)\n",
    "s.opentank()\n",
    "s.steering()\n",
    "s.braking()"
   ]
  },
  {
   "cell_type": "code",
   "execution_count": 25,
   "id": "cd9ba813",
   "metadata": {},
   "outputs": [
    {
     "name": "stdout",
     "output_type": "stream",
     "text": [
      "Enter database name : Oracle\n",
      "Connecting to Oracle database\n",
      "Disconnected from Oracle.\n"
     ]
    }
   ],
   "source": [
    "# abstract class works like an interface\n",
    "from abc import *\n",
    "class Myclass(ABC):\n",
    "    @abstractmethod\n",
    "    def connect(self):\n",
    "        pass\n",
    "    @abstractmethod\n",
    "    def disconnect(self):\n",
    "        pass\n",
    "    \n",
    "# this is sub class\n",
    "class Oracle(Myclass):\n",
    "    def connect(self):\n",
    "        print('Connecting to Oracle database')\n",
    "        \n",
    "    def disconnect(self):\n",
    "        print('Disconnected from Oracle.')\n",
    "        \n",
    "# this is another subclass \n",
    "class Sybase(Myclass):\n",
    "    def connect(self):\n",
    "        print('Connecting to Sybase database')\n",
    "        \n",
    "    def disconnect(self):\n",
    "        print('Disconnected from Sybase.')\n",
    "        \n",
    "class Database:\n",
    "    # accept database name as string\n",
    "    str = input('Enter database name : ')\n",
    "    \n",
    "    # convert the string into classname\n",
    "    classname = globals()[str]\n",
    "    \n",
    "    # create an object to that class\n",
    "    x = classname()\n",
    "    \n",
    "    # call the connect() and disconnect() methods\n",
    "    x.connect()\n",
    "    x.disconnect()"
   ]
  },
  {
   "cell_type": "code",
   "execution_count": 26,
   "id": "750422a1",
   "metadata": {},
   "outputs": [
    {
     "name": "stdout",
     "output_type": "stream",
     "text": [
      "Enter database name : Sybase\n",
      "Connecting to Sybase database\n",
      "Disconnected from Sybase.\n"
     ]
    }
   ],
   "source": [
    "class Database:\n",
    "    # accept database name as string\n",
    "    str = input('Enter database name : ')\n",
    "    \n",
    "    # convert the string into classname\n",
    "    classname = globals()[str]\n",
    "    \n",
    "    # create an object to that class\n",
    "    x = classname()\n",
    "    \n",
    "    # call the connect() and disconnect() methods\n",
    "    x.connect()\n",
    "    x.disconnect()"
   ]
  },
  {
   "cell_type": "code",
   "execution_count": 27,
   "id": "f8c53813",
   "metadata": {},
   "outputs": [
    {
     "name": "stdout",
     "output_type": "stream",
     "text": [
      "Enter Printer name : IBM\n",
      "Hello, this is sent to printer\n",
      "Printing completed on IBM printer\n"
     ]
    }
   ],
   "source": [
    "# An interface to send text to any printer\n",
    "from abc import *\n",
    "# create an interface\n",
    "class Printer(ABC):\n",
    "    @abstractmethod\n",
    "    def printit(self,text):\n",
    "        pass\n",
    "    @abstractmethod\n",
    "    def disconnect(self):\n",
    "        pass\n",
    "    \n",
    "# this is sub class for IBM  printer\n",
    "class IBM(Printer):\n",
    "    def printit(self,text):\n",
    "        print(text)\n",
    "    \n",
    "    def disconnect(self):\n",
    "        print('Printing completed on IBM printer')\n",
    "        \n",
    "# this is sub class for Epson printer\n",
    "class Epson(Printer):\n",
    "     def printit(self,text):\n",
    "        print(text)\n",
    "    \n",
    "     def disconnect(self):\n",
    "        print('Printing completed on Epson printer')\n",
    "        \n",
    "class UsePrinter:\n",
    "    # accept printer name as string \n",
    "    str =   input('Enter Printer name : ')\n",
    "    # convert the string into classname\n",
    "    classname = globals()[str]\n",
    "    # create an object to that class\n",
    "    x = classname()\n",
    "    # call the printit() and disconnect() methods\n",
    "    x.printit('Hello, this is sent to printer')\n",
    "    x.disconnect()"
   ]
  },
  {
   "cell_type": "code",
   "execution_count": 28,
   "id": "0a0a707b",
   "metadata": {},
   "outputs": [
    {
     "name": "stdout",
     "output_type": "stream",
     "text": [
      "Enter Printer name : Epson\n",
      "Hello, this is sent to printer\n",
      "Printing completed on Epson printer\n"
     ]
    }
   ],
   "source": [
    "class UsePrinter:\n",
    "    # accept printer name as string \n",
    "    str =   input('Enter Printer name : ')\n",
    "    # convert the string into classname\n",
    "    classname = globals()[str]\n",
    "    # create an object to that class\n",
    "    x = classname()\n",
    "    # call the printit() and disconnect() methods\n",
    "    x.printit('Hello, this is sent to printer')\n",
    "    x.disconnect()"
   ]
  },
  {
   "cell_type": "code",
   "execution_count": null,
   "id": "9bcd3bcf",
   "metadata": {},
   "outputs": [],
   "source": []
  }
 ],
 "metadata": {
  "kernelspec": {
   "display_name": "Python 3 (ipykernel)",
   "language": "python",
   "name": "python3"
  },
  "language_info": {
   "codemirror_mode": {
    "name": "ipython",
    "version": 3
   },
   "file_extension": ".py",
   "mimetype": "text/x-python",
   "name": "python",
   "nbconvert_exporter": "python",
   "pygments_lexer": "ipython3",
   "version": "3.9.7"
  }
 },
 "nbformat": 4,
 "nbformat_minor": 5
}
