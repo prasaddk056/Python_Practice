{
 "cells": [
  {
   "cell_type": "code",
   "execution_count": 1,
   "id": "280ef0ed",
   "metadata": {},
   "outputs": [
    {
     "name": "stdout",
     "output_type": "stream",
     "text": [
      "sum=  25\n"
     ]
    }
   ],
   "source": [
    "a = 10\n",
    "b = 15\n",
    "c = a + b\n",
    "print(\"sum= \",c)"
   ]
  },
  {
   "cell_type": "code",
   "execution_count": 2,
   "id": "ef9a037b",
   "metadata": {},
   "outputs": [
    {
     "name": "stdout",
     "output_type": "stream",
     "text": [
      "Sum= 35\n",
      "welcome to Python\n"
     ]
    }
   ],
   "source": [
    "# Docstring\n",
    "def add(x,y):\n",
    "    '''\n",
    "    This function take two numbers and find their sum.\n",
    "    It displays the sum as result.\n",
    "    '''\n",
    "    print(\"Sum=\",(x+y))\n",
    "def message():\n",
    "    \"\"\"\n",
    "    This fuction displays a message\n",
    "    This is a welcome to the user.\n",
    "    \"\"\"\n",
    "    print(\"welcome to Python\")\n",
    "# now call the functions\n",
    "add(10,25)\n",
    "message()"
   ]
  },
  {
   "cell_type": "code",
   "execution_count": 3,
   "id": "9f85a19c",
   "metadata": {},
   "outputs": [
    {
     "name": "stdout",
     "output_type": "stream",
     "text": [
      "Sum= (5.5+2j)\n"
     ]
    }
   ],
   "source": [
    "# python program to add two complex numbers\n",
    "c1 = 2.5+2.5j\n",
    "c2 = 3.0-0.5j\n",
    "c3 = c1 + c2\n",
    "print(\"Sum=\",c3)"
   ]
  },
  {
   "cell_type": "code",
   "execution_count": 4,
   "id": "dc7fbdf0",
   "metadata": {},
   "outputs": [
    {
     "name": "stdout",
     "output_type": "stream",
     "text": [
      "Octal 17 =  15\n",
      "Binary 1110010 =  114\n",
      "Hexadecimal 1c2 =  450\n"
     ]
    }
   ],
   "source": [
    "# python program to convert into decimal number system\n",
    "n1 = 0o17\n",
    "n2 = 0B1110010\n",
    "n3 = 0x1c2\n",
    "\n",
    "n = int(n1)\n",
    "print(\"Octal 17 = \",n)\n",
    "n = int(n2)\n",
    "print('Binary 1110010 = ',n)\n",
    "n = int(n3)\n",
    "print('Hexadecimal 1c2 = ',n)"
   ]
  },
  {
   "cell_type": "code",
   "execution_count": 5,
   "id": "35a96529",
   "metadata": {},
   "outputs": [
    {
     "name": "stdout",
     "output_type": "stream",
     "text": [
      "Octal 17 =  15\n",
      "Binary 1110010 =  114\n",
      "Hexadecimal 1c2 =  450\n"
     ]
    }
   ],
   "source": [
    "# Python program to convert into decimal number system - v2.0\n",
    "s1 = \"17\"\n",
    "s2 = \"1110010\"\n",
    "s3 =  \"1c2\"\n",
    "\n",
    "n = int(s1,8)\n",
    "print(\"Octal 17 = \",n)\n",
    "n = int(s2,2)\n",
    "print(\"Binary 1110010 = \",n)\n",
    "n = int(s3,16)\n",
    "print(\"Hexadecimal 1c2 = \",n)"
   ]
  },
  {
   "cell_type": "code",
   "execution_count": 6,
   "id": "662ee9c9",
   "metadata": {},
   "outputs": [
    {
     "name": "stdout",
     "output_type": "stream",
     "text": [
      "0b1010\n",
      "0o12\n",
      "0xa\n"
     ]
    }
   ],
   "source": [
    "a = 10\n",
    "b = bin(a)\n",
    "print(b) #displays 0b1010\n",
    "b = oct(a)\n",
    "print(b) #displays 0o12\n",
    "b = hex(a)\n",
    "print(b) # displays 0xa"
   ]
  },
  {
   "cell_type": "code",
   "execution_count": 7,
   "id": "18ad8615",
   "metadata": {},
   "outputs": [
    {
     "name": "stdout",
     "output_type": "stream",
     "text": [
      "15\n"
     ]
    }
   ],
   "source": [
    "x = 15.56\n",
    "print(int(x))"
   ]
  },
  {
   "cell_type": "code",
   "execution_count": 8,
   "id": "f8449ac4",
   "metadata": {},
   "outputs": [
    {
     "name": "stdout",
     "output_type": "stream",
     "text": [
      "15.0\n"
     ]
    }
   ],
   "source": [
    "num = 15\n",
    "print(float(num))"
   ]
  },
  {
   "cell_type": "code",
   "execution_count": 9,
   "id": "38b5bb91",
   "metadata": {},
   "outputs": [
    {
     "name": "stdout",
     "output_type": "stream",
     "text": [
      "Hello\n"
     ]
    }
   ],
   "source": [
    "a = 10\n",
    "b = 20\n",
    "if(a<b):\n",
    "    print(\"Hello\")"
   ]
  },
  {
   "cell_type": "code",
   "execution_count": 10,
   "id": "1233a952",
   "metadata": {},
   "outputs": [
    {
     "name": "stdout",
     "output_type": "stream",
     "text": [
      "True\n",
      "False\n"
     ]
    }
   ],
   "source": [
    "a = 10>5\n",
    "print(a)\n",
    "a = 5>10\n",
    "print(a)"
   ]
  },
  {
   "cell_type": "code",
   "execution_count": 11,
   "id": "3402f828",
   "metadata": {},
   "outputs": [
    {
     "data": {
      "text/plain": [
       "2"
      ]
     },
     "execution_count": 11,
     "metadata": {},
     "output_type": "execute_result"
    }
   ],
   "source": [
    "True+True"
   ]
  },
  {
   "cell_type": "raw",
   "id": "52550b74",
   "metadata": {},
   "source": [
    "# True is 1 and False is 0"
   ]
  },
  {
   "cell_type": "code",
   "execution_count": 12,
   "id": "c03b697e",
   "metadata": {},
   "outputs": [
    {
     "data": {
      "text/plain": [
       "1"
      ]
     },
     "execution_count": 12,
     "metadata": {},
     "output_type": "execute_result"
    }
   ],
   "source": [
    "True - False"
   ]
  },
  {
   "cell_type": "code",
   "execution_count": 13,
   "id": "265ea68c",
   "metadata": {},
   "outputs": [
    {
     "name": "stdout",
     "output_type": "stream",
     "text": [
      "welcome to Core Python\n",
      "w\n",
      "come\n",
      "Core Python\n",
      "n\n",
      "welcome to Core Pythonwelcome to Core Python\n"
     ]
    }
   ],
   "source": [
    "s = \"welcome to Core Python\"\n",
    "print(s)\n",
    "print(s[0])\n",
    "print(s[3:7])\n",
    "print(s[11:])\n",
    "print(s[-1])# displays first character from the end\n",
    "print(s*2)"
   ]
  },
  {
   "cell_type": "code",
   "execution_count": 14,
   "id": "99be37e9",
   "metadata": {},
   "outputs": [
    {
     "name": "stdout",
     "output_type": "stream",
     "text": [
      "10\n",
      "20\n",
      "0\n",
      "40\n",
      "15\n"
     ]
    }
   ],
   "source": [
    "#program to understand bytes type array\n",
    "#create a list of byte numbers\n",
    "elements = [10,20,0,40,15]\n",
    "#covert the list into bytes type array\n",
    "x = bytes(elements)\n",
    "#retrive elements drom x using for loop and display\n",
    "for i in x:\n",
    "    print(i)\n"
   ]
  },
  {
   "cell_type": "code",
   "execution_count": 15,
   "id": "d4882d8c",
   "metadata": {},
   "outputs": [
    {
     "name": "stdout",
     "output_type": "stream",
     "text": [
      "88\n",
      "99\n",
      "0\n",
      "40\n",
      "15\n"
     ]
    }
   ],
   "source": [
    "#program to understand bytearray type array \n",
    "#create a list of byte numbers\n",
    "\n",
    "elements = [10,20,0,40,15]\n",
    "\n",
    "#convert the list into bytearray type array\n",
    "\n",
    "x = bytearray(elements)\n",
    "\n",
    "#modify the first two elements of x\n",
    "x[0] = 88\n",
    "x[1] = 99\n",
    "\n",
    "# retrive elements from x using for loop and disply\n",
    "for i in x:\n",
    "    print(i)"
   ]
  },
  {
   "cell_type": "code",
   "execution_count": 16,
   "id": "c559b582",
   "metadata": {},
   "outputs": [
    {
     "name": "stdout",
     "output_type": "stream",
     "text": [
      "[0, 1, 2, 3, 4, 5, 6, 7, 8, 9]\n"
     ]
    }
   ],
   "source": [
    "lst = list(range(10))\n",
    "print(lst)"
   ]
  },
  {
   "cell_type": "code",
   "execution_count": 17,
   "id": "11fc2a76",
   "metadata": {},
   "outputs": [
    {
     "name": "stdout",
     "output_type": "stream",
     "text": [
      "30\n",
      "32\n",
      "34\n",
      "36\n",
      "38\n"
     ]
    }
   ],
   "source": [
    "r = range(30,40,2)\n",
    "for i in r:\n",
    "    print(i)"
   ]
  },
  {
   "cell_type": "code",
   "execution_count": 18,
   "id": "097e8ba9",
   "metadata": {},
   "outputs": [
    {
     "name": "stdout",
     "output_type": "stream",
     "text": [
      "[10, -20, 15.5, 'Vijay', 'Mary']\n",
      "10\n",
      "[-20, 15.5]\n",
      "Vijay\n",
      "[10, -20, 15.5, 'Vijay', 'Mary', 10, -20, 15.5, 'Vijay', 'Mary']\n"
     ]
    }
   ],
   "source": [
    "list = [10,-20,15.5,'Vijay','Mary']\n",
    "print(list)\n",
    "print(list[0])\n",
    "print(list[1:3])\n",
    "print(list[-2])\n",
    "print(list*2)"
   ]
  },
  {
   "cell_type": "code",
   "execution_count": 19,
   "id": "a8f6205c",
   "metadata": {},
   "outputs": [
    {
     "name": "stdout",
     "output_type": "stream",
     "text": [
      "(10, -20, 15.5, 'Vijay', 'Mary')\n",
      "10\n",
      "(-20, 15.5)\n",
      "Vijay\n",
      "(10, -20, 15.5, 'Vijay', 'Mary', 10, -20, 15.5, 'Vijay', 'Mary')\n"
     ]
    }
   ],
   "source": [
    "tpl = (10,-20,15.5,'Vijay','Mary')\n",
    "print(tpl)\n",
    "print(tpl[0])\n",
    "print(tpl[1:3])\n",
    "print(tpl[-2])\n",
    "print(tpl*2)\n",
    "# tpl[0] = 99  ## gives error as tuple is immutable"
   ]
  },
  {
   "cell_type": "code",
   "execution_count": 20,
   "id": "dc919bd6",
   "metadata": {},
   "outputs": [
    {
     "name": "stdout",
     "output_type": "stream",
     "text": [
      "0\n",
      "1\n",
      "2\n",
      "3\n",
      "4\n",
      "5\n",
      "6\n",
      "7\n",
      "8\n",
      "9\n"
     ]
    }
   ],
   "source": [
    "r = range(10)\n",
    "for i in r:\n",
    "    print(i)"
   ]
  },
  {
   "cell_type": "code",
   "execution_count": 21,
   "id": "10bfea34",
   "metadata": {},
   "outputs": [
    {
     "name": "stdout",
     "output_type": "stream",
     "text": [
      "{10, 20, 50, 30}\n"
     ]
    }
   ],
   "source": [
    "s = {10,20,30,10,50}\n",
    "print(s)"
   ]
  },
  {
   "cell_type": "code",
   "execution_count": 22,
   "id": "70e5f334",
   "metadata": {},
   "outputs": [
    {
     "name": "stdout",
     "output_type": "stream",
     "text": [
      "{'o', 'l', 'e', 'H'}\n"
     ]
    }
   ],
   "source": [
    "ch = set(\"Hello\")\n",
    "print(ch)"
   ]
  },
  {
   "cell_type": "code",
   "execution_count": 23,
   "id": "311ef097",
   "metadata": {},
   "outputs": [
    {
     "name": "stdout",
     "output_type": "stream",
     "text": [
      "{1, 2, 3, 4, 5}\n",
      "{1, 2, 3, 4, 5, 50, 60}\n",
      "{1, 2, 3, 4, 5, 60}\n"
     ]
    }
   ],
   "source": [
    "lst = [1,2,5,4,3]\n",
    "s = set(lst)\n",
    "print(s)\n",
    "#print(s[0])\n",
    "#print(s[0:2])\n",
    "# gives error as set are unordered\n",
    "s.update([50,60])\n",
    "print(s)\n",
    "s.remove(50)\n",
    "print(s)"
   ]
  },
  {
   "cell_type": "code",
   "execution_count": 24,
   "id": "22aa2dfa",
   "metadata": {},
   "outputs": [
    {
     "name": "stdout",
     "output_type": "stream",
     "text": [
      "{80, 50, 70, 90, 60}\n",
      "frozenset({80, 50, 70, 90, 60})\n"
     ]
    }
   ],
   "source": [
    "s = {50,60,70,80,90}\n",
    "print(s)\n",
    "\n",
    "fs = frozenset(s)  #  unlike set the frozenset cannot be modified\n",
    "print(fs)"
   ]
  },
  {
   "cell_type": "code",
   "execution_count": 25,
   "id": "91d9ba32",
   "metadata": {},
   "outputs": [
    {
     "name": "stdout",
     "output_type": "stream",
     "text": [
      "frozenset({'g', 'c', 'd', 'f', 'e', 'a', 'b'})\n"
     ]
    }
   ],
   "source": [
    "fs = frozenset(\"abcdefg\")\n",
    "print(fs)"
   ]
  },
  {
   "cell_type": "code",
   "execution_count": 26,
   "id": "3a297a93",
   "metadata": {},
   "outputs": [
    {
     "name": "stdout",
     "output_type": "stream",
     "text": [
      "{10: 'Kamal', 11: 'Pranav', 12: 'Hasini', 13: 'Anup', 14: 'Reethu'}\n",
      "Pranav\n",
      "dict_keys([10, 11, 12, 13, 14])\n",
      "dict_values(['Kamal', 'Pranav', 'Hasini', 'Anup', 'Reethu'])\n",
      "{10: 'Hareesh', 11: 'Pranav', 12: 'Hasini', 13: 'Anup', 14: 'Reethu'}\n",
      "{10: 'Hareesh', 12: 'Hasini', 13: 'Anup', 14: 'Reethu'}\n"
     ]
    }
   ],
   "source": [
    "d = {10:'Kamal',11:'Pranav',12:'Hasini',13:'Anup',14:'Reethu'}\n",
    "print(d)\n",
    "print(d[11])\n",
    "print(d.keys())\n",
    "print(d.values())\n",
    "d[10] = 'Hareesh'\n",
    "print(d)\n",
    "del d[11]\n",
    "print(d)"
   ]
  },
  {
   "cell_type": "code",
   "execution_count": 27,
   "id": "cb367f12",
   "metadata": {},
   "outputs": [
    {
     "name": "stdout",
     "output_type": "stream",
     "text": [
      "This is first line and this will be continued with the first line\n"
     ]
    }
   ],
   "source": [
    "str = \"This is first line and \\\n",
    "this will be continued with the first line\"\n",
    "print(str)"
   ]
  },
  {
   "cell_type": "code",
   "execution_count": 28,
   "id": "ee7bb3ad",
   "metadata": {},
   "outputs": [
    {
     "name": "stdout",
     "output_type": "stream",
     "text": [
      "This is\n",
      "Python\n"
     ]
    }
   ],
   "source": [
    "str = \"This is\\nPython\"\n",
    "print(str)"
   ]
  },
  {
   "cell_type": "code",
   "execution_count": 29,
   "id": "0972d97c",
   "metadata": {},
   "outputs": [
    {
     "name": "stdout",
     "output_type": "stream",
     "text": [
      "<class 'int'>\n",
      "<class 'float'>\n",
      "<class 'str'>\n",
      "<class 'str'>\n",
      "<class 'list'>\n",
      "<class 'tuple'>\n",
      "<class 'set'>\n"
     ]
    }
   ],
   "source": [
    "a =15\n",
    "print(type(a))\n",
    "a= 15.5\n",
    "print(type(a))\n",
    "s = \"Hello\"\n",
    "print(type(s))\n",
    "print(type(\"Hai\"))\n",
    "lst = [1,2,3,4,5]\n",
    "print(type(lst))\n",
    "t = (1,2,3,4)\n",
    "print(type(t))\n",
    "s = {1,2,3,4}\n",
    "print(type(s))"
   ]
  },
  {
   "cell_type": "code",
   "execution_count": 30,
   "id": "4d2a8f16",
   "metadata": {},
   "outputs": [
    {
     "name": "stdout",
     "output_type": "stream",
     "text": [
      "<class 'str'>\n"
     ]
    }
   ],
   "source": [
    "ch = 'A'\n",
    "print(type(ch))"
   ]
  },
  {
   "cell_type": "code",
   "execution_count": 31,
   "id": "f7c7bafd",
   "metadata": {},
   "outputs": [
    {
     "name": "stdout",
     "output_type": "stream",
     "text": [
      "B\n",
      "B\n",
      "h\n",
      "a\n",
      "r\n",
      "a\n",
      "t\n",
      "True\n",
      "False\n"
     ]
    }
   ],
   "source": [
    "str = 'Bharat'\n",
    "print(str[0])\n",
    "for i in str:\n",
    "    print(i)\n",
    "\n",
    "print(str[0].isupper())\n",
    "print(str[1].isupper())"
   ]
  },
  {
   "cell_type": "code",
   "execution_count": null,
   "id": "8603c02c",
   "metadata": {},
   "outputs": [],
   "source": []
  }
 ],
 "metadata": {
  "kernelspec": {
   "display_name": "Python 3 (ipykernel)",
   "language": "python",
   "name": "python3"
  },
  "language_info": {
   "codemirror_mode": {
    "name": "ipython",
    "version": 3
   },
   "file_extension": ".py",
   "mimetype": "text/x-python",
   "name": "python",
   "nbconvert_exporter": "python",
   "pygments_lexer": "ipython3",
   "version": "3.9.7"
  }
 },
 "nbformat": 4,
 "nbformat_minor": 5
}
