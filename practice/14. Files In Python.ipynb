{
 "cells": [
  {
   "cell_type": "code",
   "execution_count": 1,
   "id": "ff6849dc",
   "metadata": {},
   "outputs": [
    {
     "name": "stdout",
     "output_type": "stream",
     "text": [
      "Enter text : This is my first line.\n"
     ]
    }
   ],
   "source": [
    "# creating a file to store characters\n",
    "# open the file for writing data\n",
    "f = open('myfile.txt','w')\n",
    "\n",
    "# enter characters from keyboard\n",
    "str = input('Enter text : ')\n",
    "\n",
    "# write the string into file\n",
    "f.write(str)\n",
    "\n",
    "# closing the file\n",
    "f.close()"
   ]
  },
  {
   "cell_type": "code",
   "execution_count": 2,
   "id": "c4e9ee65",
   "metadata": {},
   "outputs": [
    {
     "name": "stdout",
     "output_type": "stream",
     "text": [
      "This is my first line.\n"
     ]
    }
   ],
   "source": [
    "# reading characters from file\n",
    "# open the file for reading data\n",
    "f = open('myfile.txt','r')\n",
    "\n",
    "# read all characters from file\n",
    "str = f.read()\n",
    "\n",
    "# display them on the screen\n",
    "print(str)\n",
    "\n",
    "# closing the file\n",
    "f.close()"
   ]
  },
  {
   "cell_type": "code",
   "execution_count": 4,
   "id": "7895b2d7",
   "metadata": {},
   "outputs": [
    {
     "name": "stdout",
     "output_type": "stream",
     "text": [
      "Enter text (@ at end) : \n",
      "This is myfile line 1\n",
      "This is line 2\n",
      "This is last line\n",
      "@\n"
     ]
    }
   ],
   "source": [
    "# creating a file with strings\n",
    "# open the file for writing data\n",
    "f = open('myfile.txt','w')\n",
    "\n",
    "# enter strings from keyboard\n",
    "print('Enter text (@ at end) : ')\n",
    "while str != '@':\n",
    "    str = input()  # accept string into str\n",
    "    # write the string into file\n",
    "    if (str != '@'):\n",
    "        f.write(str +'\\n')\n",
    "        \n",
    "# closing the file\n",
    "f.close()"
   ]
  },
  {
   "cell_type": "code",
   "execution_count": 5,
   "id": "874c578d",
   "metadata": {},
   "outputs": [
    {
     "name": "stdout",
     "output_type": "stream",
     "text": [
      "The file contents are : \n",
      "This is myfile line 1\n",
      "This is line 2\n",
      "This is last line\n",
      "\n"
     ]
    }
   ],
   "source": [
    "# reading strings from a file\n",
    "# open the file for reading data\n",
    "f = open('myfile.txt','r')\n",
    "\n",
    "# read strings from the file\n",
    "print('The file contents are : ')\n",
    "str = f.read()\n",
    "print(str)\n",
    "\n",
    "# closing the file\n",
    "f.close()"
   ]
  },
  {
   "cell_type": "code",
   "execution_count": 12,
   "id": "103d9ecc",
   "metadata": {},
   "outputs": [
    {
     "name": "stdout",
     "output_type": "stream",
     "text": [
      "Enter text to append (@ at end) : \n",
      "This line is added.\n",
      "@\n",
      "The file contents are : \n",
      "This is myfile line 1\n",
      "This is line 2\n",
      "This is last line\n",
      "This is new line added to file\n",
      "This line is added.\n",
      "\n"
     ]
    }
   ],
   "source": [
    "# appending and then reading strings\n",
    "# open  the file for reading data\n",
    "f = open('myfile.txt','a+')\n",
    "\n",
    "print('Enter text to append (@ at end) : ')\n",
    "while str != '@':\n",
    "    str = input()  # accept string to str\n",
    "    \n",
    "    # write the string into file\n",
    "    if str != '@':\n",
    "        f.write(str+'\\n')\n",
    "        \n",
    "# put the file pointer to the beginning of file\n",
    "f.seek(0,0)\n",
    "\n",
    "# read strings from the file\n",
    "print('The file contents are : ')\n",
    "str = f.read()\n",
    "print(str)\n",
    "\n",
    "# closing the file\n",
    "f.close()"
   ]
  },
  {
   "cell_type": "code",
   "execution_count": 17,
   "id": "80445a2e",
   "metadata": {},
   "outputs": [
    {
     "name": "stdout",
     "output_type": "stream",
     "text": [
      "Enter filename : myfile.txt\n",
      "The file contents are :\n",
      "This is myfile line 1\n",
      "This is line 2\n",
      "This is last line\n",
      "This is new line added to file\n",
      "This line is added.\n",
      "\n"
     ]
    }
   ],
   "source": [
    "# checking if file exists and then reading data\n",
    "import os,sys\n",
    "\n",
    "# open the file for reading data \n",
    "fname = input('Enter filename : ')\n",
    "\n",
    "if os.path.isfile(fname):\n",
    "    f = open(fname,'r')\n",
    "else:\n",
    "    print(fname+' does not exist')\n",
    "    sys.exit()\n",
    "    \n",
    "# read strings from the file\n",
    "print('The file contents are :')\n",
    "str = f.read()\n",
    "print(str)\n",
    "\n",
    "# closing the file\n",
    "f.close()"
   ]
  },
  {
   "cell_type": "code",
   "execution_count": 18,
   "id": "aa15be25",
   "metadata": {},
   "outputs": [
    {
     "name": "stdout",
     "output_type": "stream",
     "text": [
      "Enter filename : myfile.txt\n",
      "No. of lines :  5\n",
      "No. of words :  24\n",
      "No. of words :  106\n"
     ]
    }
   ],
   "source": [
    "# counting number of lines ,words ,characters in a file\n",
    "import os , sys\n",
    "\n",
    "# open the file for reading data\n",
    "fname = input('Enter filename : ')\n",
    "\n",
    "if os.path.isfile(fname):\n",
    "    f = open(fname,'r')\n",
    "else:\n",
    "    print(fname+' does not exist')\n",
    "    \n",
    "# initialize the counters to 0\n",
    "cl = cw = cc = 0\n",
    "\n",
    "# read line by line from the file\n",
    "for line in f:\n",
    "    words = line.split()\n",
    "    cl +=1\n",
    "    cw += len(words)\n",
    "    cc += len(line)\n",
    "    \n",
    "print('No. of lines : ',cl)\n",
    "print('No. of words : ',cw)\n",
    "print('No. of words : ',cc)\n",
    "\n",
    "# closing the file\n",
    "f.close()"
   ]
  },
  {
   "cell_type": "code",
   "execution_count": 14,
   "id": "9cfe0f18",
   "metadata": {},
   "outputs": [
    {
     "name": "stdout",
     "output_type": "stream",
     "text": [
      "Enter file name : myfile.txt\n",
      "This Is Myfile Line 1\n",
      "This Is Line 2\n",
      "This Is Last Line\n",
      "This Is New Line Added To File\n",
      "This Line Is Added.\n"
     ]
    }
   ],
   "source": [
    "fname = input('Enter file name : ')\n",
    "with open(fname,'r') as f :\n",
    "    for line in f:\n",
    "        l = line.title()\n",
    "        print(l,end='')\n"
   ]
  },
  {
   "cell_type": "code",
   "execution_count": 1,
   "id": "0d676c96",
   "metadata": {},
   "outputs": [],
   "source": [
    "# with statement to open a file\n",
    "with open('sample.txt','w') as f:\n",
    "    f.write('I am a learner\\n')\n",
    "    f.write('Python is attractive\\n')\n",
    "    "
   ]
  },
  {
   "cell_type": "code",
   "execution_count": 4,
   "id": "5f22995e",
   "metadata": {},
   "outputs": [
    {
     "name": "stdout",
     "output_type": "stream",
     "text": [
      "I am a learner\n",
      "Python is attractive\n"
     ]
    }
   ],
   "source": [
    "# using with statement to open a file\n",
    "with open('sample.txt','r') as f:\n",
    "    for line in f:\n",
    "        line = line.strip()\n",
    "        print(line)"
   ]
  },
  {
   "cell_type": "code",
   "execution_count": 5,
   "id": "8795be76",
   "metadata": {},
   "outputs": [],
   "source": [
    "class Emp:\n",
    "    def __init__(self,id,name,sal):\n",
    "        self.id = id\n",
    "        self.name = name\n",
    "        self.sal = sal\n",
    "        \n",
    "    def display(self):\n",
    "        print(\"({:5d} {:20s} {:10.2f})\".format(self.id,self.name,self.sal))\n",
    "        "
   ]
  },
  {
   "cell_type": "code",
   "execution_count": 6,
   "id": "d1882b82",
   "metadata": {},
   "outputs": [
    {
     "name": "stdout",
     "output_type": "stream",
     "text": [
      "How many employees? 3\n",
      "Enter id : 100\n",
      "Enter name : Sai Kumar\n",
      "Enter salary : 9000.00\n",
      "Enter id : 101\n",
      "Enter name : Ravi teja\n",
      "Enter salary : 8900.50\n",
      "Enter id : 102\n",
      "Enter name : Harsh Deep\n",
      "Enter salary : 12000.75\n"
     ]
    }
   ],
   "source": [
    "import pickle\n",
    "\n",
    "# open emp.dat file as a binary file for writing \n",
    "f = open('emp.dat','wb')\n",
    "n = int(input('How many employees? '))\n",
    "\n",
    "for i in range(n):\n",
    "    id = int(input('Enter id : '))\n",
    "    name = input('Enter name : ')\n",
    "    sal = float(input('Enter salary : '))\n",
    "    \n",
    "    # create Emp class object \n",
    "    e =Emp(id,name,sal)\n",
    "    \n",
    "    # store the object e into file f \n",
    "    pickle.dump(e,f)\n",
    "    \n",
    "# close the file\n",
    "f.close()"
   ]
  },
  {
   "cell_type": "code",
   "execution_count": 8,
   "id": "45692b50",
   "metadata": {},
   "outputs": [
    {
     "name": "stdout",
     "output_type": "stream",
     "text": [
      "Employees details : \n",
      "(  100 Sai Kumar               9000.00)\n",
      "(  101 Ravi teja               8900.50)\n",
      "(  102 Harsh Deep             12000.75)\n",
      "End of the file reached ...\n"
     ]
    }
   ],
   "source": [
    "# unpickel ot object de-serialization\n",
    "import pickle\n",
    "\n",
    "# open the file to read objects\n",
    "f = open('emp.dat','rb')\n",
    "print('Employees details : ')\n",
    "while True :\n",
    "    try :\n",
    "        # read object from file f\n",
    "        obj = pickle.load(f)\n",
    "        # display the contents of employee obj\n",
    "        obj.display()\n",
    "    except EOFError:\n",
    "        print('End of the file reached ...')\n",
    "        break\n",
    "        \n",
    "# close the file \n",
    "f.close()"
   ]
  },
  {
   "cell_type": "code",
   "execution_count": 9,
   "id": "0c1b3dca",
   "metadata": {},
   "outputs": [
    {
     "name": "stdout",
     "output_type": "stream",
     "text": [
      "How many entries? 4\n",
      "Enter city name : Delhi\n",
      "Enter city name : Hyderabad\n",
      "Enter city name : Pune\n",
      "Enter city name : Ahemdabad\n"
     ]
    }
   ],
   "source": [
    "# create cities.bin file with cities names\n",
    "# take the record size as 20 bytes\n",
    "reclen = 20\n",
    "\n",
    "# open the file in wb mode as binary file\n",
    "with open('cities.bin','wb') as f:\n",
    "    # write data into file \n",
    "    n = int(input('How many entries? '))\n",
    "    \n",
    "    for i in range(n):\n",
    "        city = input('Enter city name : ')\n",
    "        # find the length of city\n",
    "        ln = len(city)\n",
    "        # increase the city names to 20 chars\n",
    "        # by adding remaining spaces\n",
    "        city = city+(reclen-ln)*' '\n",
    "        \n",
    "        # convert city name into byte string\n",
    "        city = city.encode()\n",
    "        \n",
    "        # write the city name to file\n",
    "        f.write(city)\n",
    "        "
   ]
  },
  {
   "cell_type": "code",
   "execution_count": 10,
   "id": "3eeed77a",
   "metadata": {},
   "outputs": [
    {
     "name": "stdout",
     "output_type": "stream",
     "text": [
      "Enter record number : 3\n",
      "Pune                \n"
     ]
    }
   ],
   "source": [
    "# reading city name based on record number\n",
    "# take record length as 20 \n",
    "reclen = 20\n",
    "\n",
    "# open file in binary mode for reading\n",
    "with open('cities.bin','rb') as f :\n",
    "    n = int(input('Enter record number : '))\n",
    "    \n",
    "    # move file pointer to the end of n-1 th record\n",
    "    f.seek(reclen*(n-1))\n",
    "    \n",
    "    # get the nth record with 20 chars\n",
    "    str = f.read(reclen)\n",
    "    \n",
    "    # convert the byte string into ordinary string\n",
    "    print(str.decode())"
   ]
  },
  {
   "cell_type": "code",
   "execution_count": 9,
   "id": "2183d999",
   "metadata": {},
   "outputs": [
    {
     "name": "stdout",
     "output_type": "stream",
     "text": [
      "Size of the file = 80 bytes\n",
      "No.of records = 4\n",
      "Enter city name : Delhi\n",
      "found at record no :  1\n"
     ]
    }
   ],
   "source": [
    "# searching the city name in the file \n",
    "import os \n",
    "\n",
    "# take record length as 20 charaters \n",
    "reclen = 20\n",
    "\n",
    "# find size of the file \n",
    "size = os.path.getsize('cities.bin')\n",
    "print('Size of the file = {} bytes'.format(size))\n",
    "\n",
    "# find number of records in the file\n",
    "n = int(size/reclen)\n",
    "print('No.of records = {}'.format(n))\n",
    "\n",
    "# open the file in binary mode for reading\n",
    "with open('cities.bin','rb') as f :\n",
    "    name = input('Enter city name : ')\n",
    "    # convert name into binary string \n",
    "    name = name.encode()\n",
    "    # position represents the position of the file pointer \n",
    "    position = 0\n",
    "    \n",
    "    # found becomes True if city is found in the file\n",
    "    found = False\n",
    "    # repeat for n records in the file\n",
    "    for i in range(n):\n",
    "        # place the file pointer at position\n",
    "        f.seek(position)\n",
    "        # read 20 characters\n",
    "        str = f.read(20)\n",
    "        #if found \n",
    "        if name in str:\n",
    "            print('found at record no : ',(i+1))\n",
    "            found = True\n",
    "            # go to the next record\n",
    "            position += reclen\n",
    "    if not found:\n",
    "        print('City not found')"
   ]
  },
  {
   "cell_type": "code",
   "execution_count": 10,
   "id": "1faa0966",
   "metadata": {},
   "outputs": [
    {
     "name": "stdout",
     "output_type": "stream",
     "text": [
      "Size of the file = 80 bytes\n",
      "No.of records = 4\n",
      "Enter city name : Hyderabad\n",
      "Enter new name : Bangalore\n",
      "Updated record no :  2\n"
     ]
    }
   ],
   "source": [
    "# updating the city name in the file\n",
    "import os\n",
    "\n",
    "# take record length as 20 characters\n",
    "reclen = 20\n",
    "\n",
    "# find size of the file \n",
    "size = os.path.getsize('cities.bin')\n",
    "print('Size of the file = {} bytes'.format(size))\n",
    "\n",
    "# find number of records in the file\n",
    "n = int(size/reclen)\n",
    "print('No.of records = {}'.format(n))\n",
    "\n",
    "# open the file in binary mode for reading\n",
    "with open('cities.bin','r+b') as f :\n",
    "    name = input('Enter city name : ')\n",
    "    # convert name into binary string \n",
    "    name = name.encode()\n",
    "    \n",
    "    newname = input('Enter new name : ')\n",
    "    # find length of newname\n",
    "    ln = len(newname)\n",
    "    # add spaces to make its length to be 20\n",
    "    newname = newname + (20 - ln)*\" \"\n",
    "    # convert newname into binary string \n",
    "    newname = newname.encode()\n",
    "    \n",
    "    # position represents the position of the file pointer\n",
    "    position = 0\n",
    "    \n",
    "    # found becomes true of city is found in the file \n",
    "    found = False\n",
    "    \n",
    "    # repeat for n records in the file \n",
    "    for i in range(n):\n",
    "        # place the file pointer at position\n",
    "        f.seek(position)\n",
    "        # read 20 characters\n",
    "        str = f.read(20)\n",
    "        #if found \n",
    "        if name in str:\n",
    "            print('Updated record no : ',(i+1))\n",
    "            found = True\n",
    "            # go back 20 bytes from current position\n",
    "            f.seek(-20,1)\n",
    "            # update the record\n",
    "            f.write(newname)\n",
    "        \n",
    "        # go to the next record\n",
    "        position += reclen\n",
    "    \n",
    "    if not found :\n",
    "        print('City not found')"
   ]
  },
  {
   "cell_type": "code",
   "execution_count": 11,
   "id": "edec825c",
   "metadata": {},
   "outputs": [
    {
     "name": "stdout",
     "output_type": "stream",
     "text": [
      "Enter city name to delete : Bangalore\n",
      "Record deleted ...\n"
     ]
    }
   ],
   "source": [
    "# deleting a record from the file\n",
    "import os \n",
    "\n",
    "# take record length as 20 characters\n",
    "reclen = 20\n",
    "\n",
    "# find size of the file\n",
    "size = os.path.getsize('cities.bin')\n",
    "\n",
    "# find number of records in the file\n",
    "n = int(size/reclen)\n",
    "\n",
    "# open the cities.bin for reading\n",
    "f1 = open('cities.bin','rb')\n",
    "\n",
    "# open file2.bin for writing\n",
    "f2 = open('file2.bin','wb')\n",
    "\n",
    "# accept city name from keyword\n",
    "city = input('Enter city name to delete : ')\n",
    "\n",
    "# add spaces so that it will have 20 characters length \n",
    "ln = len(city)\n",
    "city = city + (reclen-ln)*' '\n",
    "\n",
    "# convert city name to binary string \n",
    "city = city.encode()\n",
    "\n",
    "# repeat for all the n records\n",
    "for i in range(n):\n",
    "    # read one record from file f1 \n",
    "    str = f1.read(reclen)\n",
    "    # if it is not the city name , store into file f2\n",
    "    if (str != city):\n",
    "        f2.write(str)\n",
    "        \n",
    "print('Record deleted ...')\n",
    "\n",
    "# close the files\n",
    "f1.close()\n",
    "f2.close()\n",
    "\n",
    "# delete the cities.bin file\n",
    "os.remove('cities.bin')\n",
    "\n",
    "# rename file2.bin as cities.bin\n",
    "os.rename('file2.bin','cities.bin')"
   ]
  },
  {
   "cell_type": "code",
   "execution_count": 12,
   "id": "25a6ff13",
   "metadata": {},
   "outputs": [
    {
     "name": "stdout",
     "output_type": "stream",
     "text": [
      "How many entries ?3\n",
      "Enter name : Viswajith\n",
      "Enter phone number : 988012556\n",
      "Enter name : Manoj\n",
      "Enter phone number : 7770001110\n",
      "Enter name : Dheerendra\n",
      "Enter phone number : 8989890010\n"
     ]
    }
   ],
   "source": [
    "# create phonebook.dat file \n",
    "# open the file in wb mode as binar file\n",
    "\n",
    "with open('phonebook.dat','wb') as f:\n",
    "    # write data into file \n",
    "    n = int(input(\"How many entries ?\"))\n",
    "    \n",
    "    for i in range(n):\n",
    "        name = input(\"Enter name : \")\n",
    "        phone = input('Enter phone number : ')\n",
    "        # convert name and phone from strings to bytes \n",
    "        name = name.encode()\n",
    "        phone = phone.encode()\n",
    "        \n",
    "        # write the data into file\n",
    "        f.write(name + phone)\n",
    "        "
   ]
  },
  {
   "cell_type": "code",
   "execution_count": 19,
   "id": "057c9e1b",
   "metadata": {},
   "outputs": [
    {
     "name": "stdout",
     "output_type": "stream",
     "text": [
      "1 to display all the entries \n",
      "2 to display phone number\n",
      "3 to modify an entry\n",
      "4 to exit\n",
      "Your choice : 1\n",
      "Viswajith988012556Manoj7770001110Dheerendra9999999000\n"
     ]
    }
   ],
   "source": [
    "# using mmap on a binary file\n",
    "import mmap ,sys\n",
    "\n",
    "# dislay a menu\n",
    "print('1 to display all the entries ')\n",
    "print('2 to display phone number')\n",
    "print('3 to modify an entry')\n",
    "print('4 to exit')\n",
    "ch = input('Your choice : ')\n",
    "if ch == '4':\n",
    "    sys.exit()\n",
    "    \n",
    "with open('phonebook.dat','r+b') as f:\n",
    "    # memory map the file , size 0 means the whole file\n",
    "    mm = mmap.mmap(f.fileno(),0)\n",
    "    \n",
    "    # display the entire file\n",
    "    if ch == '1':\n",
    "        print(mm.read().decode())\n",
    "        \n",
    "    # display the phone number\n",
    "    if ch == '2':\n",
    "        name = input('Enter name : ')\n",
    "        # find position of name \n",
    "        n = mm.find(name.encode())\n",
    "        # go to end of name \n",
    "        n1 = n+len(name)\n",
    "        # display the next 10 bytes\n",
    "        ph = mm[n1 :n1+10]\n",
    "        print('Phone no : ',ph.decode())\n",
    "        \n",
    "    #  modify phone number\n",
    "    if ch == '3':\n",
    "        name = input('Enter name : ')\n",
    "        # find position of name\n",
    "        n = mm.find(name.encode())\n",
    "        # go to end of name\n",
    "        n1 = n+len(name)\n",
    "        # enter new phone number\n",
    "        ph1 = input('Enter new phone number : ')\n",
    "        # the old phone number is 10 bytes after n1\n",
    "        mm[n1:n1+10] = ph1.encode()\n",
    "    \n",
    "    # close the map\n",
    "    mm.close()"
   ]
  },
  {
   "cell_type": "code",
   "execution_count": 27,
   "id": "7855ba16",
   "metadata": {},
   "outputs": [
    {
     "name": "stdout",
     "output_type": "stream",
     "text": [
      "test.zip file created ...\n"
     ]
    }
   ],
   "source": [
    "# zipping the contents of files\n",
    "from zipfile import *\n",
    "\n",
    "# create zip file\n",
    "f = ZipFile('test.zip','w',ZIP_DEFLATED)\n",
    "\n",
    "# add some files . these files are zipped\n",
    "f.write('myfile.txt')\n",
    "f.write('sample.txt')\n",
    "\n",
    "# close the zip file\n",
    "print('test.zip file created ...')\n",
    "f.close()"
   ]
  },
  {
   "cell_type": "code",
   "execution_count": 28,
   "id": "92fc4899",
   "metadata": {},
   "outputs": [],
   "source": [
    "# to view contents of zipped file\n",
    "from zipfile import *\n",
    "\n",
    "# open the zip file\n",
    "z = ZipFile('test.zip','r')\n",
    "\n",
    "# extract all the file names which are in the zip file\n",
    "z.extractall()"
   ]
  },
  {
   "cell_type": "code",
   "execution_count": 29,
   "id": "eca3ee97",
   "metadata": {},
   "outputs": [
    {
     "name": "stdout",
     "output_type": "stream",
     "text": [
      "Current directory =  C:\\Users\\prasa\\Downloads\\Python_Practice\n"
     ]
    }
   ],
   "source": [
    "import os\n",
    "# get current working directory\n",
    "current = os.getcwd()\n",
    "print('Current directory = ',current)"
   ]
  },
  {
   "cell_type": "code",
   "execution_count": 30,
   "id": "b58153b4",
   "metadata": {},
   "outputs": [
    {
     "name": "stdout",
     "output_type": "stream",
     "text": [
      "Current path :  .\n",
      "Directories :  ['.ipynb_checkpoints', 'upgrad']\n",
      "Files :  ['1. Datatypes in Python.ipynb', '10. Dictionaries.ipynb', '11. Classes and Objects.ipynb', '12. Inheritance And Polymorphism.ipynb', '13.  Abstract classes and Interfaces.ipynb', '14. Files In Python.ipynb', '2. Operators in Python.ipynb', '3. Input and Output.ipynb', '4. Control Statements.ipynb', '5. Arrays in Python.ipynb', '6. String and Characters.ipynb', '7. Functions.ipynb', '8. Lists .ipynb', '9. Tuples.ipynb', 'cities.bin', 'emp.dat', 'myfile.txt', 'phonebook.dat', 'sample.txt', 'test.zip']\n",
      "\n",
      "Current path :  .\\.ipynb_checkpoints\n",
      "Directories :  []\n",
      "Files :  ['12. Inheritance And Polymorphism-checkpoint.ipynb', '13.  Abstract classes and Interfaces-checkpoint.ipynb', '14. Files In Python-checkpoint.ipynb']\n",
      "\n",
      "Current path :  .\\upgrad\n",
      "Directories :  []\n",
      "Files :  ['Installing+Python.1+(1).pdf', 'List+Comprehensions+in+Python.pdf', 'Practice+Exercise+-+2+(Part+1)+(1)+(1).ipynb', 'Practice+Exercise+1.ipynb', 'Session+1.ipynb', 'Session+2.ipynb', 'Session+3.ipynb', 'Session+4.ipynb']\n",
      "\n"
     ]
    }
   ],
   "source": [
    "import os\n",
    "for dirpath ,dirnames, filenames in os.walk('.'):\n",
    "    print('Current path : ',dirpath)\n",
    "    print('Directories : ',dirnames)\n",
    "    print('Files : ',filenames)\n",
    "    print()"
   ]
  },
  {
   "cell_type": "code",
   "execution_count": 33,
   "id": "4bb2dffb",
   "metadata": {},
   "outputs": [
    {
     "data": {
      "text/plain": [
       "1"
      ]
     },
     "execution_count": 33,
     "metadata": {},
     "output_type": "execute_result"
    }
   ],
   "source": [
    "# os.mkdir to create sub directory \n",
    "# os.makedir create directories recursively\n",
    "# os.chdir to change the directory\n",
    "# os.rmdir to remove a directory\n",
    "# os.removedirs to remove group of directories\n",
    "# os.rename to rename\n",
    "\n",
    "import os \n",
    "# execute dir command of DOS operating system\n",
    "os.system('dir *.py')"
   ]
  },
  {
   "cell_type": "code",
   "execution_count": null,
   "id": "dff436da",
   "metadata": {},
   "outputs": [],
   "source": []
  }
 ],
 "metadata": {
  "kernelspec": {
   "display_name": "Python 3 (ipykernel)",
   "language": "python",
   "name": "python3"
  },
  "language_info": {
   "codemirror_mode": {
    "name": "ipython",
    "version": 3
   },
   "file_extension": ".py",
   "mimetype": "text/x-python",
   "name": "python",
   "nbconvert_exporter": "python",
   "pygments_lexer": "ipython3",
   "version": "3.9.7"
  }
 },
 "nbformat": 4,
 "nbformat_minor": 5
}
