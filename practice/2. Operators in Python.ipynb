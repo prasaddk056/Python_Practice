{
 "cells": [
  {
   "cell_type": "code",
   "execution_count": 1,
   "id": "ea549f4f",
   "metadata": {},
   "outputs": [
    {
     "name": "stdout",
     "output_type": "stream",
     "text": [
      "16\n"
     ]
    }
   ],
   "source": [
    "13+5    #18\n",
    "13-5    #8\n",
    "13*5    #65\n",
    "13/5    #2.6\n",
    "13%5    #3\n",
    "13**5   #371293\n",
    "13//5   #2\n",
    "d = (1+2)*3**2//2+3\n",
    "print(d)"
   ]
  },
  {
   "cell_type": "code",
   "execution_count": 2,
   "id": "47011441",
   "metadata": {},
   "outputs": [
    {
     "name": "stdout",
     "output_type": "stream",
     "text": [
      "1 1\n",
      "1 2\n",
      "1 2\n"
     ]
    }
   ],
   "source": [
    "a=b=1\n",
    "print(a  ,  b)\n",
    "a =1 ;b =2\n",
    "print(a  ,  b)\n",
    "a,b =1, 2\n",
    "print(a  ,  b)"
   ]
  },
  {
   "cell_type": "code",
   "execution_count": 3,
   "id": "36af2ecb",
   "metadata": {},
   "outputs": [
    {
     "name": "stdout",
     "output_type": "stream",
     "text": [
      "-10\n",
      "10\n"
     ]
    }
   ],
   "source": [
    "n = 10\n",
    "print(-n)\n",
    "num = -10\n",
    "num = -num\n",
    "print(num)"
   ]
  },
  {
   "cell_type": "code",
   "execution_count": 4,
   "id": "b8112b42",
   "metadata": {},
   "outputs": [
    {
     "name": "stdout",
     "output_type": "stream",
     "text": [
      "No\n"
     ]
    }
   ],
   "source": [
    "a = 1; b = 2\n",
    "if(a>b):\n",
    "    print(\"Yes\")\n",
    "else:\n",
    "    print(\"No\")"
   ]
  },
  {
   "cell_type": "code",
   "execution_count": 5,
   "id": "906276c3",
   "metadata": {},
   "outputs": [
    {
     "data": {
      "text/plain": [
       "True"
      ]
     },
     "execution_count": 5,
     "metadata": {},
     "output_type": "execute_result"
    }
   ],
   "source": [
    "x = 15\n",
    "10<x<20"
   ]
  },
  {
   "cell_type": "code",
   "execution_count": 6,
   "id": "7eb5b629",
   "metadata": {},
   "outputs": [
    {
     "data": {
      "text/plain": [
       "True"
      ]
     },
     "execution_count": 6,
     "metadata": {},
     "output_type": "execute_result"
    }
   ],
   "source": [
    "4>2>=2>1"
   ]
  },
  {
   "cell_type": "code",
   "execution_count": 7,
   "id": "76162ea9",
   "metadata": {},
   "outputs": [
    {
     "data": {
      "text/plain": [
       "False"
      ]
     },
     "execution_count": 7,
     "metadata": {},
     "output_type": "execute_result"
    }
   ],
   "source": [
    "10<15>20"
   ]
  },
  {
   "cell_type": "code",
   "execution_count": 8,
   "id": "cec067fe",
   "metadata": {},
   "outputs": [
    {
     "name": "stdout",
     "output_type": "stream",
     "text": [
      "200\n",
      "100\n",
      "False\n",
      "Yes\n"
     ]
    }
   ],
   "source": [
    "x = 100\n",
    "y = 200\n",
    "print(x and y)\n",
    "print(x or y)\n",
    "print(not x)\n",
    "\n",
    "x =1;y =2;z =3\n",
    "if(x<y and y<z):\n",
    "    print(\"Yes\")\n",
    "else:\n",
    "    print(\"No\")\n"
   ]
  },
  {
   "cell_type": "code",
   "execution_count": 9,
   "id": "1a598848",
   "metadata": {},
   "outputs": [
    {
     "name": "stdout",
     "output_type": "stream",
     "text": [
      "Yes\n"
     ]
    }
   ],
   "source": [
    "if(x>y or y<z):\n",
    "    print(\"Yes\")\n",
    "else:\n",
    "    print(\"No\")"
   ]
  },
  {
   "cell_type": "code",
   "execution_count": 10,
   "id": "c78613a1",
   "metadata": {},
   "outputs": [
    {
     "name": "stdout",
     "output_type": "stream",
     "text": [
      "True\n",
      "False\n",
      "False\n",
      "True\n",
      "True\n",
      "False\n",
      "False\n",
      "True\n"
     ]
    }
   ],
   "source": [
    "a = True\n",
    "b = False\n",
    "print(a and a)\n",
    "print(a and b)\n",
    "print(b and b)\n",
    "print(a or a)\n",
    "print(a or b)\n",
    "print(b or b)\n",
    "print(not a)\n",
    "print(not b)"
   ]
  },
  {
   "cell_type": "code",
   "execution_count": 11,
   "id": "14648b52",
   "metadata": {},
   "outputs": [
    {
     "name": "stdout",
     "output_type": "stream",
     "text": [
      "~x=  -11\n",
      "x&y=  10\n",
      "x|y=  11\n",
      "x^y=  1\n",
      "x<<2=  40\n",
      "x>>2=  2\n"
     ]
    }
   ],
   "source": [
    "# Bitwise Operator\n",
    "x = 10\n",
    "y = 11\n",
    "print(\"~x= \",~x)          #Compelement\n",
    "print('x&y= ', x&y)       #AND\n",
    "print(\"x|y= \", x|y)       #OR\n",
    "print(\"x^y= \", x^y)       #XOR\n",
    "print(\"x<<2= \", x<<2)     #Left shift\n",
    "print(\"x>>2= \", x>>2)     #Right shift"
   ]
  },
  {
   "cell_type": "code",
   "execution_count": 12,
   "id": "c8913791",
   "metadata": {},
   "outputs": [
    {
     "name": "stdout",
     "output_type": "stream",
     "text": [
      "Rani\n",
      "Yamini\n",
      "Sushmita\n",
      "Veena\n"
     ]
    }
   ],
   "source": [
    "names = [\"Rani\",\"Yamini\",\"Sushmita\",\"Veena\"]\n",
    "for name in names:\n",
    "    print(name)"
   ]
  },
  {
   "cell_type": "code",
   "execution_count": 13,
   "id": "e21fa904",
   "metadata": {},
   "outputs": [
    {
     "name": "stdout",
     "output_type": "stream",
     "text": [
      "Delhi 110001\n",
      "Chennai 600001\n",
      "Kolkata 700001\n",
      "Banglore 560001\n"
     ]
    }
   ],
   "source": [
    "postal = {'Delhi':110001,'Chennai':600001,'Kolkata':700001,'Banglore':560001}\n",
    "for city in postal:\n",
    "    print(city, postal[city])"
   ]
  },
  {
   "cell_type": "code",
   "execution_count": 14,
   "id": "dbeace96",
   "metadata": {},
   "outputs": [
    {
     "name": "stdout",
     "output_type": "stream",
     "text": [
      "2418646608944\n",
      "2418646608944\n"
     ]
    }
   ],
   "source": [
    "a =25\n",
    "b =25\n",
    "print(id(a))\n",
    "print(id(b))"
   ]
  },
  {
   "cell_type": "code",
   "execution_count": 15,
   "id": "e5f89fd9",
   "metadata": {},
   "outputs": [
    {
     "name": "stdout",
     "output_type": "stream",
     "text": [
      "a and b have same identity\n"
     ]
    }
   ],
   "source": [
    "a =25\n",
    "b =25\n",
    "if(a is b):\n",
    "    print(\"a and b have same identity\")\n",
    "else:\n",
    "    print('a and b not have same identity')"
   ]
  },
  {
   "cell_type": "code",
   "execution_count": 16,
   "id": "ee0139a5",
   "metadata": {},
   "outputs": [
    {
     "name": "stdout",
     "output_type": "stream",
     "text": [
      "one and two are not same\n"
     ]
    }
   ],
   "source": [
    "one = [1,2,3,4]\n",
    "two = [1,2,3,4]\n",
    "if(one is two):\n",
    "    print(\"one and two are same\")\n",
    "else:\n",
    "    print(\"one and two are not same\")"
   ]
  },
  {
   "cell_type": "code",
   "execution_count": 17,
   "id": "c8c753a0",
   "metadata": {},
   "outputs": [
    {
     "name": "stdout",
     "output_type": "stream",
     "text": [
      "2418728238976\n",
      "2418728234240\n"
     ]
    }
   ],
   "source": [
    "print(id(one))\n",
    "print(id(two))"
   ]
  },
  {
   "cell_type": "code",
   "execution_count": 18,
   "id": "272b397a",
   "metadata": {},
   "outputs": [
    {
     "name": "stdout",
     "output_type": "stream",
     "text": [
      "one and two are same\n"
     ]
    }
   ],
   "source": [
    "if(one == two):\n",
    "    print(\"one and two are same\")\n",
    "else:\n",
    "    print(\"one and two are not same\")"
   ]
  },
  {
   "cell_type": "code",
   "execution_count": 19,
   "id": "2cf4018e",
   "metadata": {},
   "outputs": [
    {
     "name": "stdout",
     "output_type": "stream",
     "text": [
      "4.0\n"
     ]
    }
   ],
   "source": [
    "import math\n",
    "x = math.sqrt(16)\n",
    "print(x)"
   ]
  },
  {
   "cell_type": "code",
   "execution_count": 20,
   "id": "e98d4aa5",
   "metadata": {},
   "outputs": [
    {
     "name": "stdout",
     "output_type": "stream",
     "text": [
      "4.0\n"
     ]
    }
   ],
   "source": [
    "import math as m\n",
    "x = m.sqrt(16)\n",
    "print(x)"
   ]
  },
  {
   "cell_type": "code",
   "execution_count": 21,
   "id": "0a3834c0",
   "metadata": {},
   "outputs": [
    {
     "name": "stdout",
     "output_type": "stream",
     "text": [
      "4.0\n",
      "120\n"
     ]
    }
   ],
   "source": [
    "from math import factorial, sqrt\n",
    "x = sqrt(16)\n",
    "y = factorial(5)\n",
    "print(x)\n",
    "print(y)"
   ]
  },
  {
   "cell_type": "code",
   "execution_count": 22,
   "id": "2a47b3bd",
   "metadata": {},
   "outputs": [
    {
     "name": "stdout",
     "output_type": "stream",
     "text": [
      "Area of circle=  754.7676350249478\n"
     ]
    }
   ],
   "source": [
    "import math\n",
    "r = 15.5\n",
    "area = math.pi*r**2\n",
    "print(\"Area of circle= \",area)"
   ]
  },
  {
   "cell_type": "code",
   "execution_count": 23,
   "id": "80714208",
   "metadata": {},
   "outputs": [
    {
     "name": "stdout",
     "output_type": "stream",
     "text": [
      "5\n",
      "4\n",
      "179.99807179133938\n",
      "3.141592653589793\n"
     ]
    }
   ],
   "source": [
    "from math import *\n",
    "print(ceil(4.5))\n",
    "print(floor(4.5))\n",
    "print(degrees(3.141559))\n",
    "print(radians(180))"
   ]
  },
  {
   "cell_type": "code",
   "execution_count": 24,
   "id": "793fe9ce",
   "metadata": {},
   "outputs": [
    {
     "name": "stdout",
     "output_type": "stream",
     "text": [
      "0.479425538604203\n",
      "0.8775825618903728\n",
      "0.5463024898437905\n"
     ]
    }
   ],
   "source": [
    "print(sin(0.5))\n",
    "print(cos(0.5))\n",
    "print(tan(0.5))"
   ]
  },
  {
   "cell_type": "code",
   "execution_count": 25,
   "id": "5fea23f7",
   "metadata": {},
   "outputs": [
    {
     "name": "stdout",
     "output_type": "stream",
     "text": [
      "1.6487212707001282\n",
      "4.56\n",
      "24\n"
     ]
    }
   ],
   "source": [
    "print(exp(0.5))\n",
    "print(fabs(-4.56))\n",
    "print(factorial(4))"
   ]
  },
  {
   "cell_type": "code",
   "execution_count": 26,
   "id": "0ea55b00",
   "metadata": {},
   "outputs": [
    {
     "name": "stdout",
     "output_type": "stream",
     "text": [
      "2.5\n",
      "0.6000000000000001\n",
      "(0.56, 2.0)\n"
     ]
    }
   ],
   "source": [
    "print(fmod(14.5,3))\n",
    "print(fsum([1.5,2.4,-3.3]))\n",
    "print(modf(2.56))"
   ]
  },
  {
   "cell_type": "code",
   "execution_count": 27,
   "id": "e85d05bc",
   "metadata": {},
   "outputs": [
    {
     "name": "stdout",
     "output_type": "stream",
     "text": [
      "0.7188752041406328\n",
      "2.4594316186372973\n"
     ]
    }
   ],
   "source": [
    "print(log10(5.2345))\n",
    "print(log(5.5,2))"
   ]
  },
  {
   "cell_type": "code",
   "execution_count": 28,
   "id": "632ff314",
   "metadata": {},
   "outputs": [
    {
     "name": "stdout",
     "output_type": "stream",
     "text": [
      "7.0\n",
      "125.0\n",
      "5\n",
      "15\n"
     ]
    }
   ],
   "source": [
    "print(sqrt(49))\n",
    "print(pow(5,3))\n",
    "print(gcd(25,30))\n",
    "print(trunc(15.5676))"
   ]
  },
  {
   "cell_type": "code",
   "execution_count": 29,
   "id": "174d93d9",
   "metadata": {},
   "outputs": [
    {
     "name": "stdout",
     "output_type": "stream",
     "text": [
      "3.141592653589793\n",
      "2.718281828459045\n"
     ]
    }
   ],
   "source": [
    "print(pi)\n",
    "print(e)"
   ]
  },
  {
   "cell_type": "code",
   "execution_count": 30,
   "id": "01bf1403",
   "metadata": {},
   "outputs": [
    {
     "name": "stdout",
     "output_type": "stream",
     "text": [
      "True\n",
      "True\n"
     ]
    }
   ],
   "source": [
    "num = float('Inf')\n",
    "print(isinf(num))\n",
    "num = float('NaN')\n",
    "print(isnan(num))"
   ]
  },
  {
   "cell_type": "code",
   "execution_count": null,
   "id": "e0df0340",
   "metadata": {},
   "outputs": [],
   "source": []
  }
 ],
 "metadata": {
  "kernelspec": {
   "display_name": "Python 3 (ipykernel)",
   "language": "python",
   "name": "python3"
  },
  "language_info": {
   "codemirror_mode": {
    "name": "ipython",
    "version": 3
   },
   "file_extension": ".py",
   "mimetype": "text/x-python",
   "name": "python",
   "nbconvert_exporter": "python",
   "pygments_lexer": "ipython3",
   "version": "3.9.7"
  }
 },
 "nbformat": 4,
 "nbformat_minor": 5
}
