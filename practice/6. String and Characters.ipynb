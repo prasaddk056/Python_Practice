{
 "cells": [
  {
   "cell_type": "code",
   "execution_count": 1,
   "id": "54d77454",
   "metadata": {},
   "outputs": [
    {
     "name": "stdout",
     "output_type": "stream",
     "text": [
      "Welcome to \"Core Python\" learning\n",
      "Welcome to 'Core Python' learning\n",
      "Welcome to\tCore Python\n",
      "learning\n"
     ]
    }
   ],
   "source": [
    "s1 = 'Welcome to \"Core Python\" learning'\n",
    "s2 = \"Welcome to 'Core Python' learning\"\n",
    "s3 = \"Welcome to\\tCore Python\\nlearning\"\n",
    "print(s1)\n",
    "print(s2)\n",
    "print(s3)"
   ]
  },
  {
   "cell_type": "code",
   "execution_count": 2,
   "id": "94c4a529",
   "metadata": {},
   "outputs": [
    {
     "name": "stdout",
     "output_type": "stream",
     "text": [
      "Welcome to\\tCore Python\\nlearning\n"
     ]
    }
   ],
   "source": [
    "# to nullify escape characters use raw string by adding r before string\n",
    "s = r\"Welcome to\\tCore Python\\nlearning\"\n",
    "print(s)"
   ]
  },
  {
   "cell_type": "code",
   "execution_count": 3,
   "id": "c18db53b",
   "metadata": {},
   "outputs": [
    {
     "name": "stdout",
     "output_type": "stream",
     "text": [
      "11\n"
     ]
    }
   ],
   "source": [
    "str = 'Core Python'\n",
    "n = len(str)\n",
    "print(n)"
   ]
  },
  {
   "cell_type": "code",
   "execution_count": 4,
   "id": "db7749a8",
   "metadata": {},
   "outputs": [
    {
     "name": "stdout",
     "output_type": "stream",
     "text": [
      "C o r e   P y t h o n \n",
      "n o h t y P   e r o C \n",
      "n o h t y P   e r o C "
     ]
    }
   ],
   "source": [
    "# indexing on string\n",
    "str = 'Core Python'\n",
    "# access each character using while loop\n",
    "n = len(str)  # n = no. of chars in str\n",
    "i = 0        # i = 0,1,2,3,...,n-1\n",
    "while i<n:\n",
    "    print(str[i],end=\" \")\n",
    "    i +=1\n",
    "print()   # put the cursor into next line\n",
    "\n",
    "# access in reverse order\n",
    "i = -1   # i = -1,-2,-3,...,-n\n",
    "while i >= -n:\n",
    "    print(str[i],end=' ')\n",
    "    i -= 1\n",
    "print()  # put cursor to next line\n",
    "\n",
    "# access in reverse order using negative index\n",
    "i =1         # i = 1,2,3,...,n\n",
    "n = len(str)  # n = no. of chars on str\n",
    "while i <=n:\n",
    "    print(str[-i],end=' ')\n",
    "    i +=1"
   ]
  },
  {
   "cell_type": "code",
   "execution_count": 5,
   "id": "79948918",
   "metadata": {},
   "outputs": [
    {
     "name": "stdout",
     "output_type": "stream",
     "text": [
      "C o r e   P y t h o n \n",
      "n o h t y P   e r o C "
     ]
    }
   ],
   "source": [
    "# accesing elements of a string using for loop\n",
    "str = 'Core Python'\n",
    "\n",
    "# access each letter using for loop\n",
    "for i in str:\n",
    "    print(i,end=' ')\n",
    "print()  # put cursor into next line\n",
    "\n",
    "# access in reverse order\n",
    "for i in str[::-1]:\n",
    "    print(i,end=' ')"
   ]
  },
  {
   "cell_type": "code",
   "execution_count": 6,
   "id": "97c6206b",
   "metadata": {},
   "outputs": [
    {
     "name": "stdout",
     "output_type": "stream",
     "text": [
      "Core Pyth\n",
      "Cr yh\n",
      "Core Python\n",
      "re\n",
      "Cr yhn\n",
      "re Python\n",
      "Core\n",
      "tho\n",
      "Python\n",
      "noh\n",
      "nohtyP eroC\n"
     ]
    }
   ],
   "source": [
    "# slicing string\n",
    "str = 'Core Python'\n",
    "print(str[0:9:1])  # access string from 0th to 8th element in steps of 1\n",
    "print(str[0:9:2])  # access string from 0th to 8th element in steps of 2\n",
    "print(str[::])     # access string from 0th to last characters\n",
    "print(str[2:4:1])  # access from str[2] to str[3] in steps of 1\n",
    "print(str[::2])    # access entire string in steps of 2\n",
    "print(str[2::])    # access string from str[2] to ending\n",
    "print(str[:4:])    # access string from str[0] to str[3] in steps of 1\n",
    "print(str[-4:-1])  # access from str[-4] to str[-2] from left to right in str\n",
    "print(str[-6::])   # access from str[-6] till end of the end of string\n",
    "print(str[-1:-4:-1]) # retrieve from str[-1] to str[-3] from right to left\n",
    "print(str[-1::-1])   # retrieve from str[-1] till first element from right to left # reverse"
   ]
  },
  {
   "cell_type": "code",
   "execution_count": 7,
   "id": "bae32c4e",
   "metadata": {},
   "outputs": [
    {
     "name": "stdout",
     "output_type": "stream",
     "text": [
      "Core PythonCore Python\n"
     ]
    }
   ],
   "source": [
    "# repeating string\n",
    "str = \"Core Python\"\n",
    "print(str*2)"
   ]
  },
  {
   "cell_type": "code",
   "execution_count": 8,
   "id": "9f7404df",
   "metadata": {},
   "outputs": [
    {
     "name": "stdout",
     "output_type": "stream",
     "text": [
      "PyPy\n"
     ]
    }
   ],
   "source": [
    "s = str[5:7]*2  # repeat 5th 6th characters for 2 times\n",
    "print(s)"
   ]
  },
  {
   "cell_type": "code",
   "execution_count": 9,
   "id": "6dab9fe0",
   "metadata": {},
   "outputs": [
    {
     "name": "stdout",
     "output_type": "stream",
     "text": [
      "CorePython\n"
     ]
    }
   ],
   "source": [
    "# concatenation of string\n",
    "s1 ='Core'\n",
    "s2 ='Python'\n",
    "s3 = s1+s2  # concatenate s1 and s2\n",
    "print(s3)   # display the total string s3"
   ]
  },
  {
   "cell_type": "code",
   "execution_count": 10,
   "id": "65a7fbe8",
   "metadata": {},
   "outputs": [
    {
     "name": "stdout",
     "output_type": "stream",
     "text": [
      "Enter main string : This is Core Python\n",
      "Enter sub string : Core\n",
      "Core is found in main string\n"
     ]
    }
   ],
   "source": [
    "# checking membership\n",
    "# to know whether sub string is in main string or not\n",
    "str = input('Enter main string : ')\n",
    "sub = input('Enter sub string : ')\n",
    "if sub in str :\n",
    "    print(sub+' is found in main string')\n",
    "else:\n",
    "    print(sub+' is not found in main string')"
   ]
  },
  {
   "cell_type": "code",
   "execution_count": 11,
   "id": "ae7f64a1",
   "metadata": {},
   "outputs": [
    {
     "name": "stdout",
     "output_type": "stream",
     "text": [
      "Not same\n",
      "s1 less than s2\n"
     ]
    }
   ],
   "source": [
    "# comparing strings\n",
    "s1 ='Box'\n",
    "s2 ='Boy'\n",
    "if (s1==s2):\n",
    "    print('Both are same')\n",
    "else:\n",
    "    print('Not same')\n",
    "if s1<s2:\n",
    "    print('s1 less than s2')\n",
    "else:\n",
    "    print('s1 greater than or equal to s2')"
   ]
  },
  {
   "cell_type": "code",
   "execution_count": 12,
   "id": "ac4dc354",
   "metadata": {},
   "outputs": [
    {
     "name": "stdout",
     "output_type": "stream",
     "text": [
      "Name not found\n"
     ]
    }
   ],
   "source": [
    "# removing spaces from string\n",
    "if 'Mukesh  ' =='Mukesh':\n",
    "    print('Welcome')\n",
    "else:\n",
    "    print('Name not found')"
   ]
  },
  {
   "cell_type": "code",
   "execution_count": 13,
   "id": "519542c2",
   "metadata": {},
   "outputs": [
    {
     "name": "stdout",
     "output_type": "stream",
     "text": [
      "  Mukesh Deshmukh   \n",
      "  Mukesh Deshmukh\n",
      "Mukesh Deshmukh   \n",
      "Mukesh Deshmukh\n"
     ]
    }
   ],
   "source": [
    "name = '  Mukesh Deshmukh   '   # observe spaces before and after the name\n",
    "print(name)\n",
    "print(name.rstrip())   # remove spaces at right\n",
    "print(name.lstrip())   # remove spaces at left\n",
    "print(name.strip())    # remove spaces from both sides"
   ]
  },
  {
   "cell_type": "code",
   "execution_count": 14,
   "id": "94991a69",
   "metadata": {},
   "outputs": [
    {
     "name": "stdout",
     "output_type": "stream",
     "text": [
      "Enter main string : This is book\n",
      "Enter sub string : is\n",
      "Sub string is found at position :  3\n"
     ]
    }
   ],
   "source": [
    "# finding sub string\n",
    "# to find first occurence of sub string in a main string\n",
    "# using find() method\n",
    "str = input('Enter main string : ')\n",
    "sub = input('Enter sub string : ')\n",
    "\n",
    "# find position of sub in str\n",
    "# search from 0th to last characters in str\n",
    "n = str.find(sub,0,len(str))\n",
    "\n",
    "# find returns -1 if string is not found\n",
    "if n == -1:\n",
    "    print('Sub string is not found')\n",
    "else:\n",
    "    print('Sub string is found at position : ',n+1)"
   ]
  },
  {
   "cell_type": "code",
   "execution_count": 15,
   "id": "67da8d01",
   "metadata": {},
   "outputs": [
    {
     "name": "stdout",
     "output_type": "stream",
     "text": [
      "Enter main string : This is book\n",
      "Enter sub string : is\n",
      "Sub string found at position :  3\n"
     ]
    }
   ],
   "source": [
    "# to find first occurence of sub string in main string\n",
    "# using index method\n",
    "str = input('Enter main string : ')\n",
    "sub = input('Enter sub string : ')\n",
    "\n",
    "# find position of sub string\n",
    "# search from 0th to last characters in str\n",
    "try:\n",
    "    n = str.index(sub,0,len(str))\n",
    "except ValueError:\n",
    "    print('Sub string not found')\n",
    "else:\n",
    "    print('Sub string found at position : ',n+1)"
   ]
  },
  {
   "cell_type": "code",
   "execution_count": 16,
   "id": "94dd7399",
   "metadata": {},
   "outputs": [
    {
     "name": "stdout",
     "output_type": "stream",
     "text": [
      "Enter main string : This is book\n",
      "Enter sub string : is\n",
      "Found at position :  3\n",
      "Found at position :  6\n"
     ]
    }
   ],
   "source": [
    "# to find all occurence of sub string in main string\n",
    "str = input('Enter main string : ')\n",
    "sub = input('Enter sub string : ')\n",
    "\n",
    "i = 0\n",
    "flag = False  # becomes True if sub string is found\n",
    "n = len(str)\n",
    "while i<n:    # repeat from 0th to nth characters\n",
    "    pos = str.find(sub ,i,n)\n",
    "    if pos != -1:    # if found display its position\n",
    "        print('Found at position : ',pos+1)\n",
    "        i = pos+1   # search from pos+1 position onwards\n",
    "        flag = True\n",
    "    else:\n",
    "        i = i+1  # search from next character onwards\n",
    "if flag == False:\n",
    "    print('Sub string is not found')"
   ]
  },
  {
   "cell_type": "code",
   "execution_count": 17,
   "id": "c516037f",
   "metadata": {},
   "outputs": [
    {
     "name": "stdout",
     "output_type": "stream",
     "text": [
      "Enter main string : This is book\n",
      "Enter sub string : is\n",
      "Found at position :  3\n",
      "Found at position :  6\n"
     ]
    }
   ],
   "source": [
    "# to find all occurences of sub string in main string -v2.0\n",
    "str = input('Enter main string : ')\n",
    "sub = input('Enter sub string : ')\n",
    "\n",
    "flag = False\n",
    "pos =-1\n",
    "n = len(str)\n",
    "while True:   # repeat forever\n",
    "    pos = str.find(sub,pos+1,n)\n",
    "    if pos ==-1:\n",
    "        break\n",
    "    \n",
    "    print('Found at position : ',pos+1)\n",
    "    flag = True\n",
    "\n",
    "if flag == False:\n",
    "    print('Not found')"
   ]
  },
  {
   "cell_type": "code",
   "execution_count": 18,
   "id": "f6af7a33",
   "metadata": {},
   "outputs": [
    {
     "name": "stdout",
     "output_type": "stream",
     "text": [
      "1\n",
      "1\n",
      "2\n"
     ]
    }
   ],
   "source": [
    "# counting substring in a string\n",
    "str = 'New Delhi'\n",
    "n =str.count('Delhi')\n",
    "print(n)\n",
    "n = str.count('e',0,3)\n",
    "print(n)\n",
    "n = str.count('e',0,len(str))\n",
    "print(n)"
   ]
  },
  {
   "cell_type": "code",
   "execution_count": 19,
   "id": "ecfced2e",
   "metadata": {},
   "outputs": [
    {
     "name": "stdout",
     "output_type": "stream",
     "text": [
      "2254764307696\n",
      "2254764307184\n",
      "\n",
      "2254764307696\n",
      "2254764307696\n"
     ]
    }
   ],
   "source": [
    "# strings are immutable\n",
    "s1 = 'One'\n",
    "s2 = 'Two'\n",
    "print(id(s1))\n",
    "print(id(s2))\n",
    "s2 = s1\n",
    "print()\n",
    "print(id(s1))\n",
    "print(id(s2))"
   ]
  },
  {
   "cell_type": "code",
   "execution_count": 20,
   "id": "2f6ba329",
   "metadata": {},
   "outputs": [
    {
     "name": "stdout",
     "output_type": "stream",
     "text": [
      "That is a beautiful girl\n",
      "That is a beautiful flower\n"
     ]
    }
   ],
   "source": [
    "# Replacing a string with another string\n",
    "str = 'That is a beautiful girl'\n",
    "s1 = 'girl'\n",
    "s2 = 'flower'\n",
    "str1 = str.replace(s1,s2)\n",
    "print(str)\n",
    "print(str1)"
   ]
  },
  {
   "cell_type": "code",
   "execution_count": 21,
   "id": "5e7b320d",
   "metadata": {},
   "outputs": [
    {
     "name": "stdout",
     "output_type": "stream",
     "text": [
      "['one', 'two', 'three', 'four']\n"
     ]
    }
   ],
   "source": [
    "# splitting and joining strings\n",
    "str = 'one,two,three,four'\n",
    "str1 =str.split(',')\n",
    "print(str1)"
   ]
  },
  {
   "cell_type": "code",
   "execution_count": 22,
   "id": "da4c30c1",
   "metadata": {},
   "outputs": [
    {
     "name": "stdout",
     "output_type": "stream",
     "text": [
      "Enter numbers seperated by space : 10 20 30 50 40 60\n",
      "10\n",
      "20\n",
      "30\n",
      "50\n",
      "40\n",
      "60\n"
     ]
    }
   ],
   "source": [
    "# to accept a group of numbers and display them\n",
    "str = input('Enter numbers seperated by space : ')\n",
    "\n",
    "# cut the string where a space is found\n",
    "lst = str.split(' ')\n",
    "\n",
    "# display the numbers from the list\n",
    "for i in lst:\n",
    "    print(i)"
   ]
  },
  {
   "cell_type": "code",
   "execution_count": 24,
   "id": "5ddb18df",
   "metadata": {},
   "outputs": [
    {
     "name": "stdout",
     "output_type": "stream",
     "text": [
      "('one', 'two', 'three')\n",
      "one-two-three\n"
     ]
    }
   ],
   "source": [
    "str = ('one','two','three')\n",
    "str1 = '-'.join(str)\n",
    "print(str)\n",
    "print(str1)"
   ]
  },
  {
   "cell_type": "code",
   "execution_count": 25,
   "id": "ed7840f7",
   "metadata": {},
   "outputs": [
    {
     "name": "stdout",
     "output_type": "stream",
     "text": [
      "apple:guava:grapes:mango\n"
     ]
    }
   ],
   "source": [
    "str =['apple','guava','grapes','mango']\n",
    "sep = ':'\n",
    "str1 = sep.join(str)\n",
    "print(str1)"
   ]
  },
  {
   "cell_type": "code",
   "execution_count": 27,
   "id": "be0e5fc4",
   "metadata": {},
   "outputs": [
    {
     "name": "stdout",
     "output_type": "stream",
     "text": [
      "PYTHON IS THE FUTURE\n",
      "python is the future\n",
      "pYTHON IS THE FUTURE\n",
      "Python Is The Future\n"
     ]
    }
   ],
   "source": [
    "# changing case of a string\n",
    "str = 'Python is the future'\n",
    "print(str.upper())\n",
    "print(str.lower())\n",
    "print(str.swapcase())\n",
    "print(str.title())"
   ]
  },
  {
   "cell_type": "code",
   "execution_count": 28,
   "id": "186b6c93",
   "metadata": {},
   "outputs": [
    {
     "name": "stdout",
     "output_type": "stream",
     "text": [
      "True\n",
      "False\n",
      "True\n",
      "False\n"
     ]
    }
   ],
   "source": [
    "# checking starting and ending of a string\n",
    "str = 'This is Python'\n",
    "print(str.startswith('This'))\n",
    "print(str.startswith('this'))\n",
    "print(str.endswith('Python'))\n",
    "print(str.endswith('python'))"
   ]
  },
  {
   "cell_type": "code",
   "execution_count": 30,
   "id": "93bade42",
   "metadata": {},
   "outputs": [
    {
     "name": "stdout",
     "output_type": "stream",
     "text": [
      "True\n",
      "False\n"
     ]
    }
   ],
   "source": [
    "# string testing method\n",
    "str = 'Delhi999'\n",
    "print(str.isalnum())\n",
    "print(str.isalpha())"
   ]
  },
  {
   "cell_type": "code",
   "execution_count": 31,
   "id": "b4505366",
   "metadata": {},
   "outputs": [
    {
     "name": "stdout",
     "output_type": "stream",
     "text": [
      "10,Shankar,19500.75\n",
      "10-Shankar-19500.75\n",
      "Id = 10\n",
      "Name = Shankar\n",
      "Salary = 19500.75\n"
     ]
    }
   ],
   "source": [
    "# formatting the strings\n",
    "id = 10\n",
    "name = 'Shankar'\n",
    "sal = 19500.75\n",
    "str = '{},{},{}'.format(id,name,sal)\n",
    "print(str)\n",
    "str = '{}-{}-{}'.format(id,name,sal)\n",
    "print(str)\n",
    "str = 'Id = {}\\nName = {}\\nSalary = {}'.format(id,name,sal)\n",
    "print(str)"
   ]
  },
  {
   "cell_type": "code",
   "execution_count": 33,
   "id": "7dd246a1",
   "metadata": {},
   "outputs": [
    {
     "name": "stdout",
     "output_type": "stream",
     "text": [
      "Id = 10\tName = Shankar\tSalary = 19500.75\n",
      "Id = 19500.75\tName = 10\tSalary = Shankar\n",
      "Id = 10 ,Name = Shankar, Salary = 19500.75\n"
     ]
    }
   ],
   "source": [
    "str = 'Id = {0}\\tName = {1}\\tSalary = {2}'.format(id,name,sal)\n",
    "print(str)\n",
    "str = 'Id = {2}\\tName = {0}\\tSalary = {1}'.format(id,name,sal)\n",
    "print(str)\n",
    "str = 'Id = {one} ,Name = {two}, Salary = {three}'.format(one=id,two=name,three=sal)\n",
    "print(str)"
   ]
  },
  {
   "cell_type": "code",
   "execution_count": 34,
   "id": "965eda3c",
   "metadata": {},
   "outputs": [
    {
     "name": "stdout",
     "output_type": "stream",
     "text": [
      "Id = 10, Name = Shankar, Salary =   19500.75\n"
     ]
    }
   ],
   "source": [
    "str = 'Id = {:d}, Name = {:s}, Salary = {:10.2f}'.format(id ,name,sal)\n",
    "print(str)"
   ]
  },
  {
   "cell_type": "code",
   "execution_count": 35,
   "id": "d028cc84",
   "metadata": {},
   "outputs": [
    {
     "name": "stdout",
     "output_type": "stream",
     "text": [
      "     5000      \n",
      "*****5000******\n",
      "***********5000\n"
     ]
    }
   ],
   "source": [
    "num = 5000\n",
    "print('{:^15d}'.format(num))\n",
    "print('{:*^15d}'.format(num))\n",
    "print('{:*>15d}'.format(num))"
   ]
  },
  {
   "cell_type": "code",
   "execution_count": 39,
   "id": "76ae828e",
   "metadata": {},
   "outputs": [
    {
     "name": "stdout",
     "output_type": "stream",
     "text": [
      "Hexadecimal = ............3E8\n",
      "Binary = 1111101000.....\n"
     ]
    }
   ],
   "source": [
    "n1 = 1000\n",
    "print('Hexadecimal = {:.>15X}\\nBinary = {:.<15b}'.format(n1,n1))"
   ]
  },
  {
   "cell_type": "code",
   "execution_count": 40,
   "id": "2b8c9c28",
   "metadata": {},
   "outputs": [
    {
     "name": "stdout",
     "output_type": "stream",
     "text": [
      "Hexadecimal = ..........0X3E8\n",
      "Binary = 0b1111101000...\n"
     ]
    }
   ],
   "source": [
    "n1 = 1000\n",
    "print('Hexadecimal = {:.>#15X}\\nBinary = {:.<#15b}'.format(n1,n1))"
   ]
  },
  {
   "cell_type": "code",
   "execution_count": 42,
   "id": "d740cade",
   "metadata": {},
   "outputs": [
    {
     "name": "stdout",
     "output_type": "stream",
     "text": [
      "H\n",
      "e\n",
      "H\n",
      "e\n",
      "True\n",
      "True\n"
     ]
    }
   ],
   "source": [
    "# working with characters\n",
    "str ='Hello'\n",
    "ch = str[0]\n",
    "print(ch)\n",
    "ch1 =str[1]\n",
    "print(ch1)\n",
    "ch =str[0:1]\n",
    "print(ch)\n",
    "ch1 = str[1:2]\n",
    "print(ch1)\n",
    "print(ch.isalpha())\n",
    "print(ch1.isalpha())"
   ]
  },
  {
   "cell_type": "code",
   "execution_count": 44,
   "id": "4870551f",
   "metadata": {},
   "outputs": [
    {
     "name": "stdout",
     "output_type": "stream",
     "text": [
      "Enter a character : a\n",
      "It is alphabet or numeric character\n",
      "It is an alphabet\n",
      "It is lowercase letter\n"
     ]
    }
   ],
   "source": [
    "# to know nature of character\n",
    "str = input('Enter a character : ')\n",
    "ch = str[0]         # take only the 0th character into ch\n",
    "# test ch\n",
    "if ch.isalnum():\n",
    "    print('It is alphabet or numeric character')\n",
    "    if ch.isalpha():\n",
    "        print('It is an alphabet')\n",
    "        if ch.isupper():\n",
    "            print('It is capital letter')\n",
    "        else:\n",
    "            print('It is lowercase letter')\n",
    "    else:\n",
    "        print('It is a numeric digit')\n",
    "elif ch.isspace():\n",
    "    print('It is a space')\n",
    "else:\n",
    "    print('It may be a special character')"
   ]
  },
  {
   "cell_type": "code",
   "execution_count": 45,
   "id": "3fff2812",
   "metadata": {},
   "outputs": [
    {
     "name": "stdout",
     "output_type": "stream",
     "text": [
      "Enter a character : %&\n",
      "It may be a speecial character\n"
     ]
    }
   ],
   "source": [
    "str = input('Enter a character : ')\n",
    "ch = str[0]         # take only the 0th character into ch\n",
    "# test ch\n",
    "if ch.isalnum():\n",
    "    print('It is alphabet or numeric character')\n",
    "    if ch.isalpha():\n",
    "        print('It is an alphabet')\n",
    "        if ch.isupper():\n",
    "            print('It is capital letter')\n",
    "        else:\n",
    "            print('It is lowercase letter')\n",
    "    else:\n",
    "        print('It is a numeric digit')\n",
    "elif ch.isspace():\n",
    "    print('It is a space')\n",
    "else:\n",
    "    print('It may be a special character')"
   ]
  },
  {
   "cell_type": "code",
   "execution_count": 46,
   "id": "29cbd469",
   "metadata": {},
   "outputs": [
    {
     "name": "stdout",
     "output_type": "stream",
     "text": [
      "How many strings? 5\n",
      "Enter string : Hyderabad\n",
      "Enter string : Delhi\n",
      "Enter string : Ahmedabad\n",
      "Enter string : Kolkata\n",
      "Enter string : Chennai\n",
      "Sorted list : \n",
      "Ahmedabad\n",
      "Chennai\n",
      "Delhi\n",
      "Hyderabad\n",
      "Kolkata\n"
     ]
    }
   ],
   "source": [
    "# sorting strings using sort method & sorted() function\n",
    "# sorting a group of string\n",
    "# take an empty array\n",
    "str = []\n",
    "\n",
    "# accept how many strings\n",
    "n = int(input('How many strings? '))\n",
    "\n",
    "# append strings to str array\n",
    "for i in range(n):\n",
    "    print('Enter string : ',end='')\n",
    "    str.append(input())\n",
    "\n",
    "# sort array\n",
    "# str.sort\n",
    "str1 = sorted(str)\n",
    "\n",
    "# display the sorted array\n",
    "print('Sorted list : ')\n",
    "for i in str1:\n",
    "    print(i)"
   ]
  },
  {
   "cell_type": "code",
   "execution_count": 47,
   "id": "ef95b2c7",
   "metadata": {},
   "outputs": [
    {
     "name": "stdout",
     "output_type": "stream",
     "text": [
      "How many strings ?5\n",
      "Enter string : Ramesh\n",
      "Enter string : Kumar\n",
      "Enter string : Sriya\n",
      "Enter string : Vinod\n",
      "Enter string : Ramesh\n",
      "Enter string to search : Ramesh\n",
      "Found at :  1\n",
      "Found at :  5\n"
     ]
    }
   ],
   "source": [
    "# searching in the string\n",
    "# searching for a string in a group of strings\n",
    "# take an empty array\n",
    "str = []\n",
    "\n",
    "# accept how many strings\n",
    "n = int(input('How many strings ?'))\n",
    "\n",
    "# append strings to str array\n",
    "for i in range(n):\n",
    "    print('Enter string : ',end='')\n",
    "    str.append(input())\n",
    "    \n",
    "# ask for string to search\n",
    "s = input('Enter string to search : ')\n",
    "\n",
    "# linear searrch or sequentail searach\n",
    "flag = False\n",
    "\n",
    "for i in range(len(str)):\n",
    "    if s == str[i]:\n",
    "        print('Found at : ',i+1)\n",
    "        flag = True\n",
    "\n",
    "if flag == False:\n",
    "    print('Not Found')"
   ]
  },
  {
   "cell_type": "code",
   "execution_count": 49,
   "id": "5b9ecfc6",
   "metadata": {},
   "outputs": [
    {
     "name": "stdout",
     "output_type": "stream",
     "text": [
      "Enter a string : This is a book\n",
      "This is a book\n",
      "No. of characters :  14\n"
     ]
    }
   ],
   "source": [
    "# finding no. of characters and words\n",
    "# to find no. of characters in a string without using len() function\n",
    "str = input('Enter a string : ')\n",
    "\n",
    "i = 0\n",
    "for s in str:\n",
    "    print(str[i],end='')\n",
    "    i +=1\n",
    "print('\\nNo. of characters : ',i)"
   ]
  },
  {
   "cell_type": "code",
   "execution_count": 50,
   "id": "e2df5b39",
   "metadata": {},
   "outputs": [
    {
     "name": "stdout",
     "output_type": "stream",
     "text": [
      "Enter a string : R Nageswara  Rao\n",
      "No. of Words :  3\n"
     ]
    }
   ],
   "source": [
    "# to find no. of characters in a string\n",
    "str = input('Enter a string : ')\n",
    "i = c = 0\n",
    "flag =True   # this becomes False when no space is found\n",
    "for s in str :\n",
    "    # count only when there is no space previously\n",
    "    if flag ==False and str[i] ==' ':\n",
    "        c +=1\n",
    "    # if a space is found take flag as True\n",
    "    if str[i]==' ':\n",
    "        flag=True\n",
    "    else:\n",
    "        flag=False\n",
    "    i+=1\n",
    "\n",
    "print('No. of Words : ',c+1)"
   ]
  },
  {
   "cell_type": "code",
   "execution_count": 51,
   "id": "565818e8",
   "metadata": {},
   "outputs": [
    {
     "name": "stdout",
     "output_type": "stream",
     "text": [
      "Enter a string : It is summer\n",
      "Enter a sub string : hot\n",
      "Enter position no : 7\n",
      "It is hotsummer\n"
     ]
    }
   ],
   "source": [
    "# Inserting Sub String into a String\n",
    "str = input('Enter a string : ')\n",
    "sub = input('Enter a sub string : ')\n",
    "n = int(input('Enter position no : '))\n",
    "\n",
    "# decrease n by 1 to insert in correst position\n",
    "n -=1\n",
    "\n",
    "# find the number of characters in str,sub\n",
    "l1 = len(str)\n",
    "l2 = len(sub)\n",
    "\n",
    "# take another string as a list\n",
    "str1 =[]\n",
    "\n",
    "# append 0 to n-1 characters from str to str1\n",
    "for i in range(n):\n",
    "    str1.append(str[i])\n",
    "    \n",
    "# append sub string to str1\n",
    "for i in range(l2):\n",
    "    str1.append(sub[i])\n",
    "# append the remaining characters from str to str1\n",
    "for i in range(n,l1):\n",
    "    str1.append(str[i])\n",
    "    \n",
    "# convert the individual characters of list into a string using join() method woth empty string as seperator\n",
    "str1 = ''.join(str1)\n",
    "\n",
    "# display the total string\n",
    "print(str1)"
   ]
  },
  {
   "cell_type": "code",
   "execution_count": null,
   "id": "537af89e",
   "metadata": {},
   "outputs": [],
   "source": []
  }
 ],
 "metadata": {
  "kernelspec": {
   "display_name": "Python 3 (ipykernel)",
   "language": "python",
   "name": "python3"
  },
  "language_info": {
   "codemirror_mode": {
    "name": "ipython",
    "version": 3
   },
   "file_extension": ".py",
   "mimetype": "text/x-python",
   "name": "python",
   "nbconvert_exporter": "python",
   "pygments_lexer": "ipython3",
   "version": "3.9.7"
  }
 },
 "nbformat": 4,
 "nbformat_minor": 5
}
