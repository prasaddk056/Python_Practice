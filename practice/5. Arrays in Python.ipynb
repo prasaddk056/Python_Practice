{
 "cells": [
  {
   "cell_type": "code",
   "execution_count": 1,
   "id": "a5f77dea",
   "metadata": {},
   "outputs": [
    {
     "name": "stdout",
     "output_type": "stream",
     "text": [
      "The array elements are : \n",
      "5\n",
      "6\n",
      "-7\n",
      "8\n"
     ]
    }
   ],
   "source": [
    "# creating array\n",
    "import array\n",
    "a = array.array('i',[5,6,-7,8])\n",
    "print('The array elements are : ')\n",
    "for element in a:\n",
    "    print(element)"
   ]
  },
  {
   "cell_type": "code",
   "execution_count": 2,
   "id": "b1779f47",
   "metadata": {},
   "outputs": [
    {
     "name": "stdout",
     "output_type": "stream",
     "text": [
      "The array elements are:\n",
      "5\n",
      "6\n",
      "7\n",
      "8\n"
     ]
    }
   ],
   "source": [
    "# creating an array - v2.0\n",
    "from array import*\n",
    "a = array('i',[5,6,7,8])\n",
    "print('The array elements are:')\n",
    "for element in a:\n",
    "    print(element)"
   ]
  },
  {
   "cell_type": "code",
   "execution_count": 4,
   "id": "86a5ea26",
   "metadata": {},
   "outputs": [
    {
     "name": "stdout",
     "output_type": "stream",
     "text": [
      "The array elements are : \n",
      "a\n",
      "b\n",
      "c\n",
      "d\n",
      "e\n"
     ]
    }
   ],
   "source": [
    "# creating an array with characters\n",
    "from array import*\n",
    "arr = array('u',['a','b','c','d','e'])\n",
    "print('The array elements are : ')\n",
    "for ch in arr :\n",
    "    print(ch)"
   ]
  },
  {
   "cell_type": "code",
   "execution_count": 5,
   "id": "cbe868f9",
   "metadata": {},
   "outputs": [
    {
     "name": "stdout",
     "output_type": "stream",
     "text": [
      "The arr2 elements are : \n",
      "4.5\n",
      "7.5\n",
      "-10.5\n",
      "12.0\n"
     ]
    }
   ],
   "source": [
    "# Creating one array from another array\n",
    "from array import *\n",
    "arr1 = array('d',[1.5,2.5,-3.5,4])\n",
    "\n",
    "# use same type code and multiply each element of arr1 with 3\n",
    "arr2 = array(arr1.typecode,(a*3 for a in arr1))\n",
    "print('The arr2 elements are : ')\n",
    "for i in arr2:\n",
    "    print(i)"
   ]
  },
  {
   "cell_type": "code",
   "execution_count": 6,
   "id": "02d58901",
   "metadata": {},
   "outputs": [
    {
     "name": "stdout",
     "output_type": "stream",
     "text": [
      "10 20 30 40 50 "
     ]
    }
   ],
   "source": [
    "# accessing elements of an array using index\n",
    "from array import *\n",
    "x = array('i',[10,20,30,40,50])\n",
    "# find number of elements in the array\n",
    "n = len(x)\n",
    "# display array elements using indexing\n",
    "for i in range(n):        # repeat from 0 to n-1\n",
    "    print(x[i],end=' ')"
   ]
  },
  {
   "cell_type": "code",
   "execution_count": 7,
   "id": "243862d4",
   "metadata": {},
   "outputs": [
    {
     "name": "stdout",
     "output_type": "stream",
     "text": [
      "10 20 30 40 50 "
     ]
    }
   ],
   "source": [
    "# accessing elements of an array using index -v 2.0\n",
    "from array import *\n",
    "x = array('i',[10,20,30,40,50])\n",
    "# find number of elements in the array\n",
    "n = len(x)\n",
    "# display array elements using indexing\n",
    "i = 0\n",
    "while i < n:\n",
    "    print(x[i],end=' ')\n",
    "    i += 1"
   ]
  },
  {
   "cell_type": "code",
   "execution_count": 8,
   "id": "40825875",
   "metadata": {},
   "outputs": [
    {
     "name": "stdout",
     "output_type": "stream",
     "text": [
      "array('i', [20, 30, 40])\n",
      "array('i', [10, 20, 30, 40, 50])\n",
      "array('i', [10, 20, 30, 40])\n",
      "array('i', [20, 30, 40, 50])\n",
      "array('i', [20, 30, 40])\n",
      "array('i', [10, 30, 50])\n"
     ]
    }
   ],
   "source": [
    "# create array y with elements from 1 st to 3 rd from x\n",
    "y = x[1:4]\n",
    "print(y)\n",
    "# create array y with elements from 0 th till the last element in x\n",
    "y = x[0:]\n",
    "print(y)\n",
    "# create array y with elements from 0 th to 3rd from x\n",
    "y = x[:4]\n",
    "print(y)\n",
    "# create y with last 4 elements from x\n",
    "y = x[-4:]\n",
    "print(y)\n",
    "\n",
    "# create y with last 4 th element and with [-4-(-1) = -3] elements\n",
    "# towards right\n",
    "y = x[-4:-1]\n",
    "print(y)\n",
    "\n",
    "# create y with 0th to 7th elements from x.\n",
    "# stride 2 means, after 0th elemnt , retrieve every 2nd element from x\n",
    "y = x[0:7:2]\n",
    "print(y)"
   ]
  },
  {
   "cell_type": "code",
   "execution_count": 9,
   "id": "00c98b75",
   "metadata": {},
   "outputs": [
    {
     "name": "stdout",
     "output_type": "stream",
     "text": [
      "30\n",
      "40\n",
      "50\n"
     ]
    }
   ],
   "source": [
    "# using slicing to display elements of an array\n",
    "from array import *\n",
    "x = array('i',[10,20,30,40,50,60,70])\n",
    "# display elements from 2 nd to 4 th only\n",
    "for i in x[2:5]:\n",
    "    print(i)"
   ]
  },
  {
   "cell_type": "code",
   "execution_count": 10,
   "id": "c6f6d8cb",
   "metadata": {},
   "outputs": [
    {
     "name": "stdout",
     "output_type": "stream",
     "text": [
      "Original array :  array('i', [10, 20, 30, 40, 50])\n",
      "After appending 30 and 60 :  array('i', [10, 20, 30, 40, 50, 30, 60])\n",
      "After inserting 99 in 1st positions :  array('i', [10, 99, 20, 30, 40, 50, 30, 60])\n",
      "After removing 20 :  array('i', [10, 99, 30, 40, 50, 30, 60])\n",
      "Array after using pop() :  array('i', [10, 99, 30, 40, 50, 30])\n",
      "Popped element :  60\n",
      "First occurence of element 30 is at :  2\n",
      "List :  [10, 99, 30, 40, 50, 30]\n",
      "Array :  array('i', [10, 99, 30, 40, 50, 30])\n"
     ]
    }
   ],
   "source": [
    "# operations on arrays\n",
    "from array import * \n",
    "# create an array with int values\n",
    "arr = array('i',[10,20,30,40,50])\n",
    "print('Original array : ',arr)\n",
    "\n",
    "# append 30 and 60 to the array arr\n",
    "arr.append(30)\n",
    "arr.append(60)\n",
    "print('After appending 30 and 60 : ',arr)\n",
    "\n",
    "# insert 99 at position number 1 in arr\n",
    "arr.insert(1,99)\n",
    "print('After inserting 99 in 1st positions : ',arr)\n",
    "\n",
    "# remove an element from arr\n",
    "arr.remove(20)\n",
    "print('After removing 20 : ', arr)\n",
    "\n",
    "# remove last element using pop() method\n",
    "n = arr.pop()\n",
    "print('Array after using pop() : ',arr)\n",
    "print('Popped element : ',n)\n",
    "\n",
    "# finding position of element using index() method\n",
    "n = arr.index(30)\n",
    "print('First occurence of element 30 is at : ',n)\n",
    "\n",
    "# convert an array into a list using tolist() method\n",
    "lst = arr.tolist()\n",
    "print('List : ',lst)\n",
    "print('Array : ',arr)\n"
   ]
  },
  {
   "cell_type": "code",
   "execution_count": 12,
   "id": "e9a4da6a",
   "metadata": {},
   "outputs": [
    {
     "name": "stdout",
     "output_type": "stream",
     "text": [
      "Enter marks : 50 56 75 67 45\n",
      "50\n",
      "56\n",
      "75\n",
      "67\n",
      "45\n",
      "Total marks :  293\n",
      "Percentage :  58.6\n"
     ]
    }
   ],
   "source": [
    "# a python program to storing student's marks into an array and finding total marks and percentage of marks.\n",
    "from array import *\n",
    "# accept marks as a string\n",
    "str = input('Enter marks : ').split(' ')\n",
    "# store the marks into 'marks' array\n",
    "marks =[int(num) for num in str]\n",
    "# display the marks and find total\n",
    "sum = 0\n",
    "for x in marks:\n",
    "    print(x)\n",
    "    sum += x\n",
    "print('Total marks : ',sum)\n",
    "# display percentage\n",
    "n = len(marks)      # n = no. of elements in marks array\n",
    "percentage = sum/n\n",
    "print('Percentage : ',percentage)"
   ]
  },
  {
   "cell_type": "code",
   "execution_count": 13,
   "id": "2c960978",
   "metadata": {},
   "outputs": [
    {
     "name": "stdout",
     "output_type": "stream",
     "text": [
      "Enter marks : 50 56 75 67 45\n",
      "array('i', [50, 56, 75, 67, 45])\n",
      "50\n",
      "56\n",
      "75\n",
      "67\n",
      "45\n",
      "Total marks :  293\n",
      "Percentage :  58.6\n"
     ]
    }
   ],
   "source": [
    "from array import *\n",
    "# accept marks as a string\n",
    "str = input('Enter marks : ').split(' ')\n",
    "# store the marks into 'marks' array\n",
    "marks = array('i' ,[int(num) for num in str])\n",
    "print(marks)\n",
    "# display the marks and find total\n",
    "sum = 0\n",
    "for x in marks:\n",
    "    print(x)\n",
    "    sum += x\n",
    "print('Total marks : ',sum)\n",
    "# display percentage\n",
    "n = len(marks)      # n = no. of elements in marks array\n",
    "percentage = sum/n\n",
    "print('Percentage : ',percentage)"
   ]
  },
  {
   "cell_type": "code",
   "execution_count": 15,
   "id": "b9025399",
   "metadata": {},
   "outputs": [
    {
     "name": "stdout",
     "output_type": "stream",
     "text": [
      "How many elements ?5\n",
      "Enter element : 1\n",
      "Enter element : 5\n",
      "Enter element : 4\n",
      "Enter element : 3\n",
      "Enter element : 2\n",
      "Original array :  array('i', [1, 5, 4, 3, 2])\n",
      "Sorted array =  array('i', [1, 2, 3, 4, 5])\n"
     ]
    }
   ],
   "source": [
    "# sorting an array using Bubble sort technique\n",
    "from array import *\n",
    "# create an empty array to store integers\n",
    "x = array('i',[])\n",
    "# store elements into the array x\n",
    "print('How many elements ?',end='')\n",
    "n = int(input())  # accept input into n \n",
    "for i in range(n):  # repeat for n times\n",
    "    print('Enter element : ',end='')\n",
    "    x.append(int(input()))  # add the element to the array x\n",
    "print('Original array : ',x)\n",
    "\n",
    "# bubble sort \n",
    "flag = False  # when swapping is done , flag becomes True\n",
    "for i in range(n-1):   # i is from 0 to n-1\n",
    "    for j in range(n-1-i):  # j is from 0 to one element lesser than i\n",
    "        if x[j] > x[j+1]:   # if first element is bigger than the second one\n",
    "            t = x[j]        # swap j and j+1 elements\n",
    "            x[j] = x[j+1]\n",
    "            x[j+1] = t\n",
    "            flag = True     # swapping done , hence flag is True\n",
    "    if flag == False:        # no swapping means arrays is in sorted order\n",
    "        break               # come out of inner loop\n",
    "    else:\n",
    "        flag = False        # assign initial value to flag\n",
    "print('Sorted array = ',x)            "
   ]
  },
  {
   "cell_type": "code",
   "execution_count": 16,
   "id": "7d254ecd",
   "metadata": {},
   "outputs": [
    {
     "name": "stdout",
     "output_type": "stream",
     "text": [
      "How many elements ?5\n",
      "Enter element : 1\n",
      "Enter element : 5\n",
      "Enter element : 4\n",
      "Enter element : 3\n",
      "Enter element : 2\n",
      "Original array :  array('i', [1, 5, 4, 3, 2])\n",
      "Sorted array =  array('i', [1, 2, 3, 4, 5])\n"
     ]
    }
   ],
   "source": [
    "from array import *\n",
    "# create an empty array to store integers\n",
    "x = array('i',[])\n",
    "# store elements into the array x\n",
    "print('How many elements ?',end='')\n",
    "n = int(input())  # accept input into n \n",
    "for i in range(n):  # repeat for n times\n",
    "    print('Enter element : ',end='')\n",
    "    x.append(int(input()))  # add the element to the array x\n",
    "print('Original array : ',x)\n",
    "\n",
    "# bubble sort \n",
    "flag = False  # when swapping is done , flag becomes True\n",
    "for i in range(n-1):   # i is from 0 to n-1\n",
    "    for j in range(n-1-i):  # j is from 0 to one element lesser than i\n",
    "        if x[j] > x[j+1]:   # if first element is bigger than the second one\n",
    "            \n",
    "            x[j] , x[j+1] = x[j+1] , x[j]    # swap j and j+1 elements\n",
    "            \n",
    "            flag = True     # swapping done , hence flag is True\n",
    "    if flag == False:        # no swapping means arrays is in sorted order\n",
    "        break               # come out of inner loop\n",
    "    else:\n",
    "        flag = False        # assign initial value to flag\n",
    "print('Sorted array = ',x)            "
   ]
  },
  {
   "cell_type": "code",
   "execution_count": 1,
   "id": "43e2a98b",
   "metadata": {},
   "outputs": [
    {
     "name": "stdout",
     "output_type": "stream",
     "text": [
      "How many elements ?5\n",
      "Enter element : 20\n",
      "Enter element : 40\n",
      "Enter element : 20\n",
      "Enter element : 55\n",
      "Enter element : 10\n",
      "Original array : array('i', [20, 40, 20, 55, 10])\n",
      "Enter element to search : 20\n",
      "Found at position = 1\n",
      "Found at position = 3\n"
     ]
    }
   ],
   "source": [
    "# Searching an array for an element using sequential search\n",
    "from array import*\n",
    "# create an empty array to store integers\n",
    "x = array('i',[])\n",
    "\n",
    "# store elements into the array x\n",
    "print('How many elements ?',end='')\n",
    "n = int(input())       # accept input into n\n",
    "\n",
    "for i in range(n):     #repeat for n times\n",
    "    print('Enter element : ',end='')\n",
    "    x.append(int(input()))   # add element to the array x\n",
    "\n",
    "print('Original array :',x)\n",
    "\n",
    "print('Enter element to search : ',end='')\n",
    "s = int(input())             # accept element to be searched\n",
    "\n",
    "# linear search  or sequential search\n",
    "flag = False        # this becomes True if element is found\n",
    "\n",
    "for i in range(len(x)):  # repeat i from 0 to no. of elements\n",
    "    if s == x[i]:\n",
    "        print('Found at position =',i+1)\n",
    "        flag =True\n",
    "if flag == False:\n",
    "    print('Not found in the array')"
   ]
  },
  {
   "cell_type": "code",
   "execution_count": 2,
   "id": "9ee85604",
   "metadata": {},
   "outputs": [
    {
     "name": "stdout",
     "output_type": "stream",
     "text": [
      "How many elements ? 5\n",
      "Enter elements : 20\n",
      "Enter elements : 40\n",
      "Enter elements : 20\n",
      "Enter elements : 55\n",
      "Enter elements : 10\n",
      "Original array :  array('i', [20, 40, 20, 55, 10])\n",
      "Enter element to search : 20\n",
      "Found at Position =  1\n"
     ]
    }
   ],
   "source": [
    "# searching an array for an element -v2.0 using index() method\n",
    "from array import *\n",
    "# create an empty array to store integers\n",
    "x = array('i',[])\n",
    "\n",
    "# store elements into array x\n",
    "print('How many elements ? ',end='')\n",
    "n = int(input())  # accept input into n\n",
    "\n",
    "for i in range(n):            # repeat for n times\n",
    "    print('Enter elements : ',end='')\n",
    "    x.append(int(input()))   # add element to the array x\n",
    "\n",
    "print('Original array : ',x)\n",
    "print('Enter element to search : ',end='')\n",
    "s = int(input())    # accept element to be searched\n",
    "\n",
    "# index() method gives the location of the element in the array \n",
    "try:\n",
    "    pos = x.index(s)\n",
    "    print('Found at Position = ',pos+1)\n",
    "\n",
    "except ValueError:   # if element not found then the ValueError will rise\n",
    "    print('Not found in the array')    "
   ]
  },
  {
   "cell_type": "code",
   "execution_count": 3,
   "id": "f9239908",
   "metadata": {},
   "outputs": [
    {
     "name": "stdout",
     "output_type": "stream",
     "text": [
      "[10 20 30 40 50]\n"
     ]
    }
   ],
   "source": [
    "# creating single dimensional array using numpy\n",
    "import numpy\n",
    "arr = numpy.array([10,20,30,40,50])  #create array\n",
    "print(arr)  # display array"
   ]
  },
  {
   "cell_type": "code",
   "execution_count": 4,
   "id": "e23549a4",
   "metadata": {},
   "outputs": [
    {
     "name": "stdout",
     "output_type": "stream",
     "text": [
      "[10 20 30 40 50]\n"
     ]
    }
   ],
   "source": [
    "# creating single dimensional array using numpy - v2.0\n",
    "import numpy as np\n",
    "arr = np.array([10,20,30,40,50]) #create array\n",
    "print(arr)  #display array\n"
   ]
  },
  {
   "cell_type": "code",
   "execution_count": 5,
   "id": "954cc69a",
   "metadata": {},
   "outputs": [
    {
     "name": "stdout",
     "output_type": "stream",
     "text": [
      "[10 20 30 40 50]\n"
     ]
    }
   ],
   "source": [
    "# creating single dimensional array using numpy - v3.0\n",
    "from numpy import *\n",
    "arr = array([10,20,30,40,50])   #create array\n",
    "print(arr)  # display array"
   ]
  },
  {
   "cell_type": "code",
   "execution_count": 6,
   "id": "3fc485cb",
   "metadata": {},
   "outputs": [
    {
     "name": "stdout",
     "output_type": "stream",
     "text": [
      "['a' 'b' 'c' 'd']\n"
     ]
    }
   ],
   "source": [
    "# creating an array with characters\n",
    "from numpy import *\n",
    "arr = array(['a','b','c','d']) # create array\n",
    "print(arr)  # display array"
   ]
  },
  {
   "cell_type": "code",
   "execution_count": 7,
   "id": "803997b2",
   "metadata": {},
   "outputs": [
    {
     "name": "stdout",
     "output_type": "stream",
     "text": [
      "['Delhi' 'Hyderabad' 'Mumbai' 'Ahmedabad']\n"
     ]
    }
   ],
   "source": [
    "# creating an array with characters\n",
    "from numpy import *\n",
    "#create array\n",
    "arr = array(['Delhi','Hyderabad','Mumbai','Ahmedabad'],dtype = str)\n",
    "print(arr)  # display array"
   ]
  },
  {
   "cell_type": "code",
   "execution_count": 8,
   "id": "66354b6c",
   "metadata": {},
   "outputs": [
    {
     "name": "stdout",
     "output_type": "stream",
     "text": [
      "['Delhi' 'Hyderabad' 'Mumbai' 'Ahmedabad']\n"
     ]
    }
   ],
   "source": [
    "# creating an array with characters\n",
    "from numpy import *\n",
    "#create array\n",
    "arr = array(['Delhi','Hyderabad','Mumbai','Ahmedabad'])\n",
    "print(arr)  # display array"
   ]
  },
  {
   "cell_type": "code",
   "execution_count": 9,
   "id": "66b39feb",
   "metadata": {},
   "outputs": [
    {
     "name": "stdout",
     "output_type": "stream",
     "text": [
      "a =  [1 2 3 4 5]\n",
      "b =  [1 2 3 4 5]\n",
      "c =  [1 2 3 4 5]\n"
     ]
    }
   ],
   "source": [
    "# creating an array from another array \n",
    "from numpy import*\n",
    "a = array([1,2,3,4,5])  # original array\n",
    "b = array(a)            # create b from a using array() function\n",
    "c = a                   # create c by assinging a to c\n",
    "# display arrays\n",
    "print('a = ',a)\n",
    "print('b = ',b)\n",
    "print('c = ',c)"
   ]
  },
  {
   "cell_type": "code",
   "execution_count": 12,
   "id": "d68e1556",
   "metadata": {},
   "outputs": [
    {
     "name": "stdout",
     "output_type": "stream",
     "text": [
      "a =  [ 0.   2.5  5.   7.5 10. ]\n",
      "b =  [ 0.          0.20408163  0.40816327  0.6122449   0.81632653  1.02040816\n",
      "  1.2244898   1.42857143  1.63265306  1.83673469  2.04081633  2.24489796\n",
      "  2.44897959  2.65306122  2.85714286  3.06122449  3.26530612  3.46938776\n",
      "  3.67346939  3.87755102  4.08163265  4.28571429  4.48979592  4.69387755\n",
      "  4.89795918  5.10204082  5.30612245  5.51020408  5.71428571  5.91836735\n",
      "  6.12244898  6.32653061  6.53061224  6.73469388  6.93877551  7.14285714\n",
      "  7.34693878  7.55102041  7.75510204  7.95918367  8.16326531  8.36734694\n",
      "  8.57142857  8.7755102   8.97959184  9.18367347  9.3877551   9.59183673\n",
      "  9.79591837 10.        ]\n",
      "c =  [ 0.          1.11111111  2.22222222  3.33333333  4.44444444  5.55555556\n",
      "  6.66666667  7.77777778  8.88888889 10.        ]\n"
     ]
    }
   ],
   "source": [
    "# creating an array using linspace()\n",
    "from numpy import *\n",
    "\n",
    "# divide 0 to 10 into 5 parts and take those points in the array\n",
    "a = linspace(0,10,5)\n",
    "b = linspace(0,10)# default n is 50\n",
    "c = linspace(0,10,10)\n",
    "print('a = ',a)\n",
    "print('b = ',b)\n",
    "print('c = ',c)"
   ]
  },
  {
   "cell_type": "code",
   "execution_count": 13,
   "id": "a57c9f4b",
   "metadata": {},
   "outputs": [
    {
     "name": "stdout",
     "output_type": "stream",
     "text": [
      "10.0 56.2 316.2 1778.3 10000.0 \n",
      "[   10.            11.51395399    13.25711366    15.26417967\n",
      "    17.57510625    20.23589648    23.29951811    26.82695795\n",
      "    30.88843596    35.56480306    40.94915062    47.14866363\n",
      "    54.28675439    62.50551925    71.9685673     82.86427729\n",
      "    95.40954763   109.8541142    126.48552169   145.63484775\n",
      "   167.68329368   193.06977289   222.29964825   255.95479227\n",
      "   294.70517026   339.32217719   390.69399371   449.8432669\n",
      "   517.94746792   596.36233166   686.648845     790.60432109\n",
      "   910.29817799  1048.11313415  1206.79264064  1389.49549437\n",
      "  1599.85871961  1842.06996933  2120.95088792  2442.05309455\n",
      "  2811.76869797  3237.45754282  3727.59372031  4291.93426013\n",
      "  4941.71336132  5689.86602902  6551.2855686   7543.12006335\n",
      "  8685.11373751 10000.        ]\n"
     ]
    }
   ],
   "source": [
    "# creating an array using logspace()\n",
    "from numpy import *\n",
    "\n",
    "# divide the range : 10 power 1 to 10 power 4 into 5 equal parts\n",
    "# and take those point in the array\n",
    "a = logspace(1,4,5) \n",
    "b = logspace(1,4)   # default n is 50\n",
    "\n",
    "# find no.of elements in a\n",
    "n = len(a)\n",
    "\n",
    "# repeat from 0 to n-1 times\n",
    "for i in range(n):\n",
    "    print('%.1f'%a[i] , end=' ')   # display 1 digit after decimal points\n",
    "print()\n",
    "print(b)"
   ]
  },
  {
   "cell_type": "code",
   "execution_count": 15,
   "id": "727cdc15",
   "metadata": {},
   "outputs": [
    {
     "name": "stdout",
     "output_type": "stream",
     "text": [
      "[0 1 2 3 4 5 6 7 8 9]\n",
      "[5 6 7 8 9]\n",
      "[1 4 7]\n",
      "[10  9  8  7  6  5  4  3  2]\n",
      "[0.  1.5 3.  4.5 6.  7.5 9. ]\n"
     ]
    }
   ],
   "source": [
    "# creating arrays using arange() function\n",
    "from numpy import * \n",
    "print(arange(10))\n",
    "print(arange(5,10))\n",
    "print(arange(1,10,3))\n",
    "print(arange(10,1,-1))\n",
    "print(arange(0,10,1.5))\n"
   ]
  },
  {
   "cell_type": "code",
   "execution_count": 16,
   "id": "b8a52bd4",
   "metadata": {},
   "outputs": [
    {
     "name": "stdout",
     "output_type": "stream",
     "text": [
      "[ 2  4  6  8 10]\n"
     ]
    }
   ],
   "source": [
    "# creating an array with even numbers upto 10\n",
    "from numpy import *\n",
    "\n",
    "# create an array using arange() function\n",
    "a = arange(2,11,2)\n",
    "print(a)"
   ]
  },
  {
   "cell_type": "code",
   "execution_count": 17,
   "id": "ae8c152f",
   "metadata": {},
   "outputs": [
    {
     "name": "stdout",
     "output_type": "stream",
     "text": [
      "[0 0 0 0 0]\n",
      "[1. 1. 1. 1. 1.]\n"
     ]
    }
   ],
   "source": [
    "# creating arrays using zeros() and ones()\n",
    "from numpy import *\n",
    "a = zeros(5,int)\n",
    "print(a)\n",
    "# default datatype is float\n",
    "b = ones(5)\n",
    "print(b)"
   ]
  },
  {
   "cell_type": "code",
   "execution_count": 18,
   "id": "15dcc263",
   "metadata": {},
   "outputs": [
    {
     "name": "stdout",
     "output_type": "stream",
     "text": [
      "Original array :  [ 10.   20.   30.5 -40. ]\n",
      "After adding 5 :  [ 15.   25.   35.5 -35. ]\n",
      "After substracting 5 :  [  5.   15.   25.5 -45. ]\n",
      "After multiplying with 5 :  [  50.   100.   152.5 -200. ]\n",
      "After dividing with 5 :  [ 2.   4.   6.1 -8. ]\n",
      "After modulus with 5 :  [0.  0.  0.5 0. ]\n",
      "Expression value :  [ 215.    615.   1250.25 1215.  ]\n",
      "Sin values :  [-0.54402111  0.91294525 -0.79312724 -0.74511316]\n",
      "Cos values :  [-0.83907153  0.40808206  0.60905598 -0.66693806]\n",
      "Tan values :  [ 0.64836083  2.23716094 -1.30222389  1.11721493]\n",
      "Biggest element :  30.5\n",
      "Smallest element :  -40.0\n",
      "Sum of all element :  20.5\n",
      "Average of all elements :  5.125\n"
     ]
    }
   ],
   "source": [
    "# maathematical operations on arrays\n",
    "# import all from numpy module\n",
    "from numpy import *\n",
    "\n",
    "# create a numpy array using array() function\n",
    "arr = array([10,20,30.5,-40])\n",
    "print('Original array : ',arr)\n",
    "\n",
    "# do arithmetic operations on the elements of the array\n",
    "print(\"After adding 5 : \",arr+5)\n",
    "print('After substracting 5 : ',arr-5)\n",
    "print('After multiplying with 5 : ',arr*5)\n",
    "print('After dividing with 5 : ',arr/5)\n",
    "print('After modulus with 5 : ',arr%5)\n",
    "\n",
    "# we can use the arrays in expressions also\n",
    "print(\"Expression value : \",(arr+5)**2-10)\n",
    "\n",
    "# do some math functions\n",
    "print(\"Sin values : \",sin(arr))\n",
    "print(\"Cos values : \",cos(arr))\n",
    "print(\"Tan values : \",tan(arr))\n",
    "print(\"Biggest element : \",max(arr))\n",
    "print(\"Smallest element : \",min(arr))\n",
    "print(\"Sum of all element : \",sum(arr))\n",
    "print(\"Average of all elements : \",mean(arr))"
   ]
  },
  {
   "cell_type": "code",
   "execution_count": 19,
   "id": "d189065e",
   "metadata": {},
   "outputs": [
    {
     "name": "stdout",
     "output_type": "stream",
     "text": [
      "Result of a == b [False  True  True False]\n",
      "Result of a>b [ True False False False]\n",
      "Result of a<=b [False  True  True  True]\n"
     ]
    }
   ],
   "source": [
    "# to know the result of comparing two arrays\n",
    "from numpy import *\n",
    "a = array([1,2,3,0])\n",
    "b = array([0,2,3,1])\n",
    "\n",
    "c = a == b\n",
    "print('Result of a == b',c)\n",
    "c = a > b\n",
    "print('Result of a>b',c)\n",
    "c = a <= b\n",
    "print('Result of a<=b',c)"
   ]
  },
  {
   "cell_type": "code",
   "execution_count": 20,
   "id": "603704ef",
   "metadata": {},
   "outputs": [
    {
     "name": "stdout",
     "output_type": "stream",
     "text": [
      "Result of a>b :  [ True False False False]\n",
      "Check if any one element is true :  True\n",
      "Check if all elements are true :  False\n",
      "a contains atleast one element greater than those of b\n"
     ]
    }
   ],
   "source": [
    "# using any() and all() functions\n",
    "from numpy import *\n",
    "a = array([1,2,3,0])\n",
    "b = array([0,2,3,1])\n",
    "\n",
    "c = a > b\n",
    "print('Result of a>b : ',c)\n",
    "\n",
    "print('Check if any one element is true : ',any(c))\n",
    "print('Check if all elements are true : ',all(c))\n",
    "\n",
    "if(any(a>b)):\n",
    "    print('a contains atleast one element greater than those of b')"
   ]
  },
  {
   "cell_type": "code",
   "execution_count": 1,
   "id": "5aa5367f",
   "metadata": {},
   "outputs": [
    {
     "name": "stdout",
     "output_type": "stream",
     "text": [
      "[ True  True  True]\n",
      "[ True  True  True]\n",
      "[ True False False]\n"
     ]
    }
   ],
   "source": [
    "# using logical_and() , logical_or() ,logical_not()\n",
    "from numpy import *\n",
    "a = array([1,2,3],int)\n",
    "b = array([0,2,3],int)\n",
    "\n",
    "c = logical_and(a>0 , a<4)\n",
    "print(c)\n",
    "\n",
    "c = logical_or(b>=0 ,b==1)\n",
    "print(c)\n",
    "\n",
    "c = logical_not(b)\n",
    "print(c)"
   ]
  },
  {
   "cell_type": "code",
   "execution_count": 2,
   "id": "7e6c1425",
   "metadata": {},
   "outputs": [
    {
     "name": "stdout",
     "output_type": "stream",
     "text": [
      "[10  0 30 40 50]\n"
     ]
    }
   ],
   "source": [
    "a = array([10,21,30,40,50])\n",
    "c = where(a%2==0 ,a,0)\n",
    "print(c)"
   ]
  },
  {
   "cell_type": "code",
   "execution_count": 3,
   "id": "45517856",
   "metadata": {},
   "outputs": [
    {
     "name": "stdout",
     "output_type": "stream",
     "text": [
      "[10 21 30 40 51]\n"
     ]
    }
   ],
   "source": [
    "# using where() function\n",
    "from numpy import *\n",
    "a = array([10,20,30,40,50],int)\n",
    "b = array([1,21,3,40,51],int)\n",
    "# if a>b then take element from a else from b\n",
    "c = where(a>b,a,b)\n",
    "print(c)"
   ]
  },
  {
   "cell_type": "code",
   "execution_count": 4,
   "id": "3411185e",
   "metadata": {},
   "outputs": [
    {
     "name": "stdout",
     "output_type": "stream",
     "text": [
      "[0 1 3 5]\n",
      "[ 1  2 -1  6]\n"
     ]
    }
   ],
   "source": [
    "# Python program to retrieve non zero element from an array\n",
    "# using nonzero() function \n",
    "a = array([1,2,0,-1,0,6],int)\n",
    "# retrieve indexes of nonzero elements from a\n",
    "c = nonzero(a)\n",
    "\n",
    "#display indexes\n",
    "for i in c:\n",
    "    print(i)\n",
    "\n",
    "# display the elements\n",
    "print(a[c])"
   ]
  },
  {
   "cell_type": "code",
   "execution_count": 5,
   "id": "cdbb6ba5",
   "metadata": {},
   "outputs": [
    {
     "name": "stdout",
     "output_type": "stream",
     "text": [
      "Original array :  [1 2 3 4 5]\n",
      "Alias array : [1 2 3 4 5]\n",
      "After modification : \n",
      "Original array :  [99  2  3  4  5]\n",
      "Alias array : [99  2  3  4  5]\n"
     ]
    }
   ],
   "source": [
    "# aliasing an array\n",
    "from numpy import *\n",
    "a = arange(1,6)  # create a with elements 1 to 5\n",
    "b = a            # give another name b to a \n",
    "\n",
    "print('Original array : ',a)\n",
    "print('Alias array :',b)\n",
    "\n",
    "b[0] = 99 # modify 0th element of b\n",
    "print(\"After modification : \")\n",
    "print('Original array : ',a)\n",
    "print('Alias array :',b)"
   ]
  },
  {
   "cell_type": "code",
   "execution_count": 6,
   "id": "57177b92",
   "metadata": {},
   "outputs": [
    {
     "name": "stdout",
     "output_type": "stream",
     "text": [
      "Original array : [1 2 3 4 5]\n",
      "New array [1 2 3 4 5]\n",
      "After modification :\n",
      "Original array :  [99  2  3  4  5]\n",
      "New array :  [99  2  3  4  5]\n"
     ]
    }
   ],
   "source": [
    "# creating view for an array\n",
    "# shallow copying\n",
    "from numpy import *\n",
    "a = arange(1,6)      # create a with elements 1 to 5\n",
    "b = a.view()         # create a view of a and call it b\n",
    "print('Original array :',a)\n",
    "print('New array',b)\n",
    "\n",
    "b[0] = 99           # modify 0th element of b\n",
    "print(\"After modification :\")\n",
    "print('Original array : ',a)\n",
    "print('New array : ',b)"
   ]
  },
  {
   "cell_type": "code",
   "execution_count": 7,
   "id": "1169a6d9",
   "metadata": {},
   "outputs": [
    {
     "name": "stdout",
     "output_type": "stream",
     "text": [
      "Original array :  [1 2 3 4 5]\n",
      "New array :  [1 2 3 4 5]\n",
      "After modification :\n",
      "Original array :  [1 2 3 4 5]\n",
      "New array :  [99  2  3  4  5]\n"
     ]
    }
   ],
   "source": [
    "# copying an array\n",
    "from numpy import *\n",
    "a = arange(1,6)      # create a with elements 1 to 5\n",
    "b = a.copy()         # create a copy of a and call it b\n",
    "\n",
    "print('Original array : ',a)\n",
    "print('New array : ',b)\n",
    "\n",
    "b[0] = 99            # modify 0 th element\n",
    "print('After modification :')\n",
    "print(\"Original array : \",a)\n",
    "print('New array : ',b)"
   ]
  },
  {
   "cell_type": "code",
   "execution_count": 9,
   "id": "bf261ed5",
   "metadata": {},
   "outputs": [
    {
     "name": "stdout",
     "output_type": "stream",
     "text": [
      "[10 11 12 13 14 15]\n",
      "[11 13 15]\n",
      "[10 11 12 13 14 15]\n",
      "[14 13]\n",
      "[10 11 12 13]\n"
     ]
    }
   ],
   "source": [
    "# slicing an array \n",
    "from numpy import *\n",
    "# create array a with elements 10 to 15 \n",
    "a = arange(10,16)\n",
    "print(a)\n",
    "\n",
    "# retrieve from 1st to one element prior to the 6 th element in steps of 2\n",
    "b = a[1:6:2]\n",
    "print(b)\n",
    "\n",
    "# retrieve all elements from a\n",
    "b = a[::]\n",
    "print(b)\n",
    "\n",
    "# retrieve from 6-2 = 4th element to one element prior to 2 nd element in \n",
    "# decreasing step size\n",
    "b = a[-2:2:-1]\n",
    "print(b)\n",
    "# retrieve from 0th to one element prior to 4 th element(6-2 = 4th)\n",
    "b = a[:-2:]\n",
    "print(b)"
   ]
  },
  {
   "cell_type": "code",
   "execution_count": 10,
   "id": "d9a87a6d",
   "metadata": {},
   "outputs": [
    {
     "name": "stdout",
     "output_type": "stream",
     "text": [
      "[10 11 12 13 14 15]\n",
      "[11 13 15]\n",
      "11\n",
      "13\n",
      "15\n"
     ]
    }
   ],
   "source": [
    "# indexing an array\n",
    "from numpy import *\n",
    "# create array a with elements 10 to15\n",
    "a = arange(10,16)\n",
    "print(a)\n",
    "# retrieve from 1st element prior to the 6 th element in steps of 2\n",
    "a = a[1:6:2]\n",
    "print(a)\n",
    "\n",
    "# display elements using indexing\n",
    "i = 0\n",
    "while(i<len(a)):\n",
    "    print(a[i])\n",
    "    i += 1"
   ]
  },
  {
   "cell_type": "code",
   "execution_count": 11,
   "id": "0baa31d1",
   "metadata": {},
   "outputs": [
    {
     "name": "stdout",
     "output_type": "stream",
     "text": [
      "[1 2 3 4 5]\n",
      "[10 20 30 40]\n"
     ]
    }
   ],
   "source": [
    "# array with  1 row\n",
    "arr1 =array([1,2,3,4,5])\n",
    "print(arr1)     #display\n",
    "# array with 1 coloumn\n",
    "arr2 = array([10,\n",
    "              20,\n",
    "              30,\n",
    "              40])\n",
    "print(arr2)"
   ]
  },
  {
   "cell_type": "code",
   "execution_count": 12,
   "id": "62725879",
   "metadata": {},
   "outputs": [
    {
     "name": "stdout",
     "output_type": "stream",
     "text": [
      "[[1 2 3]\n",
      " [4 5 6]]\n"
     ]
    }
   ],
   "source": [
    "# create a 2D array with 2 rows and 3 columns in each row\n",
    "arr2 = array([[1,2,3],\n",
    "              [4,5,6]])\n",
    "print(arr2)"
   ]
  },
  {
   "cell_type": "code",
   "execution_count": 15,
   "id": "9f43369e",
   "metadata": {},
   "outputs": [
    {
     "name": "stdout",
     "output_type": "stream",
     "text": [
      "[[[1 2 3]\n",
      "  [4 5 6]]\n",
      "\n",
      " [[1 1 1]\n",
      "  [1 0 1]]]\n"
     ]
    }
   ],
   "source": [
    "from numpy import *\n",
    "arr3 = array([[[1,2,3],[4,5,6]],\n",
    "              [[1,1,1],[1,0,1]]])\n",
    "print(arr3)"
   ]
  },
  {
   "cell_type": "code",
   "execution_count": 1,
   "id": "15a14dd2",
   "metadata": {},
   "outputs": [
    {
     "name": "stdout",
     "output_type": "stream",
     "text": [
      "1\n"
     ]
    }
   ],
   "source": [
    "# ndim attribute\n",
    "from numpy import *\n",
    "arr1 = array([1,2,3,4,5])   #  1D array\n",
    "print(arr1.ndim)"
   ]
  },
  {
   "cell_type": "code",
   "execution_count": 2,
   "id": "cb8909d1",
   "metadata": {},
   "outputs": [
    {
     "name": "stdout",
     "output_type": "stream",
     "text": [
      "2\n"
     ]
    }
   ],
   "source": [
    "arr2 = array([[1,2,3],[4,5,6]])  # 2D array with 2 rows and 3 element\n",
    "print(arr2.ndim)"
   ]
  },
  {
   "cell_type": "code",
   "execution_count": 3,
   "id": "6dea2886",
   "metadata": {},
   "outputs": [
    {
     "name": "stdout",
     "output_type": "stream",
     "text": [
      "(5,)\n"
     ]
    }
   ],
   "source": [
    "# shape attribute\n",
    "arr1 = array([1,2,3,4,5])\n",
    "print(arr1.shape)    # it gives rows and columns of array in the form of tuple"
   ]
  },
  {
   "cell_type": "code",
   "execution_count": 7,
   "id": "49c1636d",
   "metadata": {},
   "outputs": [
    {
     "name": "stdout",
     "output_type": "stream",
     "text": [
      "(2, 3)\n",
      "[[1 2]\n",
      " [3 4]\n",
      " [5 6]]\n"
     ]
    }
   ],
   "source": [
    "arr2 = array([[1,2,3],[4,5,6]])\n",
    "print(arr2.shape)\n",
    "arr2.shape = (3,2)  # change shape of arr2 to 3 rows and 2 coloumns\n",
    "print(arr2)"
   ]
  },
  {
   "cell_type": "code",
   "execution_count": 8,
   "id": "0027ad73",
   "metadata": {},
   "outputs": [
    {
     "name": "stdout",
     "output_type": "stream",
     "text": [
      "5\n",
      "6\n"
     ]
    }
   ],
   "source": [
    "# size attribute       # total number of elements\n",
    "print(arr1.size)\n",
    "print(arr2.size)"
   ]
  },
  {
   "cell_type": "code",
   "execution_count": 9,
   "id": "4fe5d592",
   "metadata": {},
   "outputs": [
    {
     "name": "stdout",
     "output_type": "stream",
     "text": [
      "4\n",
      "8\n"
     ]
    }
   ],
   "source": [
    "# itemsize attribute  # memorysize in bytes\n",
    "arr1 = array([1,2,3,4,5])\n",
    "print(arr1.itemsize)\n",
    "arr2 = array([1.1,2.2,3.5,4,5.0])\n",
    "print(arr2.itemsize)"
   ]
  },
  {
   "cell_type": "code",
   "execution_count": 11,
   "id": "acb59db6",
   "metadata": {},
   "outputs": [
    {
     "name": "stdout",
     "output_type": "stream",
     "text": [
      "int32\n",
      "float64\n"
     ]
    }
   ],
   "source": [
    "# dtype attribute           # datatype of elements\n",
    "arr1 = array([1,2,3,4,5])   \n",
    "print(arr1.dtype)\n",
    "arr2 = array([1.1,2.2,3.5,4,5.0])\n",
    "print(arr2.dtype)"
   ]
  },
  {
   "cell_type": "code",
   "execution_count": 12,
   "id": "88efb1fd",
   "metadata": {},
   "outputs": [
    {
     "name": "stdout",
     "output_type": "stream",
     "text": [
      "24\n"
     ]
    }
   ],
   "source": [
    "# nbytes attribute   # gives total number of bytes occupied by an array\n",
    "# nbytes = arr.size * arr.itemsize\n",
    "arr2 = array([[1,2,3],[4,5,6]])\n",
    "print(arr2.nbytes)"
   ]
  },
  {
   "cell_type": "code",
   "execution_count": 13,
   "id": "cd099b2a",
   "metadata": {},
   "outputs": [
    {
     "name": "stdout",
     "output_type": "stream",
     "text": [
      "[0 1 2 3 4 5 6 7 8 9]\n",
      "[[0 1 2 3 4]\n",
      " [5 6 7 8 9]]\n",
      "[[0 1]\n",
      " [2 3]\n",
      " [4 5]\n",
      " [6 7]\n",
      " [8 9]]\n"
     ]
    }
   ],
   "source": [
    "# reshape() method\n",
    "arr1 = arange(10)     # 1D array with 10 elements\n",
    "print(arr1)\n",
    "arr1 = arr1.reshape(2,5)        # change shape as 2 rows and 5 cols\n",
    "print(arr1)\n",
    "arr1 = arr1.reshape(5,2)        # change shape as 5 rows and 2 cols\n",
    "print(arr1)"
   ]
  },
  {
   "cell_type": "code",
   "execution_count": 14,
   "id": "68902622",
   "metadata": {},
   "outputs": [
    {
     "name": "stdout",
     "output_type": "stream",
     "text": [
      "[[1 2 3]\n",
      " [4 5 6]]\n",
      "[1 2 3 4 5 6]\n"
     ]
    }
   ],
   "source": [
    "# flatten method  \n",
    "arr2 = array([[1,2,3],[4,5,6]])\n",
    "print(arr2)\n",
    "arr2 = arr2.flatten()\n",
    "print(arr2)"
   ]
  },
  {
   "cell_type": "code",
   "execution_count": 15,
   "id": "285fef5c",
   "metadata": {},
   "outputs": [
    {
     "name": "stdout",
     "output_type": "stream",
     "text": [
      "[[1 2 3]\n",
      " [4 5 6]]\n"
     ]
    }
   ],
   "source": [
    "# multidimensional array\n",
    "#array() fuction\n",
    "a = array([1,2,3,4,5])        # creates a 1D array with 1 row\n",
    "a =array([[1,2,3],[4,5,6]])   # creates a 2D array with 2 rows and 3 cols\n",
    "print(a)"
   ]
  },
  {
   "cell_type": "code",
   "execution_count": 16,
   "id": "f42cd62d",
   "metadata": {},
   "outputs": [
    {
     "name": "stdout",
     "output_type": "stream",
     "text": [
      "[1. 1. 1. 1. 1.]\n",
      "[[1. 1. 1. 1.]\n",
      " [1. 1. 1. 1.]\n",
      " [1. 1. 1. 1.]]\n",
      "[0 0 0 0 0]\n",
      "[[0 0 0 0]\n",
      " [0 0 0 0]\n",
      " [0 0 0 0]]\n"
     ]
    }
   ],
   "source": [
    "# ones() and zeros() fuctions        # to create arrays with all elements 1 and 0\n",
    "# ones((r,c),dtype)\n",
    "a = ones(5,float)\n",
    "print(a)\n",
    "a = ones((3,4),float)\n",
    "print(a)\n",
    "b= zeros(5,int)\n",
    "print(b)\n",
    "b = zeros((3,4),int)\n",
    "print(b)"
   ]
  },
  {
   "cell_type": "code",
   "execution_count": 17,
   "id": "6bbd6a6e",
   "metadata": {},
   "outputs": [
    {
     "name": "stdout",
     "output_type": "stream",
     "text": [
      "[[1. 0. 0.]\n",
      " [0. 1. 0.]\n",
      " [0. 0. 1.]]\n",
      "[[1. 0. 0. 0. 0.]\n",
      " [0. 1. 0. 0. 0.]\n",
      " [0. 0. 1. 0. 0.]\n",
      " [0. 0. 0. 1. 0.]\n",
      " [0. 0. 0. 0. 1.]]\n"
     ]
    }
   ],
   "source": [
    "# eye() function      # diagonal elements are 1\n",
    "# eye(n,dtype)\n",
    "a = eye(3)      # default datatype is float\n",
    "print(a)\n",
    "b = eye(5)\n",
    "print(b)"
   ]
  },
  {
   "cell_type": "code",
   "execution_count": null,
   "id": "cafd8efb",
   "metadata": {},
   "outputs": [],
   "source": [
    "# reshape() function\n",
    "# rehape(arrayname,(n,r,c))\n",
    "# n no. of arrays in result \n",
    "# r = rows\n",
    "# c = coloumn"
   ]
  },
  {
   "cell_type": "code",
   "execution_count": 18,
   "id": "abe44bce",
   "metadata": {},
   "outputs": [
    {
     "name": "stdout",
     "output_type": "stream",
     "text": [
      "[[1 2 3]\n",
      " [4 5 6]]\n",
      "[[1 2]\n",
      " [3 4]\n",
      " [5 6]]\n"
     ]
    }
   ],
   "source": [
    "a = array([1,2,3,4,5,6])\n",
    "b = reshape(a,(2,3))\n",
    "print(b)\n",
    "b = reshape(a,(3,2))\n",
    "print(b)"
   ]
  },
  {
   "cell_type": "code",
   "execution_count": 20,
   "id": "04b04cb4",
   "metadata": {},
   "outputs": [
    {
     "name": "stdout",
     "output_type": "stream",
     "text": [
      "[ 0  1  2  3  4  5  6  7  8  9 10 11]\n",
      "[[[ 0  1]\n",
      "  [ 2  3]\n",
      "  [ 4  5]]\n",
      "\n",
      " [[ 6  7]\n",
      "  [ 8  9]\n",
      "  [10 11]]]\n",
      "__________\n",
      "[[[ 0  1]\n",
      "  [ 2  3]]\n",
      "\n",
      " [[ 4  5]\n",
      "  [ 6  7]]\n",
      "\n",
      " [[ 8  9]\n",
      "  [10 11]]]\n"
     ]
    }
   ],
   "source": [
    "a = arange(12)\n",
    "print(a)\n",
    "b = reshape(a,(2,3,2))   # 2 arrays with 3 rows and 2 colomns\n",
    "print(b)\n",
    "print('_'*10)\n",
    "b = reshape(a,(3,2,2))   # 3 arrays with 2 rows and 2 columns\n",
    "print(b)"
   ]
  },
  {
   "cell_type": "code",
   "execution_count": 21,
   "id": "d7258ff8",
   "metadata": {},
   "outputs": [
    {
     "name": "stdout",
     "output_type": "stream",
     "text": [
      "[1 2 3]\n",
      "[4 5 6]\n",
      "[7 8 9]\n",
      "123456789"
     ]
    }
   ],
   "source": [
    "# retrieving the elements from a 2D array using indexing\n",
    "from numpy import*\n",
    "# create a 2D array with 3 rows and 3 cols\n",
    "a = array([[1,2,3],[4,5,6],[7,8,9]])\n",
    "\n",
    "# display only rows\n",
    "for i in range(len(a)):\n",
    "    print(a[i])\n",
    "    \n",
    "# display element by element\n",
    "for i in range(len(a)):\n",
    "    for j in range(len(a[i])):\n",
    "        print(a[i][j],end=' ')"
   ]
  },
  {
   "cell_type": "code",
   "execution_count": 25,
   "id": "f7d675bd",
   "metadata": {},
   "outputs": [
    {
     "name": "stdout",
     "output_type": "stream",
     "text": [
      "1\t2\t3\t\n",
      "4\t5\t6\t\n",
      "\n",
      "7\t8\t9\t\n",
      "10\t11\t12\t\n",
      "\n"
     ]
    }
   ],
   "source": [
    "# retrieving the elements from a 3D array using indexing\n",
    "# create a 3D array with size 2x2x3\n",
    "a = array([[[1,2,3],\n",
    "           [4,5,6]],\n",
    "           \n",
    "           [[7,8,9],\n",
    "           [10,11,12]]]) \n",
    "# display element by element\n",
    "for i in range(len(a)):\n",
    "    for j in range(len(a[i])):\n",
    "        for k in range(len(a[i][j])):\n",
    "            print(a[i][j][k],end='\\t')\n",
    "        print()\n",
    "    print()\n"
   ]
  },
  {
   "cell_type": "code",
   "execution_count": 26,
   "id": "8338bd9c",
   "metadata": {},
   "outputs": [
    {
     "name": "stdout",
     "output_type": "stream",
     "text": [
      "[[1 2 3]\n",
      " [4 5 6]\n",
      " [7 8 9]]\n"
     ]
    }
   ],
   "source": [
    "a = [[1,2,3],[4,5,6],[7,8,9]]\n",
    "a = reshape(a,(3,3))\n",
    "print(a)"
   ]
  },
  {
   "cell_type": "code",
   "execution_count": 28,
   "id": "c4e5e6e2",
   "metadata": {},
   "outputs": [
    {
     "name": "stdout",
     "output_type": "stream",
     "text": [
      "[[1 2 3]\n",
      " [4 5 6]\n",
      " [7 8 9]]\n",
      "[[1 2 3]\n",
      " [4 5 6]\n",
      " [7 8 9]]\n",
      "[[1 2 3]\n",
      " [4 5 6]\n",
      " [7 8 9]]\n"
     ]
    }
   ],
   "source": [
    "print(a[: , :])\n",
    "print(a[:])\n",
    "print(a[::])"
   ]
  },
  {
   "cell_type": "code",
   "execution_count": 29,
   "id": "317c1fbd",
   "metadata": {},
   "outputs": [
    {
     "name": "stdout",
     "output_type": "stream",
     "text": [
      "[1 2 3]\n",
      "[1 4 7]\n"
     ]
    }
   ],
   "source": [
    "print(a[0,:])  # 0 th row\n",
    "print(a[:,0])  # 0 th col"
   ]
  },
  {
   "cell_type": "code",
   "execution_count": 30,
   "id": "6a6e1dc0",
   "metadata": {},
   "outputs": [
    {
     "name": "stdout",
     "output_type": "stream",
     "text": [
      "[[1]]\n"
     ]
    }
   ],
   "source": [
    "print(a[0:1,0:1])  # 0 th row and 0 th  column"
   ]
  },
  {
   "cell_type": "code",
   "execution_count": 31,
   "id": "9e8f9812",
   "metadata": {},
   "outputs": [
    {
     "name": "stdout",
     "output_type": "stream",
     "text": [
      "[[5]]\n"
     ]
    }
   ],
   "source": [
    "print(a[1:2,1:2])  # 1 st row and 1 st column"
   ]
  },
  {
   "cell_type": "code",
   "execution_count": 32,
   "id": "d3ad328c",
   "metadata": {},
   "outputs": [
    {
     "name": "stdout",
     "output_type": "stream",
     "text": [
      "[[9]]\n",
      "[[8]]\n"
     ]
    }
   ],
   "source": [
    "print(a[2:3,2:3])  # 2 nd row and 2 nd column\n",
    "print(a[2:3,1:2])  # 2nd row and 1 st column"
   ]
  },
  {
   "cell_type": "code",
   "execution_count": 33,
   "id": "8a59d183",
   "metadata": {},
   "outputs": [
    {
     "name": "stdout",
     "output_type": "stream",
     "text": [
      "[[11 12 13 14 15]\n",
      " [16 17 18 19 20]\n",
      " [21 22 23 24 25]\n",
      " [26 27 28 29 30]\n",
      " [31 32 33 34 35]]\n"
     ]
    }
   ],
   "source": [
    "a = reshape(arange(11,36,1),(5,5))\n",
    "print(a)"
   ]
  },
  {
   "cell_type": "code",
   "execution_count": 34,
   "id": "7ad99cd8",
   "metadata": {},
   "outputs": [
    {
     "name": "stdout",
     "output_type": "stream",
     "text": [
      "[[11 12 13]\n",
      " [16 17 18]]\n"
     ]
    }
   ],
   "source": [
    "print(a[0:2,0:3]) "
   ]
  },
  {
   "cell_type": "code",
   "execution_count": 35,
   "id": "7e8a84b7",
   "metadata": {},
   "outputs": [
    {
     "name": "stdout",
     "output_type": "stream",
     "text": [
      "[[24 25]\n",
      " [29 30]]\n"
     ]
    }
   ],
   "source": [
    "print(a[2:4,3:5])"
   ]
  },
  {
   "cell_type": "code",
   "execution_count": 36,
   "id": "ba4710d2",
   "metadata": {},
   "outputs": [
    {
     "name": "stdout",
     "output_type": "stream",
     "text": [
      "[[13 14 15]\n",
      " [18 19 20]]\n"
     ]
    }
   ],
   "source": [
    "print(a[0:2,2:])"
   ]
  },
  {
   "cell_type": "code",
   "execution_count": 37,
   "id": "afd1208a",
   "metadata": {},
   "outputs": [
    {
     "name": "stdout",
     "output_type": "stream",
     "text": [
      "[[24 25]\n",
      " [29 30]\n",
      " [34 35]]\n"
     ]
    }
   ],
   "source": [
    "print(a[2:,3:])"
   ]
  },
  {
   "cell_type": "code",
   "execution_count": 38,
   "id": "83ef936c",
   "metadata": {},
   "outputs": [
    {
     "name": "stdout",
     "output_type": "stream",
     "text": [
      "[[1 2 3]\n",
      " [4 5 6]]\n"
     ]
    }
   ],
   "source": [
    "# Matrices in numpy\n",
    "# matrix-name = matrix(2D array or string)\n",
    "from numpy import *\n",
    "arr = array([[1,2,3],[4,5,6]])\n",
    "a = matrix(arr)\n",
    "print(a)    "
   ]
  },
  {
   "cell_type": "code",
   "execution_count": 39,
   "id": "95b536d9",
   "metadata": {},
   "outputs": [
    {
     "name": "stdout",
     "output_type": "stream",
     "text": [
      "[[1 2 3]\n",
      " [4 5 6]]\n"
     ]
    }
   ],
   "source": [
    "a = matrix([[1,2,3],[4,5,6]])\n",
    "print(a)"
   ]
  },
  {
   "cell_type": "code",
   "execution_count": 40,
   "id": "43f78313",
   "metadata": {},
   "outputs": [
    {
     "name": "stdout",
     "output_type": "stream",
     "text": [
      "[[1 2]\n",
      " [3 4]\n",
      " [5 6]]\n"
     ]
    }
   ],
   "source": [
    "str = '1 2 ; 3 4 ; 5 6' # semicolons are used to seperate rows\n",
    "b = matrix(str)\n",
    "print(b)"
   ]
  },
  {
   "cell_type": "code",
   "execution_count": 41,
   "id": "86babfee",
   "metadata": {},
   "outputs": [
    {
     "name": "stdout",
     "output_type": "stream",
     "text": [
      "[[1 2]\n",
      " [3 4]\n",
      " [5 6]]\n"
     ]
    }
   ],
   "source": [
    "b = matrix('1 2; 3 4 ; 5 6')\n",
    "print(b)"
   ]
  },
  {
   "cell_type": "code",
   "execution_count": 42,
   "id": "4b553c43",
   "metadata": {},
   "outputs": [
    {
     "name": "stdout",
     "output_type": "stream",
     "text": [
      "[[1 2 3]\n",
      " [4 5 6]\n",
      " [7 8 9]]\n",
      "[1 5 9]\n"
     ]
    }
   ],
   "source": [
    "# diagonal() of matrix\n",
    "a = matrix('1 2 3 ; 4 5 6 ; 7 8 9')  #3x3 matrix\n",
    "print(a)\n",
    "d = diagonal(a)\n",
    "print(d)"
   ]
  },
  {
   "cell_type": "code",
   "execution_count": 43,
   "id": "8e6606c0",
   "metadata": {},
   "outputs": [
    {
     "name": "stdout",
     "output_type": "stream",
     "text": [
      "9\n",
      "1\n"
     ]
    }
   ],
   "source": [
    "# maximum and minimum elements\n",
    "big = a.max()\n",
    "print(big)\n",
    "\n",
    "small = a.min()\n",
    "print(small)"
   ]
  },
  {
   "cell_type": "code",
   "execution_count": 44,
   "id": "ba6c3ead",
   "metadata": {},
   "outputs": [
    {
     "name": "stdout",
     "output_type": "stream",
     "text": [
      "45\n",
      "5.0\n"
     ]
    }
   ],
   "source": [
    "# sum and average of elements\n",
    "print(a.sum())\n",
    "print(a.mean())"
   ]
  },
  {
   "cell_type": "code",
   "execution_count": 45,
   "id": "9a8cc82d",
   "metadata": {},
   "outputs": [
    {
     "name": "stdout",
     "output_type": "stream",
     "text": [
      "[[ 0  1  2  3]\n",
      " [ 4  5  6  7]\n",
      " [ 8  9 10 11]]\n",
      "[[  0  45 120 231]]\n",
      "[[   0]\n",
      " [ 840]\n",
      " [7920]]\n"
     ]
    }
   ],
   "source": [
    "# products of elements\n",
    "#prod(0) returns product of elements in each column\n",
    "#prod(1) returns product of elements in each row\n",
    "m = matrix(arange(12).reshape(3,4))\n",
    "print(m)\n",
    "a = m.prod(0)\n",
    "b = m.prod(1)\n",
    "print(a)\n",
    "print(b)"
   ]
  },
  {
   "cell_type": "code",
   "execution_count": 46,
   "id": "4060c631",
   "metadata": {},
   "outputs": [
    {
     "name": "stdout",
     "output_type": "stream",
     "text": [
      "[[5 4 1]\n",
      " [2 7 0]]\n",
      "[[1 4 5]\n",
      " [0 2 7]]\n",
      "[[2 4 0]\n",
      " [5 7 1]]\n"
     ]
    }
   ],
   "source": [
    "# sorting the matrix\n",
    "m = matrix([[5,4,1],[2,7,0]])\n",
    "print(m)\n",
    "a = sort(m)             # row wise sorting\n",
    "print(a)\n",
    "b = sort(m ,axis = 0)   # column vise sorting\n",
    "print(b)"
   ]
  },
  {
   "cell_type": "code",
   "execution_count": 47,
   "id": "41664e2b",
   "metadata": {},
   "outputs": [
    {
     "name": "stdout",
     "output_type": "stream",
     "text": [
      "[[1 2 3]\n",
      " [4 5 6]\n",
      " [7 8 9]]\n",
      "[[1 4 7]\n",
      " [2 5 8]\n",
      " [3 6 9]]\n"
     ]
    }
   ],
   "source": [
    "# transpose of matrix\n",
    "m = matrix('1 2 3; 4 5 6 ;7 8 9')\n",
    "print(m)\n",
    "t = m.transpose()\n",
    "print(t)"
   ]
  },
  {
   "cell_type": "code",
   "execution_count": 48,
   "id": "6606f5db",
   "metadata": {},
   "outputs": [
    {
     "name": "stdout",
     "output_type": "stream",
     "text": [
      "[[1 4 7]\n",
      " [2 5 8]\n",
      " [3 6 9]]\n"
     ]
    }
   ],
   "source": [
    "t1 = m.getT()         # transpose of matrix using getT()\n",
    "print(t1)"
   ]
  },
  {
   "cell_type": "code",
   "execution_count": 50,
   "id": "fd14c1f3",
   "metadata": {},
   "outputs": [
    {
     "name": "stdout",
     "output_type": "stream",
     "text": [
      "Enter rows , columns : 2,3\n",
      "Enter matrix elements : \n",
      "1 2 3 4 5 6\n",
      "The original matrix :\n",
      "[[1 2 3]\n",
      " [4 5 6]]\n",
      "Transpose of matrix :\n",
      "[[1 4]\n",
      " [2 5]\n",
      " [3 6]]\n"
     ]
    }
   ],
   "source": [
    "# a python program to get matrix from user and display its transpose\n",
    "from numpy import*\n",
    "\n",
    "# accept number of rows and columns into r ,c\n",
    "r,c = [int(a) for a in input(\"Enter rows , columns : \").split(',')]\n",
    "\n",
    "# accept matrix elements as a string into str\n",
    "str = input(\"Enter matrix elements : \\n\")\n",
    "\n",
    "# convert the string into matrix with size rxc\n",
    "x = reshape(matrix(str),(r,c))\n",
    "print('The original matrix :')\n",
    "print(x)\n",
    "\n",
    "print('Transpose of matrix :')\n",
    "y = x.transpose()\n",
    "print(y)"
   ]
  },
  {
   "cell_type": "code",
   "execution_count": 51,
   "id": "3c1f17ec",
   "metadata": {},
   "outputs": [
    {
     "name": "stdout",
     "output_type": "stream",
     "text": [
      "[[1 2 3]\n",
      " [4 5 6]]\n",
      "[[ 2  2  2]\n",
      " [ 1 -1  2]]\n",
      "[[3 4 5]\n",
      " [5 4 8]]\n"
     ]
    }
   ],
   "source": [
    "# matrix Addition and Multiplication\n",
    "a = matrix('1 2 3 ; 4 5 6')\n",
    "b = matrix('2 2 2 ; 1 -1 2')\n",
    "print(a)\n",
    "print(b)\n",
    "c = a + b\n",
    "print(c)"
   ]
  },
  {
   "cell_type": "code",
   "execution_count": 52,
   "id": "28cfe293",
   "metadata": {},
   "outputs": [
    {
     "name": "stdout",
     "output_type": "stream",
     "text": [
      "[[ 0.5  1.   1.5]\n",
      " [ 4.  -5.   3. ]]\n"
     ]
    }
   ],
   "source": [
    "d = a/b\n",
    "print(d)"
   ]
  },
  {
   "cell_type": "code",
   "execution_count": 53,
   "id": "4329d29e",
   "metadata": {},
   "outputs": [
    {
     "name": "stdout",
     "output_type": "stream",
     "text": [
      "[[1 2 3]\n",
      " [4 5 6]]\n",
      "[[ 1  0]\n",
      " [ 0  2]\n",
      " [ 1 -1]]\n",
      "[[ 4  1]\n",
      " [10  4]]\n"
     ]
    }
   ],
   "source": [
    "# multiplication of matrix occurs according to rules of mathematics \n",
    "# row by column\n",
    "# size of matrix if a = r1 x c1 b = r2 x c2 gives  r1xc2 iff c1 == r2\n",
    "# 2 x 3 matrix into 3 x 2  matrix gives 2 x 2 matrix\n",
    "a = matrix([[1,2,3],[4,5,6]])\n",
    "print(a)\n",
    "b = matrix([[1,0],[0,2],[1,-1]])\n",
    "print(b)\n",
    "c = a*b           # multiply a and b to get c\n",
    "print(c)          # display the resultant matrix    "
   ]
  },
  {
   "cell_type": "code",
   "execution_count": 54,
   "id": "925486a2",
   "metadata": {},
   "outputs": [
    {
     "name": "stdout",
     "output_type": "stream",
     "text": [
      "First matrix rows , cols :2 3\n",
      "Second matrix rows , cols :3 2\n",
      "Enter first matrix elements : \n",
      "1 2 3 4 5 6 \n",
      "Enter second matrix elements : \n",
      "1 0 0 2 1 -1\n",
      "The product of matrix : \n",
      "[[ 4  1]\n",
      " [10  4]]\n"
     ]
    }
   ],
   "source": [
    "# matrix multiplication\n",
    "import sys\n",
    "from numpy import *\n",
    "\n",
    "# accept number of rows and no. of columns of first matrix r1 ,c1\n",
    "r1 ,c1 =[int(a) for a in input(\"First matrix rows , cols :\").split()]\n",
    "\n",
    "# accept number of rows and no. of cols of second matrix r2,c2\n",
    "r2 ,c2 =[int(a) for a in input(\"Second matrix rows , cols :\").split()]\n",
    "\n",
    "# test condition if c1 != r2 , then multiplication is not possible\n",
    "if c1 != r2:\n",
    "    print('Multiplication is not possible')\n",
    "    sys.exit()       # terminate the program\n",
    "    \n",
    "# accept first matrix elements into a string str1\n",
    "str1 = input(\"Enter first matrix elements : \\n\")\n",
    "\n",
    "# convert str1 into matrix of size r1 x c1\n",
    "x = reshape(matrix(str1),(r1,c1))\n",
    "\n",
    "# accept second matrix elements as a string into str2\n",
    "str2 = input('Enter second matrix elements : \\n')\n",
    "\n",
    "# convert str2 into matrix of size r2 x c2\n",
    "y = reshape(matrix(str2),(r2,c2))\n",
    "\n",
    "print(\"The product of matrix : \")\n",
    "z = x * y\n",
    "print(z)"
   ]
  },
  {
   "cell_type": "code",
   "execution_count": 55,
   "id": "eea06e18",
   "metadata": {},
   "outputs": [
    {
     "name": "stdout",
     "output_type": "stream",
     "text": [
      "0.6361051893855216\n",
      "[0.2851321  0.09002375 0.01427744 0.2488404  0.01195407]\n",
      "[[0.87803848 0.64929154 0.01110025]\n",
      " [0.3663037  0.75253046 0.81813479]]\n"
     ]
    }
   ],
   "source": [
    "# random module\n",
    "print(random.rand())   # will generate a random number between 0.0 and 1.0\n",
    "a = random.rand(5)     # will create a 1D array with 5 random no.\n",
    "print(a)\n",
    "b = random.rand(2,3)   # will create a 2D array with 6 values in 2 rows and 3 column\n",
    "print(b)"
   ]
  },
  {
   "cell_type": "code",
   "execution_count": null,
   "id": "9750351c",
   "metadata": {},
   "outputs": [],
   "source": []
  }
 ],
 "metadata": {
  "kernelspec": {
   "display_name": "Python 3 (ipykernel)",
   "language": "python",
   "name": "python3"
  },
  "language_info": {
   "codemirror_mode": {
    "name": "ipython",
    "version": 3
   },
   "file_extension": ".py",
   "mimetype": "text/x-python",
   "name": "python",
   "nbconvert_exporter": "python",
   "pygments_lexer": "ipython3",
   "version": "3.9.7"
  }
 },
 "nbformat": 4,
 "nbformat_minor": 5
}
