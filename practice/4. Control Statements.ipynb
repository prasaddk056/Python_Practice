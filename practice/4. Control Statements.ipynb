{
 "cells": [
  {
   "cell_type": "code",
   "execution_count": 1,
   "id": "aacdace9",
   "metadata": {},
   "outputs": [
    {
     "name": "stdout",
     "output_type": "stream",
     "text": [
      "Enter radius : 15.5\n",
      "Area of circle =  754.7676350249478\n",
      "Area of circle = 754.77\n"
     ]
    }
   ],
   "source": [
    "# to find area of circle\n",
    "import math # here math module is imported\n",
    "r = float(input('Enter radius : '))\n",
    "area = math.pi*r**2  # pi is a constant in math module\n",
    "print('Area of circle = ', area)\n",
    "print('Area of circle = {:0.2f}'.format(area))"
   ]
  },
  {
   "cell_type": "code",
   "execution_count": 2,
   "id": "86ad48ca",
   "metadata": {},
   "outputs": [
    {
     "name": "stdout",
     "output_type": "stream",
     "text": [
      "One\n"
     ]
    }
   ],
   "source": [
    "# understanding if statement\n",
    "num = 1\n",
    "if num == 1:\n",
    "    print(\"One\")"
   ]
  },
  {
   "cell_type": "code",
   "execution_count": 3,
   "id": "a3cc7d9c",
   "metadata": {},
   "outputs": [
    {
     "name": "stdout",
     "output_type": "stream",
     "text": [
      "Yes\n",
      "This is what you said\n",
      "Your response is good\n"
     ]
    }
   ],
   "source": [
    "# understanding if statement\n",
    "str = 'Yes'\n",
    "if str =='Yes':\n",
    "    print('Yes')\n",
    "    print(\"This is what you said\")\n",
    "    print(\"Your response is good\")"
   ]
  },
  {
   "cell_type": "code",
   "execution_count": 4,
   "id": "bdf88874",
   "metadata": {},
   "outputs": [
    {
     "name": "stdout",
     "output_type": "stream",
     "text": [
      "10  is even number\n"
     ]
    }
   ],
   "source": [
    "# to know if a given number is even or odd\n",
    "x = 10\n",
    "if x % 2 == 0:\n",
    "    print(x, \" is even number\")\n",
    "else:\n",
    "    print(x, \" is odd number\")"
   ]
  },
  {
   "cell_type": "code",
   "execution_count": 5,
   "id": "3ec257b6",
   "metadata": {},
   "outputs": [
    {
     "name": "stdout",
     "output_type": "stream",
     "text": [
      "Enter a number : 11\n",
      "11  is odd number\n"
     ]
    }
   ],
   "source": [
    "# to know if a given number is even or odd - v2.0\n",
    "x = int(input(\"Enter a number : \"))\n",
    "if x % 2 == 0:\n",
    "    print(x ,\"is even number\")\n",
    "else:\n",
    "    print(x ,\" is odd number\")"
   ]
  },
  {
   "cell_type": "code",
   "execution_count": 6,
   "id": "31b2b863",
   "metadata": {},
   "outputs": [
    {
     "name": "stdout",
     "output_type": "stream",
     "text": [
      "Enter a number : 9\n",
      "You typed 9 which is between 1 and 10\n"
     ]
    }
   ],
   "source": [
    "# using 'and' in if ...else statement\n",
    "x = int(input(\"Enter a number : \"))\n",
    "if x >=1 and x<=10:\n",
    "    print(\"You typed\", x , \"which is between 1 and 10\")\n",
    "else:\n",
    "    print(\"You typed\", x , \"which is below 1 or above 10\")"
   ]
  },
  {
   "cell_type": "code",
   "execution_count": 7,
   "id": "2215f3f7",
   "metadata": {},
   "outputs": [
    {
     "name": "stdout",
     "output_type": "stream",
     "text": [
      "-5 is negative\n"
     ]
    }
   ],
   "source": [
    "# to know a given number is zero or +ve or -ve\n",
    "num = -5\n",
    "if num == 0:\n",
    "    print(num, 'is zero')\n",
    "elif num >0:\n",
    "    print(num, 'is positive')\n",
    "else:\n",
    "    print(num, 'is negative')"
   ]
  },
  {
   "cell_type": "code",
   "execution_count": 8,
   "id": "21df6fb3",
   "metadata": {},
   "outputs": [
    {
     "name": "stdout",
     "output_type": "stream",
     "text": [
      "Enter a digit : 5\n",
      "FIVE\n"
     ]
    }
   ],
   "source": [
    "# to display a numeric digits in words\n",
    "x = int(input('Enter a digit : '))\n",
    "if x == 0:\n",
    "    print('ZERO')\n",
    "elif x == 1:\n",
    "    print('ONE')\n",
    "elif x == 2:\n",
    "    print('TWO')\n",
    "elif x == 3:\n",
    "    print('THREE')\n",
    "elif x == 4:\n",
    "    print('FOUR')\n",
    "elif x == 5:\n",
    "    print('FIVE')\n",
    "elif x == 6:\n",
    "    print('SIX')\n",
    "elif x == 7:\n",
    "    print('SEVEN')\n",
    "elif x == 8:\n",
    "    print('EIGHT')\n",
    "elif x == 9:\n",
    "    print('NINE')\n",
    "# else part is not compulsory\n",
    "else:\n",
    "    print(\"Please Enter a Digit between 0 and 9\")"
   ]
  },
  {
   "cell_type": "code",
   "execution_count": 9,
   "id": "b525b406",
   "metadata": {},
   "outputs": [
    {
     "name": "stdout",
     "output_type": "stream",
     "text": [
      "1\n",
      "2\n",
      "3\n",
      "4\n",
      "5\n",
      "6\n",
      "7\n",
      "8\n",
      "9\n",
      "10\n",
      "End\n"
     ]
    }
   ],
   "source": [
    "# to display numbers from 0 to 10\n",
    "x = 1\n",
    "while x<=10:\n",
    "    print(x)\n",
    "    x += 1\n",
    "print(\"End\")"
   ]
  },
  {
   "cell_type": "code",
   "execution_count": 10,
   "id": "1af591f3",
   "metadata": {},
   "outputs": [
    {
     "name": "stdout",
     "output_type": "stream",
     "text": [
      "1\n",
      "End\n",
      "2\n",
      "End\n",
      "3\n",
      "End\n",
      "4\n",
      "End\n",
      "5\n",
      "End\n",
      "6\n",
      "End\n",
      "7\n",
      "End\n",
      "8\n",
      "End\n",
      "9\n",
      "End\n",
      "10\n",
      "End\n"
     ]
    }
   ],
   "source": [
    "x = 1\n",
    "while x<=10:\n",
    "    print(x)\n",
    "    x += 1\n",
    "    print(\"End\")"
   ]
  },
  {
   "cell_type": "code",
   "execution_count": 12,
   "id": "35572d63",
   "metadata": {},
   "outputs": [
    {
     "name": "stdout",
     "output_type": "stream",
     "text": [
      "100\n",
      "102\n",
      "104\n",
      "106\n",
      "108\n",
      "110\n",
      "112\n",
      "114\n",
      "116\n",
      "118\n",
      "120\n",
      "122\n",
      "124\n",
      "126\n",
      "128\n",
      "130\n",
      "132\n",
      "134\n",
      "136\n",
      "138\n",
      "140\n",
      "142\n",
      "144\n",
      "146\n",
      "148\n",
      "150\n",
      "152\n",
      "154\n",
      "156\n",
      "158\n",
      "160\n",
      "162\n",
      "164\n",
      "166\n",
      "168\n",
      "170\n",
      "172\n",
      "174\n",
      "176\n",
      "178\n",
      "180\n",
      "182\n",
      "184\n",
      "186\n",
      "188\n",
      "190\n",
      "192\n",
      "194\n",
      "196\n",
      "198\n",
      "200\n"
     ]
    }
   ],
   "source": [
    "# to display even numbers between 100 and 200\n",
    "x = 100\n",
    "while x >= 100 and x <= 200:\n",
    "    print(x)\n",
    "    x += 2"
   ]
  },
  {
   "cell_type": "code",
   "execution_count": 13,
   "id": "89bafe2c",
   "metadata": {},
   "outputs": [
    {
     "name": "stdout",
     "output_type": "stream",
     "text": [
      "Enter minimum and maximum range : 11,20\n",
      "12\n",
      "14\n",
      "16\n",
      "18\n",
      "20\n"
     ]
    }
   ],
   "source": [
    "# to display even numbers between m and n\n",
    "m,n = [int(i) for i in input(\"Enter minimum and maximum range : \").split(',')]\n",
    "x = m   # start from m onwards\n",
    "if x % 2 != 0:\n",
    "    #if x is not even , start from next number\n",
    "    x = x+1\n",
    "    \n",
    "while x >=m and x<= n:\n",
    "    print(x)\n",
    "    x +=2"
   ]
  },
  {
   "cell_type": "code",
   "execution_count": 14,
   "id": "f7f00de2",
   "metadata": {},
   "outputs": [
    {
     "name": "stdout",
     "output_type": "stream",
     "text": [
      "H\n",
      "e\n",
      "l\n",
      "l\n",
      "o\n"
     ]
    }
   ],
   "source": [
    "# to display each character from a string\n",
    "str = 'Hello'\n",
    "for ch in str:\n",
    "    print(ch)"
   ]
  },
  {
   "cell_type": "code",
   "execution_count": 16,
   "id": "546349cb",
   "metadata": {},
   "outputs": [
    {
     "name": "stdout",
     "output_type": "stream",
     "text": [
      "H\n",
      "e\n",
      "l\n",
      "l\n",
      "o\n"
     ]
    }
   ],
   "source": [
    "# to display each character from a string - v2.0\n",
    "str = 'Hello'\n",
    "n = len(str)  # find no. of chars in str\n",
    "for i in range(n):\n",
    "    print(str[i])"
   ]
  },
  {
   "cell_type": "code",
   "execution_count": 17,
   "id": "673f5bcc",
   "metadata": {},
   "outputs": [
    {
     "name": "stdout",
     "output_type": "stream",
     "text": [
      "1\n",
      "3\n",
      "5\n",
      "7\n",
      "9\n",
      "11\n",
      "13\n",
      "15\n",
      "17\n",
      "19\n"
     ]
    }
   ],
   "source": [
    "# to display odd numbers between 1 and 10\n",
    "for i in range(1,20,2):\n",
    "    print(i)"
   ]
  },
  {
   "cell_type": "code",
   "execution_count": 18,
   "id": "4b91f780",
   "metadata": {},
   "outputs": [
    {
     "name": "stdout",
     "output_type": "stream",
     "text": [
      "10\n",
      "9\n",
      "8\n",
      "7\n",
      "6\n",
      "5\n",
      "4\n",
      "3\n",
      "2\n",
      "1\n"
     ]
    }
   ],
   "source": [
    "# to display numbers in descending order\n",
    "for x in range(10,0,-1):\n",
    "    print(x)"
   ]
  },
  {
   "cell_type": "code",
   "execution_count": 19,
   "id": "cabc0eb0",
   "metadata": {},
   "outputs": [
    {
     "name": "stdout",
     "output_type": "stream",
     "text": [
      "10\n",
      "20.5\n",
      "A\n",
      "America\n"
     ]
    }
   ],
   "source": [
    "# take a list of elements\n",
    "list = [10,20.5,'A','America']\n",
    "# display each element from the list\n",
    "for element in list:\n",
    "    print(element)"
   ]
  },
  {
   "cell_type": "code",
   "execution_count": 20,
   "id": "c65b3d1d",
   "metadata": {},
   "outputs": [
    {
     "name": "stdout",
     "output_type": "stream",
     "text": [
      "10\n",
      "20\n",
      "30\n",
      "40\n",
      "50\n",
      "Sum =  150\n"
     ]
    }
   ],
   "source": [
    "# to find sum of list of numbers using for\n",
    "#take a list of numbers\n",
    "list = [10,20,30,40,50]\n",
    "sum = 0 # initially sum is zero\n",
    "for i in list:\n",
    "    print(i)  # display the element from list\n",
    "    sum += i  # add each element to sum\n",
    "print('Sum = ',sum)"
   ]
  },
  {
   "cell_type": "code",
   "execution_count": 21,
   "id": "c2abec6d",
   "metadata": {},
   "outputs": [
    {
     "name": "stdout",
     "output_type": "stream",
     "text": [
      "10\n",
      "20\n",
      "30\n",
      "40\n",
      "50\n",
      "Sum =  150\n"
     ]
    }
   ],
   "source": [
    "# to find sum of list of numbers using while -v2.0\n",
    "# take a list of numbers\n",
    "list = [10,20,30,40,50]\n",
    "sum = 0\n",
    "i = 0   # take a variable\n",
    "while i <len(list):\n",
    "    print(list[i])\n",
    "    sum += list[i]\n",
    "    i +=1\n",
    "print(\"Sum = \",sum)"
   ]
  },
  {
   "cell_type": "code",
   "execution_count": 22,
   "id": "f80f3244",
   "metadata": {},
   "outputs": [
    {
     "name": "stdout",
     "output_type": "stream",
     "text": [
      "i =  0 \t j =  0\n",
      "i =  0 \t j =  1\n",
      "i =  0 \t j =  2\n",
      "i =  0 \t j =  3\n",
      "i =  1 \t j =  0\n",
      "i =  1 \t j =  1\n",
      "i =  1 \t j =  2\n",
      "i =  1 \t j =  3\n",
      "i =  2 \t j =  0\n",
      "i =  2 \t j =  1\n",
      "i =  2 \t j =  2\n",
      "i =  2 \t j =  3\n"
     ]
    }
   ],
   "source": [
    "for i in range(3):  # i values are from 0 to 2\n",
    "    for j in range(4):   # j values are from 0 to 3\n",
    "        print('i = ',i,'\\t','j = ',j)# display i and j values"
   ]
  },
  {
   "cell_type": "code",
   "execution_count": 23,
   "id": "0cc67d3a",
   "metadata": {},
   "outputs": [
    {
     "name": "stdout",
     "output_type": "stream",
     "text": [
      "* \n",
      "* * \n",
      "* * * \n",
      "* * * * \n",
      "* * * * * \n",
      "* * * * * * \n",
      "* * * * * * * \n",
      "* * * * * * * * \n",
      "* * * * * * * * * \n",
      "* * * * * * * * * * \n"
     ]
    }
   ],
   "source": [
    "# to display stars in right angled triangular form \n",
    "for i in range(1,11):   # to display 10 rows\n",
    "    for j in range(1,i+1):      # no. of stars  = row numbers\n",
    "        print('* ',end='')\n",
    "    print()"
   ]
  },
  {
   "cell_type": "code",
   "execution_count": 24,
   "id": "ff3ef67a",
   "metadata": {},
   "outputs": [
    {
     "name": "stdout",
     "output_type": "stream",
     "text": [
      "* \n",
      "* * \n",
      "* * * \n",
      "* * * * \n",
      "* * * * * \n",
      "* * * * * * \n",
      "* * * * * * * \n",
      "* * * * * * * * \n",
      "* * * * * * * * * \n",
      "* * * * * * * * * * \n"
     ]
    }
   ],
   "source": [
    "# to display stars in right angled triangular form - v2.0\n",
    "for i in range(1,11):\n",
    "    print('* '*(i))    # repeat star for i times"
   ]
  },
  {
   "cell_type": "code",
   "execution_count": 25,
   "id": "1cf34923",
   "metadata": {},
   "outputs": [
    {
     "name": "stdout",
     "output_type": "stream",
     "text": [
      "                                        * \n",
      "                                       * * \n",
      "                                      * * * \n",
      "                                     * * * * \n",
      "                                    * * * * * \n",
      "                                   * * * * * * \n",
      "                                  * * * * * * * \n",
      "                                 * * * * * * * * \n",
      "                                * * * * * * * * * \n",
      "                               * * * * * * * * * * \n"
     ]
    }
   ],
   "source": [
    "# to display stars in equilateral triangular form \n",
    "n = 40\n",
    "for i in range(1,11):\n",
    "    print(' '*n,end='')  # repeat space for n times\n",
    "    print('* '*(i))  # repeat star for i times\n",
    "    n -=1"
   ]
  },
  {
   "cell_type": "code",
   "execution_count": 26,
   "id": "5da399d0",
   "metadata": {},
   "outputs": [
    {
     "name": "stdout",
     "output_type": "stream",
     "text": [
      "                                       * \n",
      "                                      * * \n",
      "                                     * * * \n",
      "                                    * * * * \n",
      "                                   * * * * * \n",
      "                                  * * * * * * \n",
      "                                 * * * * * * * \n",
      "                                * * * * * * * * \n",
      "                               * * * * * * * * * \n",
      "                              * * * * * * * * * * \n"
     ]
    }
   ],
   "source": [
    "n = 40\n",
    "for i in range(1,11):\n",
    "    print(' '*(n-i) + '* '*(i))"
   ]
  },
  {
   "cell_type": "code",
   "execution_count": 28,
   "id": "772cf343",
   "metadata": {},
   "outputs": [
    {
     "name": "stdout",
     "output_type": "stream",
     "text": [
      "       1       2       3       4       5       6       7       8       9      10\n",
      "       2       4       6       8      10      12      14      16      18      20\n",
      "       3       6       9      12      15      18      21      24      27      30\n",
      "       4       8      12      16      20      24      28      32      36      40\n",
      "       5      10      15      20      25      30      35      40      45      50\n",
      "       6      12      18      24      30      36      42      48      54      60\n",
      "       7      14      21      28      35      42      49      56      63      70\n",
      "       8      16      24      32      40      48      56      64      72      80\n",
      "       9      18      27      36      45      54      63      72      81      90\n",
      "      10      20      30      40      50      60      70      80      90     100\n"
     ]
    }
   ],
   "source": [
    "# displaying numbers from 1 to 100 in 10 rows and 10 coloumns\n",
    "for x in range(1,11):\n",
    "    for y in range(1,11):\n",
    "        print('{:8}'.format(x*y),end='')  # each column size is 8\n",
    "    print()"
   ]
  },
  {
   "cell_type": "code",
   "execution_count": 33,
   "id": "9ada47b2",
   "metadata": {},
   "outputs": [
    {
     "name": "stdout",
     "output_type": "stream",
     "text": [
      "         1         2         3         4         5         6         7         8         9        10\n",
      "         2         4         6         8        10        12        14        16        18        20\n",
      "         3         6         9        12        15        18        21        24        27        30\n",
      "         4         8        12        16        20        24        28        32        36        40\n",
      "         5        10        15        20        25        30        35        40        45        50\n",
      "         6        12        18        24        30        36        42        48        54        60\n",
      "         7        14        21        28        35        42        49        56        63        70\n",
      "         8        16        24        32        40        48        56        64        72        80\n",
      "         9        18        27        36        45        54        63        72        81        90\n",
      "        10        20        30        40        50        60        70        80        90       100\n"
     ]
    }
   ],
   "source": [
    "for x in range(1,11):\n",
    "    for y in range(1,11):\n",
    "        print('{:10}'.format(x*y),end='')  # each column size is 10   # space between each column\n",
    "    print()"
   ]
  },
  {
   "cell_type": "code",
   "execution_count": 34,
   "id": "531e453f",
   "metadata": {},
   "outputs": [
    {
     "name": "stdout",
     "output_type": "stream",
     "text": [
      "Yes\n",
      "Yes\n",
      "Yes\n",
      "Yes\n",
      "Yes\n",
      "No\n"
     ]
    }
   ],
   "source": [
    "for i in range(5):\n",
    "    print(\"Yes\")\n",
    "else:\n",
    "    print(\"No\")"
   ]
  },
  {
   "cell_type": "code",
   "execution_count": 35,
   "id": "c6739257",
   "metadata": {},
   "outputs": [
    {
     "name": "stdout",
     "output_type": "stream",
     "text": [
      "No\n"
     ]
    }
   ],
   "source": [
    "for i in range(0):\n",
    "    print('Yes')\n",
    "else:\n",
    "    print(\"No\")"
   ]
  },
  {
   "cell_type": "code",
   "execution_count": 37,
   "id": "4632152f",
   "metadata": {},
   "outputs": [
    {
     "name": "stdout",
     "output_type": "stream",
     "text": [
      "Enter element to search : 4\n",
      "Element found in group1\n"
     ]
    }
   ],
   "source": [
    "# searching for an element in a list\n",
    "group1 = [1,2,3,4,5]  # take a list of elements\n",
    "search = int(input(\"Enter element to search : \"))\n",
    "for element in group1:\n",
    "    if search == element:\n",
    "        print('Element found in group1')\n",
    "        break   # come out of loop\n",
    "else:\n",
    "    print('Element not found in group1')  # this is else suite"
   ]
  },
  {
   "cell_type": "code",
   "execution_count": 38,
   "id": "517de5fe",
   "metadata": {},
   "outputs": [
    {
     "name": "stdout",
     "output_type": "stream",
     "text": [
      "x =  10\n",
      "x =  9\n",
      "x =  8\n",
      "x =  7\n",
      "x =  6\n",
      "x =  5\n",
      "x =  4\n",
      "x =  3\n",
      "x =  2\n",
      "x =  1\n",
      "out of loop\n"
     ]
    }
   ],
   "source": [
    "x = 10\n",
    "while x >= 1:\n",
    "    print(\"x = \",x)\n",
    "    x -= 1\n",
    "print('out of loop')"
   ]
  },
  {
   "cell_type": "code",
   "execution_count": 39,
   "id": "8e298225",
   "metadata": {},
   "outputs": [
    {
     "name": "stdout",
     "output_type": "stream",
     "text": [
      "x =  10\n",
      "x =  9\n",
      "x =  8\n",
      "x =  7\n",
      "x =  6\n",
      "out of loop\n"
     ]
    }
   ],
   "source": [
    "# using break to come out of while loop \n",
    "x = 10\n",
    "while x >=1:\n",
    "    print(\"x = \",x)\n",
    "    x -= 1\n",
    "    if x == 5: # if x is 5 then come out from while loop\n",
    "        break\n",
    "print('out of loop')"
   ]
  },
  {
   "cell_type": "code",
   "execution_count": 40,
   "id": "25fe8a08",
   "metadata": {},
   "outputs": [
    {
     "name": "stdout",
     "output_type": "stream",
     "text": [
      "x =  1\n",
      "x =  2\n",
      "x =  3\n",
      "x =  4\n",
      "x =  5\n",
      "out of loop\n"
     ]
    }
   ],
   "source": [
    "# Using continue to execute next iteration of while loop\n",
    "x = 0\n",
    "while x <10:\n",
    "    x += 1\n",
    "    if x >5:   # if x is greater than 5 then continue next iteration\n",
    "        continue\n",
    "    print('x = ',x)\n",
    "print('out of loop')\n",
    "    "
   ]
  },
  {
   "cell_type": "code",
   "execution_count": 41,
   "id": "84d2f3d9",
   "metadata": {},
   "outputs": [
    {
     "name": "stdout",
     "output_type": "stream",
     "text": [
      "x =  1\n",
      "x =  2\n",
      "x =  3\n",
      "x =  4\n",
      "x =  5\n",
      "x =  6\n",
      "x =  7\n",
      "x =  8\n",
      "x =  9\n",
      "x =  10\n",
      "out of loop\n"
     ]
    }
   ],
   "source": [
    "# Using pass to do nothing\n",
    "x = 0\n",
    "while x <10:\n",
    "    x +=1\n",
    "    if x>5:  # if x > 5 then continue next iteration\n",
    "        pass\n",
    "    print('x = ',x)\n",
    "print(\"out of loop\")"
   ]
  },
  {
   "cell_type": "code",
   "execution_count": 42,
   "id": "94c2b9ac",
   "metadata": {},
   "outputs": [
    {
     "name": "stdout",
     "output_type": "stream",
     "text": [
      "-4\n",
      "-5\n",
      "-6\n",
      "-7\n"
     ]
    }
   ],
   "source": [
    "# Retrieving only negative numbers from a list\n",
    "num = [1,2,3,-4,-5,-6,-7,8,9]\n",
    "for i in num:\n",
    "    if(i>0):\n",
    "        pass  # we are not interested\n",
    "    else:\n",
    "        print(i)   # this is what needed"
   ]
  },
  {
   "cell_type": "code",
   "execution_count": 43,
   "id": "2ab379ed",
   "metadata": {},
   "outputs": [
    {
     "name": "stdout",
     "output_type": "stream",
     "text": [
      "Enter a number grater than 0 : 5\n",
      "U entered :  5\n"
     ]
    }
   ],
   "source": [
    "# Understanding assert statement\n",
    "x = int(input('Enter a number grater than 0 : '))\n",
    "assert x>0 ,\"Wrong input entered\"\n",
    "print('U entered : ',x)"
   ]
  },
  {
   "cell_type": "code",
   "execution_count": 44,
   "id": "f1d64b9d",
   "metadata": {},
   "outputs": [
    {
     "name": "stdout",
     "output_type": "stream",
     "text": [
      "Enter a number grater than 0 : -2\n"
     ]
    },
    {
     "ename": "AssertionError",
     "evalue": "Wrong input entered",
     "output_type": "error",
     "traceback": [
      "\u001b[1;31m---------------------------------------------------------------------------\u001b[0m",
      "\u001b[1;31mAssertionError\u001b[0m                            Traceback (most recent call last)",
      "\u001b[1;32m~\\AppData\\Local\\Temp/ipykernel_14096/3673647058.py\u001b[0m in \u001b[0;36m<module>\u001b[1;34m\u001b[0m\n\u001b[0;32m      1\u001b[0m \u001b[0mx\u001b[0m \u001b[1;33m=\u001b[0m \u001b[0mint\u001b[0m\u001b[1;33m(\u001b[0m\u001b[0minput\u001b[0m\u001b[1;33m(\u001b[0m\u001b[1;34m'Enter a number grater than 0 : '\u001b[0m\u001b[1;33m)\u001b[0m\u001b[1;33m)\u001b[0m\u001b[1;33m\u001b[0m\u001b[1;33m\u001b[0m\u001b[0m\n\u001b[1;32m----> 2\u001b[1;33m \u001b[1;32massert\u001b[0m \u001b[0mx\u001b[0m\u001b[1;33m>\u001b[0m\u001b[1;36m0\u001b[0m \u001b[1;33m,\u001b[0m\u001b[1;34m\"Wrong input entered\"\u001b[0m\u001b[1;33m\u001b[0m\u001b[1;33m\u001b[0m\u001b[0m\n\u001b[0m\u001b[0;32m      3\u001b[0m \u001b[0mprint\u001b[0m\u001b[1;33m(\u001b[0m\u001b[1;34m'U entered : '\u001b[0m\u001b[1;33m,\u001b[0m\u001b[0mx\u001b[0m\u001b[1;33m)\u001b[0m\u001b[1;33m\u001b[0m\u001b[1;33m\u001b[0m\u001b[0m\n",
      "\u001b[1;31mAssertionError\u001b[0m: Wrong input entered"
     ]
    }
   ],
   "source": [
    "x = int(input('Enter a number grater than 0 : '))\n",
    "assert x>0 ,\"Wrong input entered\"\n",
    "print('U entered : ',x)"
   ]
  },
  {
   "cell_type": "code",
   "execution_count": 45,
   "id": "231d5e7b",
   "metadata": {},
   "outputs": [
    {
     "name": "stdout",
     "output_type": "stream",
     "text": [
      "Enter a number greater than 0: -5\n",
      "Wrong input entered\n"
     ]
    }
   ],
   "source": [
    "# to handle AssertionError raised by assert\n",
    "x = int(input('Enter a number greater than 0: '))\n",
    "try:\n",
    "    assert(x>0)  # exception may occur here\n",
    "    print('U entered : ',x)\n",
    "except AssertionError:\n",
    "    print('Wrong input entered')   # this is executeed in case of exception"
   ]
  },
  {
   "cell_type": "code",
   "execution_count": 46,
   "id": "7218e323",
   "metadata": {},
   "outputs": [
    {
     "name": "stdout",
     "output_type": "stream",
     "text": [
      "Sum =  15\n",
      "Sum =  4.0\n"
     ]
    }
   ],
   "source": [
    "# a function to find sum of two numbers\n",
    "def sum(a,b):\n",
    "    print('Sum = ',a+b)\n",
    "    \n",
    "sum(5,10)   # call sum() and pass 5 and 10\n",
    "sum(1.5,2.5)  # call sum() and pass 1.5 and 2.5"
   ]
  },
  {
   "cell_type": "code",
   "execution_count": 47,
   "id": "60ea0502",
   "metadata": {},
   "outputs": [
    {
     "name": "stdout",
     "output_type": "stream",
     "text": [
      "The result is 15\n"
     ]
    }
   ],
   "source": [
    "# a function to return sum of two numbers\n",
    "def sum(a,b):\n",
    "    return a+b   # result is returned from here\n",
    "#call sum() and pass 5 and 10\n",
    "#get the returned result into res\n",
    "res = sum(5,10)\n",
    "print('The result is',res)"
   ]
  },
  {
   "cell_type": "code",
   "execution_count": 49,
   "id": "d7abd986",
   "metadata": {},
   "outputs": [
    {
     "name": "stdout",
     "output_type": "stream",
     "text": [
      "Upto what number? 30\n",
      "2\n",
      "3\n",
      "5\n",
      "7\n",
      "11\n",
      "13\n",
      "17\n",
      "19\n",
      "23\n",
      "29\n"
     ]
    }
   ],
   "source": [
    "# program to print prime numbers upto a given number\n",
    "# accept upto what number the user wants\n",
    "max = int(input(\"Upto what number? \"))\n",
    "for num in range(2,max+1):                # generate from 2 onwards till max\n",
    "    for i in range(2,num):                # i represent numbers from 2 to num-1\n",
    "        if (num % i) == 0:                # if num is divisible by i\n",
    "            break                         # then it is not prime , hence go back and check next number\n",
    "    else:\n",
    "         print(num)                    # otherwise it is prime and hence display\n",
    "    "
   ]
  },
  {
   "cell_type": "code",
   "execution_count": 50,
   "id": "8ed756ea",
   "metadata": {},
   "outputs": [
    {
     "name": "stdout",
     "output_type": "stream",
     "text": [
      "How many Fibbonaccis ? 10\n",
      "0\n",
      "1\n",
      "1\n",
      "2\n",
      "3\n",
      "5\n",
      "8\n",
      "13\n",
      "21\n",
      "34\n"
     ]
    }
   ],
   "source": [
    "# program to display Fibbonacci series\n",
    "n = int(input('How many Fibbonaccis ? '))\n",
    "f1 = 0  # this is first Fibonaccis no. \n",
    "f2 = 1  # this is second one\n",
    "c = 2   # counts the no. of Fibonaccis\n",
    "if n == 1:\n",
    "    print(f1)\n",
    "elif n == 2:\n",
    "    print(f1, '\\n' , f2 ,sep='')\n",
    "else:\n",
    "    print(f1, '\\n' , f2 ,sep='')\n",
    "    while c<n:\n",
    "        f = f1+f2      # add two Fibonaccis to get the new one\n",
    "        print(f)\n",
    "        f1,f2 = f2,f   # this is same as f1 =f2 ,f2=f\n",
    "        c  += 1        # increment counter"
   ]
  },
  {
   "cell_type": "code",
   "execution_count": 52,
   "id": "4fcea823",
   "metadata": {},
   "outputs": [
    {
     "name": "stdout",
     "output_type": "stream",
     "text": [
      "Enter angle value , no of iterations : 60,10\n",
      "Iteration = 1\t Sum = 1.047197\n",
      "Iteration = 2\t Sum= 0.855800\n",
      "Iteration = 3\t Sum= 0.866295\n",
      "Iteration = 4\t Sum= 0.866021\n",
      "Iteration = 5\t Sum= 0.866025\n",
      "Iteration = 6\t Sum= 0.866025\n",
      "Iteration = 7\t Sum= 0.866025\n",
      "Iteration = 8\t Sum= 0.866025\n",
      "Iteration = 9\t Sum= 0.866025\n",
      "Iteration = 10\t Sum= 0.866025\n"
     ]
    }
   ],
   "source": [
    "# program to evaluate Sine series\n",
    "# accept user input\n",
    "x,n = [int(i) for i in input(\"Enter angle value , no of iterations : \").split(',')]\n",
    "# convert the angle from degreees into radians\n",
    "r = (x*3.14159)/180\n",
    "# this becomes the first term\n",
    "t = r\n",
    "# till now , find the sum \n",
    "sum = r\n",
    "#display the iterations number and sum\n",
    "print('Iteration = %d\\t Sum = %f'%(1,sum))\n",
    "# denominator for the second term \n",
    "i = 2\n",
    "# repeat for 2nd to n th terms\n",
    "for j in range(2,n+1):\n",
    "    t =(-1)*t*r*r/(i*(i+1)) # find the next term \n",
    "    sum = sum+t             # add it to sum\n",
    "    print('Iteration = %d\\t Sum = %f'%(j,sum))\n",
    "    i += 2  # increase i value by 2 for denominator for next term"
   ]
  },
  {
   "cell_type": "code",
   "execution_count": 53,
   "id": "e15c69ab",
   "metadata": {},
   "outputs": [
    {
     "name": "stdout",
     "output_type": "stream",
     "text": [
      "Enter angle value , no. of iterations : 60,10\n",
      "Iteration = 1\tSum = 1.000000\n",
      "Iteration = 2\t Sum = 0.451690\n",
      "Iteration = 3\t Sum = 0.501797\n",
      "Iteration = 4\t Sum = 0.499965\n",
      "Iteration = 5\t Sum = 0.500001\n",
      "Iteration = 6\t Sum = 0.500001\n",
      "Iteration = 7\t Sum = 0.500001\n",
      "Iteration = 8\t Sum = 0.500001\n",
      "Iteration = 9\t Sum = 0.500001\n",
      "Iteration = 10\t Sum = 0.500001\n"
     ]
    }
   ],
   "source": [
    "# program to evaluate Cosine series\n",
    "# accept user input\n",
    "x,n = [int(i) for i in input(\"Enter angle value , no. of iterations : \").split(',')]\n",
    "# convert the angle from degrees into radians\n",
    "r = (x*3.14159)/180\n",
    "# this becomes the first term \n",
    "t = 1\n",
    "# till now sum is 1 only \n",
    "sum = 1\n",
    "# display the iteration number and sum\n",
    "print(\"Iteration = %d\\t Sum = %f\"%(1,sum))\n",
    "# denominator for the second term\n",
    "i = 1\n",
    "# repeat for 2nd to nth terms\n",
    "for j in range(2,n+1):\n",
    "    t =(-1)*t*r*r/(i*(i+1)) # find the next term \n",
    "    sum = sum+t             # add it to sum\n",
    "    print('Iteration = %d\\t Sum = %f'%(j,sum))\n",
    "    i += 2  # increase i value by 2 for denominator for next term\n",
    "    \n"
   ]
  },
  {
   "cell_type": "code",
   "execution_count": 54,
   "id": "c4d20f64",
   "metadata": {},
   "outputs": [
    {
     "name": "stdout",
     "output_type": "stream",
     "text": [
      "Enter power of e , no. of iterations : 2,15\n",
      "Iterations = 1\tSum = 1.000000\n",
      "Iterations = 2\tSum = 3.000000\n",
      "Iterations = 3\tSum = 5.000000\n",
      "Iterations = 4\tSum = 6.333333\n",
      "Iterations = 5\tSum = 7.000000\n",
      "Iterations = 6\tSum = 7.266667\n",
      "Iterations = 7\tSum = 7.355556\n",
      "Iterations = 8\tSum = 7.380952\n",
      "Iterations = 9\tSum = 7.387302\n",
      "Iterations = 10\tSum = 7.388713\n",
      "Iterations = 11\tSum = 7.388995\n",
      "Iterations = 12\tSum = 7.389046\n",
      "Iterations = 13\tSum = 7.389055\n",
      "Iterations = 14\tSum = 7.389056\n",
      "Iterations = 15\tSum = 7.389056\n"
     ]
    }
   ],
   "source": [
    "# program to evaluate Exponential series\n",
    "# accept user input\n",
    "x , n = [int(i) for i in input(\"Enter power of e , no. of iterations : \").split(',')]\n",
    "# this becomes the first term \n",
    "t = 1\n",
    "# till now , sum is 1 only \n",
    "sum = t\n",
    "# display the iteration number and sum\n",
    "print('Iterations = %d\\tSum = %f'%(1,sum))\n",
    "# repeat for 1 st to n-1 th terms\n",
    "for j in range(1,n):\n",
    "    t = t *x/j      # find the next term\n",
    "    sum = sum +t    # add it to sum\n",
    "    print('Iterations = %d\\tSum = %f'%(j+1,sum))"
   ]
  },
  {
   "cell_type": "code",
   "execution_count": null,
   "id": "86382168",
   "metadata": {},
   "outputs": [],
   "source": []
  }
 ],
 "metadata": {
  "kernelspec": {
   "display_name": "Python 3 (ipykernel)",
   "language": "python",
   "name": "python3"
  },
  "language_info": {
   "codemirror_mode": {
    "name": "ipython",
    "version": 3
   },
   "file_extension": ".py",
   "mimetype": "text/x-python",
   "name": "python",
   "nbconvert_exporter": "python",
   "pygments_lexer": "ipython3",
   "version": "3.9.7"
  }
 },
 "nbformat": 4,
 "nbformat_minor": 5
}
