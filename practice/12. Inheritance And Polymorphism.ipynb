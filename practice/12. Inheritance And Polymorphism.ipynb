{
 "cells": [
  {
   "cell_type": "code",
   "execution_count": 1,
   "id": "2ab6a5f4",
   "metadata": {},
   "outputs": [],
   "source": [
    "# this is Teacher class \n",
    "class Teacher :\n",
    "    def setid(self,id):\n",
    "        self.id = id\n",
    "        \n",
    "    def getid(self):\n",
    "        return self.id\n",
    "    \n",
    "    def setname(self,name):\n",
    "        self.name = name \n",
    "    \n",
    "    def getname(self):\n",
    "        return self.name\n",
    "    \n",
    "    def setaddress(self,address):\n",
    "        self.address = address\n",
    "        \n",
    "    def getaddress(self):\n",
    "        return self.address\n",
    "    \n",
    "    def setsalary(self,salary):\n",
    "        self.salary = salary\n",
    "        \n",
    "    def getsalary(self):\n",
    "        return self.salary\n"
   ]
  },
  {
   "cell_type": "code",
   "execution_count": 2,
   "id": "4aa7bbbb",
   "metadata": {},
   "outputs": [
    {
     "name": "stdout",
     "output_type": "stream",
     "text": [
      "id =  10\n",
      "name =  Prakash\n",
      "address =  HNO -10 Raajouri gradens , Delhi\n",
      "salary =  25000.5\n"
     ]
    }
   ],
   "source": [
    "# create an instance\n",
    "t = Teacher()\n",
    "\n",
    "# store data into the instance\n",
    "t.setid(10)\n",
    "t.setname(\"Prakash\")\n",
    "t.setaddress(\"HNO -10 Raajouri gradens , Delhi\")\n",
    "t.setsalary(25000.50)\n",
    "\n",
    "# retrieve data from instance and display\n",
    "print(\"id = \",t.getid())\n",
    "print(\"name = \",t.getname())\n",
    "print(\"address = \",t.getaddress())\n",
    "print(\"salary = \",t.getsalary())\n"
   ]
  },
  {
   "cell_type": "code",
   "execution_count": 3,
   "id": "36ae213a",
   "metadata": {},
   "outputs": [],
   "source": [
    "# this is Student class \n",
    "class Student:\n",
    "    def setid(self,id): \n",
    "        self.id = id\n",
    "    \n",
    "    def getid(self):\n",
    "        return self.id\n",
    "    \n",
    "    def setname(self,name):\n",
    "        self.name = name \n",
    "        \n",
    "    def getname(self):\n",
    "        return self.name\n",
    "    \n",
    "    def setaddress(self,address):\n",
    "        self.address = address\n",
    "    \n",
    "    def getaddress(self):\n",
    "        return self.address\n",
    "    \n",
    "    def setmarks(self,marks):\n",
    "        self.marks = marks\n",
    "    \n",
    "    def getmarks(self):\n",
    "        return self.marks\n"
   ]
  },
  {
   "cell_type": "code",
   "execution_count": 4,
   "id": "bfe75bf9",
   "metadata": {},
   "outputs": [
    {
     "name": "stdout",
     "output_type": "stream",
     "text": [
      "id =  100\n",
      "name =  Rakesh\n",
      "address =  HNO - 22 , Ameerpet, Hyderabad\n",
      "marks  =  970\n"
     ]
    }
   ],
   "source": [
    "# create instance\n",
    "s = Student()\n",
    "\n",
    "# store data into the instance\n",
    "s.setid(100)\n",
    "s.setname(\"Rakesh\")\n",
    "s.setaddress(\"HNO - 22 , Ameerpet, Hyderabad\")\n",
    "s.setmarks(970)\n",
    "\n",
    "# retrieve data from instanace and display\n",
    "print(\"id = \",s.getid())\n",
    "print(\"name = \",s.getname())\n",
    "print(\"address = \",s.getaddress())\n",
    "print(\"marks  = \",s.getmarks())"
   ]
  },
  {
   "cell_type": "code",
   "execution_count": 5,
   "id": "b5c748ea",
   "metadata": {},
   "outputs": [],
   "source": [
    "class Student(Teacher):\n",
    "    def setmarks(self,marks):\n",
    "        self.marks = marks\n",
    "        \n",
    "    def getmarks(self):\n",
    "        return self.marks\n",
    "    "
   ]
  },
  {
   "cell_type": "code",
   "execution_count": 6,
   "id": "9aa582c6",
   "metadata": {},
   "outputs": [
    {
     "name": "stdout",
     "output_type": "stream",
     "text": [
      "id =  100\n",
      "name =  Rakesh\n",
      "address =  HNO - 22 , Ameerpet, Hyderabad\n",
      "marks  =  970\n",
      "Stipend =  18000\n"
     ]
    }
   ],
   "source": [
    "s= Student()\n",
    "# store data into the instance\n",
    "s.setid(100)\n",
    "s.setname(\"Rakesh\")\n",
    "s.setaddress(\"HNO - 22 , Ameerpet, Hyderabad\")\n",
    "s.setmarks(970)\n",
    "\n",
    "# retrieve data from instanace and display\n",
    "print(\"id = \",s.getid())\n",
    "print(\"name = \",s.getname())\n",
    "print(\"address = \",s.getaddress())\n",
    "print(\"marks  = \",s.getmarks())\n",
    "\n",
    "# student class is inherited from Teacher class\n",
    "s.setsalary(18000)\n",
    "print('Stipend = ',s.getsalary())"
   ]
  },
  {
   "cell_type": "code",
   "execution_count": 7,
   "id": "9b8a6b8e",
   "metadata": {},
   "outputs": [
    {
     "name": "stdout",
     "output_type": "stream",
     "text": [
      "Father's property =  800000.0\n"
     ]
    }
   ],
   "source": [
    "# base class constructor is available to sub class\n",
    "class Father():\n",
    "    def __init__(self):\n",
    "        self.property = 800000.00\n",
    "        \n",
    "    def display_property(self):\n",
    "        print(\"Father's property = \",self.property)\n",
    "        \n",
    "class Son(Father):\n",
    "    pass \n",
    "# we do not want to write anything in the sub class \n",
    "# create sub class instance and display father's property\n",
    "s = Son()\n",
    "s.display_property()"
   ]
  },
  {
   "cell_type": "code",
   "execution_count": 8,
   "id": "d41ec500",
   "metadata": {},
   "outputs": [
    {
     "name": "stdout",
     "output_type": "stream",
     "text": [
      "Child's property =  200000.0\n"
     ]
    }
   ],
   "source": [
    "# overriding the base class constructor and method in sub class\n",
    "class Father():\n",
    "    def __init__(self):\n",
    "        self.property = 800000.00\n",
    "        \n",
    "    def display_property(self):\n",
    "        print(\"Father's property = \",self.property)\n",
    "        \n",
    "class Son():\n",
    "    def __init__(self):\n",
    "        self.property = 200000.0\n",
    "        \n",
    "    def display_property(self):\n",
    "        print(\"Child's property = \",self.property)\n",
    "        \n",
    "    \n",
    "# create sub class instance and display father's property\n",
    "s = Son()\n",
    "s.display_property()"
   ]
  },
  {
   "cell_type": "code",
   "execution_count": 10,
   "id": "3367cd47",
   "metadata": {},
   "outputs": [
    {
     "name": "stdout",
     "output_type": "stream",
     "text": [
      "Child's property =  200000.0\n",
      "Total property of child =  1000000.0\n"
     ]
    }
   ],
   "source": [
    "# accessing base class constructor in sub class\n",
    "class Father:\n",
    "    def __init__(self,property = 0):\n",
    "        self.property = property\n",
    "    \n",
    "    def display_property(self):\n",
    "        print(\"Father's property = \",self.property)\n",
    "        \n",
    "class Son(Father):\n",
    "    def __init__(self,property1=0, property= 0):\n",
    "        super().__init__(property)\n",
    "        self.property1 = property1\n",
    "        \n",
    "    def display_property(self):\n",
    "        print(\"Child's property = \",self.property1)\n",
    "        print(\"Total property of child = \",self.property1 +self.property)\n",
    "        \n",
    "# create a sub class instance and display father's property \n",
    "s = Son(200000.00,800000.00)\n",
    "s.display_property()"
   ]
  },
  {
   "cell_type": "code",
   "execution_count": 1,
   "id": "3a8b1442",
   "metadata": {},
   "outputs": [
    {
     "name": "stdout",
     "output_type": "stream",
     "text": [
      "ENter two measurements : 10 5.5\n",
      "Area of square =  100.0\n",
      "Area of rectangle =  55.0\n"
     ]
    }
   ],
   "source": [
    "# accessing base class constructor and method in the sub class\n",
    "class Square:\n",
    "    def __init__(self,x):\n",
    "        self.x = x\n",
    "        \n",
    "    def area(self):\n",
    "        print(\"Area of square = \",self.x*self.x)\n",
    "        \n",
    "class Rectangle(Square):\n",
    "    def __init__(self,x,y):\n",
    "        super().__init__(x)\n",
    "        self.y = y\n",
    "        \n",
    "    def area(self):\n",
    "        super().area()\n",
    "        print(\"Area of rectangle = \",self.x*self.y)\n",
    "        \n",
    "# find areas of square and rectangle\n",
    "a,b = [float(x) for x in input(\"ENter two measurements : \").split()]\n",
    "r = Rectangle(a,b)\n",
    "r.area()\n"
   ]
  },
  {
   "cell_type": "code",
   "execution_count": 3,
   "id": "c8a6f180",
   "metadata": {},
   "outputs": [
    {
     "name": "stdout",
     "output_type": "stream",
     "text": [
      "100000000000000\n",
      "300000000000000\n"
     ]
    }
   ],
   "source": [
    "# single inheritance\n",
    "class Bank(object):\n",
    "    cash = 100000000000000\n",
    "    @classmethod\n",
    "    def available_cash(cls):\n",
    "        print(cls.cash)\n",
    "        \n",
    "class AndhraBank(Bank):\n",
    "    pass\n",
    "\n",
    "class StateBank(Bank):\n",
    "    cash = 200000000000000\n",
    "    @classmethod\n",
    "    def available_cash(cls):\n",
    "        print(cls.cash+Bank.cash)\n",
    "        \n",
    "a = AndhraBank()\n",
    "a.available_cash()\n",
    "\n",
    "s = StateBank()\n",
    "s.available_cash()"
   ]
  },
  {
   "cell_type": "code",
   "execution_count": 5,
   "id": "0ce30e87",
   "metadata": {},
   "outputs": [
    {
     "name": "stdout",
     "output_type": "stream",
     "text": [
      "Child's inherited qualities : \n",
      "Height is 6.0 foot\n",
      "Color is brown\n"
     ]
    }
   ],
   "source": [
    "#  multiple inheritance\n",
    "class Father:\n",
    "    def height(self):\n",
    "        print(\"Height is 6.0 foot\")\n",
    "        \n",
    "class Mother:\n",
    "    def color(self):\n",
    "        print(\"Color is brown\")\n",
    "        \n",
    "class Child(Father , Mother):\n",
    "    pass\n",
    "c = Child()\n",
    "print(\"Child's inherited qualities : \")\n",
    "c.height()\n",
    "c.color()\n"
   ]
  },
  {
   "cell_type": "code",
   "execution_count": 8,
   "id": "f5df64fa",
   "metadata": {},
   "outputs": [
    {
     "name": "stdout",
     "output_type": "stream",
     "text": [
      "c\n",
      "a\n"
     ]
    }
   ],
   "source": [
    "# when super classes have constructors\n",
    "class A(object):\n",
    "    def __init__(self):\n",
    "        self.a = 'a'\n",
    "        print(self.a)\n",
    "        \n",
    "class B(object):\n",
    "    def __init__(self):\n",
    "        self.b = 'b'\n",
    "        print(self.b)\n",
    "        \n",
    "class C(A,B):\n",
    "    def __init__(self):\n",
    "        self.c = 'c'\n",
    "        print(self.c)\n",
    "        super().__init__()\n",
    "        \n",
    "# access the super class instance vars from C\n",
    "o = C()  # o is object of class C\n"
   ]
  },
  {
   "cell_type": "code",
   "execution_count": 9,
   "id": "9a0a0bd5",
   "metadata": {},
   "outputs": [
    {
     "name": "stdout",
     "output_type": "stream",
     "text": [
      "c\n",
      "a\n",
      "b\n"
     ]
    }
   ],
   "source": [
    "# when superclasses have constructors\n",
    "class A(object):\n",
    "    def __init__(self):\n",
    "        self.a = 'a'\n",
    "        print(self.a)\n",
    "        super().__init__()\n",
    "\n",
    "class B(object):\n",
    "    def __init__(self):\n",
    "        self.b = 'b'\n",
    "        print(self.b)\n",
    "        super().__init__()\n",
    "        \n",
    "class C(A,B):\n",
    "    def __init__(self):\n",
    "        self.c = 'c'\n",
    "        print(self.c)\n",
    "        super().__init__()\n",
    "        \n",
    "# access the super class instance vars from C\n",
    "o = C()  # o is object of class C\n"
   ]
  },
  {
   "cell_type": "code",
   "execution_count": 10,
   "id": "4b381316",
   "metadata": {},
   "outputs": [
    {
     "name": "stdout",
     "output_type": "stream",
     "text": [
      "P class method\n",
      "X class method\n",
      "A class method\n",
      "Y class method\n",
      "B class method\n",
      "C class method\n"
     ]
    }
   ],
   "source": [
    "# MRO = Method Resolution Order\n",
    "# multiple inheritance with several classes\n",
    "class A(object):\n",
    "    def method(self):\n",
    "        print('A class method')\n",
    "        super().method()\n",
    "        \n",
    "class B(object):\n",
    "    def method(self):\n",
    "        print('B class method')\n",
    "        super().method()\n",
    "        \n",
    "class C(object):\n",
    "    def method(self):\n",
    "        print('C class method')\n",
    "        \n",
    "class X(A,B):\n",
    "    def method(self):\n",
    "        print('X class method')\n",
    "        super().method()\n",
    "        \n",
    "class Y(B,C):\n",
    "    def method(self):\n",
    "        print('Y class method')\n",
    "        super().method()\n",
    "        \n",
    "class P(X,Y,C):\n",
    "    def method(self):\n",
    "        print('P class method')\n",
    "        super().method()\n",
    "        \n",
    "p = P()\n",
    "p.method()"
   ]
  },
  {
   "cell_type": "code",
   "execution_count": 11,
   "id": "9365a281",
   "metadata": {},
   "outputs": [
    {
     "name": "stdout",
     "output_type": "stream",
     "text": [
      "Quack , quack !\n",
      "Hello , hi !\n"
     ]
    }
   ],
   "source": [
    "# duck typing example\n",
    "# Duck class contains talk() method\n",
    "class Duck:\n",
    "    def talk(self):\n",
    "        print(\"Quack , quack !\")\n",
    "        \n",
    "# Human class contains talk method\n",
    "class Human:\n",
    "    def talk(self):\n",
    "        print('Hello , hi !')\n",
    "        \n",
    "# this methods accepts an object and calls talk() method\n",
    "def call_talk(obj):\n",
    "    obj.talk()\n",
    "\n",
    "# call call_talk() method and pass an object \n",
    "# depending on type of object , talk() method is exeacuted\n",
    "x = Duck()\n",
    "call_talk(x)\n",
    "x = Human()\n",
    "call_talk(x)"
   ]
  },
  {
   "cell_type": "code",
   "execution_count": 12,
   "id": "b97fc1ca",
   "metadata": {},
   "outputs": [
    {
     "name": "stdout",
     "output_type": "stream",
     "text": [
      "Quack , quack !\n",
      "Hello , hi !\n",
      "Bow , wow !\n"
     ]
    }
   ],
   "source": [
    "# strong typing example\n",
    "# Dog class contains bark() method\n",
    "class Dog:\n",
    "    def bark(self):\n",
    "        print(\"Bow , wow !\")\n",
    "        \n",
    "class Duck:\n",
    "    def talk(self):\n",
    "        print(\"Quack , quack !\")\n",
    "        \n",
    "# Human class contains talk method\n",
    "class Human:\n",
    "    def talk(self):\n",
    "        print('Hello , hi !')\n",
    "        \n",
    "# this methods accepts an object and calls talk() method\n",
    "def call_talk(obj):\n",
    "    if hasattr(obj,'talk'):\n",
    "        obj.talk()\n",
    "    elif hasattr(obj,'bark'):\n",
    "        obj.bark()\n",
    "    else:\n",
    "        print(\"Wrong object passed ...\")\n",
    "\n",
    "# call call_talk() method and pass an object\n",
    "# depending on type of object , talk() method is executed\n",
    "x = Duck()\n",
    "call_talk(x)\n",
    "x = Human()\n",
    "call_talk(x)\n",
    "x = Dog()\n",
    "call_talk(x)"
   ]
  },
  {
   "cell_type": "code",
   "execution_count": 13,
   "id": "fbf419d6",
   "metadata": {},
   "outputs": [
    {
     "name": "stdout",
     "output_type": "stream",
     "text": [
      "25\n",
      "RedFort\n",
      "[10, 20, 30, 5, 15, -10]\n"
     ]
    }
   ],
   "source": [
    "# overloading the + operator \n",
    "# using + on integers to add them\n",
    "print(10+15)\n",
    "\n",
    "# using + on strings to concatenate them\n",
    "s1 = \"Red\"\n",
    "s2 = \"Fort\"\n",
    "print(s1+s2)\n",
    "\n",
    "# using + on lists to make a single list\n",
    "a = [10,20,30]\n",
    "b = [5,15,-10]\n",
    "print(a+b)"
   ]
  },
  {
   "cell_type": "code",
   "execution_count": 1,
   "id": "65548510",
   "metadata": {},
   "outputs": [
    {
     "ename": "TypeError",
     "evalue": "unsupported operand type(s) for +: 'BookX' and 'BookY'",
     "output_type": "error",
     "traceback": [
      "\u001b[1;31m---------------------------------------------------------------------------\u001b[0m",
      "\u001b[1;31mTypeError\u001b[0m                                 Traceback (most recent call last)",
      "\u001b[1;32m~\\AppData\\Local\\Temp/ipykernel_7276/3569044307.py\u001b[0m in \u001b[0;36m<module>\u001b[1;34m\u001b[0m\n\u001b[0;32m     10\u001b[0m \u001b[0mb1\u001b[0m \u001b[1;33m=\u001b[0m \u001b[0mBookX\u001b[0m\u001b[1;33m(\u001b[0m\u001b[1;36m100\u001b[0m\u001b[1;33m)\u001b[0m\u001b[1;33m\u001b[0m\u001b[1;33m\u001b[0m\u001b[0m\n\u001b[0;32m     11\u001b[0m \u001b[0mb2\u001b[0m \u001b[1;33m=\u001b[0m \u001b[0mBookY\u001b[0m\u001b[1;33m(\u001b[0m\u001b[1;36m150\u001b[0m\u001b[1;33m)\u001b[0m\u001b[1;33m\u001b[0m\u001b[1;33m\u001b[0m\u001b[0m\n\u001b[1;32m---> 12\u001b[1;33m \u001b[0mprint\u001b[0m\u001b[1;33m(\u001b[0m\u001b[1;34m'Total pages = '\u001b[0m\u001b[1;33m,\u001b[0m\u001b[0mb1\u001b[0m\u001b[1;33m+\u001b[0m\u001b[0mb2\u001b[0m\u001b[1;33m)\u001b[0m\u001b[1;33m\u001b[0m\u001b[1;33m\u001b[0m\u001b[0m\n\u001b[0m",
      "\u001b[1;31mTypeError\u001b[0m: unsupported operand type(s) for +: 'BookX' and 'BookY'"
     ]
    }
   ],
   "source": [
    "# using + operator on objects\n",
    "class BookX:\n",
    "    def __init__(self,pages):\n",
    "        self.pages = pages\n",
    "\n",
    "class BookY:\n",
    "    def __init__(self,pages):\n",
    "        self.pages = pages\n",
    "\n",
    "b1 = BookX(100)\n",
    "b2 = BookY(150)\n",
    "print('Total pages = ',b1+b2)\n"
   ]
  },
  {
   "cell_type": "code",
   "execution_count": 2,
   "id": "432c12a7",
   "metadata": {},
   "outputs": [
    {
     "name": "stdout",
     "output_type": "stream",
     "text": [
      "Total pages =  250\n"
     ]
    }
   ],
   "source": [
    "# overloading + operator to act on objects \n",
    "class BookX:\n",
    "    def __init__(self,pages):\n",
    "        self.pages = pages\n",
    "    \n",
    "    def __add__(self,other):\n",
    "        return self.pages + other.pages\n",
    "\n",
    "class BookY:\n",
    "    def __init__(self,pages):\n",
    "        self.pages = pages\n",
    "\n",
    "b1 = BookX(100)\n",
    "b2 = BookY(150)\n",
    "print('Total pages = ',b1+b2)"
   ]
  },
  {
   "cell_type": "code",
   "execution_count": 3,
   "id": "fac78036",
   "metadata": {},
   "outputs": [
    {
     "name": "stdout",
     "output_type": "stream",
     "text": [
      "Mahabharat has more pages\n"
     ]
    }
   ],
   "source": [
    "# overloading > operator \n",
    "class Ramayan:\n",
    "    def __init__(self,pages):\n",
    "        self.pages = pages\n",
    "    def __gt__(self,other):\n",
    "        self.pages > other.pages\n",
    "\n",
    "class Mahabharat:\n",
    "    def __init__(self,pages):\n",
    "        self.pages = pages\n",
    "\n",
    "b1 = Ramayan(1000)\n",
    "b2 = Mahabharat(1500)\n",
    "if b1>b2:\n",
    "    print(\"Ramayan has more pages\")\n",
    "else:\n",
    "    print(\"Mahabharat has more pages\")"
   ]
  },
  {
   "cell_type": "code",
   "execution_count": 4,
   "id": "2a909081",
   "metadata": {},
   "outputs": [
    {
     "name": "stdout",
     "output_type": "stream",
     "text": [
      "This month salary =  12500.0\n"
     ]
    }
   ],
   "source": [
    "# overloading the * operator\n",
    "class Employee:\n",
    "    def __init__(self,name,salary):\n",
    "        self.name = name\n",
    "        self.salary = salary\n",
    "    \n",
    "    def __mul__(self,other):\n",
    "        return self.salary * other.days\n",
    "    \n",
    "class Attendance:\n",
    "    def __init__(self,name,days):\n",
    "        self.name = name\n",
    "        self.days = days\n",
    "        \n",
    "x1 = Employee(\"Srinu\",500.0)\n",
    "x2 = Attendance(\"Srinu\",25)\n",
    "print('This month salary = ',x1*x2)"
   ]
  },
  {
   "cell_type": "code",
   "execution_count": 6,
   "id": "a695a8ac",
   "metadata": {},
   "outputs": [
    {
     "name": "stdout",
     "output_type": "stream",
     "text": [
      "Sum of three numbers :  45\n",
      "Sum of two numbers :  36.05\n",
      "Please enter two or three arguments\n"
     ]
    }
   ],
   "source": [
    "# method overloading\n",
    "class Myclass:\n",
    "    def sum(self,a = None , b= None , c= None):\n",
    "        if a!=None and b!=None and c!= None:\n",
    "            print('Sum of three numbers : ',a+b+c)\n",
    "        elif a!=None and b!= None:\n",
    "            print('Sum of two numbers : ',a+b)\n",
    "        else:\n",
    "            print('Please enter two or three arguments')\n",
    "            \n",
    "# call sum() using object\n",
    "m = Myclass()\n",
    "m.sum(10,15,20)\n",
    "m.sum(10.5,25.55)\n",
    "m.sum(100)"
   ]
  },
  {
   "cell_type": "code",
   "execution_count": 8,
   "id": "9065150b",
   "metadata": {},
   "outputs": [
    {
     "name": "stdout",
     "output_type": "stream",
     "text": [
      "Circle area = 706.8583\n"
     ]
    }
   ],
   "source": [
    "# method overriding\n",
    "import math\n",
    "class Square:\n",
    "    def area(self,x):\n",
    "        print('Square area = %.4f'%x*x)\n",
    "\n",
    "class Circle(Square):\n",
    "    def area(self,x):\n",
    "        print('Circle area = %.4f'%(math.pi*x*x))\n",
    "        \n",
    "# call area() using sub class object\n",
    "c = Circle()\n",
    "c.area(15)"
   ]
  }
 ],
 "metadata": {
  "kernelspec": {
   "display_name": "Python 3 (ipykernel)",
   "language": "python",
   "name": "python3"
  },
  "language_info": {
   "codemirror_mode": {
    "name": "ipython",
    "version": 3
   },
   "file_extension": ".py",
   "mimetype": "text/x-python",
   "name": "python",
   "nbconvert_exporter": "python",
   "pygments_lexer": "ipython3",
   "version": "3.9.7"
  }
 },
 "nbformat": 4,
 "nbformat_minor": 5
}
