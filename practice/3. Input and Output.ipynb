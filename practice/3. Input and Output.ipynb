{
 "cells": [
  {
   "cell_type": "code",
   "execution_count": 1,
   "id": "25f43f07",
   "metadata": {},
   "outputs": [
    {
     "name": "stdout",
     "output_type": "stream",
     "text": [
      "Hello\n",
      "Hello\n",
      "This is the \n",
      "first line\n",
      "this is the \tfirst line\n",
      "This is the \\nfirst line\n",
      "This is the \\tfirst line\n",
      "HaiHaiHai\n"
     ]
    }
   ],
   "source": [
    "print(\"Hello\")\n",
    "print('Hello')\n",
    "print(\"This is the \\nfirst line\")\n",
    "print(\"this is the \\tfirst line\")\n",
    "print(\"This is the \\\\nfirst line\")\n",
    "print(\"This is the \\\\tfirst line\")\n",
    "print(3*'Hai')"
   ]
  },
  {
   "cell_type": "code",
   "execution_count": 2,
   "id": "2430c464",
   "metadata": {},
   "outputs": [
    {
     "name": "stdout",
     "output_type": "stream",
     "text": [
      "City name=Hyderabad\n",
      "City name= Hyderabad\n"
     ]
    }
   ],
   "source": [
    "print(\"City name=\"+\"Hyderabad\")\n",
    "print(\"City name=\",\"Hyderabad\")"
   ]
  },
  {
   "cell_type": "code",
   "execution_count": 3,
   "id": "2c539205",
   "metadata": {},
   "outputs": [
    {
     "name": "stdout",
     "output_type": "stream",
     "text": [
      "2\n",
      "2 4\n"
     ]
    }
   ],
   "source": [
    "a,b = 2,4\n",
    "print(a)\n",
    "print(a,b)"
   ]
  },
  {
   "cell_type": "code",
   "execution_count": 4,
   "id": "1cf330d6",
   "metadata": {},
   "outputs": [
    {
     "name": "stdout",
     "output_type": "stream",
     "text": [
      "2,4\n",
      "2:4\n",
      "2-----4\n"
     ]
    }
   ],
   "source": [
    "print(a,b,sep=\",\")\n",
    "print(a,b,sep=':')\n",
    "print(a,b,sep=\"-----\")"
   ]
  },
  {
   "cell_type": "code",
   "execution_count": 5,
   "id": "5313b427",
   "metadata": {},
   "outputs": [
    {
     "name": "stdout",
     "output_type": "stream",
     "text": [
      "Hello\n",
      "Dear\n",
      "How are you?\n"
     ]
    }
   ],
   "source": [
    "print(\"Hello\")\n",
    "print(\"Dear\")\n",
    "print('How are you?')"
   ]
  },
  {
   "cell_type": "code",
   "execution_count": 6,
   "id": "309fc850",
   "metadata": {},
   "outputs": [
    {
     "name": "stdout",
     "output_type": "stream",
     "text": [
      "HelloDearHow are U?"
     ]
    }
   ],
   "source": [
    "print(\"Hello\",end='')\n",
    "print('Dear',end=\"\")\n",
    "print('How are U?',end='')"
   ]
  },
  {
   "cell_type": "code",
   "execution_count": 7,
   "id": "fc0dbf2a",
   "metadata": {},
   "outputs": [
    {
     "name": "stdout",
     "output_type": "stream",
     "text": [
      "Hello\tDear\tHow are U?\t"
     ]
    }
   ],
   "source": [
    "print(\"Hello\",end='\\t')\n",
    "print('Dear',end=\"\\t\")\n",
    "print('How are U?',end='\\t')"
   ]
  },
  {
   "cell_type": "code",
   "execution_count": 8,
   "id": "313d3ff6",
   "metadata": {},
   "outputs": [
    {
     "name": "stdout",
     "output_type": "stream",
     "text": [
      "[10, 'A', 'Hai']\n",
      "{'Idly': 30.0, 'Roti': 45.0, 'Chappati': 55.5}\n"
     ]
    }
   ],
   "source": [
    "lst = [10,\"A\",'Hai']\n",
    "print(lst)\n",
    "d = {'Idly':30.00,'Roti':45.00,'Chappati':55.50}\n",
    "print(d)"
   ]
  },
  {
   "cell_type": "code",
   "execution_count": 9,
   "id": "1971f2bd",
   "metadata": {},
   "outputs": [
    {
     "name": "stdout",
     "output_type": "stream",
     "text": [
      "2 is even number\n",
      "You typed 2 as input\n"
     ]
    }
   ],
   "source": [
    "a = 2\n",
    "print(a ,\"is even number\")\n",
    "print('You typed', a ,\"as input\")"
   ]
  },
  {
   "cell_type": "code",
   "execution_count": 11,
   "id": "962ac8c3",
   "metadata": {},
   "outputs": [
    {
     "name": "stdout",
     "output_type": "stream",
     "text": [
      "value = 10\n",
      "x = 10 y = 15\n"
     ]
    }
   ],
   "source": [
    "x = 10\n",
    "print('value = %i'%x)\n",
    "x,y = 10,15\n",
    "print(\"x = %i y = %d\" %(x,y))"
   ]
  },
  {
   "cell_type": "code",
   "execution_count": 15,
   "id": "1e8e0311",
   "metadata": {},
   "outputs": [
    {
     "name": "stdout",
     "output_type": "stream",
     "text": [
      "Hai Linda\n",
      "Hai(               Linda)\n",
      "Hai(Linda               )\n"
     ]
    }
   ],
   "source": [
    "name = 'Linda'\n",
    "print('Hai %s'%name)\n",
    "print('Hai(%20s)'%name)\n",
    "print(\"Hai(%-20s)\"%name)"
   ]
  },
  {
   "cell_type": "code",
   "execution_count": 16,
   "id": "a0c13b73",
   "metadata": {},
   "outputs": [
    {
     "name": "stdout",
     "output_type": "stream",
     "text": [
      "Hai L,i\n",
      "Hai Li\n"
     ]
    }
   ],
   "source": [
    "name = 'Linda'\n",
    "print('Hai %c, %c'%(name[0],name[1]))\n",
    "print('Hai %s'%(name[0:2]))"
   ]
  },
  {
   "cell_type": "code",
   "execution_count": 18,
   "id": "c3c027b5",
   "metadata": {},
   "outputs": [
    {
     "name": "stdout",
     "output_type": "stream",
     "text": [
      "The value is : 123.456789\n",
      "The value is :   123.46\n",
      "The value is : 123.46\n"
     ]
    }
   ],
   "source": [
    "num = 123.456789\n",
    "print('The value is : %f'%num)\n",
    "print('The value is : %8.2f'%num)\n",
    "print('The value is : %.2f' %num)"
   ]
  },
  {
   "cell_type": "code",
   "execution_count": 19,
   "id": "ff70f16d",
   "metadata": {},
   "outputs": [
    {
     "name": "stdout",
     "output_type": "stream",
     "text": [
      "number1=1\n",
      "number1=1, number2=2, number3=3\n",
      "number1=2, number2=1, number3=3\n",
      "number1 = 1, number2 = 2, number3 = 3\n",
      "number1 = 1, number2 = 2, number3 = 3\n"
     ]
    }
   ],
   "source": [
    "n1,n2,n3= 1,2,3\n",
    "print('number1 = {0}'.format(n1))\n",
    "print('number1 = {0}, number2 = {1}, number3 = {2}'.format(n1,n2,n3))\n",
    "print('number1 = {1}, number2 = {0}, number3 = {2}'.format(n1,n2,n3))\n",
    "print('number1 = {one}, number2 = {two}, number3 = {three}'.format(one = n1,two = n2,three = n3))\n",
    "print('number1 = {}, number2 = {}, number3 = {}'.format(n1,n2,n3))"
   ]
  },
  {
   "cell_type": "code",
   "execution_count": 21,
   "id": "8c8276e8",
   "metadata": {},
   "outputs": [
    {
     "name": "stdout",
     "output_type": "stream",
     "text": [
      "number1 = 1,number2 = 2,number3 = 3\n"
     ]
    }
   ],
   "source": [
    "print(f\"number1 = {n1}, number2 = {n2}, number3 = {n3}\")"
   ]
  },
  {
   "cell_type": "code",
   "execution_count": 24,
   "id": "6f21dd88",
   "metadata": {},
   "outputs": [
    {
     "name": "stdout",
     "output_type": "stream",
     "text": [
      "Hello Ravi, your salary is 12500.75\n",
      "Hello Ravi, your salary is 12500.75\n",
      "Hello Ravi, your salary is 12500.75\n",
      "Hello Ravi, your salary is 12500.75\n",
      "Hello Ravi, your salary is 12500.75\n"
     ]
    }
   ],
   "source": [
    "name ,salary = 'Ravi',12500.75\n",
    "print('Hello {0}, your salary is {1}'.format(name,salary))\n",
    "print('Hello {n}, your salary is {s}'.format(n = name , s = salary))\n",
    "print(\"Hello {:s}, your salary is {:.2f}\".format(name,salary))\n",
    "print('Hello %s, your salary is %.2f'%(name,salary))\n",
    "print(f\"Hello {name}, your salary is {salary}\")"
   ]
  },
  {
   "cell_type": "code",
   "execution_count": 25,
   "id": "4787fb98",
   "metadata": {},
   "outputs": [
    {
     "name": "stdout",
     "output_type": "stream",
     "text": [
      "PK\n",
      "PK\n"
     ]
    }
   ],
   "source": [
    "str = input()\n",
    "print(str)"
   ]
  },
  {
   "cell_type": "code",
   "execution_count": 26,
   "id": "1ec13942",
   "metadata": {},
   "outputs": [
    {
     "name": "stdout",
     "output_type": "stream",
     "text": [
      "Enter your name:PK\n",
      "PK\n"
     ]
    }
   ],
   "source": [
    "str = input('Enter your name:')\n",
    "print(str)"
   ]
  },
  {
   "cell_type": "code",
   "execution_count": 27,
   "id": "41473687",
   "metadata": {},
   "outputs": [
    {
     "name": "stdout",
     "output_type": "stream",
     "text": [
      "Enter a number: 125\n",
      "125\n"
     ]
    }
   ],
   "source": [
    "str = input('Enter a number: ')\n",
    "x = int(str)\n",
    "print(x)"
   ]
  },
  {
   "cell_type": "code",
   "execution_count": 28,
   "id": "29395c85",
   "metadata": {},
   "outputs": [
    {
     "name": "stdout",
     "output_type": "stream",
     "text": [
      "Enter a number: 125\n",
      "125\n",
      "Enter a number: 12.345\n",
      "12.345\n"
     ]
    }
   ],
   "source": [
    "x = int(input('Enter a number: '))\n",
    "print(x)\n",
    "x = float(input('Enter a number: '))\n",
    "print(x)"
   ]
  },
  {
   "cell_type": "code",
   "execution_count": 29,
   "id": "5ae71763",
   "metadata": {},
   "outputs": [
    {
     "name": "stdout",
     "output_type": "stream",
     "text": [
      "Enter a string: Hello PK\n",
      "U entered:  Hello PK\n"
     ]
    }
   ],
   "source": [
    "# accepting a string from keyboard\n",
    "\n",
    "str = input(\"Enter a string: \")\n",
    "print(\"U entered: \",str)"
   ]
  },
  {
   "cell_type": "code",
   "execution_count": 30,
   "id": "b2ac7ed0",
   "metadata": {},
   "outputs": [
    {
     "name": "stdout",
     "output_type": "stream",
     "text": [
      "Enter a char : A\n",
      "U enterd: A\n",
      "Enter a char : abcd\n",
      "U enterd: abcd\n"
     ]
    }
   ],
   "source": [
    "# accepting a single character or a string from keyboard \n",
    "ch = input(\"Enter a char : \")\n",
    "print(\"U enterd: \" +ch)\n",
    "ch = input(\"Enter a char : \")\n",
    "print(\"U enterd: \" +ch)"
   ]
  },
  {
   "cell_type": "code",
   "execution_count": 31,
   "id": "87c44be4",
   "metadata": {},
   "outputs": [
    {
     "name": "stdout",
     "output_type": "stream",
     "text": [
      "Enter a char : abcdef\n",
      "U entered: a\n"
     ]
    }
   ],
   "source": [
    "# accepting a single character from keyboard\n",
    "ch = input(\"Enter a char : \")\n",
    "print(\"U entered: \"+ch[0])"
   ]
  },
  {
   "cell_type": "code",
   "execution_count": 32,
   "id": "1f0cf281",
   "metadata": {},
   "outputs": [
    {
     "name": "stdout",
     "output_type": "stream",
     "text": [
      "Enter a number: 562003\n",
      "U entered:  562003\n"
     ]
    }
   ],
   "source": [
    "# accepting integer from keyboard\n",
    "str = input(\"Enter a number: \")\n",
    "x = int(str)\n",
    "print('U entered: ',x)"
   ]
  },
  {
   "cell_type": "code",
   "execution_count": 35,
   "id": "054ccc99",
   "metadata": {},
   "outputs": [
    {
     "name": "stdout",
     "output_type": "stream",
     "text": [
      "Enter a number : 21219967\n",
      "U entered :  21219967\n"
     ]
    }
   ],
   "source": [
    "# accepting integer number from keyboard  - v2.0\n",
    "x = int(input('Enter a number : '))\n",
    "print('U entered : ',x)"
   ]
  },
  {
   "cell_type": "code",
   "execution_count": 36,
   "id": "37191851",
   "metadata": {},
   "outputs": [
    {
     "name": "stdout",
     "output_type": "stream",
     "text": [
      "Enter a number : 9.1234567890\n",
      "U entered :  9.123456789\n"
     ]
    }
   ],
   "source": [
    "#accepting float number from keyboard\n",
    "x = float(input('Enter a number : '))\n",
    "print('U entered : ',x)"
   ]
  },
  {
   "cell_type": "code",
   "execution_count": 37,
   "id": "2116ec6c",
   "metadata": {},
   "outputs": [
    {
     "name": "stdout",
     "output_type": "stream",
     "text": [
      "Enter first number : 12\n",
      "Enter second number : 45\n",
      "U entered : 12 45\n"
     ]
    }
   ],
   "source": [
    "# accepting two numbers from keyboard\n",
    "x = int(input('Enter first number : '))\n",
    "y = int(input('Enter second number : '))\n",
    "print(\"U entered :\",x, y)"
   ]
  },
  {
   "cell_type": "code",
   "execution_count": 38,
   "id": "5815e463",
   "metadata": {},
   "outputs": [
    {
     "name": "stdout",
     "output_type": "stream",
     "text": [
      "Enter first number : 88\n",
      "Enter second number : 98\n",
      "The sum of  88  and  98 is  186\n",
      "The sum of 88and 98 is 186\n",
      "The sum of 88 and 98 is186\n"
     ]
    }
   ],
   "source": [
    "# find sum of two numbers\n",
    "x = int(input('Enter first number : '))\n",
    "y = int(input('Enter second number : '))\n",
    "print('The sum of ',x,' and ',y,'is ',x+y)\n",
    "print(\"The sum of {} and {} is {}\".format(x,y,x+y))\n",
    "print(f\"The sum of {x} and {y} is{x+y}\")"
   ]
  },
  {
   "cell_type": "code",
   "execution_count": 39,
   "id": "d9a1c224",
   "metadata": {},
   "outputs": [
    {
     "name": "stdout",
     "output_type": "stream",
     "text": [
      "Enter first number :45\n",
      "Enter second number : 65\n",
      "The sum of 45 and 65 is 110\n",
      "The product of 45 and 65 is 2925\n",
      "The sum of 45 and 65 is 110 and product of 45 and 65 is 2925\n"
     ]
    }
   ],
   "source": [
    "# find sum and product of two numbers\n",
    "x = int(input('Enter first number :'))\n",
    "y = int(input('Enter second number : '))\n",
    "print(\"The sum of {0} and {1} is {2}\".format(x,y,x+y))\n",
    "print(\"The product of {0} and {1} is {2}\".format(x,y,x*y))\n",
    "print(\"The sum of {0} and {1} is {2} and product of {0} and {1} is {3}\".format(x,y,x+y,x*y))"
   ]
  },
  {
   "cell_type": "code",
   "execution_count": 40,
   "id": "d387f760",
   "metadata": {},
   "outputs": [
    {
     "name": "stdout",
     "output_type": "stream",
     "text": [
      "Enter hexadecimal number : a\n",
      "Hexadecimal to Decimal =  10\n",
      "Enter octal number : 10\n",
      "Octal to Decimal =  8\n",
      "Enter binary number : 1101\n",
      "Binary to Decimal =  13\n"
     ]
    }
   ],
   "source": [
    "# input from other number systems\n",
    "str = input('Enter hexadecimal number : ')\n",
    "n = int(str,16)\n",
    "print('Hexadecimal to Decimal = ',n)\n",
    "str = input('Enter octal number : ')\n",
    "n = int(str,8)\n",
    "print('Octal to Decimal = ',n)\n",
    "str = input('Enter binary number : ')\n",
    "n = int(str,2)\n",
    "print('Binary to Decimal = ',n)"
   ]
  },
  {
   "cell_type": "code",
   "execution_count": 2,
   "id": "620ccbc4",
   "metadata": {},
   "outputs": [
    {
     "name": "stdout",
     "output_type": "stream",
     "text": [
      "Enter three numbers : 10 20 30\n",
      "Sum =  60\n"
     ]
    }
   ],
   "source": [
    "# accepting 3 numbers separated by space\n",
    "var1,var2,var3 = [int(x) for x in input(\"Enter three numbers : \").split()]\n",
    "print('Sum = ',var1+var2+var3)"
   ]
  },
  {
   "cell_type": "code",
   "execution_count": 3,
   "id": "438999c0",
   "metadata": {},
   "outputs": [
    {
     "name": "stdout",
     "output_type": "stream",
     "text": [
      "Enter three numbers : 10,20,30\n",
      "Sum =  60\n"
     ]
    }
   ],
   "source": [
    "# accepting 3 numbers separated by comma.\n",
    "var1 ,var2 ,var3 = [int(x) for x in input(\"Enter three numbers : \").split(',')]\n",
    "print('Sum = ',var1+var2+var3)"
   ]
  },
  {
   "cell_type": "code",
   "execution_count": 4,
   "id": "4e5ee333",
   "metadata": {},
   "outputs": [
    {
     "name": "stdout",
     "output_type": "stream",
     "text": [
      "Enter strings: Anil , Vijay Kumar , Priya\n",
      "You entered :\n",
      " ['Anil ', ' Vijay Kumar ', ' Priya']\n"
     ]
    }
   ],
   "source": [
    "# accepting a group of strings from keyboard.\n",
    "lst = [x for x in input(\"Enter strings: \").split(',')]\n",
    "print('You entered :\\n',lst)"
   ]
  },
  {
   "cell_type": "code",
   "execution_count": 5,
   "id": "f56849f7",
   "metadata": {},
   "outputs": [
    {
     "name": "stdout",
     "output_type": "stream",
     "text": [
      "11\n"
     ]
    }
   ],
   "source": [
    "a,b = 5,10\n",
    "result = eval(\"a+b-4\")\n",
    "print(result)"
   ]
  },
  {
   "cell_type": "code",
   "execution_count": 6,
   "id": "b303bdcf",
   "metadata": {},
   "outputs": [
    {
     "name": "stdout",
     "output_type": "stream",
     "text": [
      "Enter an expression : 10+5-4\n",
      "Result = 11\n"
     ]
    }
   ],
   "source": [
    "# using eval() along with the input() function\n",
    "x = eval(input(\"Enter an expression : \"))\n",
    "print(\"Result = %d\"%x)"
   ]
  },
  {
   "cell_type": "code",
   "execution_count": 7,
   "id": "d2c2478f",
   "metadata": {},
   "outputs": [
    {
     "name": "stdout",
     "output_type": "stream",
     "text": [
      "Enter a list: [\"Ajay\",\"Preethi\",\"Sashank\",\"Vishnu\"]\n",
      "List =  ['Ajay', 'Preethi', 'Sashank', 'Vishnu']\n"
     ]
    }
   ],
   "source": [
    "# accepting a list from keyboard\n",
    "lst = eval(input(\"Enter a list: \"))\n",
    "print(\"List = \",lst)"
   ]
  },
  {
   "cell_type": "code",
   "execution_count": 8,
   "id": "4ae0c9f7",
   "metadata": {},
   "outputs": [
    {
     "name": "stdout",
     "output_type": "stream",
     "text": [
      "Enter a list: [10,20,30,40,50]\n",
      "List =  [10, 20, 30, 40, 50]\n"
     ]
    }
   ],
   "source": [
    "lst = eval(input(\"Enter a list: \"))\n",
    "print(\"List = \",lst)"
   ]
  },
  {
   "cell_type": "code",
   "execution_count": 9,
   "id": "a1ee1ec7",
   "metadata": {},
   "outputs": [
    {
     "name": "stdout",
     "output_type": "stream",
     "text": [
      "Enter a tuple :(10,20,30,40)\n",
      "Tuple =  (10, 20, 30, 40)\n"
     ]
    }
   ],
   "source": [
    "tpl = eval(input(\"Enter a tuple :\"))\n",
    "print(\"Tuple = \",tpl)"
   ]
  },
  {
   "cell_type": "code",
   "execution_count": null,
   "id": "f117e95a",
   "metadata": {},
   "outputs": [],
   "source": []
  }
 ],
 "metadata": {
  "kernelspec": {
   "display_name": "Python 3 (ipykernel)",
   "language": "python",
   "name": "python3"
  },
  "language_info": {
   "codemirror_mode": {
    "name": "ipython",
    "version": 3
   },
   "file_extension": ".py",
   "mimetype": "text/x-python",
   "name": "python",
   "nbconvert_exporter": "python",
   "pygments_lexer": "ipython3",
   "version": "3.9.7"
  }
 },
 "nbformat": 4,
 "nbformat_minor": 5
}
