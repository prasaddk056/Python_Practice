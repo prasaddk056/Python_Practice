{
 "cells": [
  {
   "cell_type": "code",
   "execution_count": 1,
   "id": "d912e634",
   "metadata": {},
   "outputs": [
    {
     "name": "stdout",
     "output_type": "stream",
     "text": [
      "mat\n",
      "mat\n"
     ]
    }
   ],
   "source": [
    "import re\n",
    "prog = re.compile(r'm\\w\\w')\n",
    "str = 'cat mat bat rat'\n",
    "result = prog.search(str)\n",
    "print(result.group())\n",
    "str1 = 'Operating system format'\n",
    "result = prog.search(str1)\n",
    "print(result.group())"
   ]
  },
  {
   "cell_type": "code",
   "execution_count": 1,
   "id": "4d5040c1",
   "metadata": {},
   "outputs": [
    {
     "name": "stdout",
     "output_type": "stream",
     "text": [
      "man\n"
     ]
    }
   ],
   "source": [
    "import re\n",
    "\n",
    "str = 'man sun mop run'\n",
    "result = re.search(r'm\\w\\w',str)\n",
    "if result: # if result is not None\n",
    "    print(result.group())"
   ]
  },
  {
   "cell_type": "code",
   "execution_count": 2,
   "id": "c1da2cc8",
   "metadata": {},
   "outputs": [
    {
     "name": "stdout",
     "output_type": "stream",
     "text": [
      "man\n",
      "man\n"
     ]
    }
   ],
   "source": [
    "if result is not None:\n",
    "    print(result.group())\n",
    "    \n",
    "if result:\n",
    "    print(result.group())"
   ]
  },
  {
   "cell_type": "code",
   "execution_count": 3,
   "id": "8758f92a",
   "metadata": {},
   "outputs": [
    {
     "name": "stdout",
     "output_type": "stream",
     "text": [
      "['man', 'mop']\n"
     ]
    }
   ],
   "source": [
    "import re\n",
    "str = 'man sun mop run'\n",
    "result = re.findall(r\"m\\w\\w\",str)\n",
    "print(result)"
   ]
  },
  {
   "cell_type": "code",
   "execution_count": 4,
   "id": "4de13ac0",
   "metadata": {},
   "outputs": [
    {
     "name": "stdout",
     "output_type": "stream",
     "text": [
      "man\n",
      "mop\n"
     ]
    }
   ],
   "source": [
    "for s in result :\n",
    "    print(s)"
   ]
  },
  {
   "cell_type": "code",
   "execution_count": 5,
   "id": "b3699d83",
   "metadata": {},
   "outputs": [
    {
     "name": "stdout",
     "output_type": "stream",
     "text": [
      "man\n"
     ]
    }
   ],
   "source": [
    "import re\n",
    "str = 'man sun mop run'\n",
    "result = re.match(r'm\\w\\w',str)\n",
    "print(result.group())"
   ]
  },
  {
   "cell_type": "code",
   "execution_count": 8,
   "id": "c8059deb",
   "metadata": {},
   "outputs": [
    {
     "ename": "AttributeError",
     "evalue": "'NoneType' object has no attribute 'group'",
     "output_type": "error",
     "traceback": [
      "\u001b[1;31m---------------------------------------------------------------------------\u001b[0m",
      "\u001b[1;31mAttributeError\u001b[0m                            Traceback (most recent call last)",
      "\u001b[1;32m~\\AppData\\Local\\Temp/ipykernel_7832/2970314702.py\u001b[0m in \u001b[0;36m<module>\u001b[1;34m\u001b[0m\n\u001b[0;32m      2\u001b[0m \u001b[0mstr\u001b[0m \u001b[1;33m=\u001b[0m \u001b[1;34m'sun man mop run'\u001b[0m\u001b[1;33m\u001b[0m\u001b[1;33m\u001b[0m\u001b[0m\n\u001b[0;32m      3\u001b[0m \u001b[0mresult\u001b[0m \u001b[1;33m=\u001b[0m \u001b[0mre\u001b[0m\u001b[1;33m.\u001b[0m\u001b[0mmatch\u001b[0m\u001b[1;33m(\u001b[0m\u001b[1;34mr'm\\w\\w'\u001b[0m\u001b[1;33m,\u001b[0m\u001b[0mstr\u001b[0m\u001b[1;33m)\u001b[0m\u001b[1;33m\u001b[0m\u001b[1;33m\u001b[0m\u001b[0m\n\u001b[1;32m----> 4\u001b[1;33m \u001b[0mprint\u001b[0m\u001b[1;33m(\u001b[0m\u001b[0mresult\u001b[0m\u001b[1;33m.\u001b[0m\u001b[0mgroup\u001b[0m\u001b[1;33m(\u001b[0m\u001b[1;33m)\u001b[0m\u001b[1;33m)\u001b[0m\u001b[1;33m\u001b[0m\u001b[1;33m\u001b[0m\u001b[0m\n\u001b[0m",
      "\u001b[1;31mAttributeError\u001b[0m: 'NoneType' object has no attribute 'group'"
     ]
    }
   ],
   "source": [
    "import re\n",
    "str = 'sun man mop run'\n",
    "result = re.match(r'm\\w\\w',str)\n",
    "print(result.group())"
   ]
  },
  {
   "cell_type": "code",
   "execution_count": 9,
   "id": "b9f14111",
   "metadata": {},
   "outputs": [
    {
     "name": "stdout",
     "output_type": "stream",
     "text": [
      "None\n"
     ]
    }
   ],
   "source": [
    "print(result)"
   ]
  },
  {
   "cell_type": "code",
   "execution_count": 14,
   "id": "abb6bc77",
   "metadata": {},
   "outputs": [
    {
     "name": "stdout",
     "output_type": "stream",
     "text": [
      "['This', 'is', 'the', 'Core', 'Python', 's', 'book']\n"
     ]
    }
   ],
   "source": [
    "import re\n",
    "str = 'This; is the: \"Core\" Python\\' s book'\n",
    "result =  re.split(r'\\W+',str)\n",
    "print(result)"
   ]
  },
  {
   "cell_type": "code",
   "execution_count": 15,
   "id": "936a6aab",
   "metadata": {},
   "outputs": [
    {
     "name": "stdout",
     "output_type": "stream",
     "text": [
      "Kumbhmela will be conducted at Allahabad in India.\n"
     ]
    }
   ],
   "source": [
    "import re\n",
    "str ='Kumbhmela will be conducted at Ahemdabad in India.'\n",
    "res = re.sub(r'Ahemdabad','Allahabad',str)\n",
    "print(res)"
   ]
  },
  {
   "cell_type": "code",
   "execution_count": 23,
   "id": "1748a923",
   "metadata": {},
   "outputs": [
    {
     "name": "stdout",
     "output_type": "stream",
     "text": [
      "an\n",
      "apple\n",
      "a\n",
      "ay\n",
      "away\n"
     ]
    }
   ],
   "source": [
    "import re\n",
    "str = 'an apple a day keeps the doctor away'\n",
    "result = re.findall(r'a[\\w]*',str)\n",
    "\n",
    "# findall() returns a list , retrieve the elements from list \n",
    "for word in result:\n",
    "    print(word)"
   ]
  },
  {
   "cell_type": "code",
   "execution_count": 24,
   "id": "0d27dc09",
   "metadata": {},
   "outputs": [
    {
     "name": "stdout",
     "output_type": "stream",
     "text": [
      "['an', 'apple', 'a', 'away']\n"
     ]
    }
   ],
   "source": [
    "result = re.findall(r'\\ba[\\w]*\\b',str)\n",
    "print(result)"
   ]
  },
  {
   "cell_type": "code",
   "execution_count": 25,
   "id": "5e92c536",
   "metadata": {},
   "outputs": [
    {
     "name": "stdout",
     "output_type": "stream",
     "text": [
      "1st\n",
      "21st\n"
     ]
    }
   ],
   "source": [
    "import re\n",
    "str = 'The meeting will be conducted on 1st and 21st of every month'\n",
    "result = re.findall(r'\\d[\\w]*',str)\n",
    "for word in result:\n",
    "    print(word)"
   ]
  },
  {
   "cell_type": "code",
   "execution_count": 26,
   "id": "7631b27f",
   "metadata": {},
   "outputs": [
    {
     "name": "stdout",
     "output_type": "stream",
     "text": [
      "['three', 'seven']\n"
     ]
    }
   ],
   "source": [
    "import re\n",
    "str = 'one two three four five six seven 8 9 10'\n",
    "result = re.findall(r'\\b\\w{5}\\b',str)\n",
    "print(result)"
   ]
  },
  {
   "cell_type": "code",
   "execution_count": 27,
   "id": "5b0397b5",
   "metadata": {},
   "outputs": [
    {
     "name": "stdout",
     "output_type": "stream",
     "text": [
      "three\n"
     ]
    }
   ],
   "source": [
    "# search() will give the first matching word only\n",
    "import re\n",
    "str = 'one two three four five six seven 8 9 10'\n",
    "result = re.search(r'\\b\\w{5}\\b',str)\n",
    "# to retrieve the word from result object , use group()\n",
    "print(result.group())"
   ]
  },
  {
   "cell_type": "code",
   "execution_count": 28,
   "id": "e93d8270",
   "metadata": {},
   "outputs": [
    {
     "name": "stdout",
     "output_type": "stream",
     "text": [
      "['three', 'four', 'five', 'seven']\n"
     ]
    }
   ],
   "source": [
    "import re\n",
    "str = 'one two three four five six seven 8 9 10'\n",
    "result = re.findall(r'\\b\\w{4,}\\b',str)\n",
    "print(result)"
   ]
  },
  {
   "cell_type": "code",
   "execution_count": 29,
   "id": "08e83139",
   "metadata": {},
   "outputs": [
    {
     "name": "stdout",
     "output_type": "stream",
     "text": [
      "['one', 'two', 'three', 'four', 'five', 'six', 'seven']\n"
     ]
    }
   ],
   "source": [
    "import re\n",
    "str = 'one two three four five six seven 8 9 10'\n",
    "result = re.findall(r'\\b\\w{3,5}\\b',str)\n",
    "print(result)"
   ]
  },
  {
   "cell_type": "code",
   "execution_count": 30,
   "id": "0625a021",
   "metadata": {},
   "outputs": [
    {
     "name": "stdout",
     "output_type": "stream",
     "text": [
      "['8', '9']\n"
     ]
    }
   ],
   "source": [
    "result = re.findall(r'\\b\\d\\b',str)\n",
    "print(result)"
   ]
  },
  {
   "cell_type": "code",
   "execution_count": 31,
   "id": "6974ca4a",
   "metadata": {},
   "outputs": [
    {
     "name": "stdout",
     "output_type": "stream",
     "text": [
      "['three']\n"
     ]
    }
   ],
   "source": [
    "import re \n",
    "str = ' one two three one two three'\n",
    "result = re.findall(r't[\\w]*\\Z',str)\n",
    "print(result)"
   ]
  },
  {
   "cell_type": "code",
   "execution_count": 32,
   "id": "852757eb",
   "metadata": {},
   "outputs": [
    {
     "name": "stdout",
     "output_type": "stream",
     "text": [
      "97006612345\n",
      "<re.Match object; span=(17, 28), match='97006612345'>\n"
     ]
    }
   ],
   "source": [
    "import re\n",
    "str = 'Nageshwara Rao : 97006612345'\n",
    "res = re.search(r'\\d+',str)\n",
    "print(res.group())\n",
    "print(res)"
   ]
  },
  {
   "cell_type": "code",
   "execution_count": 34,
   "id": "6aea2980",
   "metadata": {},
   "outputs": [
    {
     "name": "stdout",
     "output_type": "stream",
     "text": [
      "Nageshwara Rao : \n"
     ]
    }
   ],
   "source": [
    "res = re.search(r'\\D+',str)\n",
    "print(res.group())"
   ]
  },
  {
   "cell_type": "code",
   "execution_count": 35,
   "id": "1c5cc0f6",
   "metadata": {},
   "outputs": [
    {
     "name": "stdout",
     "output_type": "stream",
     "text": [
      "['ani', 'akhil', 'ananat', 'ankur']\n"
     ]
    }
   ],
   "source": [
    "import re\n",
    "str = 'ani akhil ananat arun arati arundhati abhijit ankur'\n",
    "res = re.findall(r'a[nk][\\w]*',str)\n",
    "print(res)"
   ]
  },
  {
   "cell_type": "code",
   "execution_count": 36,
   "id": "efb5b06c",
   "metadata": {},
   "outputs": [
    {
     "name": "stdout",
     "output_type": "stream",
     "text": [
      "['22-10-1990', '15-09-2000']\n"
     ]
    }
   ],
   "source": [
    "import re \n",
    "str = 'Vijay 20 1-5-2001 , Rohit 21 22-10-1990 , Sita 22 15-09-2000'\n",
    "res = re.findall(r'\\d{2}-\\d{2}-\\d{4}',str)\n",
    "print(res)"
   ]
  },
  {
   "cell_type": "code",
   "execution_count": 37,
   "id": "7825a9b7",
   "metadata": {},
   "outputs": [
    {
     "name": "stdout",
     "output_type": "stream",
     "text": [
      "['1-5-2001', '22-10-1990', '15-09-2000']\n"
     ]
    }
   ],
   "source": [
    "res = re.findall(r'\\d{1,2}-\\d{1,2}-\\d{4}',str)\n",
    "print(res)"
   ]
  },
  {
   "cell_type": "code",
   "execution_count": 38,
   "id": "fa8d948f",
   "metadata": {},
   "outputs": [
    {
     "name": "stdout",
     "output_type": "stream",
     "text": [
      "String starts with 'He'\n"
     ]
    }
   ],
   "source": [
    "import re\n",
    "str = 'Hello World'\n",
    "res = re.search(r\"^He\",str)\n",
    "if res : \n",
    "    print(\"String starts with 'He'\")\n",
    "else:\n",
    "    print('String does not start with \"He\"')"
   ]
  },
  {
   "cell_type": "code",
   "execution_count": 39,
   "id": "4d86b8e7",
   "metadata": {},
   "outputs": [
    {
     "name": "stdout",
     "output_type": "stream",
     "text": [
      "String ends with 'World'\n"
     ]
    }
   ],
   "source": [
    "import re\n",
    "str = \"Hello World\"\n",
    "res = re.search(r\"World$\",str)\n",
    "if res:\n",
    "    print(\"String ends with 'World'\")\n",
    "else:\n",
    "    print(\"String does not end with 'World'\")"
   ]
  },
  {
   "cell_type": "code",
   "execution_count": 40,
   "id": "9d0da367",
   "metadata": {},
   "outputs": [
    {
     "name": "stdout",
     "output_type": "stream",
     "text": [
      "String ends with \"World\"\n"
     ]
    }
   ],
   "source": [
    "import re\n",
    "str = \"Hello World\"\n",
    "res = re.search(r\"world$\",str,re.IGNORECASE)\n",
    "if res :\n",
    "    print('String ends with \"World\"')\n",
    "else:\n",
    "    print('String does not end with \"World\"')"
   ]
  },
  {
   "cell_type": "code",
   "execution_count": 42,
   "id": "b8b4efce",
   "metadata": {},
   "outputs": [
    {
     "name": "stdout",
     "output_type": "stream",
     "text": [
      "['75', '55', '98']\n",
      "['Rahul', 'Vijay', 'Subbu']\n"
     ]
    }
   ],
   "source": [
    "# displaying marks and names\n",
    "import re\n",
    "str = 'Rahul got 75 marks , Vijay got 55 marks ,whereas Subbu got 98 marks'\n",
    "\n",
    "# extract only marks having 2 digits \n",
    "marks = re.findall('\\d{2}',str)\n",
    "print(marks)\n",
    "\n",
    "# extract names starting with capital letter\n",
    "# and remaining alphabetic characters\n",
    "names = re.findall('[A-Z][a-z]*',str)\n",
    "print(names)"
   ]
  },
  {
   "cell_type": "code",
   "execution_count": 43,
   "id": "21cfc8ea",
   "metadata": {},
   "outputs": [
    {
     "name": "stdout",
     "output_type": "stream",
     "text": [
      "['8am', '9am', '4pm', '5pm']\n"
     ]
    }
   ],
   "source": [
    "import re\n",
    "str = 'The meeting may be at 8am or 9am or 4pm or 5pm.'\n",
    "res = re.findall(r\"\\dam|\\dpm\",str)\n",
    "print(res)"
   ]
  },
  {
   "cell_type": "code",
   "execution_count": null,
   "id": "5e941ce8",
   "metadata": {},
   "outputs": [],
   "source": []
  }
 ],
 "metadata": {
  "kernelspec": {
   "display_name": "Python 3 (ipykernel)",
   "language": "python",
   "name": "python3"
  },
  "language_info": {
   "codemirror_mode": {
    "name": "ipython",
    "version": 3
   },
   "file_extension": ".py",
   "mimetype": "text/x-python",
   "name": "python",
   "nbconvert_exporter": "python",
   "pygments_lexer": "ipython3",
   "version": "3.9.7"
  }
 },
 "nbformat": 4,
 "nbformat_minor": 5
}
