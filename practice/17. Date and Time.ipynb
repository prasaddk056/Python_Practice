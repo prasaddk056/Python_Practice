{
 "cells": [
  {
   "cell_type": "code",
   "execution_count": 3,
   "id": "9fa06756",
   "metadata": {},
   "outputs": [
    {
     "name": "stdout",
     "output_type": "stream",
     "text": [
      "1662135656.010693\n"
     ]
    }
   ],
   "source": [
    "# knowing the time since the epoch i.e from 1st jan 1970\n",
    "import time\n",
    "epoch = time.time()  # call time() function of time module\n",
    "print(epoch)"
   ]
  },
  {
   "cell_type": "code",
   "execution_count": 4,
   "id": "a54602f1",
   "metadata": {},
   "outputs": [
    {
     "name": "stdout",
     "output_type": "stream",
     "text": [
      "Current date is : 2 - 9 - 2022\n",
      "Current time is : 21 : 50 : 56\n"
     ]
    }
   ],
   "source": [
    "# converting the epoch time into date and time\n",
    "import time\n",
    "\n",
    "# localtime() converts the epoch time into time_struct object t\n",
    "t = time.localtime(epoch)\n",
    "\n",
    "# retrieve the date from the structure t\n",
    "d = t.tm_mday\n",
    "m = t.tm_mon\n",
    "y = t.tm_year\n",
    "\n",
    "print('Current date is : %d - %d - %d'%(d,m,y))\n",
    "\n",
    "# retrieve the time from the structure t\n",
    "h = t.tm_hour\n",
    "m = t.tm_min\n",
    "s = t.tm_sec\n",
    "\n",
    "print('Current time is : %d : %d : %d'%(h,m,s))"
   ]
  },
  {
   "cell_type": "code",
   "execution_count": 5,
   "id": "b736f2f7",
   "metadata": {},
   "outputs": [
    {
     "name": "stdout",
     "output_type": "stream",
     "text": [
      "Fri Sep  2 21:50:56 2022\n"
     ]
    }
   ],
   "source": [
    "# convert epoch time into date and time using ctime()\n",
    "import time\n",
    "t = time.ctime(epoch)  # ctime() with epoch seconds\n",
    "print(t)"
   ]
  },
  {
   "cell_type": "code",
   "execution_count": 6,
   "id": "837e377f",
   "metadata": {},
   "outputs": [
    {
     "name": "stdout",
     "output_type": "stream",
     "text": [
      "Fri Sep  2 21:54:23 2022\n"
     ]
    }
   ],
   "source": [
    "# finding current date and time using ctime()\n",
    "import time\n",
    "t = time.ctime()  # ctime() without epoch\n",
    "print(t)"
   ]
  },
  {
   "cell_type": "code",
   "execution_count": 1,
   "id": "55f82951",
   "metadata": {},
   "outputs": [
    {
     "name": "stdout",
     "output_type": "stream",
     "text": [
      "2022-09-03 11:12:24.127842\n",
      "Date now : 3/9/2022\n",
      "Time now : 11:12:24\n"
     ]
    }
   ],
   "source": [
    "# finding current date and time\n",
    "from datetime import *\n",
    "now = datetime.now()\n",
    "print(now)\n",
    "\n",
    "print('Date now : {}/{}/{}'.format(now.day,now.month,now.year))\n",
    "print('Time now : {}:{}:{}'.format(now.hour,now.minute,now.second))"
   ]
  },
  {
   "cell_type": "code",
   "execution_count": 2,
   "id": "e183b1cf",
   "metadata": {},
   "outputs": [
    {
     "name": "stdout",
     "output_type": "stream",
     "text": [
      "Today's date and time =  2022-09-03 11:15:09.215914\n",
      "Today's date =  2022-09-03\n"
     ]
    }
   ],
   "source": [
    "# finding today's date and time\n",
    "from datetime import *\n",
    "\n",
    "# today() of datetime class gives date and time\n",
    "tdm = datetime.today()\n",
    "print(\"Today's date and time = \",tdm)\n",
    "\n",
    "# today() of date class gives the date only\n",
    "td = date.today()\n",
    "print(\"Today's date = \",td)"
   ]
  },
  {
   "cell_type": "code",
   "execution_count": 3,
   "id": "8ec1a597",
   "metadata": {},
   "outputs": [
    {
     "name": "stdout",
     "output_type": "stream",
     "text": [
      "2003-05-06 01:38:00\n"
     ]
    }
   ],
   "source": [
    "# combining date and time\n",
    "from datetime import*\n",
    "d = date(2003,5,6)\n",
    "t = time(1,38)\n",
    "dt = datetime.combine(d,t)\n",
    "print(dt)"
   ]
  },
  {
   "cell_type": "code",
   "execution_count": 6,
   "id": "b8d29a16",
   "metadata": {},
   "outputs": [
    {
     "name": "stdout",
     "output_type": "stream",
     "text": [
      "2003-06-05 15:30:15\n",
      "2022-10-05 20:30:15\n"
     ]
    }
   ],
   "source": [
    "# creating datetime object and change its contents\n",
    "from datetime import *\n",
    "\n",
    "# create a datetime object\n",
    "dt1 = datetime(year = 2003,month = 6 , day = 5 , hour = 15 , minute = 30 , second = 15)\n",
    "print(dt1)\n",
    "\n",
    "# change its year ,month and hour values\n",
    "dt2 = dt1.replace(year = 2022 , month = 10,hour = 20 )\n",
    "print(dt2)"
   ]
  },
  {
   "cell_type": "code",
   "execution_count": 7,
   "id": "149f66a7",
   "metadata": {},
   "outputs": [
    {
     "name": "stdout",
     "output_type": "stream",
     "text": [
      "2022-09-03\n",
      "03,September,2022\n"
     ]
    }
   ],
   "source": [
    "# formatting the date\n",
    "from datetime import * \n",
    "\n",
    "# get current date into td object\n",
    "td = date.today()\n",
    "print(td)\n",
    "\n",
    "# format the td and convert into string str\n",
    "str = td.strftime(\"%d,%B,%Y\")\n",
    "print(str)"
   ]
  },
  {
   "cell_type": "code",
   "execution_count": 8,
   "id": "87adc088",
   "metadata": {},
   "outputs": [
    {
     "name": "stdout",
     "output_type": "stream",
     "text": [
      "2022-09-03\n",
      "Today is 246 th day of the current year\n",
      "It is  Saturday\n"
     ]
    }
   ],
   "source": [
    "# finding the day of the year \n",
    "from datetime import *\n",
    "\n",
    "# get today's date\n",
    "td = date.today()\n",
    "print(td) # display content of td object\n",
    "\n",
    "# %j returns day of the year as : 001 ,002,.... 366\n",
    "s1 = td.strftime('%j')\n",
    "print('Today is',s1,'th day of the current year')\n",
    "\n",
    "# find the week day name\n",
    "s2 = td.strftime('%A')\n",
    "print('It is ',s2)"
   ]
  },
  {
   "cell_type": "code",
   "execution_count": 9,
   "id": "13bc3132",
   "metadata": {},
   "outputs": [
    {
     "name": "stdout",
     "output_type": "stream",
     "text": [
      "2022-09-03 11:29:32.614074\n",
      "Current time :  11:29:32\n"
     ]
    }
   ],
   "source": [
    "# formatting the current time\n",
    "from datetime import *\n",
    "\n",
    "# create datetime object with current date and time \n",
    "dt = datetime.now()\n",
    "print(dt)  # display content of dt object\n",
    "\n",
    "# display only time\n",
    "print('Current time : ',dt.strftime(\"%H:%M:%S\"))"
   ]
  },
  {
   "cell_type": "code",
   "execution_count": 10,
   "id": "ccf1e319",
   "metadata": {},
   "outputs": [
    {
     "name": "stdout",
     "output_type": "stream",
     "text": [
      "Enter a date : 05/06/2003\n",
      "Day 4 of the week . This is Thursday \n"
     ]
    }
   ],
   "source": [
    "# finding day of the week \n",
    "from datetime import *\n",
    "\n",
    "# accept date , month , year from the keyboard\n",
    "d , m , y = [int(x) for x in input(\"Enter a date : \").split('/')]\n",
    "\n",
    "# store them in date class object 'dt'\n",
    "dt = date(y,m,d)\n",
    "\n",
    "# %w - day number and %A full name of the week day\n",
    "print(dt.strftime('Day %w of the week . This is %A '))\n"
   ]
  },
  {
   "cell_type": "code",
   "execution_count": 12,
   "id": "d568343b",
   "metadata": {},
   "outputs": [
    {
     "name": "stdout",
     "output_type": "stream",
     "text": [
      "Enter first date :05/06/2022\n",
      "Enter second date : 05/06/2003\n",
      "Days difference =   6940 days, 0:00:00\n",
      "Weeks difference =  991\n",
      "Month difference =  231\n"
     ]
    }
   ],
   "source": [
    "# differnce days , week and months between two dates\n",
    "from datetime import *\n",
    "\n",
    "# enter the two dates from the keyboard\n",
    "d1 , m1 , y1 = [int(x) for x in input('Enter first date :').split('/')]\n",
    "d2 , m2 , y2 = [int(x) for x in input('Enter second date : ').split('/')]\n",
    "\n",
    "# create date class objects with input \n",
    "dt1 = date(y1,m1,d1)\n",
    "dt2 = date(y2,m2,d2)\n",
    "\n",
    "# find days difference between these two dates\n",
    "dt = dt1 - dt2\n",
    "print('Days difference =  ',dt)\n",
    "\n",
    "# find difference in weeks\n",
    "weeks ,days = divmod(dt.days ,7)\n",
    "print('Weeks difference = ',weeks)\n",
    "\n",
    "# find difference in months\n",
    "months , days = divmod(dt.days , 30)\n",
    "print('Month difference = ',months)\n"
   ]
  },
  {
   "cell_type": "code",
   "execution_count": 13,
   "id": "bef03489",
   "metadata": {},
   "outputs": [
    {
     "name": "stdout",
     "output_type": "stream",
     "text": [
      "5807 days, 23:54:50\n",
      "Difference is 829 weeks , 4 days , 23 hours , 54 minutes and 50 seconds \n"
     ]
    }
   ],
   "source": [
    "# difference between two dates along with times\n",
    "from datetime import *\n",
    "\n",
    "# create two datetime objects that store data and time\n",
    "d1 = datetime(2000,6,25,8,00,25)\n",
    "d2 = datetime(2016,5,20,7,55,15)\n",
    "\n",
    "# find the difference in days and time\n",
    "diff = d2 - d1\n",
    "print(diff)\n",
    "\n",
    "# divide days by 7 to get weeks and remaining days\n",
    "weeks ,days = divmod(diff.days,7)\n",
    "\n",
    "# divide seconds by 3600 to get hours and remaining seconds\n",
    "hrs ,secs = divmod(diff.seconds , 3600)\n",
    "\n",
    "# divide remaining seconds by 60 to get minutes\n",
    "mins = secs//60  # get minutes\n",
    "\n",
    "# take remaining seconds from the remainder of division\n",
    "secs = secs% 60   # get remaining seconds \n",
    "\n",
    "print('Difference is %d weeks , %d days , %d hours , %d minutes and %d seconds '%(weeks , days , hrs ,mins, secs))\n"
   ]
  },
  {
   "cell_type": "code",
   "execution_count": 14,
   "id": "c4067043",
   "metadata": {},
   "outputs": [
    {
     "name": "stdout",
     "output_type": "stream",
     "text": [
      "The new date and time is :  2016-05-10 05:05:10\n"
     ]
    }
   ],
   "source": [
    "# finding the future date and time\n",
    "from datetime import *\n",
    "\n",
    "# store the date and time in datetime object : d1\n",
    "d1 = datetime(2016,4,29,16,45,0)\n",
    "\n",
    "# define the duration using timedelta object : period1\n",
    "period1 = timedelta(days = 10 , seconds = 10 , minutes = 20 , hours = 12)\n",
    "\n",
    "# add the duration to d1 and display\n",
    "print('The new date and time is : ',d1+period1)"
   ]
  },
  {
   "cell_type": "code",
   "execution_count": 15,
   "id": "645eebd2",
   "metadata": {},
   "outputs": [
    {
     "name": "stdout",
     "output_type": "stream",
     "text": [
      "2022-09-03\n",
      "2022-09-04\n",
      "2022-09-05\n",
      "2022-09-06\n",
      "2022-09-07\n",
      "2022-09-08\n",
      "2022-09-09\n",
      "2022-09-10\n",
      "2022-09-11\n",
      "2022-09-12\n"
     ]
    }
   ],
   "source": [
    "# displaying a range of continuous dates\n",
    "from datetime import *\n",
    "\n",
    "# start with today or any other date\n",
    "d = date.today()\n",
    "print(d)\n",
    "\n",
    "# add 1 to 9 days and get future dates\n",
    "for x in range(1,10):\n",
    "    nextdate = d + timedelta(days = x)\n",
    "    print(nextdate)"
   ]
  },
  {
   "cell_type": "code",
   "execution_count": 16,
   "id": "56fd9956",
   "metadata": {},
   "outputs": [
    {
     "name": "stdout",
     "output_type": "stream",
     "text": [
      "Enter first person's birth date (DD/MM/YYYY) : 05/06/2003\n",
      "Enter second person's birth date (DD/MM/YYYY) : 02/12/1997\n",
      "The second person is older\n"
     ]
    }
   ],
   "source": [
    "# to know who is older\n",
    "from datetime import *\n",
    "\n",
    "# enter birth dates and store into date class object\n",
    "d1 , m1 , y1 = [int(x) for x in input(\"Enter first person's birth date (DD/MM/YYYY) : \").split('/')]\n",
    "b1 = date(y1 , m1 , d1)\n",
    "\n",
    "d2 , m2 , y2 = [int(x) for x in input(\"Enter second person's birth date (DD/MM/YYYY) : \").split('/')]\n",
    "b2 = date(y2 , m2 , d2)\n",
    "\n",
    "# compare the birth dates\n",
    "if b1 == b2:\n",
    "    print('Both persons are of equal age')\n",
    "elif b1 >b2:\n",
    "    print('The second person is older')\n",
    "else:\n",
    "    print('The first person is older')"
   ]
  },
  {
   "cell_type": "code",
   "execution_count": 17,
   "id": "627e28d6",
   "metadata": {},
   "outputs": [
    {
     "name": "stdout",
     "output_type": "stream",
     "text": [
      "2019-06-30\n",
      "2019-07-25\n",
      "2020-06-29\n",
      "2022-09-03\n"
     ]
    }
   ],
   "source": [
    "# sorting dates\n",
    "from datetime import *\n",
    "\n",
    "# take an empty list \n",
    "group = []\n",
    "\n",
    "# add today's date to list \n",
    "group.append(date.today())\n",
    "\n",
    "# create some more dates and add them to list\n",
    "d = date(2020 ,6,29)\n",
    "group.append(d)\n",
    "d = date(2019,6,30)\n",
    "group.append(d)\n",
    "\n",
    "# add 25 days to the date and add to the list\n",
    "group.append(d+timedelta(days = 25))\n",
    "\n",
    "# sort the list\n",
    "group.sort()\n",
    "\n",
    "# display sorted dates\n",
    "for d in group : \n",
    "    print(d)"
   ]
  },
  {
   "cell_type": "code",
   "execution_count": 18,
   "id": "5cca0be2",
   "metadata": {},
   "outputs": [
    {
     "name": "stdout",
     "output_type": "stream",
     "text": [
      "145\n",
      "185\n",
      "100\n",
      "165\n",
      "140\n",
      "155\n",
      "110\n",
      "160\n",
      "100\n",
      "105\n"
     ]
    }
   ],
   "source": [
    "# to generate random numbers between 100 and 200 every 3.5 secs\n",
    "\n",
    "import time ,random \n",
    "\n",
    "# to generate 10 random numbers\n",
    "for i in range(10):\n",
    "    # generate in the range 100 to 200\n",
    "    num = random.randrange(100,200,5)\n",
    "    print(num)\n",
    "    # supspend execution for 3.5 seconds\n",
    "    time.sleep(3.5)"
   ]
  },
  {
   "cell_type": "code",
   "execution_count": 21,
   "id": "e6ea2f52",
   "metadata": {},
   "outputs": [
    {
     "name": "stdout",
     "output_type": "stream",
     "text": [
      "Execution time  3.304548 seconds\n"
     ]
    }
   ],
   "source": [
    "# to measure the time taken by the program \n",
    "from time import *\n",
    "\n",
    "# note the starting time of the program \n",
    "t1 = perf_counter()\n",
    "\n",
    "# do some processing\n",
    "i , sum = 0,0\n",
    "while(i<1000000):\n",
    "    sum +=i\n",
    "    i+=1\n",
    "\n",
    "    \n",
    "# make the processor or pvm sleep for 3 seconds\n",
    "# this is also measured by the perf_counter()\n",
    "sleep(3)\n",
    "\n",
    "# note the ending time of the program \n",
    "t2 = perf_counter()\n",
    "\n",
    "# find time for the program in seconds\n",
    "print('Execution time  %f seconds'%(t2-t1))\n"
   ]
  },
  {
   "cell_type": "code",
   "execution_count": 24,
   "id": "a6f00da3",
   "metadata": {},
   "outputs": [
    {
     "name": "stdout",
     "output_type": "stream",
     "text": [
      "Enter year : 2022\n",
      "2022  is not leap \n"
     ]
    }
   ],
   "source": [
    "# to test whether leap year or not\n",
    "from calendar import *\n",
    "y = int(input('Enter year : '))\n",
    "\n",
    "if (isleap(y)):\n",
    "    print(y , ' is leap year')\n",
    "else:\n",
    "    print(y ,' is not leap ')"
   ]
  },
  {
   "cell_type": "code",
   "execution_count": 27,
   "id": "555294cf",
   "metadata": {},
   "outputs": [
    {
     "name": "stdout",
     "output_type": "stream",
     "text": [
      "Enter year : 2022\n",
      "Enter month : 9\n",
      "   September 2022\n",
      "Mo Tu We Th Fr Sa Su\n",
      "          1  2  3  4\n",
      " 5  6  7  8  9 10 11\n",
      "12 13 14 15 16 17 18\n",
      "19 20 21 22 23 24 25\n",
      "26 27 28 29 30\n",
      "\n"
     ]
    }
   ],
   "source": [
    "# to display calendar of given month of the year\n",
    "from calendar import *\n",
    "\n",
    "# ask for month and year\n",
    "yy = int(input('Enter year : '))\n",
    "mm = int(input('Enter month : '))\n",
    "\n",
    "# display the calendar for that month\n",
    "str = month(yy,mm)\n",
    "print(str)"
   ]
  },
  {
   "cell_type": "code",
   "execution_count": 31,
   "id": "615ba4dc",
   "metadata": {},
   "outputs": [
    {
     "name": "stdout",
     "output_type": "stream",
     "text": [
      "Enter year : 2022\n",
      "                                  2022\n",
      "\n",
      "      January                   February                   March\n",
      "Mo Tu We Th Fr Sa Su      Mo Tu We Th Fr Sa Su      Mo Tu We Th Fr Sa Su\n",
      "                1  2          1  2  3  4  5  6          1  2  3  4  5  6\n",
      " 3  4  5  6  7  8  9       7  8  9 10 11 12 13       7  8  9 10 11 12 13\n",
      "10 11 12 13 14 15 16      14 15 16 17 18 19 20      14 15 16 17 18 19 20\n",
      "17 18 19 20 21 22 23      21 22 23 24 25 26 27      21 22 23 24 25 26 27\n",
      "24 25 26 27 28 29 30      28                        28 29 30 31\n",
      "31\n",
      "\n",
      "       April                      May                       June\n",
      "Mo Tu We Th Fr Sa Su      Mo Tu We Th Fr Sa Su      Mo Tu We Th Fr Sa Su\n",
      "             1  2  3                         1             1  2  3  4  5\n",
      " 4  5  6  7  8  9 10       2  3  4  5  6  7  8       6  7  8  9 10 11 12\n",
      "11 12 13 14 15 16 17       9 10 11 12 13 14 15      13 14 15 16 17 18 19\n",
      "18 19 20 21 22 23 24      16 17 18 19 20 21 22      20 21 22 23 24 25 26\n",
      "25 26 27 28 29 30         23 24 25 26 27 28 29      27 28 29 30\n",
      "                          30 31\n",
      "\n",
      "        July                     August                  September\n",
      "Mo Tu We Th Fr Sa Su      Mo Tu We Th Fr Sa Su      Mo Tu We Th Fr Sa Su\n",
      "             1  2  3       1  2  3  4  5  6  7                1  2  3  4\n",
      " 4  5  6  7  8  9 10       8  9 10 11 12 13 14       5  6  7  8  9 10 11\n",
      "11 12 13 14 15 16 17      15 16 17 18 19 20 21      12 13 14 15 16 17 18\n",
      "18 19 20 21 22 23 24      22 23 24 25 26 27 28      19 20 21 22 23 24 25\n",
      "25 26 27 28 29 30 31      29 30 31                  26 27 28 29 30\n",
      "\n",
      "      October                   November                  December\n",
      "Mo Tu We Th Fr Sa Su      Mo Tu We Th Fr Sa Su      Mo Tu We Th Fr Sa Su\n",
      "                1  2          1  2  3  4  5  6                1  2  3  4\n",
      " 3  4  5  6  7  8  9       7  8  9 10 11 12 13       5  6  7  8  9 10 11\n",
      "10 11 12 13 14 15 16      14 15 16 17 18 19 20      12 13 14 15 16 17 18\n",
      "17 18 19 20 21 22 23      21 22 23 24 25 26 27      19 20 21 22 23 24 25\n",
      "24 25 26 27 28 29 30      28 29 30                  26 27 28 29 30 31\n",
      "31\n",
      "\n",
      "                                  2003\n",
      "\n",
      "      January                   February                   March\n",
      "Mo Tu We Th Fr Sa Su      Mo Tu We Th Fr Sa Su      Mo Tu We Th Fr Sa Su\n",
      "       1  2  3  4  5                      1  2                      1  2\n",
      " 6  7  8  9 10 11 12       3  4  5  6  7  8  9       3  4  5  6  7  8  9\n",
      "13 14 15 16 17 18 19      10 11 12 13 14 15 16      10 11 12 13 14 15 16\n",
      "20 21 22 23 24 25 26      17 18 19 20 21 22 23      17 18 19 20 21 22 23\n",
      "27 28 29 30 31            24 25 26 27 28            24 25 26 27 28 29 30\n",
      "                                                    31\n",
      "\n",
      "       April                      May                       June\n",
      "Mo Tu We Th Fr Sa Su      Mo Tu We Th Fr Sa Su      Mo Tu We Th Fr Sa Su\n",
      "    1  2  3  4  5  6                1  2  3  4                         1\n",
      " 7  8  9 10 11 12 13       5  6  7  8  9 10 11       2  3  4  5  6  7  8\n",
      "14 15 16 17 18 19 20      12 13 14 15 16 17 18       9 10 11 12 13 14 15\n",
      "21 22 23 24 25 26 27      19 20 21 22 23 24 25      16 17 18 19 20 21 22\n",
      "28 29 30                  26 27 28 29 30 31         23 24 25 26 27 28 29\n",
      "                                                    30\n",
      "\n",
      "        July                     August                  September\n",
      "Mo Tu We Th Fr Sa Su      Mo Tu We Th Fr Sa Su      Mo Tu We Th Fr Sa Su\n",
      "    1  2  3  4  5  6                   1  2  3       1  2  3  4  5  6  7\n",
      " 7  8  9 10 11 12 13       4  5  6  7  8  9 10       8  9 10 11 12 13 14\n",
      "14 15 16 17 18 19 20      11 12 13 14 15 16 17      15 16 17 18 19 20 21\n",
      "21 22 23 24 25 26 27      18 19 20 21 22 23 24      22 23 24 25 26 27 28\n",
      "28 29 30 31               25 26 27 28 29 30 31      29 30\n",
      "\n",
      "      October                   November                  December\n",
      "Mo Tu We Th Fr Sa Su      Mo Tu We Th Fr Sa Su      Mo Tu We Th Fr Sa Su\n",
      "       1  2  3  4  5                      1  2       1  2  3  4  5  6  7\n",
      " 6  7  8  9 10 11 12       3  4  5  6  7  8  9       8  9 10 11 12 13 14\n",
      "13 14 15 16 17 18 19      10 11 12 13 14 15 16      15 16 17 18 19 20 21\n",
      "20 21 22 23 24 25 26      17 18 19 20 21 22 23      22 23 24 25 26 27 28\n",
      "27 28 29 30 31            24 25 26 27 28 29 30      29 30 31\n",
      "\n"
     ]
    }
   ],
   "source": [
    "# to display calendar of entire year\n",
    "from calendar import *\n",
    "year = int(input('Enter year : '))\n",
    "print(calendar(year))\n",
    "print(calendar(2003,w = 2 , l = 1 , c = 6 ,m = 3))\n"
   ]
  },
  {
   "cell_type": "code",
   "execution_count": 37,
   "id": "a7eef75d",
   "metadata": {},
   "outputs": [
    {
     "name": "stdout",
     "output_type": "stream",
     "text": [
      "                                                             2003\n",
      "\n",
      "\n",
      "\n",
      "             January                                       February                                       March\n",
      "\n",
      "Mon  Tue  Wed  Thu  Fri  Sat  Sun             Mon  Tue  Wed  Thu  Fri  Sat  Sun             Mon  Tue  Wed  Thu  Fri  Sat  Sun\n",
      "\n",
      "            1    2    3    4    5                                        1    2                                        1    2\n",
      "\n",
      "  6    7    8    9   10   11   12               3    4    5    6    7    8    9               3    4    5    6    7    8    9\n",
      "\n",
      " 13   14   15   16   17   18   19              10   11   12   13   14   15   16              10   11   12   13   14   15   16\n",
      "\n",
      " 20   21   22   23   24   25   26              17   18   19   20   21   22   23              17   18   19   20   21   22   23\n",
      "\n",
      " 27   28   29   30   31                        24   25   26   27   28                        24   25   26   27   28   29   30\n",
      "\n",
      "                                                                                             31\n",
      "\n",
      "\n",
      "\n",
      "              April                                          May                                           June\n",
      "\n",
      "Mon  Tue  Wed  Thu  Fri  Sat  Sun             Mon  Tue  Wed  Thu  Fri  Sat  Sun             Mon  Tue  Wed  Thu  Fri  Sat  Sun\n",
      "\n",
      "       1    2    3    4    5    6                              1    2    3    4                                             1\n",
      "\n",
      "  7    8    9   10   11   12   13               5    6    7    8    9   10   11               2    3    4    5    6    7    8\n",
      "\n",
      " 14   15   16   17   18   19   20              12   13   14   15   16   17   18               9   10   11   12   13   14   15\n",
      "\n",
      " 21   22   23   24   25   26   27              19   20   21   22   23   24   25              16   17   18   19   20   21   22\n",
      "\n",
      " 28   29   30                                  26   27   28   29   30   31                   23   24   25   26   27   28   29\n",
      "\n",
      "                                                                                             30\n",
      "\n",
      "\n",
      "\n",
      "               July                                         August                                      September\n",
      "\n",
      "Mon  Tue  Wed  Thu  Fri  Sat  Sun             Mon  Tue  Wed  Thu  Fri  Sat  Sun             Mon  Tue  Wed  Thu  Fri  Sat  Sun\n",
      "\n",
      "       1    2    3    4    5    6                                   1    2    3               1    2    3    4    5    6    7\n",
      "\n",
      "  7    8    9   10   11   12   13               4    5    6    7    8    9   10               8    9   10   11   12   13   14\n",
      "\n",
      " 14   15   16   17   18   19   20              11   12   13   14   15   16   17              15   16   17   18   19   20   21\n",
      "\n",
      " 21   22   23   24   25   26   27              18   19   20   21   22   23   24              22   23   24   25   26   27   28\n",
      "\n",
      " 28   29   30   31                             25   26   27   28   29   30   31              29   30\n",
      "\n",
      "\n",
      "\n",
      "             October                                       November                                      December\n",
      "\n",
      "Mon  Tue  Wed  Thu  Fri  Sat  Sun             Mon  Tue  Wed  Thu  Fri  Sat  Sun             Mon  Tue  Wed  Thu  Fri  Sat  Sun\n",
      "\n",
      "            1    2    3    4    5                                        1    2               1    2    3    4    5    6    7\n",
      "\n",
      "  6    7    8    9   10   11   12               3    4    5    6    7    8    9               8    9   10   11   12   13   14\n",
      "\n",
      " 13   14   15   16   17   18   19              10   11   12   13   14   15   16              15   16   17   18   19   20   21\n",
      "\n",
      " 20   21   22   23   24   25   26              17   18   19   20   21   22   23              22   23   24   25   26   27   28\n",
      "\n",
      " 27   28   29   30   31                        24   25   26   27   28   29   30              29   30   31\n",
      "\n",
      "\n"
     ]
    }
   ],
   "source": [
    "print(calendar(2003,w = 4 , l = 2 , c = 12,m =3))\n",
    "# w = width between two columns\n",
    "# l = blank lines between two rows\n",
    "# c = column wise space between two months\n",
    "# m = no. of months in row"
   ]
  },
  {
   "cell_type": "code",
   "execution_count": null,
   "id": "e445d6fe",
   "metadata": {},
   "outputs": [],
   "source": []
  }
 ],
 "metadata": {
  "kernelspec": {
   "display_name": "Python 3 (ipykernel)",
   "language": "python",
   "name": "python3"
  },
  "language_info": {
   "codemirror_mode": {
    "name": "ipython",
    "version": 3
   },
   "file_extension": ".py",
   "mimetype": "text/x-python",
   "name": "python",
   "nbconvert_exporter": "python",
   "pygments_lexer": "ipython3",
   "version": "3.9.7"
  }
 },
 "nbformat": 4,
 "nbformat_minor": 5
}
