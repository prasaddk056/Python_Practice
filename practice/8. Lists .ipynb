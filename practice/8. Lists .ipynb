{
 "cells": [
  {
   "cell_type": "code",
   "execution_count": 1,
   "id": "785c9c8e",
   "metadata": {},
   "outputs": [
    {
     "name": "stdout",
     "output_type": "stream",
     "text": [
      "Total list =  [10, 20, 30, 40, 50]\n",
      "First = 10 , Last = 50\n",
      "Total list =  ['Raju', 'Vani', 'Gopal', 'Laxmi']\n",
      "First = Raju , Last = Laxmi\n",
      "Total list =  [10, 20, 10.5, 2.55, 'Ganesh', 'Vishnu']\n",
      "First = 10 , Last = Vishnu\n"
     ]
    }
   ],
   "source": [
    "# a general way to create a list\n",
    "# create a list with integer numbers\n",
    "num = [10,20,30,40,50]\n",
    "print('Total list = ',num)                      # display total list\n",
    "print('First = %d , Last = %d'%(num[0],num[4])) # display first and last element\n",
    "\n",
    "# create a list with strings\n",
    "names =['Raju','Vani','Gopal','Laxmi']\n",
    "print('Total list = ',names)                        # display entire list\n",
    "print('First = %s , Last = %s'%(names[0],names[3])) # display first and last elements\n",
    "\n",
    "# create a list with different elements\n",
    "x = [10,20,10.5,2.55,'Ganesh','Vishnu']\n",
    "print('Total list = ',x)                    # display entire list        \n",
    "print('First = %d , Last = %s'%(x[0],x[5])) # display first and last elements"
   ]
  },
  {
   "cell_type": "code",
   "execution_count": 2,
   "id": "334f18cf",
   "metadata": {},
   "outputs": [
    {
     "name": "stdout",
     "output_type": "stream",
     "text": [
      "0  ,1  ,2  ,3  ,4  ,5  ,6  ,7  ,8  ,9  ,\n",
      "5  ,6  ,7  ,8  ,9  ,\n",
      "5  ,7  ,9  ,"
     ]
    }
   ],
   "source": [
    "# creating lists using range() function\n",
    "# create a list with 0 to 9 consecutive integer numbers\n",
    "list1 = range(10)\n",
    "for i in list1:   # display element by element\n",
    "    print(i , ' ,',end='')\n",
    "print()    # throw cursor to next line\n",
    "\n",
    "# create a list with integers from 5 to 9\n",
    "list2 = range(5,10)\n",
    "for i in list2:\n",
    "    print(i , ' ,',end='')\n",
    "print()\n",
    "\n",
    "# create a list with odd numbers from 5 to 9\n",
    "list3 = range(5,10,2)\n",
    "for i in list3:\n",
    "    print(i, ' ,',end='')"
   ]
  },
  {
   "cell_type": "code",
   "execution_count": 3,
   "id": "2bfb2dd0",
   "metadata": {},
   "outputs": [
    {
     "name": "stdout",
     "output_type": "stream",
     "text": [
      "Using while loop\n",
      "10\n",
      "20\n",
      "30\n",
      "40\n",
      "50\n",
      "Using for loop\n",
      "10\n",
      "20\n",
      "30\n",
      "40\n",
      "50\n"
     ]
    }
   ],
   "source": [
    "# displaying list elements using while and for loops\n",
    "lst = [10,20,30,40,50]\n",
    "print('Using while loop')\n",
    "i = 0\n",
    "while i <len(lst):  # repeat from 0 to length of list\n",
    "    print(lst[i])\n",
    "    i +=1\n",
    "print('Using for loop')\n",
    "for i in lst:   # repeat for all elements\n",
    "    print(i)"
   ]
  },
  {
   "cell_type": "code",
   "execution_count": 4,
   "id": "48aae1b6",
   "metadata": {},
   "outputs": [
    {
     "name": "stdout",
     "output_type": "stream",
     "text": [
      "[1, 2, 3, 4]\n",
      "[1, 2, 3, 4, 9]\n",
      "[1, 8, 3, 4, 9]\n",
      "[1, 10, 11, 4, 9]\n",
      "[1, 11, 4, 9]\n",
      "[1, 4, 9]\n",
      "None\n"
     ]
    }
   ],
   "source": [
    "lst = [1,2,3,4]  # create a list using list() and range()\n",
    "print(lst)\n",
    "lst.append(9)            # append a new element to lst\n",
    "print(lst)\n",
    "lst[1] = 8               # update 1st element of lst\n",
    "print(lst)\n",
    "lst[1:3] = 10,11         # update 1st and 2nd elements of lst\n",
    "print(lst)\n",
    "del lst[1]               # delete 1st element from 1st\n",
    "print(lst)\n",
    "lst.remove(11)           # delete 11 from lst\n",
    "print(lst)\n",
    "print(lst.reverse())     # reverse method"
   ]
  },
  {
   "cell_type": "code",
   "execution_count": 5,
   "id": "6b49bff3",
   "metadata": {},
   "outputs": [
    {
     "name": "stdout",
     "output_type": "stream",
     "text": [
      "[1, 2, 3, 4, 5]\n",
      "None\n"
     ]
    }
   ],
   "source": [
    "lst = [1,2,3,4,5]\n",
    "print(lst)\n",
    "print(lst.reverse())"
   ]
  },
  {
   "cell_type": "code",
   "execution_count": 6,
   "id": "1e189710",
   "metadata": {},
   "outputs": [
    {
     "name": "stdout",
     "output_type": "stream",
     "text": [
      "\n",
      "In reverse order : \n",
      "Thursday\n",
      "Wednesday\n",
      "Tuesday\n",
      "Monday\n",
      "Sunday\n",
      "\n",
      "In reverse order : \n",
      "Thursday\n",
      "Wednesday\n",
      "Tuesday\n",
      "Monday\n",
      "Sunday\n"
     ]
    }
   ],
   "source": [
    "# displaying list elements in reverse order\n",
    "days = ['Sunday','Monday','Tuesday','Wednesday','Thursday']\n",
    "\n",
    "print('\\nIn reverse order : ')\n",
    "i = len(days) - 1   # i will be 4\n",
    "while i >= 0:\n",
    "    print(days[i])   # display from 4th to 0th elements\n",
    "    i -=1\n",
    "    \n",
    "print('\\nIn reverse order : ')\n",
    "i = -1                 # days[-1] represents last element\n",
    "while i >= -len(days):  # display from -1th to -5th elements\n",
    "    print(days[i])\n",
    "    i -= 1"
   ]
  },
  {
   "cell_type": "code",
   "execution_count": 7,
   "id": "0b810412",
   "metadata": {},
   "outputs": [
    {
     "name": "stdout",
     "output_type": "stream",
     "text": [
      "[10, 20, 30, 40, 50, 100, 110, 120]\n"
     ]
    }
   ],
   "source": [
    "# concatenation of two lists\n",
    "x = [10,20,30,40,50]\n",
    "y = [100,110,120]\n",
    "print(x+y)   # concatenate x and y"
   ]
  },
  {
   "cell_type": "code",
   "execution_count": 8,
   "id": "3fd19cb1",
   "metadata": {},
   "outputs": [
    {
     "name": "stdout",
     "output_type": "stream",
     "text": [
      "[10, 20, 30, 40, 50, 10, 20, 30, 40, 50]\n"
     ]
    }
   ],
   "source": [
    "# repetition of lists\n",
    "print(x*2)"
   ]
  },
  {
   "cell_type": "code",
   "execution_count": 9,
   "id": "7bc7864f",
   "metadata": {},
   "outputs": [
    {
     "name": "stdout",
     "output_type": "stream",
     "text": [
      "True\n",
      "False\n"
     ]
    }
   ],
   "source": [
    "# Membership in lists\n",
    "x = [10,20,30,40,50]\n",
    "a = 20\n",
    "print(a in x)     # check if a is member of x\n",
    "print(a not in x) # check if a is not a member of x"
   ]
  },
  {
   "cell_type": "code",
   "execution_count": 10,
   "id": "7197ce74",
   "metadata": {},
   "outputs": [
    {
     "name": "stdout",
     "output_type": "stream",
     "text": [
      "[10, 20, 30, 40, 50]\n",
      "[10, 20, 30, 40, 50]\n",
      "[10, 99, 30, 40, 50]\n",
      "[10, 99, 30, 40, 50]\n"
     ]
    }
   ],
   "source": [
    "# aliasing lists\n",
    "x = [10,20,30,40,50]\n",
    "y = x  # x is aliased as y\n",
    "print(x) \n",
    "print(y)\n",
    "x[1] = 99   # modify 1st element in x\n",
    "print(x)\n",
    "print(y)"
   ]
  },
  {
   "cell_type": "code",
   "execution_count": 11,
   "id": "ecfb7b1b",
   "metadata": {},
   "outputs": [
    {
     "name": "stdout",
     "output_type": "stream",
     "text": [
      "[10, 20, 30, 40, 50]\n",
      "[10, 20, 30, 40, 50]\n",
      "[10, 99, 30, 40, 50]\n",
      "[10, 20, 30, 40, 50]\n"
     ]
    }
   ],
   "source": [
    "# cloning lists\n",
    "x = [10,20,30,40,50]\n",
    "y = x[:]# x is cloned as y\n",
    "# y = x.copy()\n",
    "print(x)\n",
    "print(y)\n",
    "x[1] = 99    # modify 1st element\n",
    "print(x)\n",
    "print(y)"
   ]
  },
  {
   "cell_type": "code",
   "execution_count": 12,
   "id": "5ee740fd",
   "metadata": {},
   "outputs": [
    {
     "name": "stdout",
     "output_type": "stream",
     "text": [
      "No. of elements in num :  5\n",
      "num after appending 60 :  [10, 20, 30, 40, 50, 60]\n",
      "num after inserting 5 at 0th position :  [5, 10, 20, 30, 40, 50, 60]\n",
      "Newly created list num1 :  [5, 10, 20, 30, 40, 50, 60]\n",
      "num after appending num1 :  [5, 10, 20, 30, 40, 50, 60, 5, 10, 20, 30, 40, 50, 60]\n",
      "No. of times 50 found in the list num :  2\n",
      "num after removing 50 :  [5, 10, 20, 30, 40, 60, 5, 10, 20, 30, 40, 50, 60]\n",
      "num after removing ending element :  [5, 10, 20, 30, 40, 60, 5, 10, 20, 30, 40, 50]\n",
      "num after sorting : [5, 5, 10, 10, 20, 20, 30, 30, 40, 40, 50, 60]\n",
      "num after reversing :  [60, 50, 40, 40, 30, 30, 20, 20, 10, 10, 5, 5]\n",
      "num after removing all elements :  []\n"
     ]
    }
   ],
   "source": [
    "# Python's list methods\n",
    "num = [10,20,30,40,50]\n",
    "\n",
    "n = len(num)\n",
    "print('No. of elements in num : ',n)\n",
    "\n",
    "num.append(60)\n",
    "print('num after appending 60 : ',num)\n",
    "\n",
    "num.insert(0,5)\n",
    "print('num after inserting 5 at 0th position : ',num)\n",
    "\n",
    "num1 = num.copy()\n",
    "print('Newly created list num1 : ',num)\n",
    "\n",
    "num.extend(num1)\n",
    "print('num after appending num1 : ',num)\n",
    "\n",
    "n = num.count(50)\n",
    "print('No. of times 50 found in the list num : ',n)\n",
    "\n",
    "num.remove(50)\n",
    "print('num after removing 50 : ',num)\n",
    "\n",
    "num.pop()\n",
    "print('num after removing ending element : ',num)\n",
    "\n",
    "num.sort()\n",
    "print('num after sorting :',num)\n",
    "\n",
    "num.reverse()\n",
    "print('num after reversing : ',num)\n",
    "\n",
    "num.clear()\n",
    "print('num after removing all elements : ',num)"
   ]
  },
  {
   "cell_type": "code",
   "execution_count": 13,
   "id": "2409c919",
   "metadata": {},
   "outputs": [
    {
     "name": "stdout",
     "output_type": "stream",
     "text": [
      "How many elements? 5\n",
      "Enter element : 20\n",
      "Enter element : 10\n",
      "Enter element : 5\n",
      "Enter element : 20\n",
      "Enter element : 15\n",
      "The list is :  [20, 10, 5, 20, 15]\n",
      "Maximum is :  20\n",
      "Minimum is :  5\n"
     ]
    }
   ],
   "source": [
    "# finding biggest and smallest numbers in a list of numbers\n",
    "x = []  # take an empty list\n",
    "\n",
    "print('How many elements? ',end='')\n",
    "n = int(input())   # accept input into n\n",
    "\n",
    "for i in range(n):  # repeat for n times\n",
    "    print('Enter element : ',end='')\n",
    "    x.append(int(input()))    # add the element to the list x\n",
    "\n",
    "print('The list is : ',x)   # display the list\n",
    "\n",
    "big = x[0]   # initially 0th element becomes maximum and minimum\n",
    "small = x[0]\n",
    "\n",
    "for i in range(1,n):  # repeat from 1 to n-1 elements\n",
    "    if x[i]>big:\n",
    "        big = x[i]    # if any other element is > big , take it as big\n",
    "    if x[i]<small:\n",
    "        small = x[i]  # if any other element is < small , take it as small\n",
    "# display max and min elements\n",
    "print('Maximum is : ',big)  \n",
    "print('Minimum is : ',small)"
   ]
  },
  {
   "cell_type": "code",
   "execution_count": 14,
   "id": "cbe2775e",
   "metadata": {},
   "outputs": [
    {
     "name": "stdout",
     "output_type": "stream",
     "text": [
      "100\n",
      "10\n"
     ]
    }
   ],
   "source": [
    "x = [10,20,30,40,50,60,60,70,80,90,99,100]\n",
    "print(max(x))\n",
    "print(min(x))"
   ]
  },
  {
   "cell_type": "code",
   "execution_count": 15,
   "id": "28b95557",
   "metadata": {},
   "outputs": [
    {
     "name": "stdout",
     "output_type": "stream",
     "text": [
      "How many elements? 5\n",
      "Enter element : 1\n",
      "Enter element : 5\n",
      "Enter element : 4\n",
      "Enter element : 3\n",
      "Enter element : 2\n",
      "Orginal list :  [1, 5, 4, 3, 2]\n",
      "Sorted list :  [1, 2, 3, 4, 5]\n"
     ]
    }
   ],
   "source": [
    "# sorting a list using bubble sort technique\n",
    "# crate an empty list to store integers'\n",
    "x = []\n",
    "\n",
    "# store elements into the list x\n",
    "print('How many elements? ',end='')\n",
    "n = int(input())\n",
    "\n",
    "for i in range(n):\n",
    "    print('Enter element : ',end='')\n",
    "    x.append(int(input()))  # add element to the list\n",
    "\n",
    "print('Orginal list : ',x)\n",
    "\n",
    "# bubble sort\n",
    "flag = False  # when swapping is done , flag becomes False\n",
    "for i in range(n-1):   # i is from 0 to n-1\n",
    "    for j in range(n-i-1):# j is from 0 to one element lesser than i\n",
    "        if x[j] > x[j+1]:       # if 1st element is bigger than second\n",
    "            t = x[j]         # swap j and j+1 elements\n",
    "            x[j] = x[j+1]\n",
    "            x[j+1] = t\n",
    "            flag = True      # swaping is done , hence flag is True\n",
    "    if flag == False:        # no swapping means list is in sorted order\n",
    "        break               # come out of inner for loop\n",
    "    else: \n",
    "        flag = False         # assign initial value to flag\n",
    "print('Sorted list : ',x)"
   ]
  },
  {
   "cell_type": "code",
   "execution_count": 16,
   "id": "03e920e3",
   "metadata": {},
   "outputs": [
    {
     "name": "stdout",
     "output_type": "stream",
     "text": [
      "How many elements ? 5\n",
      "Enter element : 40\n",
      "Enter element : 20\n",
      "Enter element : 30\n",
      "Enter element : 50\n",
      "Enter element : 40\n",
      "The list is :  [40, 20, 30, 50, 40]\n",
      "Enter element to count : 40\n",
      "40 is found 2 times\n"
     ]
    }
   ],
   "source": [
    "# counting how many times an element occured in the list\n",
    "x = []  # take an empty list\n",
    "\n",
    "n = int(input('How many elements ? '))   # accept input into n\n",
    "\n",
    "for i in range(n):          # repeat for n times\n",
    "    print('Enter element : ',end='')\n",
    "    x.append(int(input()))  # add the element to the list x\n",
    "    \n",
    "print('The list is : ',x)   # display the list\n",
    "\n",
    "y = int(input('Enter element to count : '))\n",
    "c = 0\n",
    "for i in x:\n",
    "    if (y==i):\n",
    "        c +=1\n",
    "print('{} is found {} times'.format(y,c))"
   ]
  },
  {
   "cell_type": "code",
   "execution_count": 17,
   "id": "f36ee5dd",
   "metadata": {},
   "outputs": [
    {
     "name": "stdout",
     "output_type": "stream",
     "text": [
      "['Vinay', 'Govind']\n"
     ]
    }
   ],
   "source": [
    "# finding common element in two lists\n",
    "\n",
    "# take two lists\n",
    "scholar1 = ['Vinay','Krishna','Saraswathi','Govind']\n",
    "scholar2 = ['Rosy','Govind','Tanushri','Vinay','Vishal']\n",
    "\n",
    "# convert them into sets\n",
    "s1 = set(scholar1)\n",
    "s2 = set(scholar2)\n",
    "\n",
    "# find intersection of two sets\n",
    "s3 = s1.intersection(s2)\n",
    "\n",
    "# convert the resultant set into a list\n",
    "common = list(s3)\n",
    "# display the list \n",
    "print(common)"
   ]
  },
  {
   "cell_type": "code",
   "execution_count": 18,
   "id": "a84454cc",
   "metadata": {},
   "outputs": [
    {
     "data": {
      "text/plain": [
       "[1, 2, 3, 4, 5, 6, 7, 8, 9]"
      ]
     },
     "execution_count": 18,
     "metadata": {},
     "output_type": "execute_result"
    }
   ],
   "source": [
    "list(range(1,10))"
   ]
  },
  {
   "cell_type": "code",
   "execution_count": 19,
   "id": "7a8092f2",
   "metadata": {},
   "outputs": [
    {
     "name": "stdout",
     "output_type": "stream",
     "text": [
      "How many empolyees ? 4\n",
      "Enter id : 10\n",
      "Enter name : Vijaya lakshmi\n",
      "Enter salary : 7000.50\n",
      "Enter id : 11\n",
      "Enter name : Gouri shankar\n",
      "Enter salary : 9500.50\n",
      "Enter id : 12\n",
      "Enter name : Anil kumar\n",
      "Enter salary : 8000\n",
      "Enter id : 13\n",
      "Enter name : Hema chandra\n",
      "Enter salary : 8500.75\n",
      "The list is created with employee data.\n",
      "Enter Employee id : 12\n",
      "Id = 12 , Name = Anil kumar ,Salary = 8000.00\n"
     ]
    }
   ],
   "source": [
    "# retrieving employee details from a list\n",
    "emp = []  # take an empty list\n",
    "\n",
    "n = int(input('How many empolyees ? ')) # accept input into n\n",
    "\n",
    "for i in range(n): # repeat for n times\n",
    "    print('Enter id : ',end='')\n",
    "    emp.append(int(input()))\n",
    "    print('Enter name : ',end='')\n",
    "    emp.append(input())\n",
    "    print('Enter salary : ',end='')\n",
    "    emp.append(float(input()))\n",
    "    \n",
    "print('The list is created with employee data.')\n",
    "\n",
    "id = int(input('Enter Employee id : '))\n",
    "\n",
    "# display employee details upon taking id.\n",
    "for i in range(len(emp)):\n",
    "    if id==emp[i]:\n",
    "        print('Id = {:d} , Name = {:s} ,Salary = {:.2f}'.format(emp[i],emp[i+1],emp[i+2]))\n",
    "        break"
   ]
  },
  {
   "cell_type": "code",
   "execution_count": 20,
   "id": "33107188",
   "metadata": {},
   "outputs": [
    {
     "name": "stdout",
     "output_type": "stream",
     "text": [
      "[10, 20, 30, [80, 90]]\n"
     ]
    }
   ],
   "source": [
    "a = [80,90]\n",
    "b = [10,20,30,a]\n",
    "print(b)"
   ]
  },
  {
   "cell_type": "code",
   "execution_count": 21,
   "id": "363c5c79",
   "metadata": {},
   "outputs": [
    {
     "name": "stdout",
     "output_type": "stream",
     "text": [
      "Total list :  [10, 20, 30, [80, 90]]\n",
      "First element =  10\n",
      "Last element is nested list =  [80, 90]\n",
      "80\n",
      "90\n"
     ]
    }
   ],
   "source": [
    "# nested lists\n",
    "# To create a list with another list as element\n",
    "lst = [10,20,30,[80,90]]\n",
    "print('Total list : ',lst)  # display entire list\n",
    "print('First element = ',lst[0])  # display first element\n",
    "print('Last element is nested list = ',lst[3])  # display nested list\n",
    "for x in lst[3]:  # display all element in nested list \n",
    "    print(x)"
   ]
  },
  {
   "cell_type": "code",
   "execution_count": 22,
   "id": "fe59301c",
   "metadata": {},
   "outputs": [
    {
     "name": "stdout",
     "output_type": "stream",
     "text": [
      "80\n",
      "90\n"
     ]
    }
   ],
   "source": [
    "print(lst[3][0])\n",
    "print(lst[3][1])"
   ]
  },
  {
   "cell_type": "code",
   "execution_count": 23,
   "id": "d186cf3c",
   "metadata": {},
   "outputs": [
    {
     "name": "stdout",
     "output_type": "stream",
     "text": [
      "Display the list as it is : \n",
      "[[1, 2, 3], [4, 5, 6], [7, 8, 9]]\n",
      "Display row by row : \n",
      "[1, 2, 3]\n",
      "[4, 5, 6]\n",
      "[7, 8, 9]\n",
      "Display each column(element) in row 0 : \n",
      "1 2 3 \n",
      "Display each column in row 1 : \n",
      "4 5 6 \n",
      "Display each column in row 2 : \n",
      "7 8 9 \n",
      "Display all elements using for : \n",
      "1 2 3 \n",
      "4 5 6 \n",
      "7 8 9 \n",
      "Display all elements using for : \n",
      "1 2 3 \n",
      "4 5 6 \n",
      "7 8 9 \n"
     ]
    }
   ],
   "source": [
    "# displaying nested list as a matrix\n",
    "# take a nested list\n",
    "mat = [[1,2,3],[4,5,6],[7,8,9]]\n",
    "\n",
    "print('Display the list as it is : ')\n",
    "print(mat)\n",
    "\n",
    "print('Display row by row : ')\n",
    "for r in mat:\n",
    "    print(r)\n",
    "    \n",
    "print('Display each column(element) in row 0 : ')\n",
    "for c in mat[0]:\n",
    "    print('%d '%c,end='')\n",
    "print()\n",
    "\n",
    "print('Display each column in row 1 : ')\n",
    "for c in mat[1]:\n",
    "    print('%d '%c,end='')\n",
    "print()\n",
    "\n",
    "print('Display each column in row 2 : ')\n",
    "for c in mat[2]:\n",
    "    print('%d '%c,end='')\n",
    "print()\n",
    "\n",
    "print('Display all elements using for : ')\n",
    "for r in mat:\n",
    "    for c in r:  # display columns in each row\n",
    "        print(c ,end=' ')\n",
    "    print()\n",
    "    \n",
    "print('Display all elements using for : ')\n",
    "for i in range(len(mat)):\n",
    "    for j in range(len(mat[i])):\n",
    "        print('%d '%mat[i][j],end='')\n",
    "    print()\n"
   ]
  },
  {
   "cell_type": "code",
   "execution_count": 25,
   "id": "3cadaf19",
   "metadata": {},
   "outputs": [
    {
     "name": "stdout",
     "output_type": "stream",
     "text": [
      "2 4 6 4 \n",
      "5 5 7 0 \n",
      "9 7 7 1 \n"
     ]
    }
   ],
   "source": [
    "# nested list - matrix addition\n",
    "# take matrix one with 3 rows and 4 cols\n",
    "m1 = [ [1,2,3,0],\n",
    "       [4,5,6,0],\n",
    "       [7,8,9,0] ]\n",
    "# take matrix two with 3 rows and 4 cols\n",
    "m2 = [ [1,2,3,4],\n",
    "       [1,0,1,0],\n",
    "       [2,-1,-2,1] ]\n",
    "\n",
    "# take matrix three with 3 rows and 4 cols and initialize with all 0's\n",
    "m3 = [4*[0] for i in range(3)]\n",
    "\n",
    "# add the corresponding elements of m1 and m2 and store into m3\n",
    "for i in range(3):\n",
    "    for j in range(4):\n",
    "        m3[i][j] =m1[i][j] + m2[i][j]\n",
    "\n",
    "# display the third matrix using for loop\n",
    "for i in range(3):\n",
    "    for j in range(4):\n",
    "        print('%d '%m3[i][j],end='')\n",
    "    print()"
   ]
  },
  {
   "cell_type": "code",
   "execution_count": 2,
   "id": "fadd5a10",
   "metadata": {},
   "outputs": [
    {
     "name": "stdout",
     "output_type": "stream",
     "text": [
      "[1, 4, 9, 16, 25, 36, 49, 64, 81, 100]\n"
     ]
    }
   ],
   "source": [
    "squares = []            # create empty list\n",
    "for x in range(1,11):   # repeat x values from 1 to 10\n",
    "    squares.append(x**2)   # add squares of x to the list\n",
    "print(squares)"
   ]
  },
  {
   "cell_type": "code",
   "execution_count": 3,
   "id": "b29db000",
   "metadata": {},
   "outputs": [
    {
     "name": "stdout",
     "output_type": "stream",
     "text": [
      "[1, 4, 9, 16, 25, 36, 49, 64, 81, 100]\n"
     ]
    }
   ],
   "source": [
    "squares = [x**2 for x in range(1,11)]\n",
    "print(squares)"
   ]
  },
  {
   "cell_type": "code",
   "execution_count": 4,
   "id": "ca623618",
   "metadata": {},
   "outputs": [
    {
     "name": "stdout",
     "output_type": "stream",
     "text": [
      "[4, 16, 36, 64, 100]\n"
     ]
    }
   ],
   "source": [
    "even_squares = [x**2 for x in range(1,11) if x%2==0]\n",
    "print(even_squares)"
   ]
  },
  {
   "cell_type": "code",
   "execution_count": 5,
   "id": "3eef8ea8",
   "metadata": {},
   "outputs": [
    {
     "name": "stdout",
     "output_type": "stream",
     "text": [
      "[4, 16, 36, 64, 100]\n"
     ]
    }
   ],
   "source": [
    "even_squares = [x**2 for x in range(2,11,2)]\n",
    "print(even_squares)"
   ]
  },
  {
   "cell_type": "code",
   "execution_count": 7,
   "id": "743fab0b",
   "metadata": {},
   "outputs": [
    {
     "name": "stdout",
     "output_type": "stream",
     "text": [
      "[11, 12, 13, 14, 21, 22, 23, 24, 31, 32, 33, 34]\n"
     ]
    }
   ],
   "source": [
    "x = [10,20,30]\n",
    "y = [1,2,3,4]\n",
    "lst = []\n",
    "for i in x:\n",
    "    for j in y:\n",
    "        lst.append(i+j)\n",
    "print(lst)"
   ]
  },
  {
   "cell_type": "code",
   "execution_count": 8,
   "id": "74d4e858",
   "metadata": {},
   "outputs": [
    {
     "name": "stdout",
     "output_type": "stream",
     "text": [
      "[11, 12, 13, 14, 21, 22, 23, 24, 31, 32, 33, 34]\n"
     ]
    }
   ],
   "source": [
    "lst = [i+j for i in x for j in y]\n",
    "print(lst)"
   ]
  },
  {
   "cell_type": "code",
   "execution_count": 9,
   "id": "8f8c98bd",
   "metadata": {},
   "outputs": [
    {
     "name": "stdout",
     "output_type": "stream",
     "text": [
      "[11, 12, 13, 14, 21, 22, 23, 24, 31, 32, 33, 34]\n"
     ]
    }
   ],
   "source": [
    "lst = [i+j for i in [10,20,30] for j in [1,2,3,4]]\n",
    "print(lst)"
   ]
  },
  {
   "cell_type": "code",
   "execution_count": 10,
   "id": "906f1948",
   "metadata": {},
   "outputs": [
    {
     "name": "stdout",
     "output_type": "stream",
     "text": [
      "['AD', 'AE', 'BD', 'BE', 'CD', 'CE']\n"
     ]
    }
   ],
   "source": [
    "lst = [i+j for i in 'ABC' for j in 'DE']\n",
    "print(lst)"
   ]
  },
  {
   "cell_type": "code",
   "execution_count": 11,
   "id": "ec0094c3",
   "metadata": {},
   "outputs": [
    {
     "name": "stdout",
     "output_type": "stream",
     "text": [
      "['A', 'G', 'B', 'O']\n"
     ]
    }
   ],
   "source": [
    "words = ['Apple','Grapes','Banana','Orange']\n",
    "lst = []\n",
    "for w in words:\n",
    "    lst.append(w[0])\n",
    "print(lst)"
   ]
  },
  {
   "cell_type": "code",
   "execution_count": 12,
   "id": "4e3efe77",
   "metadata": {},
   "outputs": [
    {
     "name": "stdout",
     "output_type": "stream",
     "text": [
      "['A', 'G', 'B', 'O']\n"
     ]
    }
   ],
   "source": [
    "lst = [w[0] for w in words]\n",
    "print(lst)"
   ]
  },
  {
   "cell_type": "code",
   "execution_count": 13,
   "id": "f95502d9",
   "metadata": {},
   "outputs": [
    {
     "name": "stdout",
     "output_type": "stream",
     "text": [
      "[3, 4]\n"
     ]
    }
   ],
   "source": [
    "num1 = [1,2,3,4]\n",
    "num2 = [10,11,1,2]\n",
    "num3 = []\n",
    "for i in num1:\n",
    "    if i not in num2:\n",
    "        num3.append(i)\n",
    "print(num3)"
   ]
  },
  {
   "cell_type": "code",
   "execution_count": 14,
   "id": "4fb966d2",
   "metadata": {},
   "outputs": [
    {
     "name": "stdout",
     "output_type": "stream",
     "text": [
      "[3, 4]\n"
     ]
    }
   ],
   "source": [
    "num3 = [i for i in num1 if i not in num2]\n",
    "print(num3)"
   ]
  },
  {
   "cell_type": "code",
   "execution_count": 16,
   "id": "547bd92e",
   "metadata": {},
   "outputs": [
    {
     "name": "stdout",
     "output_type": "stream",
     "text": [
      "{1001: 'Pratap', 1002: 'Mohan', 1003: 'Ankita'}\n",
      "{'Pratap': 1001, 'Mohan': 1002, 'Ankita': 1003}\n"
     ]
    }
   ],
   "source": [
    "dict1 = {1001 : 'Pratap',1002 : 'Mohan',1003 : 'Ankita'}\n",
    "dict2 = {value : key for key,value in dict1.items()}\n",
    "print(dict1)\n",
    "print(dict2)"
   ]
  },
  {
   "cell_type": "code",
   "execution_count": null,
   "id": "b0d0a706",
   "metadata": {},
   "outputs": [],
   "source": []
  }
 ],
 "metadata": {
  "kernelspec": {
   "display_name": "Python 3 (ipykernel)",
   "language": "python",
   "name": "python3"
  },
  "language_info": {
   "codemirror_mode": {
    "name": "ipython",
    "version": 3
   },
   "file_extension": ".py",
   "mimetype": "text/x-python",
   "name": "python",
   "nbconvert_exporter": "python",
   "pygments_lexer": "ipython3",
   "version": "3.9.7"
  }
 },
 "nbformat": 4,
 "nbformat_minor": 5
}
