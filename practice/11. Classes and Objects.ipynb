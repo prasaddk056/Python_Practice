{
 "cells": [
  {
   "cell_type": "code",
   "execution_count": 2,
   "id": "5aeb7bb9",
   "metadata": {},
   "outputs": [
    {
     "name": "stdout",
     "output_type": "stream",
     "text": [
      "Hi,I am  Vishnu\n",
      "My age is  20\n",
      "My marks are  900\n"
     ]
    }
   ],
   "source": [
    "# instance variable and instance method\n",
    "class Student :\n",
    "    # this is a special method called constructor.\n",
    "    def __init__(self):\n",
    "        self.name = 'Vishnu'\n",
    "        self.age = 20\n",
    "        self.marks = 900\n",
    "        \n",
    "    # this is an instance method\n",
    "    def talk(self):\n",
    "        print('Hi,I am ',self.name)\n",
    "        print('My age is ',self.age)\n",
    "        print(\"My marks are \",self.marks)\n",
    "    \n",
    "# create an instance to Student class.\n",
    "s1 = Student()\n",
    "\n",
    "# call the talk method using instance.\n",
    "s1.talk()"
   ]
  },
  {
   "cell_type": "code",
   "execution_count": 3,
   "id": "672f8807",
   "metadata": {},
   "outputs": [
    {
     "name": "stdout",
     "output_type": "stream",
     "text": [
      "Hi \n",
      "Your marks 0\n",
      "----------\n",
      "Hi Lakshmi Roy\n",
      "Your marks 880\n",
      "----------\n"
     ]
    }
   ],
   "source": [
    "# instance vars and instance method - v 2.0\n",
    "class Student:\n",
    "    # this is constructor\n",
    "    def __init__(self,n = \"\" ,m = 0):\n",
    "        self.name = n\n",
    "        self.marks = m\n",
    "        \n",
    "    # this is an instance method.\n",
    "    def display(self):\n",
    "        print('Hi',self.name)\n",
    "        print('Your marks',self.marks)\n",
    "        \n",
    "# constructor is called without any arguments\n",
    "s = Student()\n",
    "s.display()\n",
    "print('-'*10)\n",
    "\n",
    "# constructor is called with 2 arguments\n",
    "s1 = Student('Lakshmi Roy',880)\n",
    "s1.display()\n",
    "print('-'*10)"
   ]
  },
  {
   "cell_type": "code",
   "execution_count": 4,
   "id": "d2ea3e04",
   "metadata": {},
   "outputs": [
    {
     "name": "stdout",
     "output_type": "stream",
     "text": [
      "x in s1 =  10\n",
      "x in s2 =  10\n",
      "x in s1 =  11\n",
      "x in s2 =  10\n"
     ]
    }
   ],
   "source": [
    "# instance variable example\n",
    "class Sample:\n",
    "    # this is constructor\n",
    "    def __init__(self):\n",
    "        self.x = 10\n",
    "    \n",
    "    # this is an instance method\n",
    "    def modify(self):\n",
    "        self.x +=1\n",
    "        \n",
    "# create 2 instances\n",
    "s1 = Sample()\n",
    "s2 = Sample()\n",
    "print('x in s1 = ',s1.x)\n",
    "print('x in s2 = ',s2.x)\n",
    "\n",
    "# modify x in s1\n",
    "s1.modify()\n",
    "print('x in s1 = ',s1.x)\n",
    "print('x in s2 = ',s2.x)"
   ]
  },
  {
   "cell_type": "code",
   "execution_count": 5,
   "id": "d56c45c7",
   "metadata": {},
   "outputs": [
    {
     "name": "stdout",
     "output_type": "stream",
     "text": [
      "x in s1 =  10\n",
      "x in s2 =  10\n",
      "x in s1 =  11\n",
      "x in s2 =  11\n"
     ]
    }
   ],
   "source": [
    "# class varibles or static variables example\n",
    "class Sample:\n",
    "    # this is class varible\n",
    "    x = 10\n",
    "    \n",
    "    # this is a class method\n",
    "    @classmethod\n",
    "    def modify(cls):\n",
    "        cls.x += 1\n",
    "        \n",
    "# create 2 instances\n",
    "s1 = Sample()\n",
    "s2 = Sample()\n",
    "print('x in s1 = ',s1.x)\n",
    "print('x in s2 = ',s2.x)\n",
    "\n",
    "# modify x in s1\n",
    "s1.modify()\n",
    "print('x in s1 = ',s1.x)\n",
    "print('x in s2 = ',s2.x)"
   ]
  },
  {
   "cell_type": "code",
   "execution_count": 6,
   "id": "d4025392",
   "metadata": {},
   "outputs": [
    {
     "name": "stdout",
     "output_type": "stream",
     "text": [
      "How many students ? 3\n",
      "Enter name : Vishnu Vardhan\n",
      "Enter marks : 800\n",
      "Hi Vishnu Vardhan\n",
      "Your marks 800\n",
      "You got first grade\n",
      "-------------------------\n",
      "Enter name : Tilak prabhu\n",
      "Enter marks : 360\n",
      "Hi Tilak prabhu\n",
      "Your marks 360\n",
      "You got third grade\n",
      "-------------------------\n",
      "Enter name : Gunasheela\n",
      "Enter marks : 550\n",
      "Hi Gunasheela\n",
      "Your marks 550\n",
      "You got second grade\n",
      "-------------------------\n"
     ]
    }
   ],
   "source": [
    "# instance methods to process data of the objects\n",
    "class Student():\n",
    "    # this is constructor.\n",
    "    def __init__(self,n = '',m = 0):\n",
    "        self.name = n\n",
    "        self.marks = m\n",
    "    # this is an instance method\n",
    "    def display(self):\n",
    "        print('Hi',self.name)\n",
    "        print('Your marks',self.marks)\n",
    "    \n",
    "    # to calculate frades based on marks.\n",
    "    def calculate(self):\n",
    "        if self.marks >= 600:\n",
    "            print('You got first grade')\n",
    "        elif self.marks >= 500:\n",
    "            print('You got second grade')\n",
    "        elif self.marks >= 350:\n",
    "            print('You got third grade')\n",
    "        else:\n",
    "            print('You are failed')\n",
    "            \n",
    "# create instances with some data from keyboard\n",
    "n = int(input('How many students ? '))\n",
    "i = 0\n",
    "while i<n:\n",
    "    name = input('Enter name : ')\n",
    "    marks = int(input('Enter marks : '))\n",
    "    \n",
    "    # create Student class instance and store data\n",
    "    s = Student(name , marks)\n",
    "    s.display()\n",
    "    s.calculate()\n",
    "    i +=1\n",
    "    print('-'*25)"
   ]
  },
  {
   "cell_type": "code",
   "execution_count": 7,
   "id": "3916ea10",
   "metadata": {},
   "outputs": [
    {
     "name": "stdout",
     "output_type": "stream",
     "text": [
      "How many students ? 2\n",
      "Enter name : Vinay Krishna\n",
      "Enter marks : 890\n",
      "Hi Vinay Krishna\n",
      "Your marks  890\n",
      "-------------------------\n",
      "Enter name : Vimala Rao\n",
      "Enter marks : 750\n",
      "Hi Vimala Rao\n",
      "Your marks  750\n",
      "-------------------------\n"
     ]
    }
   ],
   "source": [
    "# accessor and mutator methods\n",
    "class Student:\n",
    "    \n",
    "    # mutator method\n",
    "    def setName(self, name):\n",
    "        self.name = name\n",
    "        \n",
    "    # accessor method\n",
    "    def getName(self):\n",
    "        return self.name\n",
    "    \n",
    "    # mutator method\n",
    "    def setMarks(self,marks):\n",
    "        self.marks = marks\n",
    "        \n",
    "    # accessor method\n",
    "    def getMarks(self):\n",
    "        return self.marks\n",
    "    \n",
    "# create instances with some data from keyboard\n",
    "n = int(input('How many students ? '))\n",
    "i = 0\n",
    "while i<n:\n",
    "    # create Student class instance\n",
    "    s = Student()\n",
    "    name = input('Enter name : ')\n",
    "    s.setName(name)\n",
    "    marks = int(input('Enter marks : '))\n",
    "    s.setMarks(marks)\n",
    "    \n",
    "    # retrieve data from Student class instance\n",
    "    print('Hi',s.getName())\n",
    "    print('Your marks ',s.getMarks())\n",
    "    \n",
    "    i +=1\n",
    "    print('-'*25)"
   ]
  },
  {
   "cell_type": "code",
   "execution_count": 10,
   "id": "9705e35d",
   "metadata": {},
   "outputs": [
    {
     "name": "stdout",
     "output_type": "stream",
     "text": [
      "Sparrow flies with 2 wings\n",
      "Pigeon flies with 2 wings\n"
     ]
    }
   ],
   "source": [
    "# understanding class method\n",
    "class Bird:\n",
    "    # this is a class var\n",
    "    wings = 2\n",
    "    \n",
    "    # this is a class method\n",
    "    @classmethod\n",
    "    def fly(cls , name):\n",
    "        print('{} flies with {} wings'.format(name,cls.wings))\n",
    "        \n",
    "# display information of 2 birds\n",
    "Bird.fly('Sparrow')\n",
    "Bird.fly('Pigeon')"
   ]
  },
  {
   "cell_type": "code",
   "execution_count": 11,
   "id": "d3d10c8f",
   "metadata": {},
   "outputs": [
    {
     "name": "stdout",
     "output_type": "stream",
     "text": [
      "No. of instances created :  3\n"
     ]
    }
   ],
   "source": [
    "# understanding static method\n",
    "class Myclass:\n",
    "    # this is class var or static var\n",
    "    n = 0\n",
    "    \n",
    "    # constructor that increments n when an instance is created\n",
    "    def __init__(self):\n",
    "        Myclass.n = Myclass.n+1\n",
    "    \n",
    "    # this is a static method to display the no. of instance\n",
    "    @staticmethod\n",
    "    def noObjects():\n",
    "        print('No. of instances created : ',Myclass.n)\n",
    "        \n",
    "# create 3 instances\n",
    "obj1 = Myclass()\n",
    "obj2 = Myclass()\n",
    "obj3 = Myclass()\n",
    "Myclass.noObjects()"
   ]
  },
  {
   "cell_type": "code",
   "execution_count": 12,
   "id": "46febb38",
   "metadata": {},
   "outputs": [
    {
     "name": "stdout",
     "output_type": "stream",
     "text": [
      "Enter a number : 49\n",
      "The square root of 49.0 is 7.00\n"
     ]
    }
   ],
   "source": [
    "# a static method to find square root value\n",
    "import math\n",
    "class Sample:\n",
    "    @staticmethod\n",
    "    def calculate(x):\n",
    "        result = math.sqrt(x)\n",
    "        return result\n",
    "\n",
    "# accept a number from keyboard\n",
    "num = float(input('Enter a number : '))\n",
    "\n",
    "# call the static method and pass num\n",
    "res = Sample.calculate(num)\n",
    "print('The square root of {} is {:.2f}'.format(num,res))"
   ]
  },
  {
   "cell_type": "code",
   "execution_count": 13,
   "id": "318f114b",
   "metadata": {},
   "outputs": [
    {
     "name": "stdout",
     "output_type": "stream",
     "text": [
      "Enter name : Madhuri\n",
      "d -Deposit ,w -Withdraw , e -Exit\n",
      "Your choice : d\n",
      "Enter amount : 10000.0\n",
      "Balance after deposit :  10000.0\n",
      "d -Deposit ,w -Withdraw , e -Exit\n",
      "Your choice : w\n",
      "Enter amount : 3500\n",
      "Balance after withdrawal :  6500.0\n",
      "d -Deposit ,w -Withdraw , e -Exit\n",
      "Your choice : e\n"
     ]
    },
    {
     "ename": "SystemExit",
     "evalue": "",
     "output_type": "error",
     "traceback": [
      "An exception has occurred, use %tb to see the full traceback.\n",
      "\u001b[1;31mSystemExit\u001b[0m\n"
     ]
    },
    {
     "name": "stderr",
     "output_type": "stream",
     "text": [
      "C:\\Users\\prasa\\anaconda3\\lib\\site-packages\\IPython\\core\\interactiveshell.py:3452: UserWarning: To exit: use 'exit', 'quit', or Ctrl-D.\n",
      "  warn(\"To exit: use 'exit', 'quit', or Ctrl-D.\", stacklevel=1)\n"
     ]
    }
   ],
   "source": [
    "# A class to handle deposits and withdrawals in a bank\n",
    "import sys\n",
    "class Bank(object):\n",
    "    \"\"\" Bank related transactions \"\"\"\n",
    "    \n",
    "    # to initialize name and balance instance vars\n",
    "    def __init__(self , name , balance = 0.0):\n",
    "        self.name = name\n",
    "        self.balance = balance\n",
    "        \n",
    "    # to add deposit amount to balance\n",
    "    def deposit(self,amount):\n",
    "        self.balance += amount\n",
    "        return self.balance\n",
    "    \n",
    "    # to deduct withdrawal amount from balance\n",
    "    def withdraw(self , amount):\n",
    "        if amount > self.balance:\n",
    "            print('Balance amount is less , so no withdrawal .')\n",
    "        else:\n",
    "            self.balance -= amount\n",
    "        return self.balance\n",
    "    \n",
    "# using the Bank class\n",
    "# create an account with the given name and balance 0.00\n",
    "name = input('Enter name : ')\n",
    "b = Bank(name)  # this is instance of Bank class\n",
    "\n",
    "# repeat continuously till choic is 'e' or 'E'\n",
    "while(True):\n",
    "    print('d -Deposit ,w -Withdraw , e -Exit')\n",
    "    choice = input('Your choice : ')\n",
    "    if choice == 'e' or choice =='E':\n",
    "        sys.exit()\n",
    "    # amount for deposit or withdraw\n",
    "    amt = float(input('Enter amount : '))\n",
    "    \n",
    "    # do the transaction\n",
    "    if choice == 'd' or choice == 'D':\n",
    "        print('Balance after deposit : ',b.deposit(amt))\n",
    "    elif choice == 'w' or choice == 'W':\n",
    "        print('Balance after withdrawal : ',b.withdraw(amt))"
   ]
  },
  {
   "cell_type": "code",
   "execution_count": 14,
   "id": "185d142a",
   "metadata": {},
   "outputs": [
    {
     "name": "stdout",
     "output_type": "stream",
     "text": [
      "Id =  10\n",
      "Name =  Raj Kumar\n",
      "Salary =  16000.75\n"
     ]
    }
   ],
   "source": [
    "# this class contains employee details\n",
    "class Emp:\n",
    "    # this is a constructor\n",
    "    def __init__(self,id,name,salary):\n",
    "        self.id = id\n",
    "        self.name = name\n",
    "        self.salary = salary\n",
    "        \n",
    "    # this is an instance method\n",
    "    def display(self):\n",
    "        print('Id = ',self.id)\n",
    "        print('Name = ',self.name)\n",
    "        print('Salary = ',self.salary)\n",
    "        \n",
    "# this class displays employee details\n",
    "class Myclass:\n",
    "    # method to receive Emp class instance\n",
    "    # and display employee details\n",
    "    @staticmethod\n",
    "    def mymethod(e):\n",
    "        # increment salary of e by 1000\n",
    "        e.salary += 1000\n",
    "        e.display()\n",
    "\n",
    "# create Emp class instance e\n",
    "e = Emp(10,\"Raj Kumar\",15000.75)\n",
    "# call static method of Myclass and  pass e\n",
    "Myclass.mymethod(e)"
   ]
  },
  {
   "cell_type": "code",
   "execution_count": 15,
   "id": "ac588bcb",
   "metadata": {},
   "outputs": [
    {
     "name": "stdout",
     "output_type": "stream",
     "text": [
      "5 to the power of 3 is 125\n",
      "5 to the power of 4 is 625\n"
     ]
    }
   ],
   "source": [
    "# another example of static method\n",
    "class Myclass:\n",
    "    # method to calculate x to the power of n\n",
    "    @staticmethod\n",
    "    def mymethod(x , n):\n",
    "        result = x**n\n",
    "        print('{} to the power of {} is {}'.format(x,n,result))\n",
    "        \n",
    "# call the static method\n",
    "Myclass.mymethod(5,3)\n",
    "Myclass.mymethod(5,4)"
   ]
  },
  {
   "cell_type": "code",
   "execution_count": 16,
   "id": "c09f1961",
   "metadata": {},
   "outputs": [
    {
     "name": "stdout",
     "output_type": "stream",
     "text": [
      "Name =  Charles\n",
      "Dob = 10/5/1988\n"
     ]
    }
   ],
   "source": [
    "# inner class example\n",
    "class Person:\n",
    "    def __init__(self):\n",
    "        self.name = 'Charles'\n",
    "        self.db  = self.Dob()\n",
    "        \n",
    "    def display(self):\n",
    "        print('Name = ',self.name)\n",
    "        \n",
    "    # this is inner class\n",
    "    class Dob:\n",
    "        def __init__(self):\n",
    "            self.dd = 10\n",
    "            self.mm = 5\n",
    "            self.yy = 1988\n",
    "        def display(self):\n",
    "            print('Dob = {}/{}/{}'.format(self.dd , self.mm ,self.yy))\n",
    "\n",
    "# creating Person class object\n",
    "p = Person()\n",
    "p.display()\n",
    "\n",
    "# create inner class object\n",
    "x = p.db \n",
    "x.display()"
   ]
  },
  {
   "cell_type": "code",
   "execution_count": 17,
   "id": "d79dc8ae",
   "metadata": {},
   "outputs": [
    {
     "name": "stdout",
     "output_type": "stream",
     "text": [
      "Name =  Charles\n",
      "Dob = 10/5/1988\n",
      "1988\n"
     ]
    }
   ],
   "source": [
    "# inner class example - v2.0\n",
    "class Person:\n",
    "    def __init__(self):\n",
    "        self.name = 'Charles'\n",
    "        \n",
    "    def display(self):\n",
    "        print('Name = ',self.name)\n",
    "    # this is inner class\n",
    "    class Dob:\n",
    "        def __init__(self):\n",
    "            self.dd = 10\n",
    "            self.mm = 5\n",
    "            self.yy = 1988\n",
    "        \n",
    "        def display(self):\n",
    "            print('Dob = {}/{}/{}'.format(self.dd , self.mm , self.yy ))\n",
    "            \n",
    "# creating Person class object\n",
    "p = Person()\n",
    "p.display()\n",
    "# create Dob class object as sub object to Person class object\n",
    "x = Person().Dob()\n",
    "x.display()\n",
    "print(x.yy)  # refer to inner class instance varible"
   ]
  },
  {
   "cell_type": "code",
   "execution_count": null,
   "id": "aad4b1a7",
   "metadata": {},
   "outputs": [],
   "source": []
  }
 ],
 "metadata": {
  "kernelspec": {
   "display_name": "Python 3 (ipykernel)",
   "language": "python",
   "name": "python3"
  },
  "language_info": {
   "codemirror_mode": {
    "name": "ipython",
    "version": 3
   },
   "file_extension": ".py",
   "mimetype": "text/x-python",
   "name": "python",
   "nbconvert_exporter": "python",
   "pygments_lexer": "ipython3",
   "version": "3.9.7"
  }
 },
 "nbformat": 4,
 "nbformat_minor": 5
}
