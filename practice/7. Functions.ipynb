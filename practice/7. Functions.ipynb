{
 "cells": [
  {
   "cell_type": "code",
   "execution_count": 1,
   "id": "579655e3",
   "metadata": {},
   "outputs": [
    {
     "name": "stdout",
     "output_type": "stream",
     "text": [
      "Sum =  25\n",
      "Sum =  12.25\n"
     ]
    }
   ],
   "source": [
    "# a function to add two numbers\n",
    "def sum(a,b):\n",
    "    '''This function finds sum of two numbers'''\n",
    "    c = a+b\n",
    "    print('Sum = ',c)\n",
    "# call the function   \n",
    "sum(10,15)\n",
    "sum(1.5,10.75)   # call second time"
   ]
  },
  {
   "cell_type": "code",
   "execution_count": 2,
   "id": "08afeb33",
   "metadata": {},
   "outputs": [
    {
     "name": "stdout",
     "output_type": "stream",
     "text": [
      "The sum is :  25\n",
      "The sum is :  12.25\n"
     ]
    }
   ],
   "source": [
    "# a function to add two numbers \n",
    "def sum(a,b):\n",
    "    \"\"\"This function finds sum of two numbers\"\"\"\n",
    "    c = a+b\n",
    "    return c  # return result\n",
    "# call the function\n",
    "x = sum(10,15)\n",
    "print('The sum is : ',x)\n",
    "y = sum(1.5,10.75)\n",
    "print('The sum is : ',y)"
   ]
  },
  {
   "cell_type": "code",
   "execution_count": 3,
   "id": "7182feb3",
   "metadata": {},
   "outputs": [
    {
     "name": "stdout",
     "output_type": "stream",
     "text": [
      "12  is even\n",
      "13  is odd\n"
     ]
    }
   ],
   "source": [
    "# a function to test whether a number is even or odd\n",
    "def even_odd(num):\n",
    "    \"\"\" to know num is even or odd\"\"\"\n",
    "    if num % 2 == 0:\n",
    "        print(num,\" is even\")\n",
    "    else:\n",
    "        print(num,\" is odd\")\n",
    "# call the function\n",
    "even_odd(12)\n",
    "even_odd(13)"
   ]
  },
  {
   "cell_type": "code",
   "execution_count": 4,
   "id": "2feed1f8",
   "metadata": {},
   "outputs": [
    {
     "name": "stdout",
     "output_type": "stream",
     "text": [
      "Factorial of 1 is 1\n",
      "Factorial of 2 is 2\n",
      "Factorial of 3 is 6\n",
      "Factorial of 4 is 24\n",
      "Factorial of 5 is 120\n",
      "Factorial of 6 is 720\n",
      "Factorial of 7 is 5040\n",
      "Factorial of 8 is 40320\n",
      "Factorial of 9 is 362880\n",
      "Factorial of 10 is 3628800\n"
     ]
    }
   ],
   "source": [
    "# a function to calculate factorial\n",
    "def fact(n):\n",
    "    \"\"\" to find factorial value\"\"\"\n",
    "    prod = 1\n",
    "    while n>=1:\n",
    "        prod *= n\n",
    "        n -= 1\n",
    "    return prod\n",
    "# display factorials of first 10 numbers\n",
    "# call fact() function and pass the numbers from 1 to 10\n",
    "for i in range(1,11):\n",
    "    print('Factorial of {} is {}'.format(i,fact(i)))"
   ]
  },
  {
   "cell_type": "code",
   "execution_count": 5,
   "id": "f65301fb",
   "metadata": {},
   "outputs": [
    {
     "name": "stdout",
     "output_type": "stream",
     "text": [
      "Enter a number : 5\n",
      "5  is prime\n"
     ]
    }
   ],
   "source": [
    "# a function to test whether a number is prime or not\n",
    "def prime(n):\n",
    "    \"\"\" to check if n is prime or not \"\"\"\n",
    "    x = 1 # this will be 0 if  not prime\n",
    "    for i in range(2,n):\n",
    "        if n%i == 0:   # if divisible by any number\n",
    "            x = 0   # take x as 0\n",
    "            break\n",
    "        else:\n",
    "            x = 1  # else take x as 1\n",
    "    return x\n",
    "# test if a number is prime or not\n",
    "num = int(input('Enter a number : '))\n",
    "# check if num is prime or not\n",
    "result = prime(num)\n",
    "if result == 1:\n",
    "    print(num,\" is prime\")\n",
    "else:\n",
    "    print(num,\" is not prime\")"
   ]
  },
  {
   "cell_type": "code",
   "execution_count": 6,
   "id": "64a17b7a",
   "metadata": {},
   "outputs": [
    {
     "name": "stdout",
     "output_type": "stream",
     "text": [
      "How many primes do you want? 10\n",
      "2\n",
      "3\n",
      "5\n",
      "7\n",
      "11\n",
      "13\n",
      "17\n",
      "19\n",
      "23\n",
      "29\n"
     ]
    }
   ],
   "source": [
    "# a function to test whether a number is prime or not\n",
    "def prime(n):\n",
    "    \"\"\" to check if n is prime or not \"\"\"\n",
    "    x = 1 # this will become 0 if not prime\n",
    "    for i in range(2,n):\n",
    "        if n%i==0:\n",
    "            x = 0 \n",
    "            break\n",
    "        else:\n",
    "            x = 1\n",
    "    return x\n",
    "\n",
    "# generate prime number series\n",
    "num = int(input('How many primes do you want? '))\n",
    "i = 2     # start with i value 2\n",
    "c = 1     # this counts the no. of  primes\n",
    "while True:  # repeat forever\n",
    "    if prime(i):     # if i is prime , display it\n",
    "        print(i)\n",
    "        c+=1    # increase counter\n",
    "    i+=1        # generate next number to test\n",
    "    if c>num:   # if count exceeds num\n",
    "        break   # come out of while loop"
   ]
  },
  {
   "cell_type": "code",
   "execution_count": 7,
   "id": "30954a3e",
   "metadata": {},
   "outputs": [
    {
     "name": "stdout",
     "output_type": "stream",
     "text": [
      "Result of addition :  15\n",
      "Result of subtraction :  5\n"
     ]
    }
   ],
   "source": [
    "# a function that returns two results\n",
    "def sum_sub(a,b):\n",
    "    \"\"\" this function returns result of \n",
    "        addition and subtraction of a ,b\"\"\"\n",
    "    c = a + b\n",
    "    d = a - b\n",
    "    return c, d\n",
    "# get results from the sum_sub() functions\n",
    "x , y =sum_sub(10,5)\n",
    "# display the results\n",
    "print('Result of addition : ',x)\n",
    "print('Result of subtraction : ',y)"
   ]
  },
  {
   "cell_type": "code",
   "execution_count": 8,
   "id": "4350f91c",
   "metadata": {},
   "outputs": [
    {
     "name": "stdout",
     "output_type": "stream",
     "text": [
      "The result are : \n",
      "15,5,50,2.0,"
     ]
    }
   ],
   "source": [
    "# a function that returns multiple results\n",
    "def sum_sub_mul_div(a,b):\n",
    "    \"\"\" this function returns results of addition ,\n",
    "        subtraction, multipication and division of a,b\"\"\"\n",
    "    c = a + b\n",
    "    d = a - b\n",
    "    e = a * b\n",
    "    f = a / b\n",
    "    return c, d, e, f\n",
    "# get results from sum_sub_mul_div() function and store into it\n",
    "t = sum_sub_mul_div(10,5)\n",
    "# display the results using for loop\n",
    "print('The result are : ')\n",
    "for i in t:\n",
    "    print(i , end=' , ')"
   ]
  },
  {
   "cell_type": "code",
   "execution_count": 9,
   "id": "e8aa6350",
   "metadata": {},
   "outputs": [
    {
     "name": "stdout",
     "output_type": "stream",
     "text": [
      "HaiKrishna\n"
     ]
    }
   ],
   "source": [
    "# assign a function to a variable \n",
    "def display(str):\n",
    "    return 'Hai '+str\n",
    "\n",
    "# assign function to variable x\n",
    "x = display(\"Krishna\")\n",
    "print(x)"
   ]
  },
  {
   "cell_type": "code",
   "execution_count": 10,
   "id": "71bb69d1",
   "metadata": {},
   "outputs": [
    {
     "name": "stdout",
     "output_type": "stream",
     "text": [
      "How are you ?Krishna\n"
     ]
    }
   ],
   "source": [
    "# define a function inside another function\n",
    "def display(str):\n",
    "    def message():\n",
    "        return 'How are you ?'\n",
    "    \n",
    "    result = message()+str\n",
    "    return result\n",
    "# call display() function\n",
    "print(display('Krishna'))"
   ]
  },
  {
   "cell_type": "code",
   "execution_count": 11,
   "id": "6a12dcf7",
   "metadata": {},
   "outputs": [
    {
     "name": "stdout",
     "output_type": "stream",
     "text": [
      "Hai How are U ? \n"
     ]
    }
   ],
   "source": [
    "# functions can be passed as parameters to other functions\n",
    "def display(fun):\n",
    "    return \"Hai \"+fun\n",
    "\n",
    "def message():\n",
    "    return 'How are U ? '\n",
    "# call display() function and pass message() function\n",
    "print(display(message()))"
   ]
  },
  {
   "cell_type": "code",
   "execution_count": 12,
   "id": "bf2c25bc",
   "metadata": {},
   "outputs": [
    {
     "name": "stdout",
     "output_type": "stream",
     "text": [
      "How are you ? \n"
     ]
    }
   ],
   "source": [
    "# functions can return other functions\n",
    "def display():\n",
    "    def message():\n",
    "        return 'How are you ? '\n",
    "    return message\n",
    "# call display() function and it returns message() function\n",
    "# in the following code  , fun refers to the name : message.\n",
    "fun = display()\n",
    "print(fun())"
   ]
  },
  {
   "cell_type": "code",
   "execution_count": 13,
   "id": "5e0330b7",
   "metadata": {},
   "outputs": [
    {
     "name": "stdout",
     "output_type": "stream",
     "text": [
      "15 2354239007472\n",
      "10 2354239007312\n"
     ]
    }
   ],
   "source": [
    "# passing an integer to a function\n",
    "def modify(x):\n",
    "    \"\"\" reassign a value to the variable \"\"\"\n",
    "    x = 15\n",
    "    print(x , id(x))\n",
    "# call modify() function and pass x\n",
    "x = 10\n",
    "modify(x)\n",
    "print(x,id(x))"
   ]
  },
  {
   "cell_type": "code",
   "execution_count": 14,
   "id": "66df8953",
   "metadata": {},
   "outputs": [
    {
     "name": "stdout",
     "output_type": "stream",
     "text": [
      "[1, 2, 3, 4, 9] 2354335919488\n",
      "[1, 2, 3, 4, 9] 2354335919488\n"
     ]
    }
   ],
   "source": [
    "# passing a list to a function\n",
    "def modify(lst):\n",
    "    \"\"\" to add a new element to list\"\"\"\n",
    "    lst.append(9)\n",
    "    print(lst,id(lst))\n",
    "# call modify() and pass list\n",
    "lst = [1,2,3,4]\n",
    "modify(lst)\n",
    "print(lst,id(lst))"
   ]
  },
  {
   "cell_type": "code",
   "execution_count": 15,
   "id": "ac0d4a51",
   "metadata": {},
   "outputs": [
    {
     "name": "stdout",
     "output_type": "stream",
     "text": [
      "[10, 12, 14] 2354335851200\n",
      "[1, 2, 3, 4] 2354335556160\n"
     ]
    }
   ],
   "source": [
    "# passing a list to a functions\n",
    "def modify(lst):\n",
    "    \"\"\" to create a new list \"\"\"\n",
    "    lst = [10,12,14]\n",
    "    print(lst,id(lst))\n",
    "# call modify() and pass lst\n",
    "lst = [1,2,3,4]\n",
    "modify(lst)\n",
    "print(lst,id(lst))"
   ]
  },
  {
   "cell_type": "code",
   "execution_count": 16,
   "id": "15815881",
   "metadata": {},
   "outputs": [
    {
     "name": "stdout",
     "output_type": "stream",
     "text": [
      "Total string : NewYork\n"
     ]
    }
   ],
   "source": [
    "# positional arguments demo\n",
    "def attach(s1,s2):\n",
    "    \"\"\" to join s1 and s2 and display total string\"\"\"\n",
    "    s3 = s1 + s2\n",
    "    print('Total string : '+s3)\n",
    "# call attach() and pass 2 strings\n",
    "attach('New','York')  # positional arguments"
   ]
  },
  {
   "cell_type": "code",
   "execution_count": 17,
   "id": "d6abf977",
   "metadata": {},
   "outputs": [
    {
     "name": "stdout",
     "output_type": "stream",
     "text": [
      "Item = Sugar\n",
      "Price = 50.75\n",
      "Item = Oil\n",
      "Price = 88.00\n"
     ]
    }
   ],
   "source": [
    "# key word arguments demo\n",
    "def grocery(item , price):\n",
    "    \"\"\" to display the given arguments\"\"\"\n",
    "    print('Item = %s'%item)\n",
    "    print('Price = %.2f'%price)\n",
    "# call grocery() and pass 2 arguments\n",
    "grocery(item=\"Sugar\",price=50.75)     # keyword arguments\n",
    "grocery(price=88.00 , item = 'Oil')   # keyword arguments"
   ]
  },
  {
   "cell_type": "code",
   "execution_count": 18,
   "id": "206332fc",
   "metadata": {},
   "outputs": [
    {
     "name": "stdout",
     "output_type": "stream",
     "text": [
      "Item = Sugar\n",
      "Price = 50.75\n",
      "Item = Sugar\n",
      "Price = 40.00\n"
     ]
    }
   ],
   "source": [
    "# default arguments demo \n",
    "def grocery(item , price = 40.00):\n",
    "    ''' to display the given argumets '''\n",
    "    print('Item = %s'%item)\n",
    "    print('Price = %.2f'%price)\n",
    "    \n",
    "# call grocery() and pass arguments\n",
    "grocery(item = \"Sugar\",price = 50.75)   # pass two arguments\n",
    "grocery(item = 'Sugar')      # default value for price is used"
   ]
  },
  {
   "cell_type": "code",
   "execution_count": 19,
   "id": "c988d1dd",
   "metadata": {},
   "outputs": [
    {
     "name": "stdout",
     "output_type": "stream",
     "text": [
      "Formal argument =  5\n",
      "Sum of all numbers =  15\n",
      "Formal argument =  5\n",
      "Sum of all numbers =  65\n"
     ]
    }
   ],
   "source": [
    "# variable length arguments demo\n",
    "# farg = formal argument\n",
    "# *args is variable length argument it will store them all in tuple\n",
    "def add(farg,*args):    # *args can take 0 or more values\n",
    "    \"\"\" to add given numbers \"\"\"\n",
    "    print('Formal argument = ',farg)\n",
    "    \n",
    "    sum = 0\n",
    "    for i in args:\n",
    "        sum +=i\n",
    "    print('Sum of all numbers = ',(farg+sum))\n",
    "# call add() and pass arguments\n",
    "add(5,10)\n",
    "add(5,10,20,30)"
   ]
  },
  {
   "cell_type": "code",
   "execution_count": 20,
   "id": "22892f48",
   "metadata": {},
   "outputs": [
    {
     "name": "stdout",
     "output_type": "stream",
     "text": [
      "Formal arguments =  5\n",
      "ley = rno , value  = 10\n",
      "\n",
      "Formal arguments =  5\n",
      "ley = rno , value  = 10\n",
      "ley = name , value  = Prakash\n"
     ]
    }
   ],
   "source": [
    "# **kwargs is keyword variable argument it internally represent a dictionary object\n",
    "# keyword variable arguments demo\n",
    "def display(farg,**kwargs):         # **kwargs can take 0 or more values\n",
    "    \"\"\" to display given values \"\"\"\n",
    "    print('Formal argument = ',farg)\n",
    "    \n",
    "    for x ,y in kwargs.items():   # items() will give pairs of items\n",
    "        print('key = {} , value  = {}'.format(x,y))\n",
    "        \n",
    "# pass 1 formal argumet and 2 keywords arguments\n",
    "display(5,rno =10)\n",
    "print()\n",
    "# pas 1 formal argument and 4 keywords arguments\n",
    "display(5,rno=10,name='Prakash')"
   ]
  },
  {
   "cell_type": "code",
   "execution_count": 1,
   "id": "3ebd2301",
   "metadata": {},
   "outputs": [
    {
     "name": "stdout",
     "output_type": "stream",
     "text": [
      "a =  2\n",
      "a =  1\n"
     ]
    }
   ],
   "source": [
    "# same name for global and local variables\n",
    "a = 1  # this is global variable\n",
    "def myfunction():\n",
    "    a = 2   # this is local variable\n",
    "    print('a = ',a)  # display local var\n",
    "myfunction()\n",
    "print('a = ',a)   # display global var"
   ]
  },
  {
   "cell_type": "code",
   "execution_count": 2,
   "id": "98ccae06",
   "metadata": {},
   "outputs": [
    {
     "name": "stdout",
     "output_type": "stream",
     "text": [
      "global a =  1\n",
      "modified a =  2\n",
      "global a =  2\n"
     ]
    }
   ],
   "source": [
    "# accessing the global variable inside a function\n",
    "a = 1 # this is global var\n",
    "def myfunction():\n",
    "    global a   # this is global variable\n",
    "    print('global a = ',a)\n",
    "    a = 2  # modify global var value\n",
    "    print('modified a = ',a)\n",
    "myfunction()\n",
    "print('global a = ',a)"
   ]
  },
  {
   "cell_type": "code",
   "execution_count": 3,
   "id": "9ea6714b",
   "metadata": {},
   "outputs": [
    {
     "name": "stdout",
     "output_type": "stream",
     "text": [
      "global var a = 1\n",
      "local var a =  2\n",
      "global var a = 1\n"
     ]
    }
   ],
   "source": [
    "# same name for global and local variables\n",
    "a = 1 # this is global variable\n",
    "def myfunction():\n",
    "    a  = 2 # a is local variable\n",
    "    x = globals()['a']  # get global var into x\n",
    "    print('global var a =',x)\n",
    "    print('local var a = ',a)\n",
    "myfunction()\n",
    "print('global var a =',a)"
   ]
  },
  {
   "cell_type": "code",
   "execution_count": 6,
   "id": "cb487020",
   "metadata": {},
   "outputs": [
    {
     "name": "stdout",
     "output_type": "stream",
     "text": [
      "Enter numbers seperated by space : \n",
      "10 20 30 40 51\n",
      "Total :  151\n",
      "Average :  30.2\n"
     ]
    }
   ],
   "source": [
    "# a function to find total and average\n",
    "def calculate(lst):\n",
    "    \"\"\" to find total and average \"\"\"\n",
    "    n = len(lst)\n",
    "    sum = 0\n",
    "    for i in lst:\n",
    "        sum +=i\n",
    "        avg = sum/n\n",
    "    return sum ,avg\n",
    "\n",
    "# take a group of integers from keyboard\n",
    "print('Enter numbers seperated by space : ')\n",
    "lst = [int(x) for x in input().split()]\n",
    "\n",
    "# call calculate() and pass the list\n",
    "x ,y = calculate(lst)\n",
    "print('Total : ',x)\n",
    "print('Average : ',y)"
   ]
  },
  {
   "cell_type": "code",
   "execution_count": 7,
   "id": "cb610420",
   "metadata": {},
   "outputs": [
    {
     "name": "stdout",
     "output_type": "stream",
     "text": [
      "Enter strings seperated by comma : \n",
      "Gaurav,Vinod,Visal,Ankit\n",
      "Gaurav\n",
      "Vinod\n",
      "Visal\n",
      "Ankit\n"
     ]
    }
   ],
   "source": [
    "# a function to display a group of string\n",
    "def display(lst):\n",
    "    \"\"\" to display the strings \"\"\"\n",
    "    for i in lst:\n",
    "        print(i)\n",
    "\n",
    "# take a group of string from keyboard\n",
    "print('Enter strings seperated by comma : ')\n",
    "lst = [x for x in input().split(',')]\n",
    "\n",
    "# call display() and pass the list\n",
    "display(lst)"
   ]
  },
  {
   "cell_type": "code",
   "execution_count": 8,
   "id": "32c35492",
   "metadata": {},
   "outputs": [
    {
     "name": "stdout",
     "output_type": "stream",
     "text": [
      "Factorial of 1 is 1\n",
      "Factorial of 2 is 2\n",
      "Factorial of 3 is 6\n",
      "Factorial of 4 is 24\n",
      "Factorial of 5 is 120\n",
      "Factorial of 6 is 720\n",
      "Factorial of 7 is 5040\n",
      "Factorial of 8 is 40320\n",
      "Factorial of 9 is 362880\n",
      "Factorial of 10 is 3628800\n"
     ]
    }
   ],
   "source": [
    "# recursive function to calculate factorial\n",
    "def factorial(n):\n",
    "    \"\"\" to find factorial of n \"\"\"\n",
    "    if n ==0:\n",
    "        result = 1\n",
    "    else:\n",
    "        result = n*factorial(n-1)\n",
    "    return result\n",
    "\n",
    "# find factorial values for first 10 numbers\n",
    "for i in range(1,11):\n",
    "    print('Factorial of {} is {}'.format(i,factorial(i)))"
   ]
  },
  {
   "cell_type": "code",
   "execution_count": 9,
   "id": "d812851f",
   "metadata": {},
   "outputs": [
    {
     "name": "stdout",
     "output_type": "stream",
     "text": [
      "Enter number of disks : 3\n",
      "move disk 1 from pole A to pole C\n",
      "Move disk 2 from pole A to pole B\n",
      "move disk 1 from pole C to pole B\n",
      "Move disk 3 from pole A to pole C\n",
      "move disk 1 from pole B to pole A\n",
      "Move disk 2 from pole B to pole C\n",
      "move disk 1 from pole A to pole C\n"
     ]
    }
   ],
   "source": [
    "# recursive function to solve Towers of Hanoi\n",
    "def towers(n,a,c,b):\n",
    "    if n==1:\n",
    "        # if only 1 disk , then move it from A to C\n",
    "        print('move disk %i from pole %s to pole %s'%(n,a,c))\n",
    "    else:  # if more than 1 disk\n",
    "        # move first n-1 disks from A to B using C as intermediate pole\n",
    "        towers(n-1,a,b,c)\n",
    "        \n",
    "        # move remaining 1 disk from A to C\n",
    "        print('Move disk %i from pole %s to pole %s'%(n,a,c))\n",
    "        \n",
    "        # move n-1 disks from disks from B to C using A as intermediate pole\n",
    "        towers(n-1,b,c,a)\n",
    "        \n",
    "# call the function\n",
    "n = int(input('Enter number of disks : '))\n",
    "# We should change n disks from A to C using B as intermediate\n",
    "towers(n,'A','C','B')"
   ]
  },
  {
   "cell_type": "code",
   "execution_count": 10,
   "id": "a23007bd",
   "metadata": {},
   "outputs": [
    {
     "name": "stdout",
     "output_type": "stream",
     "text": [
      "Square of 5 =  25\n"
     ]
    }
   ],
   "source": [
    "# a lambda function to calculate square value\n",
    "f = lambda x : x*x   # write lambda function\n",
    "value = f(5)  # call lambda function\n",
    "print('Square of 5 = ',value)  # display result"
   ]
  },
  {
   "cell_type": "code",
   "execution_count": 11,
   "id": "262074c5",
   "metadata": {},
   "outputs": [
    {
     "name": "stdout",
     "output_type": "stream",
     "text": [
      "Sum =  11.55\n"
     ]
    }
   ],
   "source": [
    "# a lambda function to calculate sum of two numbers\n",
    "f = lambda x, y: x+y   # write lambda function\n",
    "result = f(1.55,10)    # call lambda function\n",
    "print('Sum = ',result) # display result"
   ]
  },
  {
   "cell_type": "code",
   "execution_count": 12,
   "id": "48008f30",
   "metadata": {},
   "outputs": [
    {
     "name": "stdout",
     "output_type": "stream",
     "text": [
      "Enter two numbers : 10,25\n",
      "Bigger number =  25\n"
     ]
    }
   ],
   "source": [
    "# a lambda function that returns bigger number\n",
    "max = lambda x ,y : x if x>y else y   # write a lambda function\n",
    "a , b = [int(n) for n in input('Enter two numbers : ').split(',')]\n",
    "print('Bigger number = ',max(a,b))   # call lambda function"
   ]
  },
  {
   "cell_type": "code",
   "execution_count": 13,
   "id": "8e74a2c9",
   "metadata": {},
   "outputs": [
    {
     "name": "stdout",
     "output_type": "stream",
     "text": [
      "[10, 46, 70]\n"
     ]
    }
   ],
   "source": [
    "# filter() that returns even numbers from a list\n",
    "def is_even(x):\n",
    "    if x % 2 == 0:\n",
    "        return True\n",
    "    else:\n",
    "        return False\n",
    "# let us take a list of numbers\n",
    "lst = [10,23,45,46,70,99]\n",
    "# call filter() with is_even() and lst\n",
    "lst1 = list(filter(is_even,lst))\n",
    "print(lst1)"
   ]
  },
  {
   "cell_type": "code",
   "execution_count": 15,
   "id": "d9cc09fa",
   "metadata": {},
   "outputs": [
    {
     "name": "stdout",
     "output_type": "stream",
     "text": [
      "[10, 46, 70]\n"
     ]
    }
   ],
   "source": [
    "# a lambda function that returns even numbers from list\n",
    "lst = [10,23,45,46,70,99]\n",
    "lst1 = list(filter(lambda x : (x%2 == 0),lst))\n",
    "print(lst1)"
   ]
  },
  {
   "cell_type": "code",
   "execution_count": 16,
   "id": "5a89fad2",
   "metadata": {},
   "outputs": [
    {
     "name": "stdout",
     "output_type": "stream",
     "text": [
      "[1, 4, 9, 16, 25]\n"
     ]
    }
   ],
   "source": [
    "# map() function that gives squares\n",
    "def squares(x):\n",
    "    return x*x\n",
    "# let us take a list of numbers\n",
    "lst = [1,2,3,4,5]\n",
    "# call map() with squares() and lst\n",
    "lst1 = list(map(squares,lst))\n",
    "print(lst1)"
   ]
  },
  {
   "cell_type": "code",
   "execution_count": 17,
   "id": "ddff2f0e",
   "metadata": {},
   "outputs": [
    {
     "name": "stdout",
     "output_type": "stream",
     "text": [
      "[1, 4, 9, 16, 25]\n"
     ]
    }
   ],
   "source": [
    "# Lambda that returns squares\n",
    "lst = [1,2,3,4,5]\n",
    "lst1 = list(map(lambda x : x*x,lst))\n",
    "print(lst1)"
   ]
  },
  {
   "cell_type": "code",
   "execution_count": 18,
   "id": "27b0f977",
   "metadata": {},
   "outputs": [
    {
     "name": "stdout",
     "output_type": "stream",
     "text": [
      "[10, 40, 90, 160, 250]\n"
     ]
    }
   ],
   "source": [
    "# lambda that returns products of elements of two lists\n",
    "lst1 = [1,2,3,4,5]\n",
    "lst2 = [10,20,30,40,50]\n",
    "lst3 = list(map(lambda x ,y : x*y,lst1,lst2))\n",
    "print(lst3)"
   ]
  },
  {
   "cell_type": "code",
   "execution_count": 19,
   "id": "35ba1bf6",
   "metadata": {},
   "outputs": [
    {
     "name": "stdout",
     "output_type": "stream",
     "text": [
      "120\n"
     ]
    }
   ],
   "source": [
    "# lambda that returns products of elements of a list\n",
    "from functools import *\n",
    "lst = [1,2,3,4,5]\n",
    "result = reduce(lambda x,y : x*y,lst)\n",
    "print(result)"
   ]
  },
  {
   "cell_type": "code",
   "execution_count": 20,
   "id": "623d8281",
   "metadata": {},
   "outputs": [
    {
     "name": "stdout",
     "output_type": "stream",
     "text": [
      "1275\n"
     ]
    }
   ],
   "source": [
    "from functools import *\n",
    "sum = reduce(lambda a,b : a+b ,range(1,51))\n",
    "print(sum)"
   ]
  },
  {
   "cell_type": "code",
   "execution_count": 21,
   "id": "cf7effa8",
   "metadata": {},
   "outputs": [
    {
     "name": "stdout",
     "output_type": "stream",
     "text": [
      "12\n"
     ]
    }
   ],
   "source": [
    "# a decorator is a function that accepts a function as parameter and returns a function.\n",
    "# a decorator that incements the value of a functionn by 2\n",
    "def decor(fun):  # this is decorator function\n",
    "    def inner():  # this is the inner function that modifies\n",
    "        value = fun()\n",
    "        return value+2\n",
    "    return inner    #  return inner function\n",
    "# take a function to which decorator should be applied\n",
    "def num():\n",
    "    return 10\n",
    "# call decorator function and pass num\n",
    "result_fun = decor(num)   # result_fun reperesents 'inner' function\n",
    "print(result_fun())  # call result_fun and display the result"
   ]
  },
  {
   "cell_type": "code",
   "execution_count": 22,
   "id": "3d321f64",
   "metadata": {},
   "outputs": [
    {
     "name": "stdout",
     "output_type": "stream",
     "text": [
      "12\n"
     ]
    }
   ],
   "source": [
    "# a decorator that increments the value of a function by 2 \n",
    "def decor(fun):    # this is decorator function\n",
    "    def inner():   # this is inner function that modifies\n",
    "        value = fun()\n",
    "        return value+2\n",
    "    return inner   # return inner function\n",
    "# take a function to which decorator should be applied\n",
    "@decor   # apply decor to the below function\n",
    "def num():\n",
    "    return 10\n",
    "\n",
    "# call num() dunction and display its result\n",
    "print(num())"
   ]
  },
  {
   "cell_type": "code",
   "execution_count": 25,
   "id": "7b69bd3e",
   "metadata": {},
   "outputs": [
    {
     "name": "stdout",
     "output_type": "stream",
     "text": [
      "22\n"
     ]
    }
   ],
   "source": [
    "# a decorator that increments the value of function by 2\n",
    "def decor(fun):\n",
    "    def inner():\n",
    "        value = fun()\n",
    "        return value +2\n",
    "    return inner\n",
    "\n",
    "# a decorator that doubles the value of a function\n",
    "def decor1(fun):\n",
    "    def inner():\n",
    "        value = fun()\n",
    "        return value*2\n",
    "    return inner\n",
    "# take a function to which decorator should appplied\n",
    "def num():\n",
    "    return 10\n",
    "\n",
    "# call num() function and apply decor1 and then decor \n",
    "result_fun  = decor(decor1(num))\n",
    "print(result_fun())"
   ]
  },
  {
   "cell_type": "code",
   "execution_count": 26,
   "id": "92205a84",
   "metadata": {},
   "outputs": [
    {
     "name": "stdout",
     "output_type": "stream",
     "text": [
      "22\n"
     ]
    }
   ],
   "source": [
    "# a decorator that increments the value of a function by 2\n",
    "def decor(fun):\n",
    "    def inner():\n",
    "        value = fun()\n",
    "        return value+2\n",
    "    return inner\n",
    "\n",
    "# a decorator that doubles the value of a function\n",
    "def decor1(fun):\n",
    "    def inner():\n",
    "        value = fun()\n",
    "        return value*2\n",
    "    return inner\n",
    "\n",
    "# take a function to which decorator shoud be applied\n",
    "@decor\n",
    "@decor1\n",
    "def num():\n",
    "    return 10\n",
    "\n",
    "# call num() function and apply decor1 and then decor\n",
    "print(num())"
   ]
  },
  {
   "cell_type": "code",
   "execution_count": 30,
   "id": "bb1a5eaf",
   "metadata": {},
   "outputs": [
    {
     "name": "stdout",
     "output_type": "stream",
     "text": [
      "5 6 7 8 9 10 "
     ]
    }
   ],
   "source": [
    "# generators are function that returns a sequence of values.\n",
    "# generator that returns sequence from x to y\n",
    "def mygen(x ,y):\n",
    "    while x <=y:\n",
    "        yield x\n",
    "        x += 1\n",
    "\n",
    "# fill generator object with 5 and 10\n",
    "g = mygen(5,10)\n",
    "\n",
    "# display all numbers in the genrator\n",
    "for i in g:\n",
    "    print(i,end=' ')"
   ]
  },
  {
   "cell_type": "code",
   "execution_count": 31,
   "id": "da45619e",
   "metadata": {},
   "outputs": [
    {
     "name": "stdout",
     "output_type": "stream",
     "text": [
      "A\n",
      "B\n",
      "C\n"
     ]
    },
    {
     "ename": "StopIteration",
     "evalue": "",
     "output_type": "error",
     "traceback": [
      "\u001b[1;31m---------------------------------------------------------------------------\u001b[0m",
      "\u001b[1;31mStopIteration\u001b[0m                             Traceback (most recent call last)",
      "\u001b[1;32m~\\AppData\\Local\\Temp/ipykernel_5200/3586170453.py\u001b[0m in \u001b[0;36m<module>\u001b[1;34m\u001b[0m\n\u001b[0;32m     11\u001b[0m \u001b[0mprint\u001b[0m\u001b[1;33m(\u001b[0m\u001b[0mnext\u001b[0m\u001b[1;33m(\u001b[0m\u001b[0mg\u001b[0m\u001b[1;33m)\u001b[0m\u001b[1;33m)\u001b[0m   \u001b[1;31m# display 'B'\u001b[0m\u001b[1;33m\u001b[0m\u001b[1;33m\u001b[0m\u001b[0m\n\u001b[0;32m     12\u001b[0m \u001b[0mprint\u001b[0m\u001b[1;33m(\u001b[0m\u001b[0mnext\u001b[0m\u001b[1;33m(\u001b[0m\u001b[0mg\u001b[0m\u001b[1;33m)\u001b[0m\u001b[1;33m)\u001b[0m   \u001b[1;31m# display 'C'\u001b[0m\u001b[1;33m\u001b[0m\u001b[1;33m\u001b[0m\u001b[0m\n\u001b[1;32m---> 13\u001b[1;33m \u001b[0mprint\u001b[0m\u001b[1;33m(\u001b[0m\u001b[0mnext\u001b[0m\u001b[1;33m(\u001b[0m\u001b[0mg\u001b[0m\u001b[1;33m)\u001b[0m\u001b[1;33m)\u001b[0m   \u001b[1;31m# error\u001b[0m\u001b[1;33m\u001b[0m\u001b[1;33m\u001b[0m\u001b[0m\n\u001b[0m",
      "\u001b[1;31mStopIteration\u001b[0m: "
     ]
    }
   ],
   "source": [
    "# generator that returns characters from A to C.\n",
    "def mygen():\n",
    "    yield 'A'\n",
    "    yield 'B'\n",
    "    yield 'C'\n",
    "# call generator function and get generator object g\n",
    "g = mygen()\n",
    "\n",
    "# display all characters in the generator\n",
    "print(next(g))   # display 'A'\n",
    "print(next(g))   # display 'B'\n",
    "print(next(g))   # display 'C'\n",
    "print(next(g))   # error"
   ]
  },
  {
   "cell_type": "code",
   "execution_count": 1,
   "id": "7b0b890a",
   "metadata": {},
   "outputs": [
    {
     "name": "stdout",
     "output_type": "stream",
     "text": [
      "Enter basic salary : 20000\n",
      "Your gross salary :   39000.00\n",
      "Your net salary :   32700.00\n"
     ]
    }
   ],
   "source": [
    "# to calculate dearness allowance\n",
    "def da(basic):\n",
    "    \"\"\" da is 80% of basic salary \"\"\"\n",
    "    da = basic * 80 /100\n",
    "    return da\n",
    "\n",
    "# to calculate house rent allowance\n",
    "def hra(basic):\n",
    "    \"\"\" hra is 15% of basic salary \"\"\"\n",
    "    hra = basic*15/100\n",
    "    return hra \n",
    "\n",
    "# to calculate provident fund amount\n",
    "def pf(basic):\n",
    "    \"\"\" pf is 12% of basic salary \"\"\"\n",
    "    pf = basic*12/100\n",
    "    return pf\n",
    "\n",
    "# to calculate income tax payable by employee\n",
    "def itax(basic):\n",
    "    \"\"\" tax is calculated at 10% on gross \"\"\"\n",
    "    tax = gross*0.1\n",
    "    return tax\n",
    "\n",
    "# this is the main program\n",
    "# calculate gross salary of employee by taking basic\n",
    "basic = float(input('Enter basic salary : '))\n",
    "\n",
    "# calculate gross salary \n",
    "gross = basic + da(basic) + hra(basic)\n",
    "print('Your gross salary : {:10.2f}'.format(gross))\n",
    "\n",
    "# calculate net salary\n",
    "net = gross - pf(basic) - itax(gross)\n",
    "print('Your net salary : {:10.2f}'.format(net))"
   ]
  },
  {
   "cell_type": "code",
   "execution_count": null,
   "id": "05ae4ad0",
   "metadata": {},
   "outputs": [],
   "source": []
  }
 ],
 "metadata": {
  "kernelspec": {
   "display_name": "Python 3 (ipykernel)",
   "language": "python",
   "name": "python3"
  },
  "language_info": {
   "codemirror_mode": {
    "name": "ipython",
    "version": 3
   },
   "file_extension": ".py",
   "mimetype": "text/x-python",
   "name": "python",
   "nbconvert_exporter": "python",
   "pygments_lexer": "ipython3",
   "version": "3.9.7"
  }
 },
 "nbformat": 4,
 "nbformat_minor": 5
}
