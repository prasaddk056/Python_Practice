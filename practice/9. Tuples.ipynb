{
 "cells": [
  {
   "cell_type": "code",
   "execution_count": 1,
   "id": "8a8dedc8",
   "metadata": {},
   "outputs": [
    {
     "name": "stdout",
     "output_type": "stream",
     "text": [
      "()\n",
      "(10,)\n",
      "(10, 20, -30.1, 40.5, 'Hyderabad', 'New Dehli')\n",
      "(10, 20, 30)\n",
      "(1, 2, 3, 4)\n"
     ]
    }
   ],
   "source": [
    "tup1 = () # empty tuple\n",
    "tup2 = (10,) # tuple with one element\n",
    "tup3 = (10,20,-30.1,40.5,'Hyderabad','New Dehli')  # tuple with different data types\n",
    "tup4 = (10,20,30)   # no braces\n",
    "tup5 = 1,2,3,4  # no braces\n",
    "print(tup1)\n",
    "print(tup2)\n",
    "print(tup3)\n",
    "print(tup4)\n",
    "print(tup5)"
   ]
  },
  {
   "cell_type": "code",
   "execution_count": 2,
   "id": "ab20ab61",
   "metadata": {},
   "outputs": [
    {
     "name": "stdout",
     "output_type": "stream",
     "text": [
      "50\n",
      "100\n",
      "100\n",
      "50\n",
      "(50, 60, 70, 80, 90, 100)\n",
      "(60, 70, 80)\n",
      "(50, 70, 90)\n",
      "(100, 80, 60)\n",
      "(70, 80, 90)\n"
     ]
    }
   ],
   "source": [
    "# accesing tuple element\n",
    "tup = (50,60,70,80,90,100)\n",
    "print(tup[0])\n",
    "print(tup[5])\n",
    "print(tup[-1])\n",
    "print(tup[-6])\n",
    "print(tup[:])\n",
    "print(tup[1:4])\n",
    "print(tup[::2])\n",
    "print(tup[::-2])\n",
    "print(tup[-4:-1])"
   ]
  },
  {
   "cell_type": "code",
   "execution_count": 3,
   "id": "4d1474a5",
   "metadata": {},
   "outputs": [
    {
     "name": "stdout",
     "output_type": "stream",
     "text": [
      "10\n",
      "Vinay kumar\n",
      "50\n",
      "60\n",
      "65\n",
      "61\n",
      "70\n"
     ]
    }
   ],
   "source": [
    "student = (10,'Vinay kumar',50,60,65,61,70)\n",
    "rno,name = student[0:2]\n",
    "print(rno)\n",
    "print(name)\n",
    "marks = student[2:7]  # store the elements from 2nd to 6th into marks\n",
    "# tuple\n",
    "for i in marks:\n",
    "    print(i)"
   ]
  },
  {
   "cell_type": "code",
   "execution_count": 5,
   "id": "c711c22c",
   "metadata": {},
   "outputs": [
    {
     "name": "stdout",
     "output_type": "stream",
     "text": [
      "7\n",
      "(25000.0, 25000.0, 25000.0, 25000.0)\n",
      "(10, 'Vinaykumar', 50, 60, 65, 61, 70, 25000.0, 25000.0, 25000.0, 25000.0)\n",
      "True\n",
      "False\n"
     ]
    }
   ],
   "source": [
    "# basic operation on tuples\n",
    "student = (10,'Vinaykumar',50,60,65,61,70)\n",
    "print(len(student))\n",
    "fees = (25000.00,)*4\n",
    "print(fees)\n",
    "student1 = student+fees\n",
    "print(student1)\n",
    "name = 'Vinaykumar'\n",
    "print(name in student1)\n",
    "print(name not in student1)"
   ]
  },
  {
   "cell_type": "code",
   "execution_count": 6,
   "id": "e11ad14f",
   "metadata": {},
   "outputs": [
    {
     "name": "stdout",
     "output_type": "stream",
     "text": [
      "(10, 11, 12, 10, 11, 12, 10, 11, 12)\n"
     ]
    }
   ],
   "source": [
    "tpl = (10,11,12)\n",
    "tpl1 = tpl*3    # repeat for 3 times and store in tpl1\n",
    "print(tpl1)"
   ]
  },
  {
   "cell_type": "code",
   "execution_count": 7,
   "id": "4724fb21",
   "metadata": {},
   "outputs": [
    {
     "name": "stdout",
     "output_type": "stream",
     "text": [
      "Enter elements in () : (1,2,3,4,5,6)\n",
      "Sum of numbers :  21\n",
      "Average of numbers :  3.5\n"
     ]
    }
   ],
   "source": [
    "# program to find sum and average of elements in a tuple\n",
    "num = eval(input('Enter elements in () : '))\n",
    "sum = 0\n",
    "n = len(num)  # n is no. of elements in the tuple\n",
    "for i in range(n):  # repeat i from 0 to n-1\n",
    "    sum += num[i]   # add each element to sum\n",
    "    \n",
    "print('Sum of numbers : ',sum)  # display sum\n",
    "print('Average of numbers : ',sum/n)  # display average"
   ]
  },
  {
   "cell_type": "code",
   "execution_count": 8,
   "id": "2b87d0d7",
   "metadata": {},
   "outputs": [
    {
     "name": "stdout",
     "output_type": "stream",
     "text": [
      "Enter elements seperated by commas : 10,20,30,20,40\n",
      "The tuple is :  (10, 20, 30, 20, 40)\n",
      "Enter an element to search : 20\n",
      "Element position no :  2\n"
     ]
    }
   ],
   "source": [
    "# inserting elements from keyboard into the tuple and finding element position\n",
    "# accept elements from keyboard as strings seperated by commas\n",
    "str = input('Enter elements seperated by commas : ').split(',')\n",
    "lst = [int(num) for num in str]   # convert strings into integers and store into a list\n",
    "tup = tuple(lst)  # convert lsit into tuple\n",
    "\n",
    "print('The tuple is : ',tup)  # display the tuple\n",
    "ele = int(input('Enter an element to search : '))\n",
    "try:\n",
    "    pos = tup.index(ele)  # return first occurence of element\n",
    "    print('Element position no : ',pos+1)\n",
    "except ValueError:  # if element not found , ValueError will rise\n",
    "    print('Element not found in tuple')"
   ]
  },
  {
   "cell_type": "code",
   "execution_count": 10,
   "id": "8f71d00f",
   "metadata": {},
   "outputs": [
    {
     "name": "stdout",
     "output_type": "stream",
     "text": [
      "Nested tuple =  (200, 201)\n"
     ]
    }
   ],
   "source": [
    "# Nested tuple\n",
    "tup = (50,60,70,80,90,(200,201))  #tuple with elements\n",
    "print('Nested tuple = ',tup[5])"
   ]
  },
  {
   "cell_type": "code",
   "execution_count": 14,
   "id": "a0763f2b",
   "metadata": {},
   "outputs": [
    {
     "name": "stdout",
     "output_type": "stream",
     "text": [
      "(10, 'Vijay', 9000.9)\n",
      "10\n",
      "Vijay\n",
      "9000.9\n"
     ]
    }
   ],
   "source": [
    "emp = ((10,\"Vijay\",9000.90),(20,\"Nihaar\",5500.75),(30,'Vinaja',8900.00),(40,'Kapoor',5500.75))\n",
    "print(emp[0])\n",
    "print(emp[0][0])\n",
    "print(emp[0][1])\n",
    "print(emp[0][2])"
   ]
  },
  {
   "cell_type": "code",
   "execution_count": 15,
   "id": "bac1f77e",
   "metadata": {},
   "outputs": [
    {
     "name": "stdout",
     "output_type": "stream",
     "text": [
      "[(10, 'Vijay', 9000.9), (20, 'Nihaar', 5500.75), (30, 'Vinaja', 8900.0), (40, 'Kapoor', 5500.75)]\n",
      "[(40, 'Kapoor', 5500.75), (30, 'Vinaja', 8900.0), (20, 'Nihaar', 5500.75), (10, 'Vijay', 9000.9)]\n",
      "[(40, 'Kapoor', 5500.75), (20, 'Nihaar', 5500.75), (10, 'Vijay', 9000.9), (30, 'Vinaja', 8900.0)]\n",
      "[(20, 'Nihaar', 5500.75), (40, 'Kapoor', 5500.75), (30, 'Vinaja', 8900.0), (10, 'Vijay', 9000.9)]\n"
     ]
    }
   ],
   "source": [
    "# sorting a tuple that contains tuples as elements\n",
    "# take employee tuple with id number , name and salary\n",
    "emp = ((10,\"Vijay\",9000.90),(20,\"Nihaar\",5500.75),(30,'Vinaja',8900.00),(40,'Kapoor',5500.75))\n",
    "\n",
    "print(sorted(emp))  # sorts by default on id\n",
    "print(sorted(emp , reverse=True))  # reverses on id\n",
    "print(sorted(emp , key = lambda x : x[1]))  # sort on name\n",
    "print(sorted(emp , key = lambda x : x[2]))  # sort on salary"
   ]
  },
  {
   "cell_type": "code",
   "execution_count": 16,
   "id": "4aef61f0",
   "metadata": {},
   "outputs": [
    {
     "name": "stdout",
     "output_type": "stream",
     "text": [
      "('Visnu', 'Anupama', 'Lakshmi', 'Bheeshma')\n",
      "Enter a new name : Ganesh\n",
      "Enter position no : 2\n",
      "('Visnu', 'Ganesh', 'Anupama', 'Lakshmi', 'Bheeshma')\n"
     ]
    }
   ],
   "source": [
    "# inserting a new element into tuple\n",
    "names = ('Visnu','Anupama','Lakshmi','Bheeshma')\n",
    "print(names)\n",
    "\n",
    "# accept new name and position number\n",
    "lst = [input('Enter a new name : ')]\n",
    "new = tuple(lst)\n",
    "pos = int(input('Enter position no : '))\n",
    "\n",
    "# copy from 0th to pos-2 into another tuple names1\n",
    "names1 = names[0:pos-1]\n",
    "\n",
    "# concatenate new element at pos-1\n",
    "names1 = names1+new\n",
    "\n",
    "#concatenate the remaining elements of names from pos-1 till end\n",
    "names = names1+names[pos-1:]\n",
    "print(names)"
   ]
  },
  {
   "cell_type": "code",
   "execution_count": 17,
   "id": "6c7daa8c",
   "metadata": {},
   "outputs": [
    {
     "name": "stdout",
     "output_type": "stream",
     "text": [
      "(10, 20, 30, 40, 50)\n",
      "Enter a new elemnt : 88\n",
      "Enter position no : 3\n",
      "(10, 20, 88, 40, 50)\n"
     ]
    }
   ],
   "source": [
    "# modifying an existing element of a tuple\n",
    "num = (10,20,30,40,50)\n",
    "print(num)\n",
    "\n",
    "# accept new element and position number\n",
    "lst = [int(input('Enter a new elemnt : '))]\n",
    "new = tuple(lst)\n",
    "pos = int(input('Enter position no : '))\n",
    "\n",
    "# copy from 0th to pos-1 into another tuple num1\n",
    "num1 = num[0:pos-1]\n",
    "\n",
    "# concatenate new element at pos-1\n",
    "num1 = num1+new\n",
    "\n",
    "# concatenate the remaining elements of num from pos till end\n",
    "num = num1 + num[pos:]\n",
    "print(num)"
   ]
  },
  {
   "cell_type": "code",
   "execution_count": 18,
   "id": "f6052421",
   "metadata": {},
   "outputs": [
    {
     "name": "stdout",
     "output_type": "stream",
     "text": [
      "(10, 20, 30, 40, 50)\n",
      "Enter position no : 3\n",
      "(10, 20, 40, 50)\n"
     ]
    }
   ],
   "source": [
    "# deleting an element of a tuple\n",
    "num = (10,20,30,40,50)\n",
    "print(num)\n",
    "\n",
    "# accept position number of the element to delete\n",
    "pos = int(input('Enter position no : '))\n",
    "\n",
    "# copy from 0th to pos-1 into another tuple num1\n",
    "num1 = num[0:pos-1]\n",
    "\n",
    "# concatenate the remaining elements of num from pos till end\n",
    "num = num1+num[pos:]\n",
    "print(num)"
   ]
  },
  {
   "cell_type": "code",
   "execution_count": null,
   "id": "c6f30741",
   "metadata": {},
   "outputs": [],
   "source": []
  }
 ],
 "metadata": {
  "kernelspec": {
   "display_name": "Python 3 (ipykernel)",
   "language": "python",
   "name": "python3"
  },
  "language_info": {
   "codemirror_mode": {
    "name": "ipython",
    "version": 3
   },
   "file_extension": ".py",
   "mimetype": "text/x-python",
   "name": "python",
   "nbconvert_exporter": "python",
   "pygments_lexer": "ipython3",
   "version": "3.9.7"
  }
 },
 "nbformat": 4,
 "nbformat_minor": 5
}
